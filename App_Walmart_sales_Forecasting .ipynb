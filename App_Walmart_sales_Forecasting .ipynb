{
 "cells": [
  {
   "cell_type": "markdown",
   "source": [
    "#### Title: Milestone 3\n",
    "#### Author: Jerock Kalala\n",
    "#### Date: June 2d 2023\n",
    "#### Modified By: --\n",
    "#### Walmart_sales_Forecasting"
   ],
   "metadata": {
    "collapsed": false,
    "pycharm": {
     "name": "#%% md\n"
    }
   }
  },
  {
   "cell_type": "markdown",
   "source": [
    "##### Import Python Libraries"
   ],
   "metadata": {
    "collapsed": false,
    "pycharm": {
     "name": "#%% md\n"
    }
   }
  },
  {
   "cell_type": "code",
   "execution_count": 1,
   "outputs": [],
   "source": [
    "#Import libraries\n",
    "import numpy as np\n",
    "import pandas\n",
    "import pandas as pd\n",
    "import matplotlib.pyplot as plt\n",
    "import matplotlib as mpl\n",
    "import seaborn as sns\n",
    "import os\n",
    "%matplotlib inline\n",
    "\n",
    "from sklearn.linear_model import LinearRegression, Lasso\n",
    "from sklearn.ensemble import RandomForestRegressor, RandomForestClassifier\n",
    "from sklearn.preprocessing import LabelEncoder\n",
    "from sklearn.metrics import mean_squared_error, mean_absolute_error, r2_score\n",
    "from sklearn.preprocessing import MinMaxScaler\n",
    "color_pal = sns.color_palette()\n",
    "plt.style.use('fivethirtyeight')"
   ],
   "metadata": {
    "collapsed": false,
    "pycharm": {
     "name": "#%%\n"
    }
   }
  },
  {
   "cell_type": "markdown",
   "source": [
    "##### Loading the datasets"
   ],
   "metadata": {
    "collapsed": false,
    "pycharm": {
     "name": "#%% md\n"
    }
   }
  },
  {
   "cell_type": "code",
   "execution_count": 2,
   "outputs": [],
   "source": [
    "#Loading the datasets\n",
    "data1 = pd.read_csv(\"E:\\\\Bellevue\\\\Spring_2023\\\\DSC410_Predictive Analytics\\\\Project\\\\Walmart\\\\Historical Product Demand.csv\")\n",
    "data_store= pd.read_csv(\"E:\\\\Bellevue\\\\Spring_2023\\\\DSC410_Predictive Analytics\\\\Project\\\\Walmart\\\\stores.csv\")\n",
    "data_train= pd.read_csv(\"E:\\\\Bellevue\\\\Spring_2023\\\\DSC410_Predictive Analytics\\\\Project\\\\Walmart\\\\train.csv\")\n",
    "data_test= pd.read_csv(\"E:\\\\Bellevue\\\\Spring_2023\\\\DSC410_Predictive Analytics\\\\Project\\\\Walmart\\\\test.csv\")\n",
    "data_features= pd.read_csv(\"E:\\\\Bellevue\\\\Spring_2023\\\\DSC410_Predictive Analytics\\\\Project\\\\Walmart\\\\features.csv\")"
   ],
   "metadata": {
    "collapsed": false,
    "pycharm": {
     "name": "#%%\n"
    }
   }
  },
  {
   "cell_type": "markdown",
   "source": [
    "##### Analyse the data"
   ],
   "metadata": {
    "collapsed": false,
    "pycharm": {
     "name": "#%% md\n"
    }
   }
  },
  {
   "cell_type": "code",
   "execution_count": 3,
   "outputs": [
    {
     "name": "stdout",
     "output_type": "stream",
     "text": [
      "(45, 3)\n",
      "(421570, 5)\n",
      "(115064, 4)\n",
      "(8190, 12)\n"
     ]
    }
   ],
   "source": [
    "#Let's check the size fo each dataset\n",
    "print(data_store.shape)\n",
    "print(data_train.shape)\n",
    "print(data_test.shape)\n",
    "print(data_features.shape)\n",
    "\n",
    "#Let's check the data type\n",
    "#data_train.info()"
   ],
   "metadata": {
    "collapsed": false,
    "pycharm": {
     "name": "#%%\n"
    }
   }
  },
  {
   "cell_type": "markdown",
   "source": [
    "#Merging the datasets (3)"
   ],
   "metadata": {
    "collapsed": false,
    "pycharm": {
     "name": "#%% md\n"
    }
   }
  },
  {
   "cell_type": "code",
   "execution_count": 4,
   "outputs": [
    {
     "name": "stdout",
     "output_type": "stream",
     "text": [
      "(421570, 17) (115064, 16)\n"
     ]
    }
   ],
   "source": [
    "# Assuming that features and stores need to be merged with train and test datasets based on common columns\n",
    "train = data_train.merge(data_features, on=['Store', 'Date'], how='left')\n",
    "train = train.merge(data_store, on=['Store'], how='left')\n",
    "test = data_test.merge(data_features, on=['Store', 'Date'], how='left')\n",
    "test = test.merge(data_store, on=['Store'], how='left')\n",
    "print(train.shape, test.shape)"
   ],
   "metadata": {
    "collapsed": false,
    "pycharm": {
     "name": "#%%\n"
    }
   }
  },
  {
   "cell_type": "code",
   "execution_count": 5,
   "outputs": [],
   "source": [
    "#changing the Date column datatype\n",
    "\n",
    "train['Date'] = pd.to_datetime(train['Date'])\n",
    "test['Date'] = pd.to_datetime(test['Date'])"
   ],
   "metadata": {
    "collapsed": false,
    "pycharm": {
     "name": "#%%\n"
    }
   }
  },
  {
   "cell_type": "markdown",
   "source": [
    "#### Building prediction model"
   ],
   "metadata": {
    "collapsed": false,
    "pycharm": {
     "name": "#%% md\n"
    }
   }
  },
  {
   "cell_type": "markdown",
   "source": [
    "Dealing with missing values"
   ],
   "metadata": {
    "collapsed": false,
    "pycharm": {
     "name": "#%% md\n"
    }
   }
  },
  {
   "cell_type": "code",
   "execution_count": 6,
   "outputs": [],
   "source": [
    "#We are going to replace missing value with 0\n",
    "train = train.fillna(0)\n",
    "test = test.fillna(0)"
   ],
   "metadata": {
    "collapsed": false,
    "pycharm": {
     "name": "#%%\n"
    }
   }
  },
  {
   "cell_type": "code",
   "execution_count": 7,
   "outputs": [],
   "source": [
    "# Step 3: Train the model and make predictions\n",
    "X_train2 = train.drop(['Date', 'Weekly_Sales', 'Type', 'IsHoliday_y', 'MarkDown1', 'MarkDown5', 'CPI',\n",
    "                       'IsHoliday_x', 'Size'], axis=1)\n",
    "y_train2 = train['Weekly_Sales']"
   ],
   "metadata": {
    "collapsed": false,
    "pycharm": {
     "name": "#%%\n"
    }
   }
  },
  {
   "cell_type": "code",
   "execution_count": 8,
   "outputs": [],
   "source": [
    "from sklearn.preprocessing import StandardScaler\n",
    "# Normalizing the features for stable and fast training.\n",
    "\n",
    "scaler = StandardScaler()\n",
    "X_train2 = scaler.fit_transform(X_train2)"
   ],
   "metadata": {
    "collapsed": false,
    "pycharm": {
     "name": "#%%\n"
    }
   }
  },
  {
   "cell_type": "code",
   "execution_count": 9,
   "outputs": [
    {
     "data": {
      "text/plain": "(421570, 8)"
     },
     "execution_count": 9,
     "metadata": {},
     "output_type": "execute_result"
    }
   ],
   "source": [
    "X_train2.shape"
   ],
   "metadata": {
    "collapsed": false,
    "pycharm": {
     "name": "#%%\n"
    }
   }
  },
  {
   "cell_type": "code",
   "execution_count": 10,
   "outputs": [],
   "source": [
    "# Splitting the data into train and validation sets\n",
    "\n",
    "from sklearn.model_selection import train_test_split\n",
    "X_train3, X_val3, y_train3, y_val3 = train_test_split(X_train2, y_train2, test_size=0.2, random_state=42)\n"
   ],
   "metadata": {
    "collapsed": false,
    "pycharm": {
     "name": "#%%\n"
    }
   }
  },
  {
   "cell_type": "code",
   "execution_count": 11,
   "outputs": [
    {
     "name": "stdout",
     "output_type": "stream",
     "text": [
      "(337256, 8) (337256,)\n",
      "(84314, 8) (84314,)\n"
     ]
    }
   ],
   "source": [
    "print(X_train3.shape, y_train3.shape)\n",
    "print(X_val3.shape, y_val3.shape)"
   ],
   "metadata": {
    "collapsed": false,
    "pycharm": {
     "name": "#%%\n"
    }
   }
  },
  {
   "cell_type": "code",
   "execution_count": 12,
   "outputs": [
    {
     "data": {
      "text/plain": "RandomForestRegressor()",
      "text/html": "<style>#sk-container-id-1 {color: black;background-color: white;}#sk-container-id-1 pre{padding: 0;}#sk-container-id-1 div.sk-toggleable {background-color: white;}#sk-container-id-1 label.sk-toggleable__label {cursor: pointer;display: block;width: 100%;margin-bottom: 0;padding: 0.3em;box-sizing: border-box;text-align: center;}#sk-container-id-1 label.sk-toggleable__label-arrow:before {content: \"▸\";float: left;margin-right: 0.25em;color: #696969;}#sk-container-id-1 label.sk-toggleable__label-arrow:hover:before {color: black;}#sk-container-id-1 div.sk-estimator:hover label.sk-toggleable__label-arrow:before {color: black;}#sk-container-id-1 div.sk-toggleable__content {max-height: 0;max-width: 0;overflow: hidden;text-align: left;background-color: #f0f8ff;}#sk-container-id-1 div.sk-toggleable__content pre {margin: 0.2em;color: black;border-radius: 0.25em;background-color: #f0f8ff;}#sk-container-id-1 input.sk-toggleable__control:checked~div.sk-toggleable__content {max-height: 200px;max-width: 100%;overflow: auto;}#sk-container-id-1 input.sk-toggleable__control:checked~label.sk-toggleable__label-arrow:before {content: \"▾\";}#sk-container-id-1 div.sk-estimator input.sk-toggleable__control:checked~label.sk-toggleable__label {background-color: #d4ebff;}#sk-container-id-1 div.sk-label input.sk-toggleable__control:checked~label.sk-toggleable__label {background-color: #d4ebff;}#sk-container-id-1 input.sk-hidden--visually {border: 0;clip: rect(1px 1px 1px 1px);clip: rect(1px, 1px, 1px, 1px);height: 1px;margin: -1px;overflow: hidden;padding: 0;position: absolute;width: 1px;}#sk-container-id-1 div.sk-estimator {font-family: monospace;background-color: #f0f8ff;border: 1px dotted black;border-radius: 0.25em;box-sizing: border-box;margin-bottom: 0.5em;}#sk-container-id-1 div.sk-estimator:hover {background-color: #d4ebff;}#sk-container-id-1 div.sk-parallel-item::after {content: \"\";width: 100%;border-bottom: 1px solid gray;flex-grow: 1;}#sk-container-id-1 div.sk-label:hover label.sk-toggleable__label {background-color: #d4ebff;}#sk-container-id-1 div.sk-serial::before {content: \"\";position: absolute;border-left: 1px solid gray;box-sizing: border-box;top: 0;bottom: 0;left: 50%;z-index: 0;}#sk-container-id-1 div.sk-serial {display: flex;flex-direction: column;align-items: center;background-color: white;padding-right: 0.2em;padding-left: 0.2em;position: relative;}#sk-container-id-1 div.sk-item {position: relative;z-index: 1;}#sk-container-id-1 div.sk-parallel {display: flex;align-items: stretch;justify-content: center;background-color: white;position: relative;}#sk-container-id-1 div.sk-item::before, #sk-container-id-1 div.sk-parallel-item::before {content: \"\";position: absolute;border-left: 1px solid gray;box-sizing: border-box;top: 0;bottom: 0;left: 50%;z-index: -1;}#sk-container-id-1 div.sk-parallel-item {display: flex;flex-direction: column;z-index: 1;position: relative;background-color: white;}#sk-container-id-1 div.sk-parallel-item:first-child::after {align-self: flex-end;width: 50%;}#sk-container-id-1 div.sk-parallel-item:last-child::after {align-self: flex-start;width: 50%;}#sk-container-id-1 div.sk-parallel-item:only-child::after {width: 0;}#sk-container-id-1 div.sk-dashed-wrapped {border: 1px dashed gray;margin: 0 0.4em 0.5em 0.4em;box-sizing: border-box;padding-bottom: 0.4em;background-color: white;}#sk-container-id-1 div.sk-label label {font-family: monospace;font-weight: bold;display: inline-block;line-height: 1.2em;}#sk-container-id-1 div.sk-label-container {text-align: center;}#sk-container-id-1 div.sk-container {/* jupyter's `normalize.less` sets `[hidden] { display: none; }` but bootstrap.min.css set `[hidden] { display: none !important; }` so we also need the `!important` here to be able to override the default hidden behavior on the sphinx rendered scikit-learn.org. See: https://github.com/scikit-learn/scikit-learn/issues/21755 */display: inline-block !important;position: relative;}#sk-container-id-1 div.sk-text-repr-fallback {display: none;}</style><div id=\"sk-container-id-1\" class=\"sk-top-container\"><div class=\"sk-text-repr-fallback\"><pre>RandomForestRegressor()</pre><b>In a Jupyter environment, please rerun this cell to show the HTML representation or trust the notebook. <br />On GitHub, the HTML representation is unable to render, please try loading this page with nbviewer.org.</b></div><div class=\"sk-container\" hidden><div class=\"sk-item\"><div class=\"sk-estimator sk-toggleable\"><input class=\"sk-toggleable__control sk-hidden--visually\" id=\"sk-estimator-id-1\" type=\"checkbox\" checked><label for=\"sk-estimator-id-1\" class=\"sk-toggleable__label sk-toggleable__label-arrow\">RandomForestRegressor</label><div class=\"sk-toggleable__content\"><pre>RandomForestRegressor()</pre></div></div></div></div></div>"
     },
     "execution_count": 12,
     "metadata": {},
     "output_type": "execute_result"
    }
   ],
   "source": [
    "# Training the random forest regressor model\n",
    "model = RandomForestRegressor(n_estimators=100)\n",
    "model.fit(X_train3, y_train3)"
   ],
   "metadata": {
    "collapsed": false,
    "pycharm": {
     "name": "#%%\n"
    }
   }
  },
  {
   "cell_type": "code",
   "execution_count": 13,
   "outputs": [
    {
     "data": {
      "text/plain": "['model.joblib']"
     },
     "execution_count": 13,
     "metadata": {},
     "output_type": "execute_result"
    }
   ],
   "source": [
    "import  joblib\n",
    "joblib.dump(model, 'model.joblib')"
   ],
   "metadata": {
    "collapsed": false,
    "pycharm": {
     "name": "#%%\n"
    }
   }
  },
  {
   "cell_type": "code",
   "execution_count": 14,
   "outputs": [
    {
     "data": {
      "text/plain": "['walmart_model.h5']"
     },
     "execution_count": 14,
     "metadata": {},
     "output_type": "execute_result"
    }
   ],
   "source": [
    "joblib.dump(model, 'walmart_model.h5')"
   ],
   "metadata": {
    "collapsed": false,
    "pycharm": {
     "name": "#%%\n"
    }
   }
  },
  {
   "cell_type": "code",
   "execution_count": 15,
   "outputs": [
    {
     "data": {
      "text/plain": "['scaler.joblib']"
     },
     "execution_count": 15,
     "metadata": {},
     "output_type": "execute_result"
    }
   ],
   "source": [
    "joblib.dump(scaler, 'scaler.joblib')"
   ],
   "metadata": {
    "collapsed": false,
    "pycharm": {
     "name": "#%%\n"
    }
   }
  },
  {
   "cell_type": "code",
   "execution_count": 16,
   "outputs": [
    {
     "data": {
      "text/plain": "array([47621.7195,  3413.1844, 10512.4463,  3920.988 ,  5355.3223])"
     },
     "execution_count": 16,
     "metadata": {},
     "output_type": "execute_result"
    }
   ],
   "source": [
    "# Making predictions on the validation set\n",
    "y_val_pred2 = model.predict(X_val3)\n",
    "y_val_pred2[:5]"
   ],
   "metadata": {
    "collapsed": false,
    "pycharm": {
     "name": "#%%\n"
    }
   }
  },
  {
   "cell_type": "code",
   "execution_count": 17,
   "outputs": [
    {
     "name": "stdout",
     "output_type": "stream",
     "text": [
      "Mean Squared Error: 31197201.993153557\n",
      "R-squared Score: 0.9401746167682492\n"
     ]
    }
   ],
   "source": [
    "# Step 4: Calculate the accuracy of the model\n",
    "mse = mean_squared_error(y_val3, y_val_pred2)\n",
    "r2 = r2_score(y_val3, y_val_pred2)\n",
    "\n",
    "print('Mean Squared Error:', mse)\n",
    "print('R-squared Score:', r2)"
   ],
   "metadata": {
    "collapsed": false,
    "pycharm": {
     "name": "#%%\n"
    }
   }
  },
  {
   "cell_type": "code",
   "execution_count": 18,
   "outputs": [],
   "source": [
    "# Step 5: Add a column of predicted sales to the original DataFrame\n",
    "train['Predicted_Sales'] = model.predict(X_train2)"
   ],
   "metadata": {
    "collapsed": false,
    "pycharm": {
     "name": "#%%\n"
    }
   }
  },
  {
   "cell_type": "code",
   "execution_count": 19,
   "outputs": [],
   "source": [
    "X_test2 = test.drop(['Date', 'Type', 'IsHoliday_y', 'MarkDown1', 'MarkDown5', 'CPI', 'IsHoliday_x', 'Size'], axis=1)\n",
    "X_test2 = scaler.transform(X_test2)\n",
    "test['Predicted_Sales'] = model.predict(X_test2)"
   ],
   "metadata": {
    "collapsed": false,
    "pycharm": {
     "name": "#%%\n"
    }
   }
  },
  {
   "cell_type": "code",
   "execution_count": 20,
   "outputs": [
    {
     "data": {
      "text/plain": "   Store  Dept       Date  IsHoliday_x  Temperature  Fuel_Price  MarkDown1  \\\n0      1     1 2012-11-02        False        55.32       3.386    6766.44   \n1      1     1 2012-11-09        False        61.24       3.314   11421.32   \n2      1     1 2012-11-16        False        52.92       3.252    9696.28   \n3      1     1 2012-11-23         True        56.23       3.211     883.59   \n4      1     1 2012-11-30        False        52.34       3.207    2460.03   \n\n   MarkDown2  MarkDown3  MarkDown4  MarkDown5         CPI  Unemployment  \\\n0    5147.70      50.82    3639.90    2737.42  223.462779         6.573   \n1    3370.89      40.28    4646.79    6154.16  223.481307         6.573   \n2     292.10     103.78    1133.15    6612.69  223.512911         6.573   \n3       4.17   74910.32     209.91     303.32  223.561947         6.573   \n4       0.00    3838.35     150.57    6966.34  223.610984         6.573   \n\n   IsHoliday_y Type    Size  Predicted_Sales  \n0        False    A  151315       24842.3789  \n1        False    A  151315       26147.8351  \n2        False    A  151315       24506.8424  \n3         True    A  151315       29987.5374  \n4        False    A  151315       39713.7859  ",
      "text/html": "<div>\n<style scoped>\n    .dataframe tbody tr th:only-of-type {\n        vertical-align: middle;\n    }\n\n    .dataframe tbody tr th {\n        vertical-align: top;\n    }\n\n    .dataframe thead th {\n        text-align: right;\n    }\n</style>\n<table border=\"1\" class=\"dataframe\">\n  <thead>\n    <tr style=\"text-align: right;\">\n      <th></th>\n      <th>Store</th>\n      <th>Dept</th>\n      <th>Date</th>\n      <th>IsHoliday_x</th>\n      <th>Temperature</th>\n      <th>Fuel_Price</th>\n      <th>MarkDown1</th>\n      <th>MarkDown2</th>\n      <th>MarkDown3</th>\n      <th>MarkDown4</th>\n      <th>MarkDown5</th>\n      <th>CPI</th>\n      <th>Unemployment</th>\n      <th>IsHoliday_y</th>\n      <th>Type</th>\n      <th>Size</th>\n      <th>Predicted_Sales</th>\n    </tr>\n  </thead>\n  <tbody>\n    <tr>\n      <th>0</th>\n      <td>1</td>\n      <td>1</td>\n      <td>2012-11-02</td>\n      <td>False</td>\n      <td>55.32</td>\n      <td>3.386</td>\n      <td>6766.44</td>\n      <td>5147.70</td>\n      <td>50.82</td>\n      <td>3639.90</td>\n      <td>2737.42</td>\n      <td>223.462779</td>\n      <td>6.573</td>\n      <td>False</td>\n      <td>A</td>\n      <td>151315</td>\n      <td>24842.3789</td>\n    </tr>\n    <tr>\n      <th>1</th>\n      <td>1</td>\n      <td>1</td>\n      <td>2012-11-09</td>\n      <td>False</td>\n      <td>61.24</td>\n      <td>3.314</td>\n      <td>11421.32</td>\n      <td>3370.89</td>\n      <td>40.28</td>\n      <td>4646.79</td>\n      <td>6154.16</td>\n      <td>223.481307</td>\n      <td>6.573</td>\n      <td>False</td>\n      <td>A</td>\n      <td>151315</td>\n      <td>26147.8351</td>\n    </tr>\n    <tr>\n      <th>2</th>\n      <td>1</td>\n      <td>1</td>\n      <td>2012-11-16</td>\n      <td>False</td>\n      <td>52.92</td>\n      <td>3.252</td>\n      <td>9696.28</td>\n      <td>292.10</td>\n      <td>103.78</td>\n      <td>1133.15</td>\n      <td>6612.69</td>\n      <td>223.512911</td>\n      <td>6.573</td>\n      <td>False</td>\n      <td>A</td>\n      <td>151315</td>\n      <td>24506.8424</td>\n    </tr>\n    <tr>\n      <th>3</th>\n      <td>1</td>\n      <td>1</td>\n      <td>2012-11-23</td>\n      <td>True</td>\n      <td>56.23</td>\n      <td>3.211</td>\n      <td>883.59</td>\n      <td>4.17</td>\n      <td>74910.32</td>\n      <td>209.91</td>\n      <td>303.32</td>\n      <td>223.561947</td>\n      <td>6.573</td>\n      <td>True</td>\n      <td>A</td>\n      <td>151315</td>\n      <td>29987.5374</td>\n    </tr>\n    <tr>\n      <th>4</th>\n      <td>1</td>\n      <td>1</td>\n      <td>2012-11-30</td>\n      <td>False</td>\n      <td>52.34</td>\n      <td>3.207</td>\n      <td>2460.03</td>\n      <td>0.00</td>\n      <td>3838.35</td>\n      <td>150.57</td>\n      <td>6966.34</td>\n      <td>223.610984</td>\n      <td>6.573</td>\n      <td>False</td>\n      <td>A</td>\n      <td>151315</td>\n      <td>39713.7859</td>\n    </tr>\n  </tbody>\n</table>\n</div>"
     },
     "execution_count": 20,
     "metadata": {},
     "output_type": "execute_result"
    }
   ],
   "source": [
    "test.head()"
   ],
   "metadata": {
    "collapsed": false,
    "pycharm": {
     "name": "#%%\n"
    }
   }
  },
  {
   "cell_type": "code",
   "execution_count": 29,
   "outputs": [],
   "source": [
    "train.to_csv(\"E:\\\\Bellevue\\\\Spring_2023\\\\DSC410_Predictive Analytics\\\\Week_12\\\\train.csv\")\n",
    "test.to_csv(\"E:\\\\Bellevue\\\\Spring_2023\\\\DSC410_Predictive Analytics\\\\Week_12\\\\test.csv\")"
   ],
   "metadata": {
    "collapsed": false,
    "pycharm": {
     "name": "#%%\n"
    }
   }
  },
  {
   "cell_type": "code",
   "execution_count": 21,
   "outputs": [],
   "source": [
    "df_pred = train[['Date', 'Weekly_Sales', 'Predicted_Sales']].copy()"
   ],
   "metadata": {
    "collapsed": false,
    "pycharm": {
     "name": "#%%\n"
    }
   }
  },
  {
   "cell_type": "code",
   "execution_count": 22,
   "outputs": [
    {
     "data": {
      "text/plain": "        Date  Weekly_Sales  Predicted_Sales\n0 2010-02-05      24924.50       26097.0504\n1 2010-02-12      46039.49       38398.1919\n2 2010-02-19      41595.55       42303.0991\n3 2010-02-26      19403.54       22121.5681\n4 2010-03-05      21827.90       21615.2339",
      "text/html": "<div>\n<style scoped>\n    .dataframe tbody tr th:only-of-type {\n        vertical-align: middle;\n    }\n\n    .dataframe tbody tr th {\n        vertical-align: top;\n    }\n\n    .dataframe thead th {\n        text-align: right;\n    }\n</style>\n<table border=\"1\" class=\"dataframe\">\n  <thead>\n    <tr style=\"text-align: right;\">\n      <th></th>\n      <th>Date</th>\n      <th>Weekly_Sales</th>\n      <th>Predicted_Sales</th>\n    </tr>\n  </thead>\n  <tbody>\n    <tr>\n      <th>0</th>\n      <td>2010-02-05</td>\n      <td>24924.50</td>\n      <td>26097.0504</td>\n    </tr>\n    <tr>\n      <th>1</th>\n      <td>2010-02-12</td>\n      <td>46039.49</td>\n      <td>38398.1919</td>\n    </tr>\n    <tr>\n      <th>2</th>\n      <td>2010-02-19</td>\n      <td>41595.55</td>\n      <td>42303.0991</td>\n    </tr>\n    <tr>\n      <th>3</th>\n      <td>2010-02-26</td>\n      <td>19403.54</td>\n      <td>22121.5681</td>\n    </tr>\n    <tr>\n      <th>4</th>\n      <td>2010-03-05</td>\n      <td>21827.90</td>\n      <td>21615.2339</td>\n    </tr>\n  </tbody>\n</table>\n</div>"
     },
     "execution_count": 22,
     "metadata": {},
     "output_type": "execute_result"
    }
   ],
   "source": [
    "df_pred.head(5)"
   ],
   "metadata": {
    "collapsed": false,
    "pycharm": {
     "name": "#%%\n"
    }
   }
  },
  {
   "cell_type": "code",
   "execution_count": 40,
   "outputs": [
    {
     "data": {
      "text/plain": "<Figure size 1300x600 with 1 Axes>",
      "image/png": "[encoded data removed]"
     },
     "metadata": {},
     "output_type": "display_data"
    }
   ],
   "source": [
    "# Step 6: Plot Actual Sales vs. Predicted Sales\n",
    "fig, ax = plt.subplots(figsize=(13, 6))\n",
    "plt.plot(train['Date'], train['Weekly_Sales'], label='Actual Sales')\n",
    "plt.plot(test['Date'], test['Predicted_Sales'], label='Predicted Sales')\n",
    "plt.xlabel('Date')\n",
    "plt.ylabel('Sales')\n",
    "plt.title('Actual Sales vs. Predicted Sales')\n",
    "plt.legend()\n",
    "plt.show()"
   ],
   "metadata": {
    "collapsed": false,
    "pycharm": {
     "name": "#%%\n"
    }
   }
  },
  {
   "cell_type": "markdown",
   "source": [
    "### BUILDING THE APPLICATION USING DASH"
   ],
   "metadata": {
    "collapsed": false,
    "pycharm": {
     "name": "#%% md\n"
    }
   }
  },
  {
   "cell_type": "code",
   "execution_count": 41,
   "outputs": [],
   "source": [
    "#import libraries\n",
    "import dash\n",
    "from dash.dependencies import Input, Output\n",
    "from dash import Dash, Input, Output, ctx, html, dcc\n",
    "import plotly.express as px\n",
    "import plotly.graph_objects as go\n",
    "from keras.models import load_model\n",
    "import joblib"
   ],
   "metadata": {
    "collapsed": false,
    "pycharm": {
     "name": "#%%\n"
    }
   }
  },
  {
   "cell_type": "code",
   "execution_count": 42,
   "outputs": [],
   "source": [
    "loaded_model = joblib.load('model.joblib')"
   ],
   "metadata": {
    "collapsed": false,
    "pycharm": {
     "name": "#%%\n"
    }
   }
  },
  {
   "cell_type": "code",
   "execution_count": 43,
   "outputs": [],
   "source": [
    "#prediction = loaded_model.predict(X_test2)"
   ],
   "metadata": {
    "collapsed": false,
    "pycharm": {
     "name": "#%%\n"
    }
   }
  },
  {
   "cell_type": "code",
   "execution_count": 44,
   "outputs": [],
   "source": [
    "app = dash.Dash(__name__)\n",
    "\n",
    "# Define the layout of the application\n",
    "app.layout = html.Div([\n",
    "    html.H1(\"Walmart Store Sales Prediction\"),\n",
    "    html.Div([\n",
    "        html.Label(\"Store:\"),\n",
    "        dcc.Input(id='Store', type='number', placeholder='Enter a value'),\n",
    "        html.Label(\"Dept:\"),\n",
    "        dcc.Input(id='Dept', type='number', placeholder='Enter a value'),\n",
    "        html.Label(\"Temperature:\"),\n",
    "        dcc.Input(id='Temperature', type='number', placeholder='Enter a value'),\n",
    "        html.Label(\"Fuel_Price:\"),\n",
    "        dcc.Input(id='Fuel_Price', type='number', placeholder='Enter a value'),\n",
    "        html.Label(\"MarkDown2:\"),\n",
    "        dcc.Input(id='MarkDown2', type='number', placeholder='Enter a value'),\n",
    "        html.Label(\"MarkDown3:\"),\n",
    "        dcc.Input(id='MarkDown3', type='number', placeholder='Enter a value'),\n",
    "        html.Label(\"MarkDown4:\"),\n",
    "        dcc.Input(id='MarkDown4', type='number', placeholder='Enter a value'),\n",
    "        html.Label(\"Unemployment:\"),\n",
    "        dcc.Input(id='Unemployment', type='number', placeholder='Enter a value'),\n",
    "        html.Button('Predict', id='predict-button'),\n",
    "        html.Div(id='output')\n",
    "    ])\n",
    "])\n"
   ],
   "metadata": {
    "collapsed": false,
    "pycharm": {
     "name": "#%%\n"
    }
   }
  },
  {
   "cell_type": "code",
   "execution_count": 45,
   "outputs": [],
   "source": [
    "@app.callback(Output('output', 'children'),\n",
    "              [Input('predict-button', 'n_clicks')],\n",
    "              [Input('Store', 'value'),\n",
    "               Input('Dept', 'value'),\n",
    "               Input('input1', 'value'),\n",
    "               Input('input2', 'value'),\n",
    "               Input('input1', 'value'),\n",
    "               Input('input2', 'value'),\n",
    "               Input('input1', 'value'),\n",
    "               Input('input2', 'value'),\n",
    "               ])\n",
    "def predict(n_clicks, Store, Dept, Temperature, Fuel_Price, MarkDown2, MarkDown3, MarkDown4, Unemployment):\n",
    "    if n_clicks is None:\n",
    "        return ''\n",
    "\n",
    "    # Preprocess the inputs if needed\n",
    "    # Load or initialize the Random Forest model\n",
    "    # Make predictions\n",
    "    prediction = loaded_model.predict([[Store, Dept, Temperature, Fuel_Price, MarkDown2, MarkDown3, MarkDown4, Unemployment]])\n",
    "\n",
    "    # Format and return the prediction result\n",
    "    return html.H3(f\"Prediction: {prediction[0]}\")\n"
   ],
   "metadata": {
    "collapsed": false,
    "pycharm": {
     "name": "#%%\n"
    }
   }
  },
  {
   "cell_type": "code",
   "execution_count": 47,
   "outputs": [
    {
     "name": "stdout",
     "output_type": "stream",
     "text": [
      "Dash is running on http://127.0.0.1:8050/\n",
      "\n",
      " * Serving Flask app '__main__'\n",
      " * Debug mode: off\n"
     ]
    }
   ],
   "source": [
    "if __name__ == '__main__':\n",
    "    app.run_server(debug=False)"
   ],
   "metadata": {
    "collapsed": false,
    "pycharm": {
     "name": "#%%\n"
    }
   }
  },
  {
   "cell_type": "markdown",
   "source": [
    "#### Visualization Using DASH"
   ],
   "metadata": {
    "collapsed": false,
    "pycharm": {
     "name": "#%% md\n"
    }
   }
  },
  {
   "cell_type": "code",
   "execution_count": 35,
   "outputs": [],
   "source": [
    "import dash\n",
    "from dash import dcc, html\n",
    "import seaborn as sns\n",
    "import plotly.express as px\n",
    "import pandas as pd"
   ],
   "metadata": {
    "collapsed": false,
    "pycharm": {
     "name": "#%%\n"
    }
   }
  },
  {
   "cell_type": "code",
   "execution_count": 36,
   "outputs": [],
   "source": [
    "# Step 1: Initialize the Dash application\n",
    "app = dash.Dash(__name__)"
   ],
   "metadata": {
    "collapsed": false,
    "pycharm": {
     "name": "#%%\n"
    }
   }
  },
  {
   "cell_type": "code",
   "execution_count": 37,
   "outputs": [],
   "source": [
    "# Step 2: Define the layout of the application\n",
    "app.layout = html.Div(\n",
    "    children=[\n",
    "        dcc.Graph(\n",
    "            id='sales-graph',\n",
    "            figure={\n",
    "                'data': [\n",
    "                    {'x': train['Date'], 'y': train['Weekly_Sales'], 'name': 'Actual Sales'},\n",
    "                    {'x': test['Date'], 'y': test['Predicted_Sales'], 'name': 'Predicted Sales'}\n",
    "                ],\n",
    "                'layout': {\n",
    "                    'xaxis': {'title': 'Date'},\n",
    "                    'yaxis': {'title': 'Sales'},\n",
    "                    'title': 'Actual Sales vs. Predicted Sales',\n",
    "                    'legend': {'x': 0, 'y': 1}\n",
    "                }\n",
    "            }\n",
    "        )\n",
    "    ]\n",
    ")"
   ],
   "metadata": {
    "collapsed": false,
    "pycharm": {
     "name": "#%%\n"
    }
   }
  },
  {
   "cell_type": "code",
   "execution_count": 39,
   "outputs": [
    {
     "name": "stdout",
     "output_type": "stream",
     "text": [
      "Dash is running on http://127.0.0.1:8050/\n",
      "\n",
      " * Serving Flask app '__main__'\n",
      " * Debug mode: off\n"
     ]
    }
   ],
   "source": [
    "# Step 3: Run the application\n",
    "if __name__ == '__main__':\n",
    "    app.run_server(debug=False)\n"
   ],
   "metadata": {
    "collapsed": false,
    "pycharm": {
     "name": "#%%\n"
    }
   }
  },
  {
   "cell_type": "code",
   "execution_count": null,
   "outputs": [],
   "source": [],
   "metadata": {
    "collapsed": false,
    "pycharm": {
     "name": "#%%\n"
    }
   }
  }
 ],
 "metadata": {
  "kernelspec": {
   "display_name": "Python 3",
   "language": "python",
   "name": "python3"
  },
  "language_info": {
   "codemirror_mode": {
    "name": "ipython",
    "version": 2
   },
   "file_extension": ".py",
   "mimetype": "text/x-python",
   "name": "python",
   "nbconvert_exporter": "python",
   "pygments_lexer": "ipython2",
   "version": "2.7.6"
  }
 },
 "nbformat": 4,
 "nbformat_minor": 0
}