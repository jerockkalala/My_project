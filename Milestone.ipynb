{
 "cells": [
  {
   "cell_type": "markdown",
   "source": [
    "### Title: Term Project Milestone_2\n",
    "### Author: Jerock Kalala\n",
    "### Date: October 26 2022\n",
    "### Professor: David Kinney\n",
    "### Cleaning/Formatting Flat File Source"
   ],
   "metadata": {
    "collapsed": false,
    "pycharm": {
     "name": "#%% md\n"
    }
   }
  },
  {
   "cell_type": "code",
   "execution_count": 107,
   "outputs": [
    {
     "data": {
      "text/plain": "  iso_code continent     location       date  total_cases  new_cases  \\\n0      AFG      Asia  Afghanistan  2/24/2020          5.0        5.0   \n1      AFG      Asia  Afghanistan  2/25/2020          5.0        0.0   \n2      AFG      Asia  Afghanistan  2/26/2020          5.0        0.0   \n3      AFG      Asia  Afghanistan  2/27/2020          5.0        0.0   \n4      AFG      Asia  Afghanistan  2/28/2020          5.0        0.0   \n\n   new_cases_smoothed  total_deaths  new_deaths  new_deaths_smoothed  ...  \\\n0                 NaN           NaN         NaN                  NaN  ...   \n1                 NaN           NaN         NaN                  NaN  ...   \n2                 NaN           NaN         NaN                  NaN  ...   \n3                 NaN           NaN         NaN                  NaN  ...   \n4                 NaN           NaN         NaN                  NaN  ...   \n\n   female_smokers  male_smokers  handwashing_facilities  \\\n0             NaN           NaN                  37.746   \n1             NaN           NaN                  37.746   \n2             NaN           NaN                  37.746   \n3             NaN           NaN                  37.746   \n4             NaN           NaN                  37.746   \n\n   hospital_beds_per_thousand  life_expectancy  human_development_index  \\\n0                         0.5            64.83                    0.511   \n1                         0.5            64.83                    0.511   \n2                         0.5            64.83                    0.511   \n3                         0.5            64.83                    0.511   \n4                         0.5            64.83                    0.511   \n\n   excess_mortality_cumulative_absolute  excess_mortality_cumulative  \\\n0                                   NaN                          NaN   \n1                                   NaN                          NaN   \n2                                   NaN                          NaN   \n3                                   NaN                          NaN   \n4                                   NaN                          NaN   \n\n   excess_mortality  excess_mortality_cumulative_per_million  \n0               NaN                                      NaN  \n1               NaN                                      NaN  \n2               NaN                                      NaN  \n3               NaN                                      NaN  \n4               NaN                                      NaN  \n\n[5 rows x 67 columns]",
      "text/html": "<div>\n<style scoped>\n    .dataframe tbody tr th:only-of-type {\n        vertical-align: middle;\n    }\n\n    .dataframe tbody tr th {\n        vertical-align: top;\n    }\n\n    .dataframe thead th {\n        text-align: right;\n    }\n</style>\n<table border=\"1\" class=\"dataframe\">\n  <thead>\n    <tr style=\"text-align: right;\">\n      <th></th>\n      <th>iso_code</th>\n      <th>continent</th>\n      <th>location</th>\n      <th>date</th>\n      <th>total_cases</th>\n      <th>new_cases</th>\n      <th>new_cases_smoothed</th>\n      <th>total_deaths</th>\n      <th>new_deaths</th>\n      <th>new_deaths_smoothed</th>\n      <th>...</th>\n      <th>female_smokers</th>\n      <th>male_smokers</th>\n      <th>handwashing_facilities</th>\n      <th>hospital_beds_per_thousand</th>\n      <th>life_expectancy</th>\n      <th>human_development_index</th>\n      <th>excess_mortality_cumulative_absolute</th>\n      <th>excess_mortality_cumulative</th>\n      <th>excess_mortality</th>\n      <th>excess_mortality_cumulative_per_million</th>\n    </tr>\n  </thead>\n  <tbody>\n    <tr>\n      <th>0</th>\n      <td>AFG</td>\n      <td>Asia</td>\n      <td>Afghanistan</td>\n      <td>2/24/2020</td>\n      <td>5.0</td>\n      <td>5.0</td>\n      <td>NaN</td>\n      <td>NaN</td>\n      <td>NaN</td>\n      <td>NaN</td>\n      <td>...</td>\n      <td>NaN</td>\n      <td>NaN</td>\n      <td>37.746</td>\n      <td>0.5</td>\n      <td>64.83</td>\n      <td>0.511</td>\n      <td>NaN</td>\n      <td>NaN</td>\n      <td>NaN</td>\n      <td>NaN</td>\n    </tr>\n    <tr>\n      <th>1</th>\n      <td>AFG</td>\n      <td>Asia</td>\n      <td>Afghanistan</td>\n      <td>2/25/2020</td>\n      <td>5.0</td>\n      <td>0.0</td>\n      <td>NaN</td>\n      <td>NaN</td>\n      <td>NaN</td>\n      <td>NaN</td>\n      <td>...</td>\n      <td>NaN</td>\n      <td>NaN</td>\n      <td>37.746</td>\n      <td>0.5</td>\n      <td>64.83</td>\n      <td>0.511</td>\n      <td>NaN</td>\n      <td>NaN</td>\n      <td>NaN</td>\n      <td>NaN</td>\n    </tr>\n    <tr>\n      <th>2</th>\n      <td>AFG</td>\n      <td>Asia</td>\n      <td>Afghanistan</td>\n      <td>2/26/2020</td>\n      <td>5.0</td>\n      <td>0.0</td>\n      <td>NaN</td>\n      <td>NaN</td>\n      <td>NaN</td>\n      <td>NaN</td>\n      <td>...</td>\n      <td>NaN</td>\n      <td>NaN</td>\n      <td>37.746</td>\n      <td>0.5</td>\n      <td>64.83</td>\n      <td>0.511</td>\n      <td>NaN</td>\n      <td>NaN</td>\n      <td>NaN</td>\n      <td>NaN</td>\n    </tr>\n    <tr>\n      <th>3</th>\n      <td>AFG</td>\n      <td>Asia</td>\n      <td>Afghanistan</td>\n      <td>2/27/2020</td>\n      <td>5.0</td>\n      <td>0.0</td>\n      <td>NaN</td>\n      <td>NaN</td>\n      <td>NaN</td>\n      <td>NaN</td>\n      <td>...</td>\n      <td>NaN</td>\n      <td>NaN</td>\n      <td>37.746</td>\n      <td>0.5</td>\n      <td>64.83</td>\n      <td>0.511</td>\n      <td>NaN</td>\n      <td>NaN</td>\n      <td>NaN</td>\n      <td>NaN</td>\n    </tr>\n    <tr>\n      <th>4</th>\n      <td>AFG</td>\n      <td>Asia</td>\n      <td>Afghanistan</td>\n      <td>2/28/2020</td>\n      <td>5.0</td>\n      <td>0.0</td>\n      <td>NaN</td>\n      <td>NaN</td>\n      <td>NaN</td>\n      <td>NaN</td>\n      <td>...</td>\n      <td>NaN</td>\n      <td>NaN</td>\n      <td>37.746</td>\n      <td>0.5</td>\n      <td>64.83</td>\n      <td>0.511</td>\n      <td>NaN</td>\n      <td>NaN</td>\n      <td>NaN</td>\n      <td>NaN</td>\n    </tr>\n  </tbody>\n</table>\n<p>5 rows × 67 columns</p>\n</div>"
     },
     "execution_count": 107,
     "metadata": {},
     "output_type": "execute_result"
    }
   ],
   "source": [
    "import pandas as pd\n",
    "import difflib\n",
    "\n",
    "df= pd.read_csv(\"E:\\\\Bellevue\\\\Fall_2022\\\\DSC 350 Data Wrangling for Data Scienc\\\\Term_Project\\\\owid-covid-data.csv\")\n",
    "df.head()"
   ],
   "metadata": {
    "collapsed": false,
    "pycharm": {
     "name": "#%%\n"
    }
   }
  },
  {
   "cell_type": "code",
   "execution_count": 2,
   "outputs": [
    {
     "name": "stdout",
     "output_type": "stream",
     "text": [
      "<class 'pandas.core.frame.DataFrame'>\n",
      "RangeIndex: 220567 entries, 0 to 220566\n",
      "Data columns (total 67 columns):\n",
      " #   Column                                      Non-Null Count   Dtype  \n",
      "---  ------                                      --------------   -----  \n",
      " 0   iso_code                                    220567 non-null  object \n",
      " 1   continent                                   207881 non-null  object \n",
      " 2   location                                    220567 non-null  object \n",
      " 3   date                                        220567 non-null  object \n",
      " 4   total_cases                                 211608 non-null  float64\n",
      " 5   new_cases                                   211311 non-null  float64\n",
      " 6   new_cases_smoothed                          210115 non-null  float64\n",
      " 7   total_deaths                                192500 non-null  float64\n",
      " 8   new_deaths                                  192425 non-null  float64\n",
      " 9   new_deaths_smoothed                         191245 non-null  float64\n",
      " 10  total_cases_per_million                     210640 non-null  float64\n",
      " 11  new_cases_per_million                       210343 non-null  float64\n",
      " 12  new_cases_smoothed_per_million              209152 non-null  float64\n",
      " 13  total_deaths_per_million                    191545 non-null  float64\n",
      " 14  new_deaths_per_million                      191470 non-null  float64\n",
      " 15  new_deaths_smoothed_per_million             190295 non-null  float64\n",
      " 16  reproduction_rate                           166135 non-null  float64\n",
      " 17  icu_patients                                28068 non-null   float64\n",
      " 18  icu_patients_per_million                    28068 non-null   float64\n",
      " 19  hosp_patients                               30827 non-null   float64\n",
      " 20  hosp_patients_per_million                   30827 non-null   float64\n",
      " 21  weekly_icu_admissions                       7130 non-null    float64\n",
      " 22  weekly_icu_admissions_per_million           7130 non-null    float64\n",
      " 23  weekly_hosp_admissions                      14193 non-null   float64\n",
      " 24  weekly_hosp_admissions_per_million          14193 non-null   float64\n",
      " 25  total_tests                                 79387 non-null   float64\n",
      " 26  new_tests                                   75403 non-null   float64\n",
      " 27  total_tests_per_thousand                    79387 non-null   float64\n",
      " 28  new_tests_per_thousand                      75403 non-null   float64\n",
      " 29  new_tests_smoothed                          103965 non-null  float64\n",
      " 30  new_tests_smoothed_per_thousand             103965 non-null  float64\n",
      " 31  positive_rate                               95927 non-null   float64\n",
      " 32  tests_per_case                              94348 non-null   float64\n",
      " 33  tests_units                                 106788 non-null  object \n",
      " 34  total_vaccinations                          61755 non-null   float64\n",
      " 35  people_vaccinated                           59048 non-null   float64\n",
      " 36  people_fully_vaccinated                     56290 non-null   float64\n",
      " 37  total_boosters                              32963 non-null   float64\n",
      " 38  new_vaccinations                            50791 non-null   float64\n",
      " 39  new_vaccinations_smoothed                   127242 non-null  float64\n",
      " 40  total_vaccinations_per_hundred              61755 non-null   float64\n",
      " 41  people_vaccinated_per_hundred               59048 non-null   float64\n",
      " 42  people_fully_vaccinated_per_hundred         56290 non-null   float64\n",
      " 43  total_boosters_per_hundred                  32963 non-null   float64\n",
      " 44  new_vaccinations_smoothed_per_million       127242 non-null  float64\n",
      " 45  new_people_vaccinated_smoothed              126664 non-null  float64\n",
      " 46  new_people_vaccinated_smoothed_per_hundred  126664 non-null  float64\n",
      " 47  stringency_index                            166246 non-null  float64\n",
      " 48  population                                  219282 non-null  float64\n",
      " 49  population_density                          195877 non-null  float64\n",
      " 50  median_age                                  181254 non-null  float64\n",
      " 51  aged_65_older                               179339 non-null  float64\n",
      " 52  aged_70_older                               180305 non-null  float64\n",
      " 53  gdp_per_capita                              180596 non-null  float64\n",
      " 54  extreme_poverty                             117786 non-null  float64\n",
      " 55  cardiovasc_death_rate                       180774 non-null  float64\n",
      " 56  diabetes_prevalence                         190035 non-null  float64\n",
      " 57  female_smokers                              136942 non-null  float64\n",
      " 58  male_smokers                                135067 non-null  float64\n",
      " 59  handwashing_facilities                      88877 non-null   float64\n",
      " 60  hospital_beds_per_thousand                  160829 non-null  float64\n",
      " 61  life_expectancy                             206079 non-null  float64\n",
      " 62  human_development_index                     176282 non-null  float64\n",
      " 63  excess_mortality_cumulative_absolute        7460 non-null    float64\n",
      " 64  excess_mortality_cumulative                 7460 non-null    float64\n",
      " 65  excess_mortality                            7507 non-null    float64\n",
      " 66  excess_mortality_cumulative_per_million     7460 non-null    float64\n",
      "dtypes: float64(62), object(5)\n",
      "memory usage: 112.7+ MB\n"
     ]
    }
   ],
   "source": [
    "# We can check which structure our data follows, and we can then do properly reduction and transformation to each column\n",
    "df.info()"
   ],
   "metadata": {
    "collapsed": false,
    "pycharm": {
     "name": "#%%\n"
    }
   }
  },
  {
   "cell_type": "markdown",
   "source": [
    "#### 1. Let's keep few columns, and use smaller dtype"
   ],
   "metadata": {
    "collapsed": false,
    "pycharm": {
     "name": "#%% md\n"
    }
   }
  },
  {
   "cell_type": "code",
   "execution_count": 13,
   "outputs": [
    {
     "data": {
      "text/plain": "{'continent': 'object',\n 'location': 'object',\n 'date': 'object',\n 'total_cases': 'float32',\n 'new_cases': 'float32',\n 'total_deaths': 'float32',\n 'new_deaths': 'float32',\n 'icu_patients': 'float32',\n 'weekly_icu_admissions': 'float32',\n 'weekly_hosp_admissions': 'float32',\n 'new_tests': 'float32',\n 'total_tests': 'float32',\n 'positive_rate': 'float32',\n 'total_vaccinations': 'float32',\n 'people_vaccinated': 'float32',\n 'people_fully_vaccinated': 'float32',\n 'total_boosters': 'float32',\n 'new_vaccinations': 'float32',\n 'population': 'float32',\n 'life_expectancy': 'float32',\n 'excess_mortality': 'float32'}"
     },
     "execution_count": 13,
     "metadata": {},
     "output_type": "execute_result"
    }
   ],
   "source": [
    "selected_cols = ['continent', 'location', 'date', 'total_cases', 'new_cases', 'total_deaths', 'new_deaths'\n",
    "    , 'icu_patients', 'weekly_icu_admissions', 'weekly_hosp_admissions', 'new_tests',\n",
    "                 'total_tests', 'positive_rate', 'total_vaccinations', 'people_vaccinated',\n",
    "                 'people_fully_vaccinated', 'total_boosters', 'new_vaccinations', 'population', 'life_expectancy',\n",
    "                 'excess_mortality']\n",
    "\n",
    "selected_dtypes = {\n",
    "    'continent': 'object',\n",
    "    'location': 'object',\n",
    "    'date': 'object',\n",
    "}\n",
    "for col in selected_cols[3:]:\n",
    "    selected_dtypes[col] = 'float32'\n",
    "\n",
    "selected_dtypes"
   ],
   "metadata": {
    "collapsed": false,
    "pycharm": {
     "name": "#%%\n"
    }
   }
  },
  {
   "cell_type": "code",
   "execution_count": 71,
   "outputs": [
    {
     "data": {
      "text/plain": "  continent     location        date  total_cases  new_cases  total_deaths  \\\n0      Asia  Afghanistan  2020-02-24          5.0        5.0           NaN   \n1      Asia  Afghanistan  2020-02-25          5.0        0.0           NaN   \n2      Asia  Afghanistan  2020-02-26          5.0        0.0           NaN   \n3      Asia  Afghanistan  2020-02-27          5.0        0.0           NaN   \n4      Asia  Afghanistan  2020-02-28          5.0        0.0           NaN   \n\n   new_deaths  icu_patients  weekly_icu_admissions  weekly_hosp_admissions  \\\n0         NaN           NaN                    NaN                     NaN   \n1         NaN           NaN                    NaN                     NaN   \n2         NaN           NaN                    NaN                     NaN   \n3         NaN           NaN                    NaN                     NaN   \n4         NaN           NaN                    NaN                     NaN   \n\n   ...  new_tests  positive_rate  total_vaccinations  people_vaccinated  \\\n0  ...        NaN            NaN                 NaN                NaN   \n1  ...        NaN            NaN                 NaN                NaN   \n2  ...        NaN            NaN                 NaN                NaN   \n3  ...        NaN            NaN                 NaN                NaN   \n4  ...        NaN            NaN                 NaN                NaN   \n\n   people_fully_vaccinated  total_boosters  new_vaccinations  life_expectancy  \\\n0                      NaN             NaN               NaN        64.830002   \n1                      NaN             NaN               NaN        64.830002   \n2                      NaN             NaN               NaN        64.830002   \n3                      NaN             NaN               NaN        64.830002   \n4                      NaN             NaN               NaN        64.830002   \n\n   population  excess_mortality  \n0  40099464.0               NaN  \n1  40099464.0               NaN  \n2  40099464.0               NaN  \n3  40099464.0               NaN  \n4  40099464.0               NaN  \n\n[5 rows x 21 columns]",
      "text/html": "<div>\n<style scoped>\n    .dataframe tbody tr th:only-of-type {\n        vertical-align: middle;\n    }\n\n    .dataframe tbody tr th {\n        vertical-align: top;\n    }\n\n    .dataframe thead th {\n        text-align: right;\n    }\n</style>\n<table border=\"1\" class=\"dataframe\">\n  <thead>\n    <tr style=\"text-align: right;\">\n      <th></th>\n      <th>continent</th>\n      <th>location</th>\n      <th>date</th>\n      <th>total_cases</th>\n      <th>new_cases</th>\n      <th>total_deaths</th>\n      <th>new_deaths</th>\n      <th>icu_patients</th>\n      <th>weekly_icu_admissions</th>\n      <th>weekly_hosp_admissions</th>\n      <th>...</th>\n      <th>new_tests</th>\n      <th>positive_rate</th>\n      <th>total_vaccinations</th>\n      <th>people_vaccinated</th>\n      <th>people_fully_vaccinated</th>\n      <th>total_boosters</th>\n      <th>new_vaccinations</th>\n      <th>life_expectancy</th>\n      <th>population</th>\n      <th>excess_mortality</th>\n    </tr>\n  </thead>\n  <tbody>\n    <tr>\n      <th>0</th>\n      <td>Asia</td>\n      <td>Afghanistan</td>\n      <td>2020-02-24</td>\n      <td>5.0</td>\n      <td>5.0</td>\n      <td>NaN</td>\n      <td>NaN</td>\n      <td>NaN</td>\n      <td>NaN</td>\n      <td>NaN</td>\n      <td>...</td>\n      <td>NaN</td>\n      <td>NaN</td>\n      <td>NaN</td>\n      <td>NaN</td>\n      <td>NaN</td>\n      <td>NaN</td>\n      <td>NaN</td>\n      <td>64.830002</td>\n      <td>40099464.0</td>\n      <td>NaN</td>\n    </tr>\n    <tr>\n      <th>1</th>\n      <td>Asia</td>\n      <td>Afghanistan</td>\n      <td>2020-02-25</td>\n      <td>5.0</td>\n      <td>0.0</td>\n      <td>NaN</td>\n      <td>NaN</td>\n      <td>NaN</td>\n      <td>NaN</td>\n      <td>NaN</td>\n      <td>...</td>\n      <td>NaN</td>\n      <td>NaN</td>\n      <td>NaN</td>\n      <td>NaN</td>\n      <td>NaN</td>\n      <td>NaN</td>\n      <td>NaN</td>\n      <td>64.830002</td>\n      <td>40099464.0</td>\n      <td>NaN</td>\n    </tr>\n    <tr>\n      <th>2</th>\n      <td>Asia</td>\n      <td>Afghanistan</td>\n      <td>2020-02-26</td>\n      <td>5.0</td>\n      <td>0.0</td>\n      <td>NaN</td>\n      <td>NaN</td>\n      <td>NaN</td>\n      <td>NaN</td>\n      <td>NaN</td>\n      <td>...</td>\n      <td>NaN</td>\n      <td>NaN</td>\n      <td>NaN</td>\n      <td>NaN</td>\n      <td>NaN</td>\n      <td>NaN</td>\n      <td>NaN</td>\n      <td>64.830002</td>\n      <td>40099464.0</td>\n      <td>NaN</td>\n    </tr>\n    <tr>\n      <th>3</th>\n      <td>Asia</td>\n      <td>Afghanistan</td>\n      <td>2020-02-27</td>\n      <td>5.0</td>\n      <td>0.0</td>\n      <td>NaN</td>\n      <td>NaN</td>\n      <td>NaN</td>\n      <td>NaN</td>\n      <td>NaN</td>\n      <td>...</td>\n      <td>NaN</td>\n      <td>NaN</td>\n      <td>NaN</td>\n      <td>NaN</td>\n      <td>NaN</td>\n      <td>NaN</td>\n      <td>NaN</td>\n      <td>64.830002</td>\n      <td>40099464.0</td>\n      <td>NaN</td>\n    </tr>\n    <tr>\n      <th>4</th>\n      <td>Asia</td>\n      <td>Afghanistan</td>\n      <td>2020-02-28</td>\n      <td>5.0</td>\n      <td>0.0</td>\n      <td>NaN</td>\n      <td>NaN</td>\n      <td>NaN</td>\n      <td>NaN</td>\n      <td>NaN</td>\n      <td>...</td>\n      <td>NaN</td>\n      <td>NaN</td>\n      <td>NaN</td>\n      <td>NaN</td>\n      <td>NaN</td>\n      <td>NaN</td>\n      <td>NaN</td>\n      <td>64.830002</td>\n      <td>40099464.0</td>\n      <td>NaN</td>\n    </tr>\n  </tbody>\n</table>\n<p>5 rows × 21 columns</p>\n</div>"
     },
     "execution_count": 71,
     "metadata": {},
     "output_type": "execute_result"
    }
   ],
   "source": [
    "file='https://covid.ourworldindata.org/data/owid-covid-data.csv'\n",
    "df_r = pd.read_csv(file,\n",
    "                    usecols=selected_cols,\n",
    "                    dtype=selected_dtypes)\n",
    "df_r.head()"
   ],
   "metadata": {
    "collapsed": false,
    "pycharm": {
     "name": "#%%\n"
    }
   }
  },
  {
   "cell_type": "markdown",
   "source": [
    "#### 2. Replace headers"
   ],
   "metadata": {
    "collapsed": false,
    "pycharm": {
     "name": "#%% md\n"
    }
   }
  },
  {
   "cell_type": "code",
   "execution_count": 72,
   "outputs": [
    {
     "data": {
      "text/plain": "  Continent      Country        Date  total_cases  new_cases  total_deaths  \\\n0      Asia  Afghanistan  2020-02-24          5.0        5.0           NaN   \n1      Asia  Afghanistan  2020-02-25          5.0        0.0           NaN   \n2      Asia  Afghanistan  2020-02-26          5.0        0.0           NaN   \n3      Asia  Afghanistan  2020-02-27          5.0        0.0           NaN   \n4      Asia  Afghanistan  2020-02-28          5.0        0.0           NaN   \n\n   new_deaths  icu_patients  weekly_icu_admissions  weekly_hosp_admissions  \\\n0         NaN           NaN                    NaN                     NaN   \n1         NaN           NaN                    NaN                     NaN   \n2         NaN           NaN                    NaN                     NaN   \n3         NaN           NaN                    NaN                     NaN   \n4         NaN           NaN                    NaN                     NaN   \n\n   ...  new_tests  positive_rate  total_vaccinations  people_vaccinated  \\\n0  ...        NaN            NaN                 NaN                NaN   \n1  ...        NaN            NaN                 NaN                NaN   \n2  ...        NaN            NaN                 NaN                NaN   \n3  ...        NaN            NaN                 NaN                NaN   \n4  ...        NaN            NaN                 NaN                NaN   \n\n   people_fully_vaccinated  total_boosters  new_vaccinations  life_expectancy  \\\n0                      NaN             NaN               NaN        64.830002   \n1                      NaN             NaN               NaN        64.830002   \n2                      NaN             NaN               NaN        64.830002   \n3                      NaN             NaN               NaN        64.830002   \n4                      NaN             NaN               NaN        64.830002   \n\n   Total_population  excess_mortality  \n0        40099464.0               NaN  \n1        40099464.0               NaN  \n2        40099464.0               NaN  \n3        40099464.0               NaN  \n4        40099464.0               NaN  \n\n[5 rows x 21 columns]",
      "text/html": "<div>\n<style scoped>\n    .dataframe tbody tr th:only-of-type {\n        vertical-align: middle;\n    }\n\n    .dataframe tbody tr th {\n        vertical-align: top;\n    }\n\n    .dataframe thead th {\n        text-align: right;\n    }\n</style>\n<table border=\"1\" class=\"dataframe\">\n  <thead>\n    <tr style=\"text-align: right;\">\n      <th></th>\n      <th>Continent</th>\n      <th>Country</th>\n      <th>Date</th>\n      <th>total_cases</th>\n      <th>new_cases</th>\n      <th>total_deaths</th>\n      <th>new_deaths</th>\n      <th>icu_patients</th>\n      <th>weekly_icu_admissions</th>\n      <th>weekly_hosp_admissions</th>\n      <th>...</th>\n      <th>new_tests</th>\n      <th>positive_rate</th>\n      <th>total_vaccinations</th>\n      <th>people_vaccinated</th>\n      <th>people_fully_vaccinated</th>\n      <th>total_boosters</th>\n      <th>new_vaccinations</th>\n      <th>life_expectancy</th>\n      <th>Total_population</th>\n      <th>excess_mortality</th>\n    </tr>\n  </thead>\n  <tbody>\n    <tr>\n      <th>0</th>\n      <td>Asia</td>\n      <td>Afghanistan</td>\n      <td>2020-02-24</td>\n      <td>5.0</td>\n      <td>5.0</td>\n      <td>NaN</td>\n      <td>NaN</td>\n      <td>NaN</td>\n      <td>NaN</td>\n      <td>NaN</td>\n      <td>...</td>\n      <td>NaN</td>\n      <td>NaN</td>\n      <td>NaN</td>\n      <td>NaN</td>\n      <td>NaN</td>\n      <td>NaN</td>\n      <td>NaN</td>\n      <td>64.830002</td>\n      <td>40099464.0</td>\n      <td>NaN</td>\n    </tr>\n    <tr>\n      <th>1</th>\n      <td>Asia</td>\n      <td>Afghanistan</td>\n      <td>2020-02-25</td>\n      <td>5.0</td>\n      <td>0.0</td>\n      <td>NaN</td>\n      <td>NaN</td>\n      <td>NaN</td>\n      <td>NaN</td>\n      <td>NaN</td>\n      <td>...</td>\n      <td>NaN</td>\n      <td>NaN</td>\n      <td>NaN</td>\n      <td>NaN</td>\n      <td>NaN</td>\n      <td>NaN</td>\n      <td>NaN</td>\n      <td>64.830002</td>\n      <td>40099464.0</td>\n      <td>NaN</td>\n    </tr>\n    <tr>\n      <th>2</th>\n      <td>Asia</td>\n      <td>Afghanistan</td>\n      <td>2020-02-26</td>\n      <td>5.0</td>\n      <td>0.0</td>\n      <td>NaN</td>\n      <td>NaN</td>\n      <td>NaN</td>\n      <td>NaN</td>\n      <td>NaN</td>\n      <td>...</td>\n      <td>NaN</td>\n      <td>NaN</td>\n      <td>NaN</td>\n      <td>NaN</td>\n      <td>NaN</td>\n      <td>NaN</td>\n      <td>NaN</td>\n      <td>64.830002</td>\n      <td>40099464.0</td>\n      <td>NaN</td>\n    </tr>\n    <tr>\n      <th>3</th>\n      <td>Asia</td>\n      <td>Afghanistan</td>\n      <td>2020-02-27</td>\n      <td>5.0</td>\n      <td>0.0</td>\n      <td>NaN</td>\n      <td>NaN</td>\n      <td>NaN</td>\n      <td>NaN</td>\n      <td>NaN</td>\n      <td>...</td>\n      <td>NaN</td>\n      <td>NaN</td>\n      <td>NaN</td>\n      <td>NaN</td>\n      <td>NaN</td>\n      <td>NaN</td>\n      <td>NaN</td>\n      <td>64.830002</td>\n      <td>40099464.0</td>\n      <td>NaN</td>\n    </tr>\n    <tr>\n      <th>4</th>\n      <td>Asia</td>\n      <td>Afghanistan</td>\n      <td>2020-02-28</td>\n      <td>5.0</td>\n      <td>0.0</td>\n      <td>NaN</td>\n      <td>NaN</td>\n      <td>NaN</td>\n      <td>NaN</td>\n      <td>NaN</td>\n      <td>...</td>\n      <td>NaN</td>\n      <td>NaN</td>\n      <td>NaN</td>\n      <td>NaN</td>\n      <td>NaN</td>\n      <td>NaN</td>\n      <td>NaN</td>\n      <td>64.830002</td>\n      <td>40099464.0</td>\n      <td>NaN</td>\n    </tr>\n  </tbody>\n</table>\n<p>5 rows × 21 columns</p>\n</div>"
     },
     "execution_count": 72,
     "metadata": {},
     "output_type": "execute_result"
    }
   ],
   "source": [
    "df_r.rename(columns = {'location':'Country', 'population': 'Total_population', 'continent':'Continent', 'date':'Date'}, inplace = True)\n",
    "df_r.head()"
   ],
   "metadata": {
    "collapsed": false,
    "pycharm": {
     "name": "#%%\n"
    }
   }
  },
  {
   "cell_type": "markdown",
   "source": [
    "##### 3. Let's get personal data for all countries"
   ],
   "metadata": {
    "collapsed": false,
    "pycharm": {
     "name": "#%% md\n"
    }
   }
  },
  {
   "cell_type": "code",
   "execution_count": 73,
   "outputs": [
    {
     "data": {
      "text/plain": "            Continent        Country        Date  total_cases  new_cases  \\\n216540  North America  United States  2020-01-22          1.0        NaN   \n216541  North America  United States  2020-01-23          1.0        0.0   \n216542  North America  United States  2020-01-24          2.0        1.0   \n216543  North America  United States  2020-01-25          2.0        0.0   \n216544  North America  United States  2020-01-26          5.0        3.0   \n...               ...            ...         ...          ...        ...   \n217544  North America  United States  2022-10-22   97195888.0     5316.0   \n217545  North America  United States  2022-10-23   97203984.0     8100.0   \n217546  North America  United States  2022-10-24   97244824.0    40839.0   \n217547  North America  United States  2022-10-25   97273528.0    28704.0   \n217548  North America  United States  2022-10-26   97343424.0    69897.0   \n\n        total_deaths  new_deaths  icu_patients  weekly_icu_admissions  \\\n216540           NaN         NaN           NaN                    NaN   \n216541           NaN         NaN           NaN                    NaN   \n216542           NaN         NaN           NaN                    NaN   \n216543           NaN         NaN           NaN                    NaN   \n216544           NaN         NaN           NaN                    NaN   \n...              ...         ...           ...                    ...   \n217544     1067742.0        12.0        2636.0                    NaN   \n217545     1067743.0         1.0        2608.0                    NaN   \n217546     1067939.0       196.0        2677.0                    NaN   \n217547     1068354.0       415.0        2754.0                    NaN   \n217548     1069449.0      1095.0           NaN                    NaN   \n\n        weekly_hosp_admissions  ...  new_tests  positive_rate  \\\n216540                     NaN  ...        NaN            NaN   \n216541                     NaN  ...        NaN            NaN   \n216542                     NaN  ...        NaN            NaN   \n216543                     NaN  ...        NaN            NaN   \n216544                     NaN  ...        NaN            NaN   \n...                        ...  ...        ...            ...   \n217544                 23063.0  ...        NaN            NaN   \n217545                 23191.0  ...        NaN            NaN   \n217546                 23302.0  ...        NaN            NaN   \n217547                 23534.0  ...        NaN            NaN   \n217548                     NaN  ...        NaN            NaN   \n\n        total_vaccinations  people_vaccinated  people_fully_vaccinated  \\\n216540                 NaN                NaN                      NaN   \n216541                 NaN                NaN                      NaN   \n216542                 NaN                NaN                      NaN   \n216543                 NaN                NaN                      NaN   \n216544                 NaN                NaN                      NaN   \n...                    ...                ...                      ...   \n217544                 NaN                NaN                      NaN   \n217545                 NaN                NaN                      NaN   \n217546                 NaN                NaN                      NaN   \n217547                 NaN                NaN                      NaN   \n217548                 NaN                NaN                      NaN   \n\n        total_boosters  new_vaccinations  life_expectancy  Total_population  \\\n216540             NaN               NaN        78.860001       336997632.0   \n216541             NaN               NaN        78.860001       336997632.0   \n216542             NaN               NaN        78.860001       336997632.0   \n216543             NaN               NaN        78.860001       336997632.0   \n216544             NaN               NaN        78.860001       336997632.0   \n...                ...               ...              ...               ...   \n217544             NaN               NaN        78.860001       336997632.0   \n217545             NaN               NaN        78.860001       336997632.0   \n217546             NaN               NaN        78.860001       336997632.0   \n217547             NaN               NaN        78.860001       336997632.0   \n217548             NaN               NaN        78.860001       336997632.0   \n\n        excess_mortality  \n216540               NaN  \n216541               NaN  \n216542               NaN  \n216543               NaN  \n216544             -2.62  \n...                  ...  \n217544               NaN  \n217545               NaN  \n217546               NaN  \n217547               NaN  \n217548               NaN  \n\n[1009 rows x 21 columns]",
      "text/html": "<div>\n<style scoped>\n    .dataframe tbody tr th:only-of-type {\n        vertical-align: middle;\n    }\n\n    .dataframe tbody tr th {\n        vertical-align: top;\n    }\n\n    .dataframe thead th {\n        text-align: right;\n    }\n</style>\n<table border=\"1\" class=\"dataframe\">\n  <thead>\n    <tr style=\"text-align: right;\">\n      <th></th>\n      <th>Continent</th>\n      <th>Country</th>\n      <th>Date</th>\n      <th>total_cases</th>\n      <th>new_cases</th>\n      <th>total_deaths</th>\n      <th>new_deaths</th>\n      <th>icu_patients</th>\n      <th>weekly_icu_admissions</th>\n      <th>weekly_hosp_admissions</th>\n      <th>...</th>\n      <th>new_tests</th>\n      <th>positive_rate</th>\n      <th>total_vaccinations</th>\n      <th>people_vaccinated</th>\n      <th>people_fully_vaccinated</th>\n      <th>total_boosters</th>\n      <th>new_vaccinations</th>\n      <th>life_expectancy</th>\n      <th>Total_population</th>\n      <th>excess_mortality</th>\n    </tr>\n  </thead>\n  <tbody>\n    <tr>\n      <th>216540</th>\n      <td>North America</td>\n      <td>United States</td>\n      <td>2020-01-22</td>\n      <td>1.0</td>\n      <td>NaN</td>\n      <td>NaN</td>\n      <td>NaN</td>\n      <td>NaN</td>\n      <td>NaN</td>\n      <td>NaN</td>\n      <td>...</td>\n      <td>NaN</td>\n      <td>NaN</td>\n      <td>NaN</td>\n      <td>NaN</td>\n      <td>NaN</td>\n      <td>NaN</td>\n      <td>NaN</td>\n      <td>78.860001</td>\n      <td>336997632.0</td>\n      <td>NaN</td>\n    </tr>\n    <tr>\n      <th>216541</th>\n      <td>North America</td>\n      <td>United States</td>\n      <td>2020-01-23</td>\n      <td>1.0</td>\n      <td>0.0</td>\n      <td>NaN</td>\n      <td>NaN</td>\n      <td>NaN</td>\n      <td>NaN</td>\n      <td>NaN</td>\n      <td>...</td>\n      <td>NaN</td>\n      <td>NaN</td>\n      <td>NaN</td>\n      <td>NaN</td>\n      <td>NaN</td>\n      <td>NaN</td>\n      <td>NaN</td>\n      <td>78.860001</td>\n      <td>336997632.0</td>\n      <td>NaN</td>\n    </tr>\n    <tr>\n      <th>216542</th>\n      <td>North America</td>\n      <td>United States</td>\n      <td>2020-01-24</td>\n      <td>2.0</td>\n      <td>1.0</td>\n      <td>NaN</td>\n      <td>NaN</td>\n      <td>NaN</td>\n      <td>NaN</td>\n      <td>NaN</td>\n      <td>...</td>\n      <td>NaN</td>\n      <td>NaN</td>\n      <td>NaN</td>\n      <td>NaN</td>\n      <td>NaN</td>\n      <td>NaN</td>\n      <td>NaN</td>\n      <td>78.860001</td>\n      <td>336997632.0</td>\n      <td>NaN</td>\n    </tr>\n    <tr>\n      <th>216543</th>\n      <td>North America</td>\n      <td>United States</td>\n      <td>2020-01-25</td>\n      <td>2.0</td>\n      <td>0.0</td>\n      <td>NaN</td>\n      <td>NaN</td>\n      <td>NaN</td>\n      <td>NaN</td>\n      <td>NaN</td>\n      <td>...</td>\n      <td>NaN</td>\n      <td>NaN</td>\n      <td>NaN</td>\n      <td>NaN</td>\n      <td>NaN</td>\n      <td>NaN</td>\n      <td>NaN</td>\n      <td>78.860001</td>\n      <td>336997632.0</td>\n      <td>NaN</td>\n    </tr>\n    <tr>\n      <th>216544</th>\n      <td>North America</td>\n      <td>United States</td>\n      <td>2020-01-26</td>\n      <td>5.0</td>\n      <td>3.0</td>\n      <td>NaN</td>\n      <td>NaN</td>\n      <td>NaN</td>\n      <td>NaN</td>\n      <td>NaN</td>\n      <td>...</td>\n      <td>NaN</td>\n      <td>NaN</td>\n      <td>NaN</td>\n      <td>NaN</td>\n      <td>NaN</td>\n      <td>NaN</td>\n      <td>NaN</td>\n      <td>78.860001</td>\n      <td>336997632.0</td>\n      <td>-2.62</td>\n    </tr>\n    <tr>\n      <th>...</th>\n      <td>...</td>\n      <td>...</td>\n      <td>...</td>\n      <td>...</td>\n      <td>...</td>\n      <td>...</td>\n      <td>...</td>\n      <td>...</td>\n      <td>...</td>\n      <td>...</td>\n      <td>...</td>\n      <td>...</td>\n      <td>...</td>\n      <td>...</td>\n      <td>...</td>\n      <td>...</td>\n      <td>...</td>\n      <td>...</td>\n      <td>...</td>\n      <td>...</td>\n      <td>...</td>\n    </tr>\n    <tr>\n      <th>217544</th>\n      <td>North America</td>\n      <td>United States</td>\n      <td>2022-10-22</td>\n      <td>97195888.0</td>\n      <td>5316.0</td>\n      <td>1067742.0</td>\n      <td>12.0</td>\n      <td>2636.0</td>\n      <td>NaN</td>\n      <td>23063.0</td>\n      <td>...</td>\n      <td>NaN</td>\n      <td>NaN</td>\n      <td>NaN</td>\n      <td>NaN</td>\n      <td>NaN</td>\n      <td>NaN</td>\n      <td>NaN</td>\n      <td>78.860001</td>\n      <td>336997632.0</td>\n      <td>NaN</td>\n    </tr>\n    <tr>\n      <th>217545</th>\n      <td>North America</td>\n      <td>United States</td>\n      <td>2022-10-23</td>\n      <td>97203984.0</td>\n      <td>8100.0</td>\n      <td>1067743.0</td>\n      <td>1.0</td>\n      <td>2608.0</td>\n      <td>NaN</td>\n      <td>23191.0</td>\n      <td>...</td>\n      <td>NaN</td>\n      <td>NaN</td>\n      <td>NaN</td>\n      <td>NaN</td>\n      <td>NaN</td>\n      <td>NaN</td>\n      <td>NaN</td>\n      <td>78.860001</td>\n      <td>336997632.0</td>\n      <td>NaN</td>\n    </tr>\n    <tr>\n      <th>217546</th>\n      <td>North America</td>\n      <td>United States</td>\n      <td>2022-10-24</td>\n      <td>97244824.0</td>\n      <td>40839.0</td>\n      <td>1067939.0</td>\n      <td>196.0</td>\n      <td>2677.0</td>\n      <td>NaN</td>\n      <td>23302.0</td>\n      <td>...</td>\n      <td>NaN</td>\n      <td>NaN</td>\n      <td>NaN</td>\n      <td>NaN</td>\n      <td>NaN</td>\n      <td>NaN</td>\n      <td>NaN</td>\n      <td>78.860001</td>\n      <td>336997632.0</td>\n      <td>NaN</td>\n    </tr>\n    <tr>\n      <th>217547</th>\n      <td>North America</td>\n      <td>United States</td>\n      <td>2022-10-25</td>\n      <td>97273528.0</td>\n      <td>28704.0</td>\n      <td>1068354.0</td>\n      <td>415.0</td>\n      <td>2754.0</td>\n      <td>NaN</td>\n      <td>23534.0</td>\n      <td>...</td>\n      <td>NaN</td>\n      <td>NaN</td>\n      <td>NaN</td>\n      <td>NaN</td>\n      <td>NaN</td>\n      <td>NaN</td>\n      <td>NaN</td>\n      <td>78.860001</td>\n      <td>336997632.0</td>\n      <td>NaN</td>\n    </tr>\n    <tr>\n      <th>217548</th>\n      <td>North America</td>\n      <td>United States</td>\n      <td>2022-10-26</td>\n      <td>97343424.0</td>\n      <td>69897.0</td>\n      <td>1069449.0</td>\n      <td>1095.0</td>\n      <td>NaN</td>\n      <td>NaN</td>\n      <td>NaN</td>\n      <td>...</td>\n      <td>NaN</td>\n      <td>NaN</td>\n      <td>NaN</td>\n      <td>NaN</td>\n      <td>NaN</td>\n      <td>NaN</td>\n      <td>NaN</td>\n      <td>78.860001</td>\n      <td>336997632.0</td>\n      <td>NaN</td>\n    </tr>\n  </tbody>\n</table>\n<p>1009 rows × 21 columns</p>\n</div>"
     },
     "execution_count": 73,
     "metadata": {},
     "output_type": "execute_result"
    }
   ],
   "source": [
    "data_country={}\n",
    "for country in df_r.Country.unique():\n",
    "    data_country[country]=df_r[df_r.Country == country].copy()\n",
    "\n",
    "data_country['United States']"
   ],
   "metadata": {
    "collapsed": false,
    "pycharm": {
     "name": "#%%\n"
    }
   }
  },
  {
   "cell_type": "markdown",
   "source": [
    "##### 4. Cleaning our dataset.\n",
    "##### 4.1. Identify missing value or no value.\n"
   ],
   "metadata": {
    "collapsed": false,
    "pycharm": {
     "name": "#%% md\n"
    }
   }
  },
  {
   "cell_type": "code",
   "execution_count": 40,
   "outputs": [
    {
     "data": {
      "text/plain": "                total_cases  new_cases  total_deaths  new_deaths  \\\nCountry                                                            \nAfghanistan           False      False         False       False   \nAfrica                False      False         False       False   \nAlbania               False      False         False       False   \nAlgeria               False      False         False       False   \nAndorra               False      False         False       False   \n...                     ...        ...           ...         ...   \nWestern Sahara        False      False         False       False   \nWorld                 False      False         False       False   \nYemen                 False      False         False       False   \nZambia                False      False         False       False   \nZimbabwe              False      False         False       False   \n\n                icu_patients  weekly_icu_admissions  weekly_hosp_admissions  \\\nCountry                                                                       \nAfghanistan            False                  False                   False   \nAfrica                 False                  False                   False   \nAlbania                False                  False                   False   \nAlgeria                False                  False                   False   \nAndorra                False                  False                   False   \n...                      ...                    ...                     ...   \nWestern Sahara         False                  False                   False   \nWorld                  False                  False                   False   \nYemen                  False                  False                   False   \nZambia                 False                  False                   False   \nZimbabwe               False                  False                   False   \n\n                total_tests  new_tests  positive_rate  total_vaccinations  \\\nCountry                                                                     \nAfghanistan           False      False          False               False   \nAfrica                False      False          False               False   \nAlbania               False      False          False               False   \nAlgeria               False      False          False               False   \nAndorra               False      False          False               False   \n...                     ...        ...            ...                 ...   \nWestern Sahara        False      False          False               False   \nWorld                 False      False          False               False   \nYemen                 False      False          False               False   \nZambia                False      False          False               False   \nZimbabwe              False      False          False               False   \n\n                people_vaccinated  people_fully_vaccinated  total_boosters  \\\nCountry                                                                      \nAfghanistan                 False                    False           False   \nAfrica                      False                    False           False   \nAlbania                     False                    False           False   \nAlgeria                     False                    False           False   \nAndorra                     False                    False           False   \n...                           ...                      ...             ...   \nWestern Sahara              False                    False           False   \nWorld                       False                    False           False   \nYemen                       False                    False           False   \nZambia                      False                    False           False   \nZimbabwe                    False                    False           False   \n\n                new_vaccinations  life_expectancy  Total_population  \\\nCountry                                                               \nAfghanistan                False            False             False   \nAfrica                     False            False             False   \nAlbania                    False            False             False   \nAlgeria                    False            False             False   \nAndorra                    False            False             False   \n...                          ...              ...               ...   \nWestern Sahara             False            False             False   \nWorld                      False            False             False   \nYemen                      False            False             False   \nZambia                     False            False             False   \nZimbabwe                   False            False             False   \n\n                excess_mortality  \nCountry                           \nAfghanistan                False  \nAfrica                     False  \nAlbania                    False  \nAlgeria                    False  \nAndorra                    False  \n...                          ...  \nWestern Sahara             False  \nWorld                      False  \nYemen                      False  \nZambia                     False  \nZimbabwe                   False  \n\n[248 rows x 18 columns]",
      "text/html": "<div>\n<style scoped>\n    .dataframe tbody tr th:only-of-type {\n        vertical-align: middle;\n    }\n\n    .dataframe tbody tr th {\n        vertical-align: top;\n    }\n\n    .dataframe thead th {\n        text-align: right;\n    }\n</style>\n<table border=\"1\" class=\"dataframe\">\n  <thead>\n    <tr style=\"text-align: right;\">\n      <th></th>\n      <th>total_cases</th>\n      <th>new_cases</th>\n      <th>total_deaths</th>\n      <th>new_deaths</th>\n      <th>icu_patients</th>\n      <th>weekly_icu_admissions</th>\n      <th>weekly_hosp_admissions</th>\n      <th>total_tests</th>\n      <th>new_tests</th>\n      <th>positive_rate</th>\n      <th>total_vaccinations</th>\n      <th>people_vaccinated</th>\n      <th>people_fully_vaccinated</th>\n      <th>total_boosters</th>\n      <th>new_vaccinations</th>\n      <th>life_expectancy</th>\n      <th>Total_population</th>\n      <th>excess_mortality</th>\n    </tr>\n    <tr>\n      <th>Country</th>\n      <th></th>\n      <th></th>\n      <th></th>\n      <th></th>\n      <th></th>\n      <th></th>\n      <th></th>\n      <th></th>\n      <th></th>\n      <th></th>\n      <th></th>\n      <th></th>\n      <th></th>\n      <th></th>\n      <th></th>\n      <th></th>\n      <th></th>\n      <th></th>\n    </tr>\n  </thead>\n  <tbody>\n    <tr>\n      <th>Afghanistan</th>\n      <td>False</td>\n      <td>False</td>\n      <td>False</td>\n      <td>False</td>\n      <td>False</td>\n      <td>False</td>\n      <td>False</td>\n      <td>False</td>\n      <td>False</td>\n      <td>False</td>\n      <td>False</td>\n      <td>False</td>\n      <td>False</td>\n      <td>False</td>\n      <td>False</td>\n      <td>False</td>\n      <td>False</td>\n      <td>False</td>\n    </tr>\n    <tr>\n      <th>Africa</th>\n      <td>False</td>\n      <td>False</td>\n      <td>False</td>\n      <td>False</td>\n      <td>False</td>\n      <td>False</td>\n      <td>False</td>\n      <td>False</td>\n      <td>False</td>\n      <td>False</td>\n      <td>False</td>\n      <td>False</td>\n      <td>False</td>\n      <td>False</td>\n      <td>False</td>\n      <td>False</td>\n      <td>False</td>\n      <td>False</td>\n    </tr>\n    <tr>\n      <th>Albania</th>\n      <td>False</td>\n      <td>False</td>\n      <td>False</td>\n      <td>False</td>\n      <td>False</td>\n      <td>False</td>\n      <td>False</td>\n      <td>False</td>\n      <td>False</td>\n      <td>False</td>\n      <td>False</td>\n      <td>False</td>\n      <td>False</td>\n      <td>False</td>\n      <td>False</td>\n      <td>False</td>\n      <td>False</td>\n      <td>False</td>\n    </tr>\n    <tr>\n      <th>Algeria</th>\n      <td>False</td>\n      <td>False</td>\n      <td>False</td>\n      <td>False</td>\n      <td>False</td>\n      <td>False</td>\n      <td>False</td>\n      <td>False</td>\n      <td>False</td>\n      <td>False</td>\n      <td>False</td>\n      <td>False</td>\n      <td>False</td>\n      <td>False</td>\n      <td>False</td>\n      <td>False</td>\n      <td>False</td>\n      <td>False</td>\n    </tr>\n    <tr>\n      <th>Andorra</th>\n      <td>False</td>\n      <td>False</td>\n      <td>False</td>\n      <td>False</td>\n      <td>False</td>\n      <td>False</td>\n      <td>False</td>\n      <td>False</td>\n      <td>False</td>\n      <td>False</td>\n      <td>False</td>\n      <td>False</td>\n      <td>False</td>\n      <td>False</td>\n      <td>False</td>\n      <td>False</td>\n      <td>False</td>\n      <td>False</td>\n    </tr>\n    <tr>\n      <th>...</th>\n      <td>...</td>\n      <td>...</td>\n      <td>...</td>\n      <td>...</td>\n      <td>...</td>\n      <td>...</td>\n      <td>...</td>\n      <td>...</td>\n      <td>...</td>\n      <td>...</td>\n      <td>...</td>\n      <td>...</td>\n      <td>...</td>\n      <td>...</td>\n      <td>...</td>\n      <td>...</td>\n      <td>...</td>\n      <td>...</td>\n    </tr>\n    <tr>\n      <th>Western Sahara</th>\n      <td>False</td>\n      <td>False</td>\n      <td>False</td>\n      <td>False</td>\n      <td>False</td>\n      <td>False</td>\n      <td>False</td>\n      <td>False</td>\n      <td>False</td>\n      <td>False</td>\n      <td>False</td>\n      <td>False</td>\n      <td>False</td>\n      <td>False</td>\n      <td>False</td>\n      <td>False</td>\n      <td>False</td>\n      <td>False</td>\n    </tr>\n    <tr>\n      <th>World</th>\n      <td>False</td>\n      <td>False</td>\n      <td>False</td>\n      <td>False</td>\n      <td>False</td>\n      <td>False</td>\n      <td>False</td>\n      <td>False</td>\n      <td>False</td>\n      <td>False</td>\n      <td>False</td>\n      <td>False</td>\n      <td>False</td>\n      <td>False</td>\n      <td>False</td>\n      <td>False</td>\n      <td>False</td>\n      <td>False</td>\n    </tr>\n    <tr>\n      <th>Yemen</th>\n      <td>False</td>\n      <td>False</td>\n      <td>False</td>\n      <td>False</td>\n      <td>False</td>\n      <td>False</td>\n      <td>False</td>\n      <td>False</td>\n      <td>False</td>\n      <td>False</td>\n      <td>False</td>\n      <td>False</td>\n      <td>False</td>\n      <td>False</td>\n      <td>False</td>\n      <td>False</td>\n      <td>False</td>\n      <td>False</td>\n    </tr>\n    <tr>\n      <th>Zambia</th>\n      <td>False</td>\n      <td>False</td>\n      <td>False</td>\n      <td>False</td>\n      <td>False</td>\n      <td>False</td>\n      <td>False</td>\n      <td>False</td>\n      <td>False</td>\n      <td>False</td>\n      <td>False</td>\n      <td>False</td>\n      <td>False</td>\n      <td>False</td>\n      <td>False</td>\n      <td>False</td>\n      <td>False</td>\n      <td>False</td>\n    </tr>\n    <tr>\n      <th>Zimbabwe</th>\n      <td>False</td>\n      <td>False</td>\n      <td>False</td>\n      <td>False</td>\n      <td>False</td>\n      <td>False</td>\n      <td>False</td>\n      <td>False</td>\n      <td>False</td>\n      <td>False</td>\n      <td>False</td>\n      <td>False</td>\n      <td>False</td>\n      <td>False</td>\n      <td>False</td>\n      <td>False</td>\n      <td>False</td>\n      <td>False</td>\n    </tr>\n  </tbody>\n</table>\n<p>248 rows × 18 columns</p>\n</div>"
     },
     "execution_count": 40,
     "metadata": {},
     "output_type": "execute_result"
    }
   ],
   "source": [
    "#false means there is value, and true means there is no value\n",
    "df_r.isnull()"
   ],
   "metadata": {
    "collapsed": false,
    "pycharm": {
     "name": "#%%\n"
    }
   }
  },
  {
   "cell_type": "code",
   "execution_count": 41,
   "outputs": [
    {
     "name": "stdout",
     "output_type": "stream",
     "text": [
      "<bound method DataFrame.isnull of                  total_cases    new_cases  total_deaths  new_deaths  \\\n",
      "Country                                                               \n",
      "Afghanistan     1.020335e+08     202355.0  4.360715e+06      7820.0   \n",
      "Africa          6.016020e+09   12364637.0  1.389759e+08    256716.0   \n",
      "Albania         1.405036e+08     332816.0  2.000034e+06      3592.0   \n",
      "Algeria         1.461284e+08     270800.0  3.972340e+06      6881.0   \n",
      "Andorra         1.814006e+07      46449.0  1.053980e+05       157.0   \n",
      "...                      ...          ...           ...         ...   \n",
      "Western Sahara  0.000000e+00          0.0  0.000000e+00         0.0   \n",
      "World           2.281296e+11  626897280.0  3.511236e+09   6543190.0   \n",
      "Yemen           6.266904e+06      11940.0  1.223990e+06      2158.0   \n",
      "Zambia          1.504558e+08     333644.0  2.087436e+06      4017.0   \n",
      "Zimbabwe        1.052326e+08     257899.0  2.700056e+06      5606.0   \n",
      "\n",
      "                icu_patients  weekly_icu_admissions  weekly_hosp_admissions  \\\n",
      "Country                                                                       \n",
      "Afghanistan              0.0                    0.0                     0.0   \n",
      "Africa                   0.0                    0.0                     0.0   \n",
      "Albania                  0.0                    0.0                     0.0   \n",
      "Algeria              16563.0                    0.0                     0.0   \n",
      "Andorra                  0.0                    0.0                     0.0   \n",
      "...                      ...                    ...                     ...   \n",
      "Western Sahara           0.0                    0.0                     0.0   \n",
      "World                    0.0                    0.0                     0.0   \n",
      "Yemen                    0.0                    0.0                     0.0   \n",
      "Zambia                   0.0                    0.0                     0.0   \n",
      "Zimbabwe                 0.0                    0.0                     0.0   \n",
      "\n",
      "                 total_tests  new_tests  positive_rate  total_vaccinations  \\\n",
      "Country                                                                      \n",
      "Afghanistan     4.623226e+06        0.0      18.075600        3.893015e+08   \n",
      "Africa          0.000000e+00        0.0       0.000000        1.819659e+11   \n",
      "Albania         4.029439e+08  1613870.0     160.315399        3.587615e+08   \n",
      "Algeria         2.305530e+05        0.0       0.000000        2.983972e+08   \n",
      "Andorra         1.379371e+07        0.0      66.436104        4.593697e+06   \n",
      "...                      ...        ...            ...                 ...   \n",
      "Western Sahara  3.943000e+03        0.0       0.000000        0.000000e+00   \n",
      "World           0.000000e+00        0.0       0.000000        4.779781e+12   \n",
      "Yemen           6.665290e+05        0.0       0.586500        2.013002e+07   \n",
      "Zambia          1.228012e+09  3412336.0      58.268501        5.314958e+08   \n",
      "Zimbabwe        4.737699e+08  1869683.0      56.995800        3.211422e+09   \n",
      "\n",
      "                people_vaccinated  people_fully_vaccinated  total_boosters  \\\n",
      "Country                                                                      \n",
      "Afghanistan          3.386867e+08             2.967316e+08    0.000000e+00   \n",
      "Africa               1.137193e+11             8.304394e+10    8.010274e+09   \n",
      "Albania              1.788674e+08             1.511821e+08    1.364631e+07   \n",
      "Algeria              1.595409e+08             1.181399e+08    3.905993e+06   \n",
      "Andorra              2.066005e+06             1.664015e+06    6.703250e+05   \n",
      "...                           ...                      ...             ...   \n",
      "Western Sahara       0.000000e+00             0.000000e+00    0.000000e+00   \n",
      "World                2.246361e+12             1.869277e+12    5.843000e+11   \n",
      "Yemen                1.626874e+07             8.749298e+06    3.385800e+04   \n",
      "Zambia               4.173752e+07             3.314647e+08    8.514700e+04   \n",
      "Zimbabwe             1.797750e+09             1.286931e+09    1.267405e+08   \n",
      "\n",
      "                new_vaccinations  life_expectancy  Total_population  \\\n",
      "Country                                                               \n",
      "Afghanistan         2.357200e+04     63209.250000      3.909698e+10   \n",
      "Africa              6.628813e+08         0.000000      1.372901e+12   \n",
      "Albania             1.417691e+06     76527.179688      2.780487e+09   \n",
      "Algeria             1.707860e+05     74881.117188      4.302934e+10   \n",
      "Andorra             4.802000e+03     81050.640625      7.650491e+07   \n",
      "...                          ...              ...               ...   \n",
      "Western Sahara      0.000000e+00        70.260002      5.655810e+05   \n",
      "World               1.284939e+10     73160.640625      7.972569e+12   \n",
      "Yemen               0.000000e+00     61425.484375      3.063994e+10   \n",
      "Zambia              2.517495e+06     60823.281250      1.853841e+10   \n",
      "Zimbabwe            1.080139e+07     58415.500000      1.519385e+10   \n",
      "\n",
      "                excess_mortality  \n",
      "Country                           \n",
      "Afghanistan             0.000000  \n",
      "Africa                  0.000000  \n",
      "Albania               904.700012  \n",
      "Algeria               328.619995  \n",
      "Andorra               315.250000  \n",
      "...                          ...  \n",
      "Western Sahara          0.000000  \n",
      "World                   0.000000  \n",
      "Yemen                   0.000000  \n",
      "Zambia                  0.000000  \n",
      "Zimbabwe                0.000000  \n",
      "\n",
      "[248 rows x 18 columns]>\n"
     ]
    },
    {
     "ename": "AttributeError",
     "evalue": "'NoneType' object has no attribute 'sum'",
     "output_type": "error",
     "traceback": [
      "\u001B[1;31m---------------------------------------------------------------------------\u001B[0m",
      "\u001B[1;31mAttributeError\u001B[0m                            Traceback (most recent call last)",
      "Cell \u001B[1;32mIn [41], line 2\u001B[0m\n\u001B[0;32m      1\u001B[0m \u001B[38;5;66;03m#Let's count missing value in our data frame\u001B[39;00m\n\u001B[1;32m----> 2\u001B[0m \u001B[38;5;28;43mprint\u001B[39;49m\u001B[43m(\u001B[49m\u001B[43mdf_r\u001B[49m\u001B[38;5;241;43m.\u001B[39;49m\u001B[43misnull\u001B[49m\u001B[43m)\u001B[49m\u001B[38;5;241;43m.\u001B[39;49m\u001B[43msum\u001B[49m()\n",
      "\u001B[1;31mAttributeError\u001B[0m: 'NoneType' object has no attribute 'sum'"
     ]
    }
   ],
   "source": [
    "#Let's count missing value in our data frame\n",
    "print(df_r.isnull).sum()"
   ],
   "metadata": {
    "collapsed": false,
    "pycharm": {
     "name": "#%%\n"
    }
   }
  },
  {
   "cell_type": "markdown",
   "source": [
    "##### 4.2. We will replace all Missing value or NaN objects with a 0.\n",
    "##### NaN are due to lack of information,but not because of an error in that particular row"
   ],
   "metadata": {
    "collapsed": false,
    "pycharm": {
     "name": "#%% md\n"
    }
   }
  },
  {
   "cell_type": "code",
   "execution_count": 22,
   "outputs": [
    {
     "data": {
      "text/plain": "       Continent      Country        Date  total_cases  new_cases  \\\n0           Asia  Afghanistan  2020-02-24          5.0        5.0   \n1           Asia  Afghanistan  2020-02-25          5.0        0.0   \n2           Asia  Afghanistan  2020-02-26          5.0        0.0   \n3           Asia  Afghanistan  2020-02-27          5.0        0.0   \n4           Asia  Afghanistan  2020-02-28          5.0        0.0   \n...          ...          ...         ...          ...        ...   \n230215    Africa     Zimbabwe  2022-10-21     257893.0        0.0   \n230216    Africa     Zimbabwe  2022-10-22     257893.0        0.0   \n230217    Africa     Zimbabwe  2022-10-23     257893.0        0.0   \n230218    Africa     Zimbabwe  2022-10-24     257893.0        0.0   \n230219    Africa     Zimbabwe  2022-10-25     257893.0        0.0   \n\n        total_deaths  new_deaths  icu_patients  weekly_icu_admissions  \\\n0                0.0         0.0           0.0                    0.0   \n1                0.0         0.0           0.0                    0.0   \n2                0.0         0.0           0.0                    0.0   \n3                0.0         0.0           0.0                    0.0   \n4                0.0         0.0           0.0                    0.0   \n...              ...         ...           ...                    ...   \n230215        5606.0         0.0           0.0                    0.0   \n230216        5606.0         0.0           0.0                    0.0   \n230217        5606.0         0.0           0.0                    0.0   \n230218        5606.0         0.0           0.0                    0.0   \n230219        5606.0         0.0           0.0                    0.0   \n\n        weekly_hosp_admissions  ...  new_tests  positive_rate  \\\n0                          0.0  ...        0.0            0.0   \n1                          0.0  ...        0.0            0.0   \n2                          0.0  ...        0.0            0.0   \n3                          0.0  ...        0.0            0.0   \n4                          0.0  ...        0.0            0.0   \n...                        ...  ...        ...            ...   \n230215                     0.0  ...        0.0            0.0   \n230216                     0.0  ...        0.0            0.0   \n230217                     0.0  ...        0.0            0.0   \n230218                     0.0  ...        0.0            0.0   \n230219                     0.0  ...        0.0            0.0   \n\n        total_vaccinations  people_vaccinated  people_fully_vaccinated  \\\n0                      0.0                0.0                      0.0   \n1                      0.0                0.0                      0.0   \n2                      0.0                0.0                      0.0   \n3                      0.0                0.0                      0.0   \n4                      0.0                0.0                      0.0   \n...                    ...                ...                      ...   \n230215                 0.0                0.0                      0.0   \n230216                 0.0                0.0                      0.0   \n230217                 0.0                0.0                      0.0   \n230218                 0.0                0.0                      0.0   \n230219                 0.0                0.0                      0.0   \n\n        total_boosters  new_vaccinations  life_expectancy  Total_population  \\\n0                  0.0               0.0        64.830002        40099464.0   \n1                  0.0               0.0        64.830002        40099464.0   \n2                  0.0               0.0        64.830002        40099464.0   \n3                  0.0               0.0        64.830002        40099464.0   \n4                  0.0               0.0        64.830002        40099464.0   \n...                ...               ...              ...               ...   \n230215             0.0               0.0        61.490002        15993524.0   \n230216             0.0               0.0        61.490002        15993524.0   \n230217             0.0               0.0        61.490002        15993524.0   \n230218             0.0               0.0        61.490002        15993524.0   \n230219             0.0               0.0        61.490002        15993524.0   \n\n        excess_mortality  \n0                    0.0  \n1                    0.0  \n2                    0.0  \n3                    0.0  \n4                    0.0  \n...                  ...  \n230215               0.0  \n230216               0.0  \n230217               0.0  \n230218               0.0  \n230219               0.0  \n\n[230220 rows x 21 columns]",
      "text/html": "<div>\n<style scoped>\n    .dataframe tbody tr th:only-of-type {\n        vertical-align: middle;\n    }\n\n    .dataframe tbody tr th {\n        vertical-align: top;\n    }\n\n    .dataframe thead th {\n        text-align: right;\n    }\n</style>\n<table border=\"1\" class=\"dataframe\">\n  <thead>\n    <tr style=\"text-align: right;\">\n      <th></th>\n      <th>Continent</th>\n      <th>Country</th>\n      <th>Date</th>\n      <th>total_cases</th>\n      <th>new_cases</th>\n      <th>total_deaths</th>\n      <th>new_deaths</th>\n      <th>icu_patients</th>\n      <th>weekly_icu_admissions</th>\n      <th>weekly_hosp_admissions</th>\n      <th>...</th>\n      <th>new_tests</th>\n      <th>positive_rate</th>\n      <th>total_vaccinations</th>\n      <th>people_vaccinated</th>\n      <th>people_fully_vaccinated</th>\n      <th>total_boosters</th>\n      <th>new_vaccinations</th>\n      <th>life_expectancy</th>\n      <th>Total_population</th>\n      <th>excess_mortality</th>\n    </tr>\n  </thead>\n  <tbody>\n    <tr>\n      <th>0</th>\n      <td>Asia</td>\n      <td>Afghanistan</td>\n      <td>2020-02-24</td>\n      <td>5.0</td>\n      <td>5.0</td>\n      <td>0.0</td>\n      <td>0.0</td>\n      <td>0.0</td>\n      <td>0.0</td>\n      <td>0.0</td>\n      <td>...</td>\n      <td>0.0</td>\n      <td>0.0</td>\n      <td>0.0</td>\n      <td>0.0</td>\n      <td>0.0</td>\n      <td>0.0</td>\n      <td>0.0</td>\n      <td>64.830002</td>\n      <td>40099464.0</td>\n      <td>0.0</td>\n    </tr>\n    <tr>\n      <th>1</th>\n      <td>Asia</td>\n      <td>Afghanistan</td>\n      <td>2020-02-25</td>\n      <td>5.0</td>\n      <td>0.0</td>\n      <td>0.0</td>\n      <td>0.0</td>\n      <td>0.0</td>\n      <td>0.0</td>\n      <td>0.0</td>\n      <td>...</td>\n      <td>0.0</td>\n      <td>0.0</td>\n      <td>0.0</td>\n      <td>0.0</td>\n      <td>0.0</td>\n      <td>0.0</td>\n      <td>0.0</td>\n      <td>64.830002</td>\n      <td>40099464.0</td>\n      <td>0.0</td>\n    </tr>\n    <tr>\n      <th>2</th>\n      <td>Asia</td>\n      <td>Afghanistan</td>\n      <td>2020-02-26</td>\n      <td>5.0</td>\n      <td>0.0</td>\n      <td>0.0</td>\n      <td>0.0</td>\n      <td>0.0</td>\n      <td>0.0</td>\n      <td>0.0</td>\n      <td>...</td>\n      <td>0.0</td>\n      <td>0.0</td>\n      <td>0.0</td>\n      <td>0.0</td>\n      <td>0.0</td>\n      <td>0.0</td>\n      <td>0.0</td>\n      <td>64.830002</td>\n      <td>40099464.0</td>\n      <td>0.0</td>\n    </tr>\n    <tr>\n      <th>3</th>\n      <td>Asia</td>\n      <td>Afghanistan</td>\n      <td>2020-02-27</td>\n      <td>5.0</td>\n      <td>0.0</td>\n      <td>0.0</td>\n      <td>0.0</td>\n      <td>0.0</td>\n      <td>0.0</td>\n      <td>0.0</td>\n      <td>...</td>\n      <td>0.0</td>\n      <td>0.0</td>\n      <td>0.0</td>\n      <td>0.0</td>\n      <td>0.0</td>\n      <td>0.0</td>\n      <td>0.0</td>\n      <td>64.830002</td>\n      <td>40099464.0</td>\n      <td>0.0</td>\n    </tr>\n    <tr>\n      <th>4</th>\n      <td>Asia</td>\n      <td>Afghanistan</td>\n      <td>2020-02-28</td>\n      <td>5.0</td>\n      <td>0.0</td>\n      <td>0.0</td>\n      <td>0.0</td>\n      <td>0.0</td>\n      <td>0.0</td>\n      <td>0.0</td>\n      <td>...</td>\n      <td>0.0</td>\n      <td>0.0</td>\n      <td>0.0</td>\n      <td>0.0</td>\n      <td>0.0</td>\n      <td>0.0</td>\n      <td>0.0</td>\n      <td>64.830002</td>\n      <td>40099464.0</td>\n      <td>0.0</td>\n    </tr>\n    <tr>\n      <th>...</th>\n      <td>...</td>\n      <td>...</td>\n      <td>...</td>\n      <td>...</td>\n      <td>...</td>\n      <td>...</td>\n      <td>...</td>\n      <td>...</td>\n      <td>...</td>\n      <td>...</td>\n      <td>...</td>\n      <td>...</td>\n      <td>...</td>\n      <td>...</td>\n      <td>...</td>\n      <td>...</td>\n      <td>...</td>\n      <td>...</td>\n      <td>...</td>\n      <td>...</td>\n      <td>...</td>\n    </tr>\n    <tr>\n      <th>230215</th>\n      <td>Africa</td>\n      <td>Zimbabwe</td>\n      <td>2022-10-21</td>\n      <td>257893.0</td>\n      <td>0.0</td>\n      <td>5606.0</td>\n      <td>0.0</td>\n      <td>0.0</td>\n      <td>0.0</td>\n      <td>0.0</td>\n      <td>...</td>\n      <td>0.0</td>\n      <td>0.0</td>\n      <td>0.0</td>\n      <td>0.0</td>\n      <td>0.0</td>\n      <td>0.0</td>\n      <td>0.0</td>\n      <td>61.490002</td>\n      <td>15993524.0</td>\n      <td>0.0</td>\n    </tr>\n    <tr>\n      <th>230216</th>\n      <td>Africa</td>\n      <td>Zimbabwe</td>\n      <td>2022-10-22</td>\n      <td>257893.0</td>\n      <td>0.0</td>\n      <td>5606.0</td>\n      <td>0.0</td>\n      <td>0.0</td>\n      <td>0.0</td>\n      <td>0.0</td>\n      <td>...</td>\n      <td>0.0</td>\n      <td>0.0</td>\n      <td>0.0</td>\n      <td>0.0</td>\n      <td>0.0</td>\n      <td>0.0</td>\n      <td>0.0</td>\n      <td>61.490002</td>\n      <td>15993524.0</td>\n      <td>0.0</td>\n    </tr>\n    <tr>\n      <th>230217</th>\n      <td>Africa</td>\n      <td>Zimbabwe</td>\n      <td>2022-10-23</td>\n      <td>257893.0</td>\n      <td>0.0</td>\n      <td>5606.0</td>\n      <td>0.0</td>\n      <td>0.0</td>\n      <td>0.0</td>\n      <td>0.0</td>\n      <td>...</td>\n      <td>0.0</td>\n      <td>0.0</td>\n      <td>0.0</td>\n      <td>0.0</td>\n      <td>0.0</td>\n      <td>0.0</td>\n      <td>0.0</td>\n      <td>61.490002</td>\n      <td>15993524.0</td>\n      <td>0.0</td>\n    </tr>\n    <tr>\n      <th>230218</th>\n      <td>Africa</td>\n      <td>Zimbabwe</td>\n      <td>2022-10-24</td>\n      <td>257893.0</td>\n      <td>0.0</td>\n      <td>5606.0</td>\n      <td>0.0</td>\n      <td>0.0</td>\n      <td>0.0</td>\n      <td>0.0</td>\n      <td>...</td>\n      <td>0.0</td>\n      <td>0.0</td>\n      <td>0.0</td>\n      <td>0.0</td>\n      <td>0.0</td>\n      <td>0.0</td>\n      <td>0.0</td>\n      <td>61.490002</td>\n      <td>15993524.0</td>\n      <td>0.0</td>\n    </tr>\n    <tr>\n      <th>230219</th>\n      <td>Africa</td>\n      <td>Zimbabwe</td>\n      <td>2022-10-25</td>\n      <td>257893.0</td>\n      <td>0.0</td>\n      <td>5606.0</td>\n      <td>0.0</td>\n      <td>0.0</td>\n      <td>0.0</td>\n      <td>0.0</td>\n      <td>...</td>\n      <td>0.0</td>\n      <td>0.0</td>\n      <td>0.0</td>\n      <td>0.0</td>\n      <td>0.0</td>\n      <td>0.0</td>\n      <td>0.0</td>\n      <td>61.490002</td>\n      <td>15993524.0</td>\n      <td>0.0</td>\n    </tr>\n  </tbody>\n</table>\n<p>230220 rows × 21 columns</p>\n</div>"
     },
     "execution_count": 22,
     "metadata": {},
     "output_type": "execute_result"
    }
   ],
   "source": [
    "df_r.fillna(0)"
   ],
   "metadata": {
    "collapsed": false,
    "pycharm": {
     "name": "#%%\n"
    }
   }
  },
  {
   "cell_type": "code",
   "execution_count": null,
   "outputs": [],
   "source": [],
   "metadata": {
    "collapsed": false,
    "pycharm": {
     "name": "#%%\n"
    }
   }
  },
  {
   "cell_type": "markdown",
   "source": [
    "##### 4.3. We will do the data aggregation,."
   ],
   "metadata": {
    "collapsed": false,
    "pycharm": {
     "name": "#%% md\n"
    }
   }
  },
  {
   "cell_type": "code",
   "execution_count": 32,
   "outputs": [
    {
     "data": {
      "text/plain": "                 total_cases    new_cases  total_deaths  new_deaths  \\\nCountry                                                               \nAfghanistan     1.020335e+08     202355.0  4.360715e+06      7820.0   \nAfrica          6.016020e+09   12364637.0  1.389759e+08    256716.0   \nAlbania         1.405036e+08     332816.0  2.000034e+06      3592.0   \nAlgeria         1.461284e+08     270800.0  3.972340e+06      6881.0   \nAndorra         1.814006e+07      46449.0  1.053980e+05       157.0   \n...                      ...          ...           ...         ...   \nWestern Sahara  0.000000e+00          0.0  0.000000e+00         0.0   \nWorld           2.281296e+11  626897280.0  3.511236e+09   6543190.0   \nYemen           6.266904e+06      11940.0  1.223990e+06      2158.0   \nZambia          1.504558e+08     333644.0  2.087436e+06      4017.0   \nZimbabwe        1.052326e+08     257899.0  2.700056e+06      5606.0   \n\n                icu_patients  weekly_icu_admissions  weekly_hosp_admissions  \\\nCountry                                                                       \nAfghanistan              0.0                    0.0                     0.0   \nAfrica                   0.0                    0.0                     0.0   \nAlbania                  0.0                    0.0                     0.0   \nAlgeria              16563.0                    0.0                     0.0   \nAndorra                  0.0                    0.0                     0.0   \n...                      ...                    ...                     ...   \nWestern Sahara           0.0                    0.0                     0.0   \nWorld                    0.0                    0.0                     0.0   \nYemen                    0.0                    0.0                     0.0   \nZambia                   0.0                    0.0                     0.0   \nZimbabwe                 0.0                    0.0                     0.0   \n\n                 total_tests  new_tests  positive_rate  total_vaccinations  \\\nCountry                                                                      \nAfghanistan     4.623226e+06        0.0      18.075600        3.893015e+08   \nAfrica          0.000000e+00        0.0       0.000000        1.819659e+11   \nAlbania         4.029439e+08  1613870.0     160.315399        3.587615e+08   \nAlgeria         2.305530e+05        0.0       0.000000        2.983972e+08   \nAndorra         1.379371e+07        0.0      66.436104        4.593697e+06   \n...                      ...        ...            ...                 ...   \nWestern Sahara  3.943000e+03        0.0       0.000000        0.000000e+00   \nWorld           0.000000e+00        0.0       0.000000        4.779781e+12   \nYemen           6.665290e+05        0.0       0.586500        2.013002e+07   \nZambia          1.228012e+09  3412336.0      58.268501        5.314958e+08   \nZimbabwe        4.737699e+08  1869683.0      56.995800        3.211422e+09   \n\n                people_vaccinated  people_fully_vaccinated  total_boosters  \\\nCountry                                                                      \nAfghanistan          3.386867e+08             2.967316e+08    0.000000e+00   \nAfrica               1.137193e+11             8.304394e+10    8.010274e+09   \nAlbania              1.788674e+08             1.511821e+08    1.364631e+07   \nAlgeria              1.595409e+08             1.181399e+08    3.905993e+06   \nAndorra              2.066005e+06             1.664015e+06    6.703250e+05   \n...                           ...                      ...             ...   \nWestern Sahara       0.000000e+00             0.000000e+00    0.000000e+00   \nWorld                2.246361e+12             1.869277e+12    5.843000e+11   \nYemen                1.626874e+07             8.749298e+06    3.385800e+04   \nZambia               4.173752e+07             3.314647e+08    8.514700e+04   \nZimbabwe             1.797750e+09             1.286931e+09    1.267405e+08   \n\n                new_vaccinations  life_expectancy  Total_population  \\\nCountry                                                               \nAfghanistan         2.357200e+04     63209.250000      3.909698e+10   \nAfrica              6.628813e+08         0.000000      1.372901e+12   \nAlbania             1.417691e+06     76527.179688      2.780487e+09   \nAlgeria             1.707860e+05     74881.117188      4.302934e+10   \nAndorra             4.802000e+03     81050.640625      7.650491e+07   \n...                          ...              ...               ...   \nWestern Sahara      0.000000e+00        70.260002      5.655810e+05   \nWorld               1.284939e+10     73160.640625      7.972569e+12   \nYemen               0.000000e+00     61425.484375      3.063994e+10   \nZambia              2.517495e+06     60823.281250      1.853841e+10   \nZimbabwe            1.080139e+07     58415.500000      1.519385e+10   \n\n                excess_mortality  \nCountry                           \nAfghanistan             0.000000  \nAfrica                  0.000000  \nAlbania               904.700012  \nAlgeria               328.619995  \nAndorra               315.250000  \n...                          ...  \nWestern Sahara          0.000000  \nWorld                   0.000000  \nYemen                   0.000000  \nZambia                  0.000000  \nZimbabwe                0.000000  \n\n[248 rows x 18 columns]",
      "text/html": "<div>\n<style scoped>\n    .dataframe tbody tr th:only-of-type {\n        vertical-align: middle;\n    }\n\n    .dataframe tbody tr th {\n        vertical-align: top;\n    }\n\n    .dataframe thead th {\n        text-align: right;\n    }\n</style>\n<table border=\"1\" class=\"dataframe\">\n  <thead>\n    <tr style=\"text-align: right;\">\n      <th></th>\n      <th>total_cases</th>\n      <th>new_cases</th>\n      <th>total_deaths</th>\n      <th>new_deaths</th>\n      <th>icu_patients</th>\n      <th>weekly_icu_admissions</th>\n      <th>weekly_hosp_admissions</th>\n      <th>total_tests</th>\n      <th>new_tests</th>\n      <th>positive_rate</th>\n      <th>total_vaccinations</th>\n      <th>people_vaccinated</th>\n      <th>people_fully_vaccinated</th>\n      <th>total_boosters</th>\n      <th>new_vaccinations</th>\n      <th>life_expectancy</th>\n      <th>Total_population</th>\n      <th>excess_mortality</th>\n    </tr>\n    <tr>\n      <th>Country</th>\n      <th></th>\n      <th></th>\n      <th></th>\n      <th></th>\n      <th></th>\n      <th></th>\n      <th></th>\n      <th></th>\n      <th></th>\n      <th></th>\n      <th></th>\n      <th></th>\n      <th></th>\n      <th></th>\n      <th></th>\n      <th></th>\n      <th></th>\n      <th></th>\n    </tr>\n  </thead>\n  <tbody>\n    <tr>\n      <th>Afghanistan</th>\n      <td>1.020335e+08</td>\n      <td>202355.0</td>\n      <td>4.360715e+06</td>\n      <td>7820.0</td>\n      <td>0.0</td>\n      <td>0.0</td>\n      <td>0.0</td>\n      <td>4.623226e+06</td>\n      <td>0.0</td>\n      <td>18.075600</td>\n      <td>3.893015e+08</td>\n      <td>3.386867e+08</td>\n      <td>2.967316e+08</td>\n      <td>0.000000e+00</td>\n      <td>2.357200e+04</td>\n      <td>63209.250000</td>\n      <td>3.909698e+10</td>\n      <td>0.000000</td>\n    </tr>\n    <tr>\n      <th>Africa</th>\n      <td>6.016020e+09</td>\n      <td>12364637.0</td>\n      <td>1.389759e+08</td>\n      <td>256716.0</td>\n      <td>0.0</td>\n      <td>0.0</td>\n      <td>0.0</td>\n      <td>0.000000e+00</td>\n      <td>0.0</td>\n      <td>0.000000</td>\n      <td>1.819659e+11</td>\n      <td>1.137193e+11</td>\n      <td>8.304394e+10</td>\n      <td>8.010274e+09</td>\n      <td>6.628813e+08</td>\n      <td>0.000000</td>\n      <td>1.372901e+12</td>\n      <td>0.000000</td>\n    </tr>\n    <tr>\n      <th>Albania</th>\n      <td>1.405036e+08</td>\n      <td>332816.0</td>\n      <td>2.000034e+06</td>\n      <td>3592.0</td>\n      <td>0.0</td>\n      <td>0.0</td>\n      <td>0.0</td>\n      <td>4.029439e+08</td>\n      <td>1613870.0</td>\n      <td>160.315399</td>\n      <td>3.587615e+08</td>\n      <td>1.788674e+08</td>\n      <td>1.511821e+08</td>\n      <td>1.364631e+07</td>\n      <td>1.417691e+06</td>\n      <td>76527.179688</td>\n      <td>2.780487e+09</td>\n      <td>904.700012</td>\n    </tr>\n    <tr>\n      <th>Algeria</th>\n      <td>1.461284e+08</td>\n      <td>270800.0</td>\n      <td>3.972340e+06</td>\n      <td>6881.0</td>\n      <td>16563.0</td>\n      <td>0.0</td>\n      <td>0.0</td>\n      <td>2.305530e+05</td>\n      <td>0.0</td>\n      <td>0.000000</td>\n      <td>2.983972e+08</td>\n      <td>1.595409e+08</td>\n      <td>1.181399e+08</td>\n      <td>3.905993e+06</td>\n      <td>1.707860e+05</td>\n      <td>74881.117188</td>\n      <td>4.302934e+10</td>\n      <td>328.619995</td>\n    </tr>\n    <tr>\n      <th>Andorra</th>\n      <td>1.814006e+07</td>\n      <td>46449.0</td>\n      <td>1.053980e+05</td>\n      <td>157.0</td>\n      <td>0.0</td>\n      <td>0.0</td>\n      <td>0.0</td>\n      <td>1.379371e+07</td>\n      <td>0.0</td>\n      <td>66.436104</td>\n      <td>4.593697e+06</td>\n      <td>2.066005e+06</td>\n      <td>1.664015e+06</td>\n      <td>6.703250e+05</td>\n      <td>4.802000e+03</td>\n      <td>81050.640625</td>\n      <td>7.650491e+07</td>\n      <td>315.250000</td>\n    </tr>\n    <tr>\n      <th>...</th>\n      <td>...</td>\n      <td>...</td>\n      <td>...</td>\n      <td>...</td>\n      <td>...</td>\n      <td>...</td>\n      <td>...</td>\n      <td>...</td>\n      <td>...</td>\n      <td>...</td>\n      <td>...</td>\n      <td>...</td>\n      <td>...</td>\n      <td>...</td>\n      <td>...</td>\n      <td>...</td>\n      <td>...</td>\n      <td>...</td>\n    </tr>\n    <tr>\n      <th>Western Sahara</th>\n      <td>0.000000e+00</td>\n      <td>0.0</td>\n      <td>0.000000e+00</td>\n      <td>0.0</td>\n      <td>0.0</td>\n      <td>0.0</td>\n      <td>0.0</td>\n      <td>3.943000e+03</td>\n      <td>0.0</td>\n      <td>0.000000</td>\n      <td>0.000000e+00</td>\n      <td>0.000000e+00</td>\n      <td>0.000000e+00</td>\n      <td>0.000000e+00</td>\n      <td>0.000000e+00</td>\n      <td>70.260002</td>\n      <td>5.655810e+05</td>\n      <td>0.000000</td>\n    </tr>\n    <tr>\n      <th>World</th>\n      <td>2.281296e+11</td>\n      <td>626897280.0</td>\n      <td>3.511236e+09</td>\n      <td>6543190.0</td>\n      <td>0.0</td>\n      <td>0.0</td>\n      <td>0.0</td>\n      <td>0.000000e+00</td>\n      <td>0.0</td>\n      <td>0.000000</td>\n      <td>4.779781e+12</td>\n      <td>2.246361e+12</td>\n      <td>1.869277e+12</td>\n      <td>5.843000e+11</td>\n      <td>1.284939e+10</td>\n      <td>73160.640625</td>\n      <td>7.972569e+12</td>\n      <td>0.000000</td>\n    </tr>\n    <tr>\n      <th>Yemen</th>\n      <td>6.266904e+06</td>\n      <td>11940.0</td>\n      <td>1.223990e+06</td>\n      <td>2158.0</td>\n      <td>0.0</td>\n      <td>0.0</td>\n      <td>0.0</td>\n      <td>6.665290e+05</td>\n      <td>0.0</td>\n      <td>0.586500</td>\n      <td>2.013002e+07</td>\n      <td>1.626874e+07</td>\n      <td>8.749298e+06</td>\n      <td>3.385800e+04</td>\n      <td>0.000000e+00</td>\n      <td>61425.484375</td>\n      <td>3.063994e+10</td>\n      <td>0.000000</td>\n    </tr>\n    <tr>\n      <th>Zambia</th>\n      <td>1.504558e+08</td>\n      <td>333644.0</td>\n      <td>2.087436e+06</td>\n      <td>4017.0</td>\n      <td>0.0</td>\n      <td>0.0</td>\n      <td>0.0</td>\n      <td>1.228012e+09</td>\n      <td>3412336.0</td>\n      <td>58.268501</td>\n      <td>5.314958e+08</td>\n      <td>4.173752e+07</td>\n      <td>3.314647e+08</td>\n      <td>8.514700e+04</td>\n      <td>2.517495e+06</td>\n      <td>60823.281250</td>\n      <td>1.853841e+10</td>\n      <td>0.000000</td>\n    </tr>\n    <tr>\n      <th>Zimbabwe</th>\n      <td>1.052326e+08</td>\n      <td>257899.0</td>\n      <td>2.700056e+06</td>\n      <td>5606.0</td>\n      <td>0.0</td>\n      <td>0.0</td>\n      <td>0.0</td>\n      <td>4.737699e+08</td>\n      <td>1869683.0</td>\n      <td>56.995800</td>\n      <td>3.211422e+09</td>\n      <td>1.797750e+09</td>\n      <td>1.286931e+09</td>\n      <td>1.267405e+08</td>\n      <td>1.080139e+07</td>\n      <td>58415.500000</td>\n      <td>1.519385e+10</td>\n      <td>0.000000</td>\n    </tr>\n  </tbody>\n</table>\n<p>248 rows × 18 columns</p>\n</div>"
     },
     "execution_count": 32,
     "metadata": {},
     "output_type": "execute_result"
    }
   ],
   "source": [
    "df_agg = df_r.groupby('Country').agg('sum')\n",
    "df_agg"
   ],
   "metadata": {
    "collapsed": false,
    "pycharm": {
     "name": "#%%\n"
    }
   }
  },
  {
   "cell_type": "markdown",
   "source": [
    "#####  5. Let's merge three dataframes to have some relevant views ."
   ],
   "metadata": {
    "collapsed": false,
    "pycharm": {
     "name": "#%% md\n"
    }
   }
  },
  {
   "cell_type": "code",
   "execution_count": 27,
   "outputs": [
    {
     "data": {
      "text/plain": "                Continent Country  total_cases  new_cases  total_deaths  \\\nDate                                                                      \n2020-02-22  North America  Mexico          0.0        0.0           0.0   \n2020-02-23  North America  Mexico          0.0        0.0           0.0   \n2020-02-24  North America  Mexico          0.0        0.0           0.0   \n2020-02-25  North America  Mexico          0.0        0.0           0.0   \n2020-02-26  North America  Mexico          0.0        0.0           0.0   \n...                   ...     ...          ...        ...           ...   \n2022-10-21  North America  Mexico    7106018.0      453.0      330320.0   \n2022-10-22  North America  Mexico    7106018.0        0.0      330320.0   \n2022-10-23  North America  Mexico    7106865.0      847.0      330331.0   \n2022-10-24  North America  Mexico    7106865.0        0.0      330331.0   \n2022-10-25  North America  Mexico    7107987.0     1122.0      330341.0   \n\n            new_deaths  icu_patients  weekly_icu_admissions  \\\nDate                                                          \n2020-02-22         0.0           0.0                    0.0   \n2020-02-23         0.0           0.0                    0.0   \n2020-02-24         0.0           0.0                    0.0   \n2020-02-25         0.0           0.0                    0.0   \n2020-02-26         0.0           0.0                    0.0   \n...                ...           ...                    ...   \n2022-10-21        15.0           0.0                    0.0   \n2022-10-22         0.0           0.0                    0.0   \n2022-10-23        11.0           0.0                    0.0   \n2022-10-24         0.0           0.0                    0.0   \n2022-10-25        10.0           0.0                    0.0   \n\n            weekly_hosp_admissions  total_tests  ...  new_tests  \\\nDate                                             ...              \n2020-02-22                     0.0       9201.0  ...        0.0   \n2020-02-23                     0.0       9312.0  ...        0.0   \n2020-02-24                     0.0       9523.0  ...        0.0   \n2020-02-25                     0.0       9789.0  ...        0.0   \n2020-02-26                     0.0       9993.0  ...        0.0   \n...                            ...          ...  ...        ...   \n2022-10-21                     0.0          0.0  ...        0.0   \n2022-10-22                     0.0          0.0  ...        0.0   \n2022-10-23                     0.0          0.0  ...        0.0   \n2022-10-24                     0.0          0.0  ...        0.0   \n2022-10-25                     0.0          0.0  ...        0.0   \n\n            positive_rate  total_vaccinations  people_vaccinated  \\\nDate                                                               \n2020-02-22            0.0        0.000000e+00                0.0   \n2020-02-23            0.0        0.000000e+00                0.0   \n2020-02-24            0.0        0.000000e+00                0.0   \n2020-02-25            0.0        0.000000e+00                0.0   \n2020-02-26            0.0        0.000000e+00                0.0   \n...                   ...                 ...                ...   \n2022-10-21            0.0        1.092558e+09        451634272.0   \n2022-10-22            0.0        1.092564e+09        451634784.0   \n2022-10-23            0.0        1.092566e+09        451634880.0   \n2022-10-24            0.0        1.092622e+09        451660864.0   \n2022-10-25            0.0        1.092639e+09        451670144.0   \n\n            people_fully_vaccinated  total_boosters  new_vaccinations  \\\nDate                                                                    \n2020-02-22                      0.0             0.0               0.0   \n2020-02-23                      0.0             0.0               0.0   \n2020-02-24                      0.0             0.0               0.0   \n2020-02-25                      0.0             0.0               0.0   \n2020-02-26                      0.0             0.0               0.0   \n...                             ...             ...               ...   \n2022-10-21              389167200.0     248416816.0               0.0   \n2022-10-22              389167744.0     248417632.0               0.0   \n2022-10-23              389167872.0     248417888.0               0.0   \n2022-10-24              389169280.0     248446512.0               0.0   \n2022-10-25              389169408.0     248454096.0               0.0   \n\n            life_expectancy  Total_population  excess_mortality  \nDate                                                             \n2020-02-22              0.0       596315264.0               0.0  \n2020-02-23              0.0       596315264.0               0.0  \n2020-02-24              0.0       596315264.0               0.0  \n2020-02-25              0.0       596315264.0               0.0  \n2020-02-26              0.0       596315264.0               0.0  \n...                     ...               ...               ...  \n2022-10-21              0.0       596315264.0               0.0  \n2022-10-22              0.0       596315264.0               0.0  \n2022-10-23              0.0       596315264.0               0.0  \n2022-10-24              0.0       596315264.0               0.0  \n2022-10-25              0.0       596315264.0               0.0  \n\n[977 rows x 60 columns]",
      "text/html": "<div>\n<style scoped>\n    .dataframe tbody tr th:only-of-type {\n        vertical-align: middle;\n    }\n\n    .dataframe tbody tr th {\n        vertical-align: top;\n    }\n\n    .dataframe thead th {\n        text-align: right;\n    }\n</style>\n<table border=\"1\" class=\"dataframe\">\n  <thead>\n    <tr style=\"text-align: right;\">\n      <th></th>\n      <th>Continent</th>\n      <th>Country</th>\n      <th>total_cases</th>\n      <th>new_cases</th>\n      <th>total_deaths</th>\n      <th>new_deaths</th>\n      <th>icu_patients</th>\n      <th>weekly_icu_admissions</th>\n      <th>weekly_hosp_admissions</th>\n      <th>total_tests</th>\n      <th>...</th>\n      <th>new_tests</th>\n      <th>positive_rate</th>\n      <th>total_vaccinations</th>\n      <th>people_vaccinated</th>\n      <th>people_fully_vaccinated</th>\n      <th>total_boosters</th>\n      <th>new_vaccinations</th>\n      <th>life_expectancy</th>\n      <th>Total_population</th>\n      <th>excess_mortality</th>\n    </tr>\n    <tr>\n      <th>Date</th>\n      <th></th>\n      <th></th>\n      <th></th>\n      <th></th>\n      <th></th>\n      <th></th>\n      <th></th>\n      <th></th>\n      <th></th>\n      <th></th>\n      <th></th>\n      <th></th>\n      <th></th>\n      <th></th>\n      <th></th>\n      <th></th>\n      <th></th>\n      <th></th>\n      <th></th>\n      <th></th>\n      <th></th>\n    </tr>\n  </thead>\n  <tbody>\n    <tr>\n      <th>2020-02-22</th>\n      <td>North America</td>\n      <td>Mexico</td>\n      <td>0.0</td>\n      <td>0.0</td>\n      <td>0.0</td>\n      <td>0.0</td>\n      <td>0.0</td>\n      <td>0.0</td>\n      <td>0.0</td>\n      <td>9201.0</td>\n      <td>...</td>\n      <td>0.0</td>\n      <td>0.0</td>\n      <td>0.000000e+00</td>\n      <td>0.0</td>\n      <td>0.0</td>\n      <td>0.0</td>\n      <td>0.0</td>\n      <td>0.0</td>\n      <td>596315264.0</td>\n      <td>0.0</td>\n    </tr>\n    <tr>\n      <th>2020-02-23</th>\n      <td>North America</td>\n      <td>Mexico</td>\n      <td>0.0</td>\n      <td>0.0</td>\n      <td>0.0</td>\n      <td>0.0</td>\n      <td>0.0</td>\n      <td>0.0</td>\n      <td>0.0</td>\n      <td>9312.0</td>\n      <td>...</td>\n      <td>0.0</td>\n      <td>0.0</td>\n      <td>0.000000e+00</td>\n      <td>0.0</td>\n      <td>0.0</td>\n      <td>0.0</td>\n      <td>0.0</td>\n      <td>0.0</td>\n      <td>596315264.0</td>\n      <td>0.0</td>\n    </tr>\n    <tr>\n      <th>2020-02-24</th>\n      <td>North America</td>\n      <td>Mexico</td>\n      <td>0.0</td>\n      <td>0.0</td>\n      <td>0.0</td>\n      <td>0.0</td>\n      <td>0.0</td>\n      <td>0.0</td>\n      <td>0.0</td>\n      <td>9523.0</td>\n      <td>...</td>\n      <td>0.0</td>\n      <td>0.0</td>\n      <td>0.000000e+00</td>\n      <td>0.0</td>\n      <td>0.0</td>\n      <td>0.0</td>\n      <td>0.0</td>\n      <td>0.0</td>\n      <td>596315264.0</td>\n      <td>0.0</td>\n    </tr>\n    <tr>\n      <th>2020-02-25</th>\n      <td>North America</td>\n      <td>Mexico</td>\n      <td>0.0</td>\n      <td>0.0</td>\n      <td>0.0</td>\n      <td>0.0</td>\n      <td>0.0</td>\n      <td>0.0</td>\n      <td>0.0</td>\n      <td>9789.0</td>\n      <td>...</td>\n      <td>0.0</td>\n      <td>0.0</td>\n      <td>0.000000e+00</td>\n      <td>0.0</td>\n      <td>0.0</td>\n      <td>0.0</td>\n      <td>0.0</td>\n      <td>0.0</td>\n      <td>596315264.0</td>\n      <td>0.0</td>\n    </tr>\n    <tr>\n      <th>2020-02-26</th>\n      <td>North America</td>\n      <td>Mexico</td>\n      <td>0.0</td>\n      <td>0.0</td>\n      <td>0.0</td>\n      <td>0.0</td>\n      <td>0.0</td>\n      <td>0.0</td>\n      <td>0.0</td>\n      <td>9993.0</td>\n      <td>...</td>\n      <td>0.0</td>\n      <td>0.0</td>\n      <td>0.000000e+00</td>\n      <td>0.0</td>\n      <td>0.0</td>\n      <td>0.0</td>\n      <td>0.0</td>\n      <td>0.0</td>\n      <td>596315264.0</td>\n      <td>0.0</td>\n    </tr>\n    <tr>\n      <th>...</th>\n      <td>...</td>\n      <td>...</td>\n      <td>...</td>\n      <td>...</td>\n      <td>...</td>\n      <td>...</td>\n      <td>...</td>\n      <td>...</td>\n      <td>...</td>\n      <td>...</td>\n      <td>...</td>\n      <td>...</td>\n      <td>...</td>\n      <td>...</td>\n      <td>...</td>\n      <td>...</td>\n      <td>...</td>\n      <td>...</td>\n      <td>...</td>\n      <td>...</td>\n      <td>...</td>\n    </tr>\n    <tr>\n      <th>2022-10-21</th>\n      <td>North America</td>\n      <td>Mexico</td>\n      <td>7106018.0</td>\n      <td>453.0</td>\n      <td>330320.0</td>\n      <td>15.0</td>\n      <td>0.0</td>\n      <td>0.0</td>\n      <td>0.0</td>\n      <td>0.0</td>\n      <td>...</td>\n      <td>0.0</td>\n      <td>0.0</td>\n      <td>1.092558e+09</td>\n      <td>451634272.0</td>\n      <td>389167200.0</td>\n      <td>248416816.0</td>\n      <td>0.0</td>\n      <td>0.0</td>\n      <td>596315264.0</td>\n      <td>0.0</td>\n    </tr>\n    <tr>\n      <th>2022-10-22</th>\n      <td>North America</td>\n      <td>Mexico</td>\n      <td>7106018.0</td>\n      <td>0.0</td>\n      <td>330320.0</td>\n      <td>0.0</td>\n      <td>0.0</td>\n      <td>0.0</td>\n      <td>0.0</td>\n      <td>0.0</td>\n      <td>...</td>\n      <td>0.0</td>\n      <td>0.0</td>\n      <td>1.092564e+09</td>\n      <td>451634784.0</td>\n      <td>389167744.0</td>\n      <td>248417632.0</td>\n      <td>0.0</td>\n      <td>0.0</td>\n      <td>596315264.0</td>\n      <td>0.0</td>\n    </tr>\n    <tr>\n      <th>2022-10-23</th>\n      <td>North America</td>\n      <td>Mexico</td>\n      <td>7106865.0</td>\n      <td>847.0</td>\n      <td>330331.0</td>\n      <td>11.0</td>\n      <td>0.0</td>\n      <td>0.0</td>\n      <td>0.0</td>\n      <td>0.0</td>\n      <td>...</td>\n      <td>0.0</td>\n      <td>0.0</td>\n      <td>1.092566e+09</td>\n      <td>451634880.0</td>\n      <td>389167872.0</td>\n      <td>248417888.0</td>\n      <td>0.0</td>\n      <td>0.0</td>\n      <td>596315264.0</td>\n      <td>0.0</td>\n    </tr>\n    <tr>\n      <th>2022-10-24</th>\n      <td>North America</td>\n      <td>Mexico</td>\n      <td>7106865.0</td>\n      <td>0.0</td>\n      <td>330331.0</td>\n      <td>0.0</td>\n      <td>0.0</td>\n      <td>0.0</td>\n      <td>0.0</td>\n      <td>0.0</td>\n      <td>...</td>\n      <td>0.0</td>\n      <td>0.0</td>\n      <td>1.092622e+09</td>\n      <td>451660864.0</td>\n      <td>389169280.0</td>\n      <td>248446512.0</td>\n      <td>0.0</td>\n      <td>0.0</td>\n      <td>596315264.0</td>\n      <td>0.0</td>\n    </tr>\n    <tr>\n      <th>2022-10-25</th>\n      <td>North America</td>\n      <td>Mexico</td>\n      <td>7107987.0</td>\n      <td>1122.0</td>\n      <td>330341.0</td>\n      <td>10.0</td>\n      <td>0.0</td>\n      <td>0.0</td>\n      <td>0.0</td>\n      <td>0.0</td>\n      <td>...</td>\n      <td>0.0</td>\n      <td>0.0</td>\n      <td>1.092639e+09</td>\n      <td>451670144.0</td>\n      <td>389169408.0</td>\n      <td>248454096.0</td>\n      <td>0.0</td>\n      <td>0.0</td>\n      <td>596315264.0</td>\n      <td>0.0</td>\n    </tr>\n  </tbody>\n</table>\n<p>977 rows × 60 columns</p>\n</div>"
     },
     "execution_count": 27,
     "metadata": {},
     "output_type": "execute_result"
    }
   ],
   "source": [
    "#We'll compare Mexico, North America and South America data, and replace NaN with zero\n",
    "\n",
    "result = pd.concat([data_country['Mexico'].set_index('Date'), data_country['South America'].set_index('Date'),data_country['North America'].set_index('Date')], axis=1, join=\"inner\").fillna(0)\n",
    "\n",
    "result"
   ],
   "metadata": {
    "collapsed": false,
    "pycharm": {
     "name": "#%%\n"
    }
   }
  },
  {
   "cell_type": "markdown",
   "source": [
    "##### 6. Find duplicate"
   ],
   "metadata": {
    "collapsed": false,
    "pycharm": {
     "name": "#%% md\n"
    }
   }
  },
  {
   "cell_type": "code",
   "execution_count": 47,
   "outputs": [
    {
     "name": "stdout",
     "output_type": "stream",
     "text": [
      "Country\n",
      "Afghanistan       False\n",
      "Africa            False\n",
      "Albania           False\n",
      "Algeria           False\n",
      "Andorra           False\n",
      "                  ...  \n",
      "Western Sahara    False\n",
      "World             False\n",
      "Yemen             False\n",
      "Zambia            False\n",
      "Zimbabwe          False\n",
      "Length: 248, dtype: bool\n"
     ]
    }
   ],
   "source": [
    "#df.duplicated([\"Continent\"], keep=\"last\")\n",
    "print(df_r.duplicated())"
   ],
   "metadata": {
    "collapsed": false,
    "pycharm": {
     "name": "#%%\n"
    }
   }
  },
  {
   "cell_type": "markdown",
   "source": [
    "##### 7. Outlier Identification"
   ],
   "metadata": {
    "collapsed": false,
    "pycharm": {
     "name": "#%% md\n"
    }
   }
  },
  {
   "cell_type": "markdown",
   "source": [
    "##### 7.1 We will start the process of finding outliers by running the summary statistics on the variables."
   ],
   "metadata": {
    "collapsed": false,
    "pycharm": {
     "name": "#%% md\n"
    }
   }
  },
  {
   "cell_type": "code",
   "execution_count": 49,
   "outputs": [
    {
     "data": {
      "text/plain": "        total_cases    new_cases  total_deaths    new_deaths  icu_patients  \\\ncount  2.480000e+02        248.0  2.480000e+02  2.480000e+02  2.480000e+02   \nmean   3.895804e+09   10812089.0  5.912918e+07  1.102164e+05  9.521499e+04   \nstd    1.891658e+10   53344464.0  2.835444e+08  5.281191e+05  6.484753e+05   \nmin    0.000000e+00          0.0  0.000000e+00  0.000000e+00  0.000000e+00   \n25%    7.599764e+06      19291.0  7.739175e+04  1.525000e+02  0.000000e+00   \n50%    9.050864e+07     211418.5  1.153645e+06  2.208500e+03  0.000000e+00   \n75%    5.875686e+08    1695888.0  7.805548e+06  1.712250e+04  0.000000e+00   \nmax    2.281296e+11  626897280.0  3.511236e+09  6.543190e+06  9.479622e+06   \n\n       weekly_icu_admissions  weekly_hosp_admissions   total_tests  \\\ncount           2.480000e+02            2.480000e+02  2.480000e+02   \nmean            1.239288e+04            3.529808e+05  6.755762e+09   \nstd             8.273238e+04            2.649862e+06  3.150736e+10   \nmin             0.000000e+00            0.000000e+00  0.000000e+00   \n25%             0.000000e+00            0.000000e+00  6.139750e+03   \n50%             0.000000e+00            0.000000e+00  4.126010e+07   \n75%             0.000000e+00            0.000000e+00  1.879993e+09   \nmax             1.028219e+06            3.939447e+07  3.447246e+11   \n\n         new_tests  positive_rate  total_vaccinations  people_vaccinated  \\\ncount        248.0     248.000000        2.480000e+02       2.480000e+02   \nmean    20457750.0      37.969498        7.544862e+10       3.315267e+10   \nstd     89983968.0      45.913120        4.185581e+11       1.920248e+11   \nmin            0.0       0.000000        0.000000e+00       0.000000e+00   \n25%            0.0       0.000000        1.777992e+07       8.845371e+06   \n50%        44470.5      17.485450        3.692973e+08       1.993238e+08   \n75%      5530336.5      67.971975        5.545828e+09       2.364014e+09   \nmax    912769152.0     274.240997        4.779781e+12       2.246361e+12   \n\n       people_fully_vaccinated  total_boosters  new_vaccinations  \\\ncount             2.480000e+02    2.480000e+02      2.480000e+02   \nmean              2.759517e+10    8.608623e+09      2.020238e+08   \nstd               1.595995e+11    4.996776e+10      1.121391e+09   \nmin               0.000000e+00    0.000000e+00      0.000000e+00   \n25%               7.101611e+06    8.406475e+04      8.010000e+02   \n50%               1.671258e+08    7.471728e+06      2.945425e+05   \n75%               2.220108e+09    6.829929e+08      1.584962e+07   \nmax               1.869277e+12    5.843000e+11      1.284939e+10   \n\n       life_expectancy  Total_population  excess_mortality  \ncount       248.000000      2.480000e+02        248.000000  \nmean      62813.816406      1.293187e+11        447.481964  \nstd       22269.277344      6.657893e+11        892.456055  \nmin           0.000000      0.000000e+00       -200.639999  \n25%       59257.662109      5.505569e+08          0.000000  \n50%       70433.128906      5.920725e+09          0.000000  \n75%       75915.384766      2.814869e+10        560.865021  \nmax       85454.023438      7.972569e+12       6144.299805  ",
      "text/html": "<div>\n<style scoped>\n    .dataframe tbody tr th:only-of-type {\n        vertical-align: middle;\n    }\n\n    .dataframe tbody tr th {\n        vertical-align: top;\n    }\n\n    .dataframe thead th {\n        text-align: right;\n    }\n</style>\n<table border=\"1\" class=\"dataframe\">\n  <thead>\n    <tr style=\"text-align: right;\">\n      <th></th>\n      <th>total_cases</th>\n      <th>new_cases</th>\n      <th>total_deaths</th>\n      <th>new_deaths</th>\n      <th>icu_patients</th>\n      <th>weekly_icu_admissions</th>\n      <th>weekly_hosp_admissions</th>\n      <th>total_tests</th>\n      <th>new_tests</th>\n      <th>positive_rate</th>\n      <th>total_vaccinations</th>\n      <th>people_vaccinated</th>\n      <th>people_fully_vaccinated</th>\n      <th>total_boosters</th>\n      <th>new_vaccinations</th>\n      <th>life_expectancy</th>\n      <th>Total_population</th>\n      <th>excess_mortality</th>\n    </tr>\n  </thead>\n  <tbody>\n    <tr>\n      <th>count</th>\n      <td>2.480000e+02</td>\n      <td>248.0</td>\n      <td>2.480000e+02</td>\n      <td>2.480000e+02</td>\n      <td>2.480000e+02</td>\n      <td>2.480000e+02</td>\n      <td>2.480000e+02</td>\n      <td>2.480000e+02</td>\n      <td>248.0</td>\n      <td>248.000000</td>\n      <td>2.480000e+02</td>\n      <td>2.480000e+02</td>\n      <td>2.480000e+02</td>\n      <td>2.480000e+02</td>\n      <td>2.480000e+02</td>\n      <td>248.000000</td>\n      <td>2.480000e+02</td>\n      <td>248.000000</td>\n    </tr>\n    <tr>\n      <th>mean</th>\n      <td>3.895804e+09</td>\n      <td>10812089.0</td>\n      <td>5.912918e+07</td>\n      <td>1.102164e+05</td>\n      <td>9.521499e+04</td>\n      <td>1.239288e+04</td>\n      <td>3.529808e+05</td>\n      <td>6.755762e+09</td>\n      <td>20457750.0</td>\n      <td>37.969498</td>\n      <td>7.544862e+10</td>\n      <td>3.315267e+10</td>\n      <td>2.759517e+10</td>\n      <td>8.608623e+09</td>\n      <td>2.020238e+08</td>\n      <td>62813.816406</td>\n      <td>1.293187e+11</td>\n      <td>447.481964</td>\n    </tr>\n    <tr>\n      <th>std</th>\n      <td>1.891658e+10</td>\n      <td>53344464.0</td>\n      <td>2.835444e+08</td>\n      <td>5.281191e+05</td>\n      <td>6.484753e+05</td>\n      <td>8.273238e+04</td>\n      <td>2.649862e+06</td>\n      <td>3.150736e+10</td>\n      <td>89983968.0</td>\n      <td>45.913120</td>\n      <td>4.185581e+11</td>\n      <td>1.920248e+11</td>\n      <td>1.595995e+11</td>\n      <td>4.996776e+10</td>\n      <td>1.121391e+09</td>\n      <td>22269.277344</td>\n      <td>6.657893e+11</td>\n      <td>892.456055</td>\n    </tr>\n    <tr>\n      <th>min</th>\n      <td>0.000000e+00</td>\n      <td>0.0</td>\n      <td>0.000000e+00</td>\n      <td>0.000000e+00</td>\n      <td>0.000000e+00</td>\n      <td>0.000000e+00</td>\n      <td>0.000000e+00</td>\n      <td>0.000000e+00</td>\n      <td>0.0</td>\n      <td>0.000000</td>\n      <td>0.000000e+00</td>\n      <td>0.000000e+00</td>\n      <td>0.000000e+00</td>\n      <td>0.000000e+00</td>\n      <td>0.000000e+00</td>\n      <td>0.000000</td>\n      <td>0.000000e+00</td>\n      <td>-200.639999</td>\n    </tr>\n    <tr>\n      <th>25%</th>\n      <td>7.599764e+06</td>\n      <td>19291.0</td>\n      <td>7.739175e+04</td>\n      <td>1.525000e+02</td>\n      <td>0.000000e+00</td>\n      <td>0.000000e+00</td>\n      <td>0.000000e+00</td>\n      <td>6.139750e+03</td>\n      <td>0.0</td>\n      <td>0.000000</td>\n      <td>1.777992e+07</td>\n      <td>8.845371e+06</td>\n      <td>7.101611e+06</td>\n      <td>8.406475e+04</td>\n      <td>8.010000e+02</td>\n      <td>59257.662109</td>\n      <td>5.505569e+08</td>\n      <td>0.000000</td>\n    </tr>\n    <tr>\n      <th>50%</th>\n      <td>9.050864e+07</td>\n      <td>211418.5</td>\n      <td>1.153645e+06</td>\n      <td>2.208500e+03</td>\n      <td>0.000000e+00</td>\n      <td>0.000000e+00</td>\n      <td>0.000000e+00</td>\n      <td>4.126010e+07</td>\n      <td>44470.5</td>\n      <td>17.485450</td>\n      <td>3.692973e+08</td>\n      <td>1.993238e+08</td>\n      <td>1.671258e+08</td>\n      <td>7.471728e+06</td>\n      <td>2.945425e+05</td>\n      <td>70433.128906</td>\n      <td>5.920725e+09</td>\n      <td>0.000000</td>\n    </tr>\n    <tr>\n      <th>75%</th>\n      <td>5.875686e+08</td>\n      <td>1695888.0</td>\n      <td>7.805548e+06</td>\n      <td>1.712250e+04</td>\n      <td>0.000000e+00</td>\n      <td>0.000000e+00</td>\n      <td>0.000000e+00</td>\n      <td>1.879993e+09</td>\n      <td>5530336.5</td>\n      <td>67.971975</td>\n      <td>5.545828e+09</td>\n      <td>2.364014e+09</td>\n      <td>2.220108e+09</td>\n      <td>6.829929e+08</td>\n      <td>1.584962e+07</td>\n      <td>75915.384766</td>\n      <td>2.814869e+10</td>\n      <td>560.865021</td>\n    </tr>\n    <tr>\n      <th>max</th>\n      <td>2.281296e+11</td>\n      <td>626897280.0</td>\n      <td>3.511236e+09</td>\n      <td>6.543190e+06</td>\n      <td>9.479622e+06</td>\n      <td>1.028219e+06</td>\n      <td>3.939447e+07</td>\n      <td>3.447246e+11</td>\n      <td>912769152.0</td>\n      <td>274.240997</td>\n      <td>4.779781e+12</td>\n      <td>2.246361e+12</td>\n      <td>1.869277e+12</td>\n      <td>5.843000e+11</td>\n      <td>1.284939e+10</td>\n      <td>85454.023438</td>\n      <td>7.972569e+12</td>\n      <td>6144.299805</td>\n    </tr>\n  </tbody>\n</table>\n</div>"
     },
     "execution_count": 49,
     "metadata": {},
     "output_type": "execute_result"
    }
   ],
   "source": [
    "df_r.describe()"
   ],
   "metadata": {
    "collapsed": false,
    "pycharm": {
     "name": "#%%\n"
    }
   }
  },
  {
   "cell_type": "markdown",
   "source": [
    "##### 7.2 Identifying Outliers with Interquartile Range (IQR).                                                                 It is represented by the formula IQR = Q3 − Q1. The lines of code below calculate and print the interquartile range for each of the variables in the dataset."
   ],
   "metadata": {
    "collapsed": false,
    "pycharm": {
     "name": "#%% md\n"
    }
   }
  },
  {
   "cell_type": "code",
   "execution_count": 37,
   "outputs": [
    {
     "name": "stdout",
     "output_type": "stream",
     "text": [
      "total_cases                5.799688e+08\n",
      "new_cases                  1.676597e+06\n",
      "total_deaths               7.728157e+06\n",
      "new_deaths                 1.697000e+04\n",
      "icu_patients               0.000000e+00\n",
      "weekly_icu_admissions      0.000000e+00\n",
      "weekly_hosp_admissions     0.000000e+00\n",
      "total_tests                1.879987e+09\n",
      "new_tests                  5.530336e+06\n",
      "positive_rate              6.797198e+01\n",
      "total_vaccinations         5.528048e+09\n",
      "people_vaccinated          2.355169e+09\n",
      "people_fully_vaccinated    2.213006e+09\n",
      "total_boosters             6.829088e+08\n",
      "new_vaccinations           1.584882e+07\n",
      "life_expectancy            1.665772e+04\n",
      "Total_population           2.759814e+10\n",
      "excess_mortality           5.608650e+02\n",
      "dtype: float64\n"
     ]
    }
   ],
   "source": [
    "Q1 = df_r.quantile(0.25)\n",
    "Q3 = df_r.quantile(0.75)\n",
    "IQR = Q3 - Q1\n",
    "print(IQR)"
   ],
   "metadata": {
    "collapsed": false,
    "pycharm": {
     "name": "#%%\n"
    }
   }
  },
  {
   "cell_type": "markdown",
   "source": [
    "##### The above output prints the IQR scores, which can be used to detect outliers. The code below generates an output with the 'True' and 'False' values. Points where the values are 'True' represent the presence of the outlier."
   ],
   "metadata": {
    "collapsed": false,
    "pycharm": {
     "name": "#%% md\n"
    }
   }
  },
  {
   "cell_type": "code",
   "execution_count": 115,
   "outputs": [
    {
     "name": "stderr",
     "output_type": "stream",
     "text": [
      "C:\\Users\\jeroc\\AppData\\Local\\Temp\\ipykernel_10608\\1252664437.py:1: FutureWarning: Automatic reindexing on DataFrame vs Series comparisons is deprecated and will raise ValueError in a future version. Do `left, right = left.align(right, axis=1, copy=False)` before e.g. `left == right`\n",
      "  print(df < (Q1 - 1.5 * IQR)) |(df > (Q3 + 1.5 * IQR))\n"
     ]
    },
    {
     "name": "stdout",
     "output_type": "stream",
     "text": [
      "        Total_population  aged_65_older  aged_70_older  cardiovasc_death_rate  \\\n",
      "0                  False          False          False                  False   \n",
      "1                  False          False          False                  False   \n",
      "2                  False          False          False                  False   \n",
      "3                  False          False          False                  False   \n",
      "4                  False          False          False                  False   \n",
      "...                  ...            ...            ...                    ...   \n",
      "220562             False          False          False                  False   \n",
      "220563             False          False          False                  False   \n",
      "220564             False          False          False                  False   \n",
      "220565             False          False          False                  False   \n",
      "220566             False          False          False                  False   \n",
      "\n",
      "        continent   date  diabetes_prevalence  excess_mortality  \\\n",
      "0           False  False                False             False   \n",
      "1           False  False                False             False   \n",
      "2           False  False                False             False   \n",
      "3           False  False                False             False   \n",
      "4           False  False                False             False   \n",
      "...           ...    ...                  ...               ...   \n",
      "220562      False  False                False             False   \n",
      "220563      False  False                False             False   \n",
      "220564      False  False                False             False   \n",
      "220565      False  False                False             False   \n",
      "220566      False  False                False             False   \n",
      "\n",
      "        excess_mortality_cumulative  excess_mortality_cumulative_absolute  \\\n",
      "0                             False                                 False   \n",
      "1                             False                                 False   \n",
      "2                             False                                 False   \n",
      "3                             False                                 False   \n",
      "4                             False                                 False   \n",
      "...                             ...                                   ...   \n",
      "220562                        False                                 False   \n",
      "220563                        False                                 False   \n",
      "220564                        False                                 False   \n",
      "220565                        False                                 False   \n",
      "220566                        False                                 False   \n",
      "\n",
      "        ...  total_deaths  total_deaths_per_million  total_tests  \\\n",
      "0       ...         False                     False        False   \n",
      "1       ...         False                     False        False   \n",
      "2       ...         False                     False        False   \n",
      "3       ...         False                     False        False   \n",
      "4       ...         False                     False        False   \n",
      "...     ...           ...                       ...          ...   \n",
      "220562  ...         False                     False        False   \n",
      "220563  ...         False                     False        False   \n",
      "220564  ...         False                     False        False   \n",
      "220565  ...         False                     False        False   \n",
      "220566  ...         False                     False        False   \n",
      "\n",
      "        total_tests_per_thousand  total_vaccinations  \\\n",
      "0                          False               False   \n",
      "1                          False               False   \n",
      "2                          False               False   \n",
      "3                          False               False   \n",
      "4                          False               False   \n",
      "...                          ...                 ...   \n",
      "220562                     False               False   \n",
      "220563                     False               False   \n",
      "220564                     False               False   \n",
      "220565                     False               False   \n",
      "220566                     False               False   \n",
      "\n",
      "        total_vaccinations_per_hundred  weekly_hosp_admissions  \\\n",
      "0                                False                   False   \n",
      "1                                False                   False   \n",
      "2                                False                   False   \n",
      "3                                False                   False   \n",
      "4                                False                   False   \n",
      "...                                ...                     ...   \n",
      "220562                           False                   False   \n",
      "220563                           False                   False   \n",
      "220564                           False                   False   \n",
      "220565                           False                   False   \n",
      "220566                           False                   False   \n",
      "\n",
      "        weekly_hosp_admissions_per_million  weekly_icu_admissions  \\\n",
      "0                                    False                  False   \n",
      "1                                    False                  False   \n",
      "2                                    False                  False   \n",
      "3                                    False                  False   \n",
      "4                                    False                  False   \n",
      "...                                    ...                    ...   \n",
      "220562                               False                  False   \n",
      "220563                               False                  False   \n",
      "220564                               False                  False   \n",
      "220565                               False                  False   \n",
      "220566                               False                  False   \n",
      "\n",
      "        weekly_icu_admissions_per_million  \n",
      "0                                   False  \n",
      "1                                   False  \n",
      "2                                   False  \n",
      "3                                   False  \n",
      "4                                   False  \n",
      "...                                   ...  \n",
      "220562                              False  \n",
      "220563                              False  \n",
      "220564                              False  \n",
      "220565                              False  \n",
      "220566                              False  \n",
      "\n",
      "[220567 rows x 68 columns]\n"
     ]
    },
    {
     "name": "stderr",
     "output_type": "stream",
     "text": [
      "C:\\Users\\jeroc\\AppData\\Local\\Temp\\ipykernel_10608\\1252664437.py:1: FutureWarning: Automatic reindexing on DataFrame vs Series comparisons is deprecated and will raise ValueError in a future version. Do `left, right = left.align(right, axis=1, copy=False)` before e.g. `left == right`\n",
      "  print(df < (Q1 - 1.5 * IQR)) |(df > (Q3 + 1.5 * IQR))\n"
     ]
    },
    {
     "ename": "TypeError",
     "evalue": "Cannot perform 'ror_' with a dtyped [bool] array and scalar of type [NoneType]",
     "output_type": "error",
     "traceback": [
      "\u001B[1;31m---------------------------------------------------------------------------\u001B[0m",
      "\u001B[1;31mTypeError\u001B[0m                                 Traceback (most recent call last)",
      "File \u001B[1;32m~\\Python\\Python310\\lib\\site-packages\\pandas\\core\\ops\\array_ops.py:305\u001B[0m, in \u001B[0;36mna_logical_op\u001B[1;34m(x, y, op)\u001B[0m\n\u001B[0;32m    296\u001B[0m \u001B[38;5;28;01mtry\u001B[39;00m:\n\u001B[0;32m    297\u001B[0m     \u001B[38;5;66;03m# For exposition, write:\u001B[39;00m\n\u001B[0;32m    298\u001B[0m     \u001B[38;5;66;03m#  yarr = isinstance(y, np.ndarray)\u001B[39;00m\n\u001B[1;32m   (...)\u001B[0m\n\u001B[0;32m    303\u001B[0m     \u001B[38;5;66;03m# Then Cases where this goes through without raising include:\u001B[39;00m\n\u001B[0;32m    304\u001B[0m     \u001B[38;5;66;03m#  (xint or xbool) and (yint or bool)\u001B[39;00m\n\u001B[1;32m--> 305\u001B[0m     result \u001B[38;5;241m=\u001B[39m \u001B[43mop\u001B[49m\u001B[43m(\u001B[49m\u001B[43mx\u001B[49m\u001B[43m,\u001B[49m\u001B[43m \u001B[49m\u001B[43my\u001B[49m\u001B[43m)\u001B[49m\n\u001B[0;32m    306\u001B[0m \u001B[38;5;28;01mexcept\u001B[39;00m \u001B[38;5;167;01mTypeError\u001B[39;00m:\n",
      "File \u001B[1;32m~\\Python\\Python310\\lib\\site-packages\\pandas\\core\\roperator.py:58\u001B[0m, in \u001B[0;36mror_\u001B[1;34m(left, right)\u001B[0m\n\u001B[0;32m     57\u001B[0m \u001B[38;5;28;01mdef\u001B[39;00m \u001B[38;5;21mror_\u001B[39m(left, right):\n\u001B[1;32m---> 58\u001B[0m     \u001B[38;5;28;01mreturn\u001B[39;00m \u001B[43moperator\u001B[49m\u001B[38;5;241;43m.\u001B[39;49m\u001B[43mor_\u001B[49m\u001B[43m(\u001B[49m\u001B[43mright\u001B[49m\u001B[43m,\u001B[49m\u001B[43m \u001B[49m\u001B[43mleft\u001B[49m\u001B[43m)\u001B[49m\n",
      "\u001B[1;31mTypeError\u001B[0m: unsupported operand type(s) for |: 'NoneType' and 'bool'",
      "\nDuring handling of the above exception, another exception occurred:\n",
      "\u001B[1;31mValueError\u001B[0m                                Traceback (most recent call last)",
      "File \u001B[1;32m~\\Python\\Python310\\lib\\site-packages\\pandas\\core\\ops\\array_ops.py:319\u001B[0m, in \u001B[0;36mna_logical_op\u001B[1;34m(x, y, op)\u001B[0m\n\u001B[0;32m    318\u001B[0m \u001B[38;5;28;01mtry\u001B[39;00m:\n\u001B[1;32m--> 319\u001B[0m     result \u001B[38;5;241m=\u001B[39m \u001B[43mlibops\u001B[49m\u001B[38;5;241;43m.\u001B[39;49m\u001B[43mscalar_binop\u001B[49m\u001B[43m(\u001B[49m\u001B[43mx\u001B[49m\u001B[43m,\u001B[49m\u001B[43m \u001B[49m\u001B[43my\u001B[49m\u001B[43m,\u001B[49m\u001B[43m \u001B[49m\u001B[43mop\u001B[49m\u001B[43m)\u001B[49m\n\u001B[0;32m    320\u001B[0m \u001B[38;5;28;01mexcept\u001B[39;00m (\n\u001B[0;32m    321\u001B[0m     \u001B[38;5;167;01mTypeError\u001B[39;00m,\n\u001B[0;32m    322\u001B[0m     \u001B[38;5;167;01mValueError\u001B[39;00m,\n\u001B[1;32m   (...)\u001B[0m\n\u001B[0;32m    325\u001B[0m     \u001B[38;5;167;01mNotImplementedError\u001B[39;00m,\n\u001B[0;32m    326\u001B[0m ) \u001B[38;5;28;01mas\u001B[39;00m err:\n",
      "File \u001B[1;32m~\\Python\\Python310\\lib\\site-packages\\pandas\\_libs\\ops.pyx:180\u001B[0m, in \u001B[0;36mpandas._libs.ops.scalar_binop\u001B[1;34m()\u001B[0m\n",
      "\u001B[1;31mValueError\u001B[0m: Buffer has wrong number of dimensions (expected 1, got 2)",
      "\nThe above exception was the direct cause of the following exception:\n",
      "\u001B[1;31mTypeError\u001B[0m                                 Traceback (most recent call last)",
      "Cell \u001B[1;32mIn [115], line 1\u001B[0m\n\u001B[1;32m----> 1\u001B[0m \u001B[38;5;28;43mprint\u001B[39;49m\u001B[43m(\u001B[49m\u001B[43mdf\u001B[49m\u001B[43m \u001B[49m\u001B[38;5;241;43m<\u001B[39;49m\u001B[43m \u001B[49m\u001B[43m(\u001B[49m\u001B[43mQ1\u001B[49m\u001B[43m \u001B[49m\u001B[38;5;241;43m-\u001B[39;49m\u001B[43m \u001B[49m\u001B[38;5;241;43m1.5\u001B[39;49m\u001B[43m \u001B[49m\u001B[38;5;241;43m*\u001B[39;49m\u001B[43m \u001B[49m\u001B[43mIQR\u001B[49m\u001B[43m)\u001B[49m\u001B[43m)\u001B[49m\u001B[43m \u001B[49m\u001B[38;5;241;43m|\u001B[39;49m\u001B[43m(\u001B[49m\u001B[43mdf\u001B[49m\u001B[43m \u001B[49m\u001B[38;5;241;43m>\u001B[39;49m\u001B[43m \u001B[49m\u001B[43m(\u001B[49m\u001B[43mQ3\u001B[49m\u001B[43m \u001B[49m\u001B[38;5;241;43m+\u001B[39;49m\u001B[43m \u001B[49m\u001B[38;5;241;43m1.5\u001B[39;49m\u001B[43m \u001B[49m\u001B[38;5;241;43m*\u001B[39;49m\u001B[43m \u001B[49m\u001B[43mIQR\u001B[49m\u001B[43m)\u001B[49m\u001B[43m)\u001B[49m\n",
      "File \u001B[1;32m~\\Python\\Python310\\lib\\site-packages\\pandas\\core\\ops\\common.py:72\u001B[0m, in \u001B[0;36m_unpack_zerodim_and_defer.<locals>.new_method\u001B[1;34m(self, other)\u001B[0m\n\u001B[0;32m     68\u001B[0m             \u001B[38;5;28;01mreturn\u001B[39;00m \u001B[38;5;28mNotImplemented\u001B[39m\n\u001B[0;32m     70\u001B[0m other \u001B[38;5;241m=\u001B[39m item_from_zerodim(other)\n\u001B[1;32m---> 72\u001B[0m \u001B[38;5;28;01mreturn\u001B[39;00m \u001B[43mmethod\u001B[49m\u001B[43m(\u001B[49m\u001B[38;5;28;43mself\u001B[39;49m\u001B[43m,\u001B[49m\u001B[43m \u001B[49m\u001B[43mother\u001B[49m\u001B[43m)\u001B[49m\n",
      "File \u001B[1;32m~\\Python\\Python310\\lib\\site-packages\\pandas\\core\\arraylike.py:85\u001B[0m, in \u001B[0;36mOpsMixin.__ror__\u001B[1;34m(self, other)\u001B[0m\n\u001B[0;32m     83\u001B[0m \u001B[38;5;129m@unpack_zerodim_and_defer\u001B[39m(\u001B[38;5;124m\"\u001B[39m\u001B[38;5;124m__ror__\u001B[39m\u001B[38;5;124m\"\u001B[39m)\n\u001B[0;32m     84\u001B[0m \u001B[38;5;28;01mdef\u001B[39;00m \u001B[38;5;21m__ror__\u001B[39m(\u001B[38;5;28mself\u001B[39m, other):\n\u001B[1;32m---> 85\u001B[0m     \u001B[38;5;28;01mreturn\u001B[39;00m \u001B[38;5;28;43mself\u001B[39;49m\u001B[38;5;241;43m.\u001B[39;49m\u001B[43m_logical_method\u001B[49m\u001B[43m(\u001B[49m\u001B[43mother\u001B[49m\u001B[43m,\u001B[49m\u001B[43m \u001B[49m\u001B[43mroperator\u001B[49m\u001B[38;5;241;43m.\u001B[39;49m\u001B[43mror_\u001B[49m\u001B[43m)\u001B[49m\n",
      "File \u001B[1;32m~\\Python\\Python310\\lib\\site-packages\\pandas\\core\\frame.py:7586\u001B[0m, in \u001B[0;36mDataFrame._arith_method\u001B[1;34m(self, other, op)\u001B[0m\n\u001B[0;32m   7582\u001B[0m other \u001B[38;5;241m=\u001B[39m ops\u001B[38;5;241m.\u001B[39mmaybe_prepare_scalar_for_op(other, (\u001B[38;5;28mself\u001B[39m\u001B[38;5;241m.\u001B[39mshape[axis],))\n\u001B[0;32m   7584\u001B[0m \u001B[38;5;28mself\u001B[39m, other \u001B[38;5;241m=\u001B[39m ops\u001B[38;5;241m.\u001B[39malign_method_FRAME(\u001B[38;5;28mself\u001B[39m, other, axis, flex\u001B[38;5;241m=\u001B[39m\u001B[38;5;28;01mTrue\u001B[39;00m, level\u001B[38;5;241m=\u001B[39m\u001B[38;5;28;01mNone\u001B[39;00m)\n\u001B[1;32m-> 7586\u001B[0m new_data \u001B[38;5;241m=\u001B[39m \u001B[38;5;28;43mself\u001B[39;49m\u001B[38;5;241;43m.\u001B[39;49m\u001B[43m_dispatch_frame_op\u001B[49m\u001B[43m(\u001B[49m\u001B[43mother\u001B[49m\u001B[43m,\u001B[49m\u001B[43m \u001B[49m\u001B[43mop\u001B[49m\u001B[43m,\u001B[49m\u001B[43m \u001B[49m\u001B[43maxis\u001B[49m\u001B[38;5;241;43m=\u001B[39;49m\u001B[43maxis\u001B[49m\u001B[43m)\u001B[49m\n\u001B[0;32m   7587\u001B[0m \u001B[38;5;28;01mreturn\u001B[39;00m \u001B[38;5;28mself\u001B[39m\u001B[38;5;241m.\u001B[39m_construct_result(new_data)\n",
      "File \u001B[1;32m~\\Python\\Python310\\lib\\site-packages\\pandas\\core\\frame.py:7613\u001B[0m, in \u001B[0;36mDataFrame._dispatch_frame_op\u001B[1;34m(self, right, func, axis)\u001B[0m\n\u001B[0;32m   7610\u001B[0m \u001B[38;5;28;01mif\u001B[39;00m \u001B[38;5;129;01mnot\u001B[39;00m is_list_like(right):\n\u001B[0;32m   7611\u001B[0m     \u001B[38;5;66;03m# i.e. scalar, faster than checking np.ndim(right) == 0\u001B[39;00m\n\u001B[0;32m   7612\u001B[0m     \u001B[38;5;28;01mwith\u001B[39;00m np\u001B[38;5;241m.\u001B[39merrstate(\u001B[38;5;28mall\u001B[39m\u001B[38;5;241m=\u001B[39m\u001B[38;5;124m\"\u001B[39m\u001B[38;5;124mignore\u001B[39m\u001B[38;5;124m\"\u001B[39m):\n\u001B[1;32m-> 7613\u001B[0m         bm \u001B[38;5;241m=\u001B[39m \u001B[38;5;28;43mself\u001B[39;49m\u001B[38;5;241;43m.\u001B[39;49m\u001B[43m_mgr\u001B[49m\u001B[38;5;241;43m.\u001B[39;49m\u001B[43mapply\u001B[49m\u001B[43m(\u001B[49m\u001B[43marray_op\u001B[49m\u001B[43m,\u001B[49m\u001B[43m \u001B[49m\u001B[43mright\u001B[49m\u001B[38;5;241;43m=\u001B[39;49m\u001B[43mright\u001B[49m\u001B[43m)\u001B[49m\n\u001B[0;32m   7614\u001B[0m     \u001B[38;5;28;01mreturn\u001B[39;00m \u001B[38;5;28mself\u001B[39m\u001B[38;5;241m.\u001B[39m_constructor(bm)\n\u001B[0;32m   7616\u001B[0m \u001B[38;5;28;01melif\u001B[39;00m \u001B[38;5;28misinstance\u001B[39m(right, DataFrame):\n",
      "File \u001B[1;32m~\\Python\\Python310\\lib\\site-packages\\pandas\\core\\internals\\managers.py:346\u001B[0m, in \u001B[0;36mBaseBlockManager.apply\u001B[1;34m(self, f, align_keys, ignore_failures, **kwargs)\u001B[0m\n\u001B[0;32m    344\u001B[0m \u001B[38;5;28;01mtry\u001B[39;00m:\n\u001B[0;32m    345\u001B[0m     \u001B[38;5;28;01mif\u001B[39;00m callable(f):\n\u001B[1;32m--> 346\u001B[0m         applied \u001B[38;5;241m=\u001B[39m b\u001B[38;5;241m.\u001B[39mapply(f, \u001B[38;5;241m*\u001B[39m\u001B[38;5;241m*\u001B[39mkwargs)\n\u001B[0;32m    347\u001B[0m     \u001B[38;5;28;01melse\u001B[39;00m:\n\u001B[0;32m    348\u001B[0m         applied \u001B[38;5;241m=\u001B[39m \u001B[38;5;28mgetattr\u001B[39m(b, f)(\u001B[38;5;241m*\u001B[39m\u001B[38;5;241m*\u001B[39mkwargs)\n",
      "File \u001B[1;32m~\\Python\\Python310\\lib\\site-packages\\pandas\\core\\internals\\blocks.py:352\u001B[0m, in \u001B[0;36mBlock.apply\u001B[1;34m(self, func, **kwargs)\u001B[0m\n\u001B[0;32m    346\u001B[0m \u001B[38;5;129m@final\u001B[39m\n\u001B[0;32m    347\u001B[0m \u001B[38;5;28;01mdef\u001B[39;00m \u001B[38;5;21mapply\u001B[39m(\u001B[38;5;28mself\u001B[39m, func, \u001B[38;5;241m*\u001B[39m\u001B[38;5;241m*\u001B[39mkwargs) \u001B[38;5;241m-\u001B[39m\u001B[38;5;241m>\u001B[39m \u001B[38;5;28mlist\u001B[39m[Block]:\n\u001B[0;32m    348\u001B[0m     \u001B[38;5;124;03m\"\"\"\u001B[39;00m\n\u001B[0;32m    349\u001B[0m \u001B[38;5;124;03m    apply the function to my values; return a block if we are not\u001B[39;00m\n\u001B[0;32m    350\u001B[0m \u001B[38;5;124;03m    one\u001B[39;00m\n\u001B[0;32m    351\u001B[0m \u001B[38;5;124;03m    \"\"\"\u001B[39;00m\n\u001B[1;32m--> 352\u001B[0m     result \u001B[38;5;241m=\u001B[39m func(\u001B[38;5;28mself\u001B[39m\u001B[38;5;241m.\u001B[39mvalues, \u001B[38;5;241m*\u001B[39m\u001B[38;5;241m*\u001B[39mkwargs)\n\u001B[0;32m    354\u001B[0m     \u001B[38;5;28;01mreturn\u001B[39;00m \u001B[38;5;28mself\u001B[39m\u001B[38;5;241m.\u001B[39m_split_op_result(result)\n",
      "File \u001B[1;32m~\\Python\\Python310\\lib\\site-packages\\pandas\\core\\ops\\array_ops.py:395\u001B[0m, in \u001B[0;36mlogical_op\u001B[1;34m(left, right, op)\u001B[0m\n\u001B[0;32m    391\u001B[0m \u001B[38;5;66;03m# For int vs int `^`, `|`, `&` are bitwise operators and return\u001B[39;00m\n\u001B[0;32m    392\u001B[0m \u001B[38;5;66;03m#   integer dtypes.  Otherwise these are boolean ops\u001B[39;00m\n\u001B[0;32m    393\u001B[0m filler \u001B[38;5;241m=\u001B[39m fill_int \u001B[38;5;28;01mif\u001B[39;00m is_self_int_dtype \u001B[38;5;129;01mand\u001B[39;00m is_other_int_dtype \u001B[38;5;28;01melse\u001B[39;00m fill_bool\n\u001B[1;32m--> 395\u001B[0m res_values \u001B[38;5;241m=\u001B[39m \u001B[43mna_logical_op\u001B[49m\u001B[43m(\u001B[49m\u001B[43mlvalues\u001B[49m\u001B[43m,\u001B[49m\u001B[43m \u001B[49m\u001B[43mrvalues\u001B[49m\u001B[43m,\u001B[49m\u001B[43m \u001B[49m\u001B[43mop\u001B[49m\u001B[43m)\u001B[49m\n\u001B[0;32m    396\u001B[0m \u001B[38;5;66;03m# error: Cannot call function of unknown type\u001B[39;00m\n\u001B[0;32m    397\u001B[0m res_values \u001B[38;5;241m=\u001B[39m filler(res_values)  \u001B[38;5;66;03m# type: ignore[operator]\u001B[39;00m\n",
      "File \u001B[1;32m~\\Python\\Python310\\lib\\site-packages\\pandas\\core\\ops\\array_ops.py:328\u001B[0m, in \u001B[0;36mna_logical_op\u001B[1;34m(x, y, op)\u001B[0m\n\u001B[0;32m    320\u001B[0m         \u001B[38;5;28;01mexcept\u001B[39;00m (\n\u001B[0;32m    321\u001B[0m             \u001B[38;5;167;01mTypeError\u001B[39;00m,\n\u001B[0;32m    322\u001B[0m             \u001B[38;5;167;01mValueError\u001B[39;00m,\n\u001B[1;32m   (...)\u001B[0m\n\u001B[0;32m    325\u001B[0m             \u001B[38;5;167;01mNotImplementedError\u001B[39;00m,\n\u001B[0;32m    326\u001B[0m         ) \u001B[38;5;28;01mas\u001B[39;00m err:\n\u001B[0;32m    327\u001B[0m             typ \u001B[38;5;241m=\u001B[39m \u001B[38;5;28mtype\u001B[39m(y)\u001B[38;5;241m.\u001B[39m\u001B[38;5;18m__name__\u001B[39m\n\u001B[1;32m--> 328\u001B[0m             \u001B[38;5;28;01mraise\u001B[39;00m \u001B[38;5;167;01mTypeError\u001B[39;00m(\n\u001B[0;32m    329\u001B[0m                 \u001B[38;5;124mf\u001B[39m\u001B[38;5;124m\"\u001B[39m\u001B[38;5;124mCannot perform \u001B[39m\u001B[38;5;124m'\u001B[39m\u001B[38;5;132;01m{\u001B[39;00mop\u001B[38;5;241m.\u001B[39m\u001B[38;5;18m__name__\u001B[39m\u001B[38;5;132;01m}\u001B[39;00m\u001B[38;5;124m'\u001B[39m\u001B[38;5;124m with a dtyped [\u001B[39m\u001B[38;5;132;01m{\u001B[39;00mx\u001B[38;5;241m.\u001B[39mdtype\u001B[38;5;132;01m}\u001B[39;00m\u001B[38;5;124m] array \u001B[39m\u001B[38;5;124m\"\u001B[39m\n\u001B[0;32m    330\u001B[0m                 \u001B[38;5;124mf\u001B[39m\u001B[38;5;124m\"\u001B[39m\u001B[38;5;124mand scalar of type [\u001B[39m\u001B[38;5;132;01m{\u001B[39;00mtyp\u001B[38;5;132;01m}\u001B[39;00m\u001B[38;5;124m]\u001B[39m\u001B[38;5;124m\"\u001B[39m\n\u001B[0;32m    331\u001B[0m             ) \u001B[38;5;28;01mfrom\u001B[39;00m \u001B[38;5;21;01merr\u001B[39;00m\n\u001B[0;32m    333\u001B[0m \u001B[38;5;28;01mreturn\u001B[39;00m result\u001B[38;5;241m.\u001B[39mreshape(x\u001B[38;5;241m.\u001B[39mshape)\n",
      "\u001B[1;31mTypeError\u001B[0m: Cannot perform 'ror_' with a dtyped [bool] array and scalar of type [NoneType]"
     ]
    }
   ],
   "source": [
    "print(df < (Q1 - 1.5 * IQR)) |(df > (Q3 + 1.5 * IQR))"
   ],
   "metadata": {
    "collapsed": false,
    "pycharm": {
     "name": "#%%\n"
    }
   }
  },
  {
   "cell_type": "code",
   "execution_count": 44,
   "outputs": [],
   "source": [
    "#It looks like there is not out"
   ],
   "metadata": {
    "collapsed": false,
    "pycharm": {
     "name": "#%%\n"
    }
   }
  },
  {
   "cell_type": "markdown",
   "source": [
    "##### Fuzzy matching to correct incosistent data entry"
   ],
   "metadata": {
    "collapsed": false,
    "pycharm": {
     "name": "#%% md\n"
    }
   }
  },
  {
   "cell_type": "code",
   "execution_count": 116,
   "outputs": [],
   "source": [
    "df2= pd.read_csv(\"E:\\\\Bellevue\\\\Fall_2022\\\\DSC 350 Data Wrangling for Data Scienc\\\\Term_Project\\\\WHO_first9cols.csv\")\n",
    "df1=df_r.iloc[:202] # select a subset of the dataframe to match the number of rows\n"
   ],
   "metadata": {
    "collapsed": false,
    "pycharm": {
     "name": "#%%\n"
    }
   }
  },
  {
   "cell_type": "code",
   "execution_count": 110,
   "outputs": [
    {
     "ename": "IndexError",
     "evalue": "list index out of range",
     "output_type": "error",
     "traceback": [
      "\u001B[1;31m---------------------------------------------------------------------------\u001B[0m",
      "\u001B[1;31mIndexError\u001B[0m                                Traceback (most recent call last)",
      "Cell \u001B[1;32mIn [110], line 5\u001B[0m\n\u001B[0;32m      2\u001B[0m df2[\u001B[38;5;124m'\u001B[39m\u001B[38;5;124mCountry_match\u001B[39m\u001B[38;5;124m'\u001B[39m] \u001B[38;5;241m=\u001B[39m df2[\u001B[38;5;124m'\u001B[39m\u001B[38;5;124mCountry\u001B[39m\u001B[38;5;124m'\u001B[39m]\n\u001B[0;32m      4\u001B[0m \u001B[38;5;66;03m#convert team name in df2 to team name it most closely matches in df1\u001B[39;00m\n\u001B[1;32m----> 5\u001B[0m df2[\u001B[38;5;124m'\u001B[39m\u001B[38;5;124mCountry\u001B[39m\u001B[38;5;124m'\u001B[39m] \u001B[38;5;241m=\u001B[39m \u001B[43mdf2\u001B[49m\u001B[43m[\u001B[49m\u001B[38;5;124;43m'\u001B[39;49m\u001B[38;5;124;43mCountry\u001B[39;49m\u001B[38;5;124;43m'\u001B[39;49m\u001B[43m]\u001B[49m\u001B[38;5;241;43m.\u001B[39;49m\u001B[43mapply\u001B[49m\u001B[43m(\u001B[49m\u001B[38;5;28;43;01mlambda\u001B[39;49;00m\u001B[43m \u001B[49m\u001B[43mx\u001B[49m\u001B[43m:\u001B[49m\u001B[43m \u001B[49m\u001B[43mdifflib\u001B[49m\u001B[38;5;241;43m.\u001B[39;49m\u001B[43mget_close_matches\u001B[49m\u001B[43m(\u001B[49m\u001B[43mx\u001B[49m\u001B[43m,\u001B[49m\u001B[43m \u001B[49m\u001B[43mdf1\u001B[49m\u001B[43m[\u001B[49m\u001B[38;5;124;43m'\u001B[39;49m\u001B[38;5;124;43mCountry\u001B[39;49m\u001B[38;5;124;43m'\u001B[39;49m\u001B[43m]\u001B[49m\u001B[43m)\u001B[49m\u001B[43m[\u001B[49m\u001B[38;5;241;43m0\u001B[39;49m\u001B[43m]\u001B[49m\u001B[43m)\u001B[49m\n\u001B[0;32m      7\u001B[0m \u001B[38;5;66;03m#merge the DataFrames into one\u001B[39;00m\n\u001B[0;32m      8\u001B[0m df3 \u001B[38;5;241m=\u001B[39m df1\u001B[38;5;241m.\u001B[39mmerge(df2)\n",
      "File \u001B[1;32m~\\Python\\Python310\\lib\\site-packages\\pandas\\core\\series.py:4774\u001B[0m, in \u001B[0;36mSeries.apply\u001B[1;34m(self, func, convert_dtype, args, **kwargs)\u001B[0m\n\u001B[0;32m   4664\u001B[0m \u001B[38;5;28;01mdef\u001B[39;00m \u001B[38;5;21mapply\u001B[39m(\n\u001B[0;32m   4665\u001B[0m     \u001B[38;5;28mself\u001B[39m,\n\u001B[0;32m   4666\u001B[0m     func: AggFuncType,\n\u001B[1;32m   (...)\u001B[0m\n\u001B[0;32m   4669\u001B[0m     \u001B[38;5;241m*\u001B[39m\u001B[38;5;241m*\u001B[39mkwargs,\n\u001B[0;32m   4670\u001B[0m ) \u001B[38;5;241m-\u001B[39m\u001B[38;5;241m>\u001B[39m DataFrame \u001B[38;5;241m|\u001B[39m Series:\n\u001B[0;32m   4671\u001B[0m     \u001B[38;5;124;03m\"\"\"\u001B[39;00m\n\u001B[0;32m   4672\u001B[0m \u001B[38;5;124;03m    Invoke function on values of Series.\u001B[39;00m\n\u001B[0;32m   4673\u001B[0m \n\u001B[1;32m   (...)\u001B[0m\n\u001B[0;32m   4772\u001B[0m \u001B[38;5;124;03m    dtype: float64\u001B[39;00m\n\u001B[0;32m   4773\u001B[0m \u001B[38;5;124;03m    \"\"\"\u001B[39;00m\n\u001B[1;32m-> 4774\u001B[0m     \u001B[38;5;28;01mreturn\u001B[39;00m \u001B[43mSeriesApply\u001B[49m\u001B[43m(\u001B[49m\u001B[38;5;28;43mself\u001B[39;49m\u001B[43m,\u001B[49m\u001B[43m \u001B[49m\u001B[43mfunc\u001B[49m\u001B[43m,\u001B[49m\u001B[43m \u001B[49m\u001B[43mconvert_dtype\u001B[49m\u001B[43m,\u001B[49m\u001B[43m \u001B[49m\u001B[43margs\u001B[49m\u001B[43m,\u001B[49m\u001B[43m \u001B[49m\u001B[43mkwargs\u001B[49m\u001B[43m)\u001B[49m\u001B[38;5;241;43m.\u001B[39;49m\u001B[43mapply\u001B[49m\u001B[43m(\u001B[49m\u001B[43m)\u001B[49m\n",
      "File \u001B[1;32m~\\Python\\Python310\\lib\\site-packages\\pandas\\core\\apply.py:1100\u001B[0m, in \u001B[0;36mSeriesApply.apply\u001B[1;34m(self)\u001B[0m\n\u001B[0;32m   1097\u001B[0m     \u001B[38;5;28;01mreturn\u001B[39;00m \u001B[38;5;28mself\u001B[39m\u001B[38;5;241m.\u001B[39mapply_str()\n\u001B[0;32m   1099\u001B[0m \u001B[38;5;66;03m# self.f is Callable\u001B[39;00m\n\u001B[1;32m-> 1100\u001B[0m \u001B[38;5;28;01mreturn\u001B[39;00m \u001B[38;5;28;43mself\u001B[39;49m\u001B[38;5;241;43m.\u001B[39;49m\u001B[43mapply_standard\u001B[49m\u001B[43m(\u001B[49m\u001B[43m)\u001B[49m\n",
      "File \u001B[1;32m~\\Python\\Python310\\lib\\site-packages\\pandas\\core\\apply.py:1151\u001B[0m, in \u001B[0;36mSeriesApply.apply_standard\u001B[1;34m(self)\u001B[0m\n\u001B[0;32m   1149\u001B[0m     \u001B[38;5;28;01melse\u001B[39;00m:\n\u001B[0;32m   1150\u001B[0m         values \u001B[38;5;241m=\u001B[39m obj\u001B[38;5;241m.\u001B[39mastype(\u001B[38;5;28mobject\u001B[39m)\u001B[38;5;241m.\u001B[39m_values\n\u001B[1;32m-> 1151\u001B[0m         mapped \u001B[38;5;241m=\u001B[39m \u001B[43mlib\u001B[49m\u001B[38;5;241;43m.\u001B[39;49m\u001B[43mmap_infer\u001B[49m\u001B[43m(\u001B[49m\n\u001B[0;32m   1152\u001B[0m \u001B[43m            \u001B[49m\u001B[43mvalues\u001B[49m\u001B[43m,\u001B[49m\n\u001B[0;32m   1153\u001B[0m \u001B[43m            \u001B[49m\u001B[43mf\u001B[49m\u001B[43m,\u001B[49m\n\u001B[0;32m   1154\u001B[0m \u001B[43m            \u001B[49m\u001B[43mconvert\u001B[49m\u001B[38;5;241;43m=\u001B[39;49m\u001B[38;5;28;43mself\u001B[39;49m\u001B[38;5;241;43m.\u001B[39;49m\u001B[43mconvert_dtype\u001B[49m\u001B[43m,\u001B[49m\n\u001B[0;32m   1155\u001B[0m \u001B[43m        \u001B[49m\u001B[43m)\u001B[49m\n\u001B[0;32m   1157\u001B[0m \u001B[38;5;28;01mif\u001B[39;00m \u001B[38;5;28mlen\u001B[39m(mapped) \u001B[38;5;129;01mand\u001B[39;00m \u001B[38;5;28misinstance\u001B[39m(mapped[\u001B[38;5;241m0\u001B[39m], ABCSeries):\n\u001B[0;32m   1158\u001B[0m     \u001B[38;5;66;03m# GH#43986 Need to do list(mapped) in order to get treated as nested\u001B[39;00m\n\u001B[0;32m   1159\u001B[0m     \u001B[38;5;66;03m#  See also GH#25959 regarding EA support\u001B[39;00m\n\u001B[0;32m   1160\u001B[0m     \u001B[38;5;28;01mreturn\u001B[39;00m obj\u001B[38;5;241m.\u001B[39m_constructor_expanddim(\u001B[38;5;28mlist\u001B[39m(mapped), index\u001B[38;5;241m=\u001B[39mobj\u001B[38;5;241m.\u001B[39mindex)\n",
      "File \u001B[1;32m~\\Python\\Python310\\lib\\site-packages\\pandas\\_libs\\lib.pyx:2919\u001B[0m, in \u001B[0;36mpandas._libs.lib.map_infer\u001B[1;34m()\u001B[0m\n",
      "Cell \u001B[1;32mIn [110], line 5\u001B[0m, in \u001B[0;36m<lambda>\u001B[1;34m(x)\u001B[0m\n\u001B[0;32m      2\u001B[0m df2[\u001B[38;5;124m'\u001B[39m\u001B[38;5;124mCountry_match\u001B[39m\u001B[38;5;124m'\u001B[39m] \u001B[38;5;241m=\u001B[39m df2[\u001B[38;5;124m'\u001B[39m\u001B[38;5;124mCountry\u001B[39m\u001B[38;5;124m'\u001B[39m]\n\u001B[0;32m      4\u001B[0m \u001B[38;5;66;03m#convert team name in df2 to team name it most closely matches in df1\u001B[39;00m\n\u001B[1;32m----> 5\u001B[0m df2[\u001B[38;5;124m'\u001B[39m\u001B[38;5;124mCountry\u001B[39m\u001B[38;5;124m'\u001B[39m] \u001B[38;5;241m=\u001B[39m df2[\u001B[38;5;124m'\u001B[39m\u001B[38;5;124mCountry\u001B[39m\u001B[38;5;124m'\u001B[39m]\u001B[38;5;241m.\u001B[39mapply(\u001B[38;5;28;01mlambda\u001B[39;00m x: \u001B[43mdifflib\u001B[49m\u001B[38;5;241;43m.\u001B[39;49m\u001B[43mget_close_matches\u001B[49m\u001B[43m(\u001B[49m\u001B[43mx\u001B[49m\u001B[43m,\u001B[49m\u001B[43m \u001B[49m\u001B[43mdf1\u001B[49m\u001B[43m[\u001B[49m\u001B[38;5;124;43m'\u001B[39;49m\u001B[38;5;124;43mCountry\u001B[39;49m\u001B[38;5;124;43m'\u001B[39;49m\u001B[43m]\u001B[49m\u001B[43m)\u001B[49m\u001B[43m[\u001B[49m\u001B[38;5;241;43m0\u001B[39;49m\u001B[43m]\u001B[49m)\n\u001B[0;32m      7\u001B[0m \u001B[38;5;66;03m#merge the DataFrames into one\u001B[39;00m\n\u001B[0;32m      8\u001B[0m df3 \u001B[38;5;241m=\u001B[39m df1\u001B[38;5;241m.\u001B[39mmerge(df2)\n",
      "\u001B[1;31mIndexError\u001B[0m: list index out of range"
     ]
    }
   ],
   "source": [
    "#create duplicate column to retain team name from df2\n",
    "df2['Country_match'] = df2['Country']\n",
    "\n",
    "#convert team name in df2 to team name it most closely matches in df1\n",
    "df2['Country'] = df2['Country'].apply(lambda x: difflib.get_close_matches(x, df1['Country'])[0])\n",
    "\n",
    "#merge the DataFrames into one\n",
    "df3 = df1.merge(df2)\n",
    "\n",
    "#view final DataFrame\n",
    "print(df3)\n",
    "\n"
   ],
   "metadata": {
    "collapsed": false,
    "pycharm": {
     "name": "#%%\n"
    }
   }
  },
  {
   "cell_type": "code",
   "execution_count": null,
   "outputs": [],
   "source": [],
   "metadata": {
    "collapsed": false,
    "pycharm": {
     "name": "#%%\n"
    }
   }
  }
 ],
 "metadata": {
  "kernelspec": {
   "display_name": "Python 3",
   "language": "python",
   "name": "python3"
  },
  "language_info": {
   "codemirror_mode": {
    "name": "ipython",
    "version": 2
   },
   "file_extension": ".py",
   "mimetype": "text/x-python",
   "name": "python",
   "nbconvert_exporter": "python",
   "pygments_lexer": "ipython2",
   "version": "2.7.6"
  }
 },
 "nbformat": 4,
 "nbformat_minor": 0
}