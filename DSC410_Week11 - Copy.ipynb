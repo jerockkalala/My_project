{
 "cells": [
  {
   "cell_type": "code",
   "execution_count": null,
   "metadata": {
    "collapsed": true,
    "pycharm": {
     "name": "#%%\n"
    }
   },
   "outputs": [],
   "source": []
  },
  {
   "cell_type": "markdown",
   "source": [
    "#### 1. Import libraries"
   ],
   "metadata": {
    "collapsed": false,
    "pycharm": {
     "name": "#%% md\n"
    }
   }
  },
  {
   "cell_type": "code",
   "execution_count": 1,
   "outputs": [],
   "source": [
    "\"\"\"\n",
    "@author: Jerock Kalala\n",
    "Week_11 Assignment: Hands-On Predictive Analytics with Python\n",
    "Building the predictive model object\n",
    "\"\"\"\n",
    "## imports\n",
    "import dash\n",
    "from dash import dcc\n",
    "from dash import html\n",
    "from dash.dependencies import Input, Output\n",
    "from keras.models import load_model\n",
    "import plotly.graph_objs as go\n",
    "import numpy as np\n",
    "import pandas as pd\n",
    "from keras.models import Sequential\n",
    "from keras.layers import Dense\n",
    "import joblib"
   ],
   "metadata": {
    "collapsed": false,
    "pycharm": {
     "name": "#%%\n"
    }
   }
  },
  {
   "cell_type": "markdown",
   "source": [
    "#### 2. Loading data & Data transformation"
   ],
   "metadata": {
    "collapsed": false,
    "pycharm": {
     "name": "#%% md\n"
    }
   }
  },
  {
   "cell_type": "code",
   "execution_count": 2,
   "outputs": [
    {
     "name": "stdout",
     "output_type": "stream",
     "text": [
      "The initial dimension of the data set is:  (53940, 10)\n"
     ]
    },
    {
     "data": {
      "text/plain": "   carat      cut color clarity  depth  table  price     x     y     z\n0   0.23    Ideal     E     SI2   61.5   55.0    326  3.95  3.98  2.43\n1   0.21  Premium     E     SI1   59.8   61.0    326  3.89  3.84  2.31\n2   0.23     Good     E     VS1   56.9   65.0    327  4.05  4.07  2.31\n3   0.29  Premium     I     VS2   62.4   58.0    334  4.20  4.23  2.63\n4   0.31     Good     J     SI2   63.3   58.0    335  4.34  4.35  2.75",
      "text/html": "<div>\n<style scoped>\n    .dataframe tbody tr th:only-of-type {\n        vertical-align: middle;\n    }\n\n    .dataframe tbody tr th {\n        vertical-align: top;\n    }\n\n    .dataframe thead th {\n        text-align: right;\n    }\n</style>\n<table border=\"1\" class=\"dataframe\">\n  <thead>\n    <tr style=\"text-align: right;\">\n      <th></th>\n      <th>carat</th>\n      <th>cut</th>\n      <th>color</th>\n      <th>clarity</th>\n      <th>depth</th>\n      <th>table</th>\n      <th>price</th>\n      <th>x</th>\n      <th>y</th>\n      <th>z</th>\n    </tr>\n  </thead>\n  <tbody>\n    <tr>\n      <th>0</th>\n      <td>0.23</td>\n      <td>Ideal</td>\n      <td>E</td>\n      <td>SI2</td>\n      <td>61.5</td>\n      <td>55.0</td>\n      <td>326</td>\n      <td>3.95</td>\n      <td>3.98</td>\n      <td>2.43</td>\n    </tr>\n    <tr>\n      <th>1</th>\n      <td>0.21</td>\n      <td>Premium</td>\n      <td>E</td>\n      <td>SI1</td>\n      <td>59.8</td>\n      <td>61.0</td>\n      <td>326</td>\n      <td>3.89</td>\n      <td>3.84</td>\n      <td>2.31</td>\n    </tr>\n    <tr>\n      <th>2</th>\n      <td>0.23</td>\n      <td>Good</td>\n      <td>E</td>\n      <td>VS1</td>\n      <td>56.9</td>\n      <td>65.0</td>\n      <td>327</td>\n      <td>4.05</td>\n      <td>4.07</td>\n      <td>2.31</td>\n    </tr>\n    <tr>\n      <th>3</th>\n      <td>0.29</td>\n      <td>Premium</td>\n      <td>I</td>\n      <td>VS2</td>\n      <td>62.4</td>\n      <td>58.0</td>\n      <td>334</td>\n      <td>4.20</td>\n      <td>4.23</td>\n      <td>2.63</td>\n    </tr>\n    <tr>\n      <th>4</th>\n      <td>0.31</td>\n      <td>Good</td>\n      <td>J</td>\n      <td>SI2</td>\n      <td>63.3</td>\n      <td>58.0</td>\n      <td>335</td>\n      <td>4.34</td>\n      <td>4.35</td>\n      <td>2.75</td>\n    </tr>\n  </tbody>\n</table>\n</div>"
     },
     "execution_count": 2,
     "metadata": {},
     "output_type": "execute_result"
    }
   ],
   "source": [
    "diamonds = pd.read_csv(\"E:\\\\Bellevue\\\\Spring_2023\\\\DSC410_Predictive Analytics\\\\Week_11\\\\diamonds.csv\")\n",
    "print(\"The initial dimension of the data set is: \", diamonds.shape)\n",
    "diamonds.head()"
   ],
   "metadata": {
    "collapsed": false,
    "pycharm": {
     "name": "#%%\n"
    }
   }
  },
  {
   "cell_type": "markdown",
   "source": [
    "#### *Diamonds-model-training"
   ],
   "metadata": {
    "collapsed": false,
    "pycharm": {
     "name": "#%% md\n"
    }
   }
  },
  {
   "cell_type": "code",
   "execution_count": 3,
   "outputs": [],
   "source": [
    "## Preparing the dataset\n",
    "diamonds = diamonds.loc[(diamonds['x']>0) | (diamonds['y']>0)]\n",
    "diamonds.loc[11182, 'x'] = diamonds['x'].median()\n",
    "diamonds.loc[11182, 'z'] = diamonds['z'].median()\n",
    "diamonds = diamonds.loc[~((diamonds['y'] > 30) | (diamonds['z'] > 30))]\n",
    "diamonds = pd.concat([diamonds, pd.get_dummies(diamonds['cut'], prefix='cut', drop_first=True)], axis=1)\n",
    "diamonds = pd.concat([diamonds, pd.get_dummies(diamonds['color'], prefix='color', drop_first=True)], axis=1)\n",
    "diamonds = pd.concat([diamonds, pd.get_dummies(diamonds['clarity'], prefix='clarity', drop_first=True)], axis=1)"
   ],
   "metadata": {
    "collapsed": false,
    "pycharm": {
     "name": "#%%\n"
    }
   }
  },
  {
   "cell_type": "code",
   "execution_count": 4,
   "outputs": [],
   "source": [
    "## Dimensionality reduction\n",
    "from sklearn.decomposition import PCA\n",
    "pca = PCA(n_components=1, random_state=123)\n",
    "diamonds['dim_index'] = pca.fit_transform(diamonds[['x','y','z']])\n",
    "diamonds.drop(['x','y','z'], axis=1, inplace=True)"
   ],
   "metadata": {
    "collapsed": false,
    "pycharm": {
     "name": "#%%\n"
    }
   }
  },
  {
   "cell_type": "markdown",
   "source": [
    "#### 3. Producing the object to train the model"
   ],
   "metadata": {
    "collapsed": false,
    "pycharm": {
     "name": "#%% md\n"
    }
   }
  },
  {
   "cell_type": "code",
   "execution_count": 5,
   "outputs": [],
   "source": [
    "## Creating X and y\n",
    "X = diamonds.drop(['cut','color','clarity','price'], axis=1)\n",
    "y = np.log(diamonds['price'])"
   ],
   "metadata": {
    "collapsed": false,
    "pycharm": {
     "name": "#%%\n"
    }
   }
  },
  {
   "cell_type": "code",
   "execution_count": 6,
   "outputs": [],
   "source": [
    "## Standarization: centering and scaling\n",
    "numerical_features = ['carat', 'depth', 'table', 'dim_index']\n",
    "from sklearn.preprocessing import StandardScaler\n",
    "scaler = StandardScaler()\n",
    "X.loc[:, numerical_features] = scaler.fit_transform(X[numerical_features])"
   ],
   "metadata": {
    "collapsed": false,
    "pycharm": {
     "name": "#%%\n"
    }
   }
  },
  {
   "cell_type": "markdown",
   "source": [
    "#### 4. creation of the neural network"
   ],
   "metadata": {
    "collapsed": false,
    "pycharm": {
     "name": "#%% md\n"
    }
   }
  },
  {
   "cell_type": "code",
   "execution_count": 7,
   "outputs": [],
   "source": [
    "## Building the neural network\n",
    "n_input = X.shape[1]\n",
    "n_hidden1 = 32\n",
    "n_hidden2 = 16\n",
    "n_hidden3 = 8\n",
    "\n",
    "nn_reg = Sequential()\n",
    "nn_reg.add(Dense(units=n_hidden1, activation='relu', input_shape=(n_input,)))\n",
    "nn_reg.add(Dense(units=n_hidden2, activation='relu'))\n",
    "nn_reg.add(Dense(units=n_hidden3, activation='relu'))\n",
    "# output layer\n",
    "nn_reg.add(Dense(units=1, activation=None))\n"
   ],
   "metadata": {
    "collapsed": false,
    "pycharm": {
     "name": "#%%\n"
    }
   }
  },
  {
   "cell_type": "markdown",
   "source": [
    "#### 5. Training the model"
   ],
   "metadata": {
    "collapsed": false,
    "pycharm": {
     "name": "#%% md\n"
    }
   }
  },
  {
   "cell_type": "code",
   "execution_count": 8,
   "outputs": [
    {
     "name": "stdout",
     "output_type": "stream",
     "text": [
      "Epoch 1/40\n",
      "1686/1686 [==============================] - 5s 2ms/step - loss: 0.5117\n",
      "Epoch 2/40\n",
      "1686/1686 [==============================] - 3s 2ms/step - loss: 0.1340\n",
      "Epoch 3/40\n",
      "1686/1686 [==============================] - 3s 2ms/step - loss: 0.1147\n",
      "Epoch 4/40\n",
      "1686/1686 [==============================] - 3s 2ms/step - loss: 0.1025\n",
      "Epoch 5/40\n",
      "1686/1686 [==============================] - 3s 1ms/step - loss: 0.0985\n",
      "Epoch 6/40\n",
      "1686/1686 [==============================] - 2s 1ms/step - loss: 0.0969\n",
      "Epoch 7/40\n",
      "1686/1686 [==============================] - 3s 2ms/step - loss: 0.0955\n",
      "Epoch 8/40\n",
      "1686/1686 [==============================] - 3s 2ms/step - loss: 0.0948\n",
      "Epoch 9/40\n",
      "1686/1686 [==============================] - 3s 2ms/step - loss: 0.0928\n",
      "Epoch 10/40\n",
      "1686/1686 [==============================] - 3s 2ms/step - loss: 0.0928\n",
      "Epoch 11/40\n",
      "1686/1686 [==============================] - 3s 2ms/step - loss: 0.0914\n",
      "Epoch 12/40\n",
      "1686/1686 [==============================] - 3s 2ms/step - loss: 0.0914\n",
      "Epoch 13/40\n",
      "1686/1686 [==============================] - 3s 2ms/step - loss: 0.0903\n",
      "Epoch 14/40\n",
      "1686/1686 [==============================] - 3s 2ms/step - loss: 0.0905\n",
      "Epoch 15/40\n",
      "1686/1686 [==============================] - 3s 2ms/step - loss: 0.0900\n",
      "Epoch 16/40\n",
      "1686/1686 [==============================] - 3s 2ms/step - loss: 0.0896\n",
      "Epoch 17/40\n",
      "1686/1686 [==============================] - 3s 2ms/step - loss: 0.0895\n",
      "Epoch 18/40\n",
      "1686/1686 [==============================] - 3s 2ms/step - loss: 0.0889\n",
      "Epoch 19/40\n",
      "1686/1686 [==============================] - 3s 2ms/step - loss: 0.0890\n",
      "Epoch 20/40\n",
      "1686/1686 [==============================] - 3s 2ms/step - loss: 0.0878\n",
      "Epoch 21/40\n",
      "1686/1686 [==============================] - 3s 2ms/step - loss: 0.0881\n",
      "Epoch 22/40\n",
      "1686/1686 [==============================] - 3s 2ms/step - loss: 0.0872\n",
      "Epoch 23/40\n",
      "1686/1686 [==============================] - 3s 2ms/step - loss: 0.0873\n",
      "Epoch 24/40\n",
      "1686/1686 [==============================] - 3s 2ms/step - loss: 0.0865\n",
      "Epoch 25/40\n",
      "1686/1686 [==============================] - 3s 2ms/step - loss: 0.0864\n",
      "Epoch 26/40\n",
      "1686/1686 [==============================] - 3s 2ms/step - loss: 0.0863\n",
      "Epoch 27/40\n",
      "1686/1686 [==============================] - 3s 2ms/step - loss: 0.0857\n",
      "Epoch 28/40\n",
      "1686/1686 [==============================] - 3s 2ms/step - loss: 0.0858\n",
      "Epoch 29/40\n",
      "1686/1686 [==============================] - 3s 2ms/step - loss: 0.0848\n",
      "Epoch 30/40\n",
      "1686/1686 [==============================] - 3s 2ms/step - loss: 0.0861\n",
      "Epoch 31/40\n",
      "1686/1686 [==============================] - 3s 2ms/step - loss: 0.0850\n",
      "Epoch 32/40\n",
      "1686/1686 [==============================] - 3s 2ms/step - loss: 0.0853\n",
      "Epoch 33/40\n",
      "1686/1686 [==============================] - 3s 2ms/step - loss: 0.0858\n",
      "Epoch 34/40\n",
      "1686/1686 [==============================] - 3s 2ms/step - loss: 0.0855\n",
      "Epoch 35/40\n",
      "1686/1686 [==============================] - 3s 2ms/step - loss: 0.0848\n",
      "Epoch 36/40\n",
      "1686/1686 [==============================] - 3s 2ms/step - loss: 0.0850\n",
      "Epoch 37/40\n",
      "1686/1686 [==============================] - 3s 2ms/step - loss: 0.0848\n",
      "Epoch 38/40\n",
      "1686/1686 [==============================] - 3s 2ms/step - loss: 0.0841\n",
      "Epoch 39/40\n",
      "1686/1686 [==============================] - 3s 2ms/step - loss: 0.0848\n",
      "Epoch 40/40\n",
      "1686/1686 [==============================] - 3s 2ms/step - loss: 0.0842\n"
     ]
    },
    {
     "data": {
      "text/plain": "<keras.callbacks.History at 0x22e998086a0>"
     },
     "execution_count": 8,
     "metadata": {},
     "output_type": "execute_result"
    }
   ],
   "source": [
    "## Training the neural network\n",
    "batch_size = 32\n",
    "n_epochs = 40\n",
    "nn_reg.compile(loss='mean_absolute_error', optimizer='adam')\n",
    "nn_reg.fit(X, y, epochs=n_epochs, batch_size=batch_size)\n"
   ],
   "metadata": {
    "collapsed": false,
    "pycharm": {
     "name": "#%%\n"
    }
   }
  },
  {
   "cell_type": "code",
   "execution_count": 9,
   "outputs": [
    {
     "data": {
      "text/plain": "['E:\\\\Bellevue\\\\Spring_2023\\\\DSC410_Predictive Analytics\\\\Week_11\\\\pca.joblib']"
     },
     "execution_count": 9,
     "metadata": {},
     "output_type": "execute_result"
    }
   ],
   "source": [
    "## Serializing:\n",
    "# PCA\n",
    "joblib.dump(pca, 'E:\\\\Bellevue\\\\Spring_2023\\\\DSC410_Predictive Analytics\\\\Week_11\\\\pca.joblib')"
   ],
   "metadata": {
    "collapsed": false,
    "pycharm": {
     "name": "#%%\n"
    }
   }
  },
  {
   "cell_type": "code",
   "execution_count": 10,
   "outputs": [
    {
     "data": {
      "text/plain": "['E:\\\\Bellevue\\\\Spring_2023\\\\DSC410_Predictive Analytics\\\\Week_11\\\\scaler.joblib']"
     },
     "execution_count": 10,
     "metadata": {},
     "output_type": "execute_result"
    }
   ],
   "source": [
    "# Scaler\n",
    "joblib.dump(scaler, 'E:\\\\Bellevue\\\\Spring_2023\\\\DSC410_Predictive Analytics\\\\Week_11\\\\scaler.joblib')"
   ],
   "metadata": {
    "collapsed": false,
    "pycharm": {
     "name": "#%%\n"
    }
   }
  },
  {
   "cell_type": "code",
   "execution_count": 11,
   "outputs": [],
   "source": [
    "# Trained model\n",
    "nn_reg.save(\"E:\\\\Bellevue\\\\Spring_2023\\\\DSC410_Predictive Analytics\\\\Week_11\\\\diamond-prices-model.h5\")"
   ],
   "metadata": {
    "collapsed": false,
    "pycharm": {
     "name": "#%%\n"
    }
   }
  },
  {
   "cell_type": "markdown",
   "source": [
    "### *Predict-diamond-prices"
   ],
   "metadata": {
    "collapsed": false,
    "pycharm": {
     "name": "#%% md\n"
    }
   }
  },
  {
   "cell_type": "code",
   "execution_count": 19,
   "outputs": [],
   "source": [
    "app = dash.Dash(__name__)\n",
    "app.css.append_css({\n",
    "    'external_url': 'https://codepen.io/chriddyp/pen/bWLwgP.css'\n",
    "})\n",
    "\n",
    "model = load_model('E:\\\\Bellevue\\\\Spring_2023\\\\DSC410_Predictive Analytics\\\\Week_11\\\\diamond-prices-model.h5')\n",
    "pca = joblib.load('E:\\\\Bellevue\\\\Spring_2023\\\\DSC410_Predictive Analytics\\\\Week_11\\\\pca.joblib')\n",
    "scaler = joblib.load('E:\\\\Bellevue\\\\Spring_2023\\\\DSC410_Predictive Analytics\\\\Week_11\\\\scaler.joblib')\n",
    "#model._make_predict_function()"
   ],
   "metadata": {
    "collapsed": false,
    "pycharm": {
     "name": "#%%\n"
    }
   }
  },
  {
   "cell_type": "code",
   "execution_count": 13,
   "outputs": [],
   "source": [
    "## Div for carat\n",
    "input_carat = dcc.Input(\n",
    "    id='carat',\n",
    "    type='numeric',\n",
    "    value=0.7)\n",
    "\n",
    "div_carat = html.Div(\n",
    "        children=[html.H3('Carat:'), input_carat],\n",
    "        className=\"four columns\"\n",
    "        )\n",
    "\n",
    "\n",
    "## Div for depth\n",
    "input_depth = dcc.Input(\n",
    "    id='depth',\n",
    "    placeholder='',\n",
    "    type='numeric',\n",
    "    value=60)\n",
    "\n",
    "div_depth = html.Div(\n",
    "        children=[html.H3('Depth:'), input_depth],\n",
    "        className=\"four columns\"\n",
    "        )\n",
    "\n",
    "\n",
    "## Div for table\n",
    "input_table = dcc.Input(\n",
    "    id='table',\n",
    "    placeholder='',\n",
    "    type='numeric',\n",
    "    value=60)\n",
    "\n",
    "div_table = html.Div(\n",
    "        children=[html.H3('Table:'), input_table],\n",
    "        className=\"four columns\"\n",
    "        )"
   ],
   "metadata": {
    "collapsed": false,
    "pycharm": {
     "name": "#%%\n"
    }
   }
  },
  {
   "cell_type": "code",
   "execution_count": 14,
   "outputs": [],
   "source": [
    "## Div for x\n",
    "input_x = dcc.Input(\n",
    "    id='x',\n",
    "    placeholder='',\n",
    "    type='numeric',\n",
    "    value=5)\n",
    "\n",
    "div_x = html.Div(\n",
    "        children=[html.H3('x value:'), input_x],\n",
    "        className=\"four columns\"\n",
    "        )\n",
    "## Div for y\n",
    "input_y = dcc.Input(\n",
    "    id='y',\n",
    "    placeholder='',\n",
    "    type='numeric',\n",
    "    value=5)\n",
    "\n",
    "div_y = html.Div(\n",
    "        children=[html.H3('y value:'), input_y],\n",
    "        className=\"four columns\"\n",
    "        )\n",
    "## Div for z\n",
    "input_z = dcc.Input(\n",
    "    id='z',\n",
    "    placeholder='',\n",
    "    type='numeric',\n",
    "    value=3)\n",
    "\n",
    "div_z = html.Div(\n",
    "        children=[html.H3('z value: '), input_z],\n",
    "        className=\"four columns\"\n",
    "        )"
   ],
   "metadata": {
    "collapsed": false,
    "pycharm": {
     "name": "#%%\n"
    }
   }
  },
  {
   "cell_type": "markdown",
   "source": [
    "The three input for the categorical values"
   ],
   "metadata": {
    "collapsed": false,
    "pycharm": {
     "name": "#%% md\n"
    }
   }
  },
  {
   "cell_type": "code",
   "execution_count": 15,
   "outputs": [],
   "source": [
    "## Div for cut\n",
    "cut_values = ['Fair', 'Good', 'Ideal', 'Premium', 'Very Good']\n",
    "cut_options = [{'label': x, 'value': x} for x in cut_values]\n",
    "input_cut = dcc.Dropdown(\n",
    "    id='cut',\n",
    "    options = cut_options,\n",
    "    value = 'Ideal'\n",
    "    )\n",
    "\n",
    "div_cut = html.Div(\n",
    "        children=[html.H3('Cut:'), input_cut],\n",
    "        className=\"four columns\"\n",
    "        )\n",
    "\n",
    "\n",
    "## Div for color\n",
    "color_values = ['D', 'E', 'F', 'G', 'H', 'I', 'J']\n",
    "color_options = [{'label': x, 'value': x} for x in color_values]\n",
    "input_color = dcc.Dropdown(\n",
    "    id='color',\n",
    "    options = color_options,\n",
    "    value = 'G'\n",
    "    )\n",
    "\n",
    "div_color = html.Div(\n",
    "        children=[html.H3('Color:'), input_color],\n",
    "        className=\"four columns\"\n",
    "        )\n",
    "\n",
    "\n",
    "## Div for clarity\n",
    "clarity_values = ['I1', 'IF', 'SI1', 'SI2', 'VS1', 'VS2', 'VVS1', 'VVS2']\n",
    "clarity_options = [{'label': x, 'value': x} for x in clarity_values]\n",
    "input_clarity = dcc.Dropdown(\n",
    "    id='clarity',\n",
    "    options = clarity_options,\n",
    "    value = 'SI1'\n",
    "    )\n",
    "\n",
    "div_clarity = html.Div(\n",
    "        children=[html.H3('Clarity:'), input_clarity],\n",
    "        className=\"four columns\"\n",
    "        )"
   ],
   "metadata": {
    "collapsed": false,
    "pycharm": {
     "name": "#%%\n"
    }
   }
  },
  {
   "cell_type": "code",
   "execution_count": 16,
   "outputs": [],
   "source": [
    "## Div for numerical characteristics\n",
    "div_numerical = html.Div(\n",
    "        children = [div_carat, div_depth, div_table],\n",
    "        className=\"row\"\n",
    "        )\n",
    "\n",
    "\n",
    "## Div for dimensions\n",
    "div_dimensions = html.Div(\n",
    "        children = [div_x, div_y, div_z],\n",
    "        className=\"row\"\n",
    "        )\n",
    "\n",
    "\n",
    "## Div for categorical\n",
    "div_categorical = html.Div(\n",
    "        children = [div_cut, div_color, div_clarity],\n",
    "        className=\"row\"\n",
    "        )"
   ],
   "metadata": {
    "collapsed": false,
    "pycharm": {
     "name": "#%%\n"
    }
   }
  },
  {
   "cell_type": "markdown",
   "source": [
    "Function that will take the value from the user to produce the price prediction"
   ],
   "metadata": {
    "collapsed": false,
    "pycharm": {
     "name": "#%% md\n"
    }
   }
  },
  {
   "cell_type": "code",
   "execution_count": 17,
   "outputs": [],
   "source": [
    "def get_prediction(carat, depth, table, x, y, z, cut, color, clarity):\n",
    "    '''takes the inputs from the user and produces the price prediction'''\n",
    "\n",
    "    cols = ['carat', 'depth', 'table',\n",
    "            'cut_Good', 'cut_Ideal', 'cut_Premium', 'cut_Very Good',\n",
    "            'color_E', 'color_F', 'color_G', 'color_H', 'color_I', 'color_J',\n",
    "            'clarity_IF','clarity_SI1', 'clarity_SI2', 'clarity_VS1', 'clarity_VS2','clarity_VVS1', 'clarity_VVS2',\n",
    "            'dim_index']\n",
    "\n",
    "    cut_dict = {x: 'cut_' + x for x in cut_values[1:]}\n",
    "    color_dict = {x: 'color_' + x for x in color_values[1:]}\n",
    "    clarity_dict = {x: 'clarity_' + x for x in clarity_values[1:]}\n",
    "    ## produce a dataframe with a single row of zeros\n",
    "\n",
    "    df = pd.DataFrame(data = np.zeros((1,len(cols))), columns = cols)\n",
    "\n",
    "    ## get the numeric characteristics\n",
    "    df.loc[0,'carat'] = carat\n",
    "    df.loc[0,'depth'] = depth\n",
    "    df.loc[0,'table'] = table\n",
    "\n",
    "    ## transform dimensions into a single dim_index using PCA\n",
    "    dims_df = pd.DataFrame(data=[[x, y, z]], columns=['x','y','z'])\n",
    "    df.loc[0,'dim_index'] = pca.transform(dims_df).flatten()[0]\n",
    "\n",
    "     ## Use the one-hot encoding for the categorical features\n",
    "    if cut!='Fair':\n",
    "        df.loc[0, cut_dict[cut]] = 1\n",
    "\n",
    "    if color!='D':\n",
    "        df.loc[0, color_dict[color]] = 1\n",
    "\n",
    "    if clarity != 'I1':\n",
    "        df.loc[0, clarity_dict[clarity]] = 1\n",
    "\n",
    "    ## Scale the numerical features using the trained scaler\n",
    "    numerical_features = ['carat', 'depth', 'table', 'dim_index']\n",
    "    df.loc[:,numerical_features] = scaler.transform(df.loc[:,numerical_features])\n",
    "\n",
    "    ## Get the predictions using our trained neural network\n",
    "    prediction = model.predict(df.values).flatten()[0]\n",
    "\n",
    "    ## Transform the log-prices to prices\n",
    "    prediction = np.exp(prediction)\n",
    "\n",
    "    return int(prediction)"
   ],
   "metadata": {
    "collapsed": false,
    "pycharm": {
     "name": "#%%\n"
    }
   }
  },
  {
   "cell_type": "code",
   "execution_count": null,
   "outputs": [
    {
     "name": "stdout",
     "output_type": "stream",
     "text": [
      "Dash is running on http://127.0.0.1:8050/\n",
      "\n",
      " * Serving Flask app '__main__'\n",
      " * Debug mode: on\n"
     ]
    }
   ],
   "source": [
    "## App layout\n",
    "app.layout = html.Div([\n",
    "        html.H1('IDR Predict diamond prices'),\n",
    "\n",
    "        html.H2('Enter the diamond characteristics to get the predicted price'),\n",
    "\n",
    "        html.Div(\n",
    "                children=[div_numerical, div_dimensions, div_categorical]\n",
    "                ),\n",
    "        html.H1(id='output',\n",
    "                style={'margin-top': '50px', 'text-align': 'center'})\n",
    "        ])\n",
    "\n",
    "predictors = ['carat', 'depth', 'table', 'x', 'y', 'z', 'cut', 'color', 'clarity']\n",
    "@app.callback(\n",
    "        Output('output', 'children'),\n",
    "        [Input(x, 'value') for x in predictors])\n",
    "def show_prediction(carat, depth, table, x, y, z, cut, color, clarity):\n",
    "    pred = get_prediction(carat, depth, table, x, y, z, cut, color, clarity)\n",
    "    return str(\"Predicted Price: {:,}\".format(pred))\n",
    "\n",
    "\n",
    "if __name__ == '__main__':\n",
    "    app.run_server(debug=True, use_reloader=False)"
   ],
   "metadata": {
    "collapsed": false,
    "pycharm": {
     "name": "#%%\n",
     "is_executing": true
    }
   }
  },
  {
   "cell_type": "code",
   "execution_count": null,
   "outputs": [],
   "source": [],
   "metadata": {
    "collapsed": false,
    "pycharm": {
     "name": "#%%\n"
    }
   }
  }
 ],
 "metadata": {
  "kernelspec": {
   "display_name": "Python 3",
   "language": "python",
   "name": "python3"
  },
  "language_info": {
   "codemirror_mode": {
    "name": "ipython",
    "version": 2
   },
   "file_extension": ".py",
   "mimetype": "text/x-python",
   "name": "python",
   "nbconvert_exporter": "python",
   "pygments_lexer": "ipython2",
   "version": "2.7.6"
  }
 },
 "nbformat": 4,
 "nbformat_minor": 0
}