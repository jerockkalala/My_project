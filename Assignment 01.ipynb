{
 "cells": [
  {
   "cell_type": "markdown",
   "metadata": {
    "pycharm": {
     "name": "#%% md\n"
    }
   },
   "source": [
    "# Characteristics of Big Data"
   ]
  },
  {
   "cell_type": "markdown",
   "metadata": {
    "pycharm": {
     "name": "#%% md\n"
    }
   },
   "source": [
    "## Assignment 1\n",
    "\n",
    "In this assignment, you will calculate the estimated sizes of big data sets and the latency involved in transmitting data. \n",
    "\n",
    "This notebook contains the skeleton necessary for you to complete the assignment.  Look for comments that include `# TODO:` for sections that you need to complete. This notebook also contains the functions `check_data_items` and `check_latency_items` that check that you completed the assignment correctly.  Before you submit the assignment, the notebook should run without any assertion errors. \n",
    "\n",
    "Warning: Do not change the names of the dataframes (i.e. `df1_1`, `df1_2`, `df`_3`) as the instructor uses these names when checking the assignments. "
   ]
  },
  {
   "cell_type": "code",
   "execution_count": 2,
   "metadata": {
    "pycharm": {
     "name": "#%%\n"
    }
   },
   "outputs": [],
   "source": [
    "# This code helps check assignment data\n",
    "\n",
    "import pandas as pd\n",
    "from collections import namedtuple\n",
    "from dataclasses import dataclass\n",
    "\n",
    "InformationUnit = namedtuple('InformationUnit', ['name', 'size'])\n",
    "DataItem = namedtuple('DataItem', ['name', 'size', 'unit'])\n",
    "LatencyItem = namedtuple('LatencyItem', ['name', 'time', 'unit', 'explanation'])\n",
    "\n",
    "information_units = dict(\n",
    "    B=InformationUnit(\"byte\", 1),\n",
    "    KB=InformationUnit(\"kilobyte\", 1e3),\n",
    "    MB=InformationUnit(\"megabyte\", 1e6),\n",
    "    GB=InformationUnit(\"gigabyte\", 1e9),\n",
    "    TB=InformationUnit(\"terabyte\", 1e12),\n",
    "    PB=InformationUnit(\"petabyte\", 1e15),\n",
    "    EB=InformationUnit(\"exabyte\", 1e18),\n",
    "    ZB=InformationUnit(\"zettabyte\", 1e21),\n",
    "    YB=InformationUnit(\"yottabyte\", 1e24)\n",
    ")\n",
    "\n",
    "time_units = {\n",
    "    \"ms\": \"millisecond\",\n",
    "    \"s\": \"second\",\n",
    "    \"min\": \"minute\"\n",
    "}\n",
    "\n",
    "def check_data_items(items):\n",
    "    # Checks to see if data sizes and units are filled out correctly\n",
    "    for item in items:\n",
    "        assert item.size > 0, 'Size for \"{}\" should be greater than zero'.format(item.name)\n",
    "        assert item.unit in information_units, 'Unit \"{}\" not in units dictionary'.format(item.unit)\n",
    "        \n",
    "def check_latency_items(items):\n",
    "    # Checks to see if time sizes and units are filled out correctly\n",
    "    for item in items:\n",
    "        # assert item.time > 0, 'Time for \"{}\" should be greater than zero'.format(item.name)\n",
    "        assert item.unit in time_units, 'Unit \"{}\" not in time units dictionary'.format(item.unit)\n",
    "        assert item.explanation != \"FILL IN THE EXPLANATION HERE\", 'Fill in explanation for \"{}\"'.format(item.name)"
   ]
  },
  {
   "cell_type": "markdown",
   "metadata": {
    "pycharm": {
     "name": "#%% md\n"
    }
   },
   "source": [
    "### Assignment 1.1\n",
    "\n",
    "Provide estimates for the size of various data items.  Please explain how you arrived at the estimates for the size of each item by citing references or providing calculations. \n",
    "\n",
    "* Assume all videos are 30 frames per second\n",
    "* [HEVC](https://en.wikipedia.org/wiki/High_Efficiency_Video_Coding) stands for High Efficiency Video Coding\n",
    "* See the Wikipedia article on [display resolution](https://en.wikipedia.org/wiki/Display_resolution) for information on HD (1080p) and 4K UHD resolutions. "
   ]
  },
  {
   "cell_type": "markdown",
   "metadata": {
    "pycharm": {
     "name": "#%% md\n"
    }
   },
   "source": [
    "| Data Item                                  | Size per Item | \n",
    "|:-------------------------------------------|--------------:|\n",
    "| 128 character message                      | ? Bytes       |\n",
    "| 1024x768 PNG image                         | ? MB          |\n",
    "| 1024x768 RAW image                         | ? MB          | \n",
    "| HD (1080p) HEVC Video (15 minutes)         | ? MB          |\n",
    "| HD (1080p) Uncompressed Video (15 minutes) | ? MB          |\n",
    "| 4K UHD HEVC Video (15 minutes)             | ? MB          |\n",
    "| 4k UHD Uncompressed Video (15 minutes)     | ? MB          |\n",
    "| Human Genome (Uncompressed)                | ? GB          |"
   ]
  },
  {
   "cell_type": "code",
   "execution_count": 10,
   "metadata": {
    "pycharm": {
     "name": "#%%\n"
    }
   },
   "outputs": [
    {
     "name": "stderr",
     "output_type": "stream",
     "text": [
      "C:\\Users\\jeroc\\AppData\\Local\\Temp\\ipykernel_10784\\1908179445.py:20: FutureWarning: this method is deprecated in favour of `Styler.hide(axis=\"index\")`\n",
      "  df1_1.style.hide_index()\n"
     ]
    },
    {
     "data": {
      "text/plain": "<pandas.io.formats.style.Styler at 0x21b3defccd0>",
      "text/html": "<style type=\"text/css\">\n</style>\n<table id=\"T_7d93f\">\n  <thead>\n    <tr>\n      <th id=\"T_7d93f_level0_col0\" class=\"col_heading level0 col0\" >name</th>\n      <th id=\"T_7d93f_level0_col1\" class=\"col_heading level0 col1\" >size</th>\n      <th id=\"T_7d93f_level0_col2\" class=\"col_heading level0 col2\" >unit</th>\n    </tr>\n  </thead>\n  <tbody>\n    <tr>\n      <td id=\"T_7d93f_row0_col0\" class=\"data row0 col0\" >1 Byte</td>\n      <td id=\"T_7d93f_row0_col1\" class=\"data row0 col1\" >1.000000</td>\n      <td id=\"T_7d93f_row0_col2\" class=\"data row0 col2\" >B</td>\n    </tr>\n    <tr>\n      <td id=\"T_7d93f_row1_col0\" class=\"data row1 col0\" >128 character message</td>\n      <td id=\"T_7d93f_row1_col1\" class=\"data row1 col1\" >128.000000</td>\n      <td id=\"T_7d93f_row1_col2\" class=\"data row1 col2\" >B</td>\n    </tr>\n    <tr>\n      <td id=\"T_7d93f_row2_col0\" class=\"data row2 col0\" >1024x768 PNG image</td>\n      <td id=\"T_7d93f_row2_col1\" class=\"data row2 col1\" >1.600000</td>\n      <td id=\"T_7d93f_row2_col2\" class=\"data row2 col2\" >MB</td>\n    </tr>\n    <tr>\n      <td id=\"T_7d93f_row3_col0\" class=\"data row3 col0\" >1024x768 RAW image</td>\n      <td id=\"T_7d93f_row3_col1\" class=\"data row3 col1\" >2.400000</td>\n      <td id=\"T_7d93f_row3_col2\" class=\"data row3 col2\" >MB</td>\n    </tr>\n    <tr>\n      <td id=\"T_7d93f_row4_col0\" class=\"data row4 col0\" >HD (1080p) HEVC Video (15 minutes)</td>\n      <td id=\"T_7d93f_row4_col1\" class=\"data row4 col1\" >300.000000</td>\n      <td id=\"T_7d93f_row4_col2\" class=\"data row4 col2\" >MB</td>\n    </tr>\n    <tr>\n      <td id=\"T_7d93f_row5_col0\" class=\"data row5 col0\" >HD (1080p) Uncompressed Video (15 minutes)</td>\n      <td id=\"T_7d93f_row5_col1\" class=\"data row5 col1\" >1260.000000</td>\n      <td id=\"T_7d93f_row5_col2\" class=\"data row5 col2\" >MB</td>\n    </tr>\n    <tr>\n      <td id=\"T_7d93f_row6_col0\" class=\"data row6 col0\" >4K UHD HEVC Video (15 minutes)</td>\n      <td id=\"T_7d93f_row6_col1\" class=\"data row6 col1\" >6000.000000</td>\n      <td id=\"T_7d93f_row6_col2\" class=\"data row6 col2\" >MB</td>\n    </tr>\n    <tr>\n      <td id=\"T_7d93f_row7_col0\" class=\"data row7 col0\" >4k UHD Uncompressed Video (15 minutes)</td>\n      <td id=\"T_7d93f_row7_col1\" class=\"data row7 col1\" >6000.000000</td>\n      <td id=\"T_7d93f_row7_col2\" class=\"data row7 col2\" >MB</td>\n    </tr>\n    <tr>\n      <td id=\"T_7d93f_row8_col0\" class=\"data row8 col0\" >Human Genome (Uncompressed)</td>\n      <td id=\"T_7d93f_row8_col1\" class=\"data row8 col1\" >3.000000</td>\n      <td id=\"T_7d93f_row8_col2\" class=\"data row8 col2\" >GB</td>\n    </tr>\n  </tbody>\n</table>\n"
     },
     "execution_count": 10,
     "metadata": {},
     "output_type": "execute_result"
    }
   ],
   "source": [
    "# TODO: Fill in the estimated sizes for each item\n",
    "# You may need to adjust the units as well\n",
    "\n",
    "items1_1 = [\n",
    "    DataItem('1 Byte', 1, 'B'),\n",
    "    DataItem(\"128 character message\", 128, \"B\"), # 1 character= 8bits\n",
    "    DataItem(\"1024x768 PNG image\", 1.6, \"MB\"), # 1024x768=0.786 megapixels (compression save around 62%)\n",
    "    DataItem(\"1024x768 RAW image\", 2.4, \"MB\"), #1024x768=0.786 megapixels, 0.786 Megapixels, Aspect Ratio 4:3 (1.333:1)\n",
    "    DataItem(\"HD (1080p) HEVC Video (15 minutes)\", 300, \"MB\"), #1080p (FHD)\t5 Mbps\t20MB\t50 minutes\n",
    "    DataItem(\"HD (1080p) Uncompressed Video (15 minutes)\", 1260, \"MB\"), # calculated based on the above size\n",
    "    DataItem(\"4K UHD HEVC Video (15 minutes)\", 6000, \"MB\"), #4k @ 60 fps 15 mins = 6,000 mb\n",
    "    DataItem(\"4k UHD Uncompressed Video (15 minutes)\", 6000, \"MB\"), #4k @ 60 fps 15 mins = 6,000 mb\n",
    "    DataItem(\"Human Genome (Uncompressed)\", 3, \"GB\"), #The human genome with 3Gb of nucleotides correspond with 3Gb of bytes and not\n",
    "]\n",
    "\n",
    "# Checks if items properly updated\n",
    "check_data_items(items1_1)\n",
    "    \n",
    "df1_1 = pd.DataFrame(items1_1)\n",
    "df1_1.style.hide_index()"
   ]
  },
  {
   "cell_type": "markdown",
   "metadata": {
    "pycharm": {
     "name": "#%% md\n"
    }
   },
   "source": [
    "### Assignment 1.2\n",
    "\n",
    "Using the estimates for data sizes in the previous part, determine how much storage space you would need for the following items.\n",
    "\n",
    "* [Twitter statistics](https://www.internetlivestats.com/twitter-statistics/) estimates 500 million tweets are sent each day. For simplicity, assume each tweet is 128 characters. \n",
    "* See the [Snappy Github repository](https://github.com/google/snappy) for estimates of Snappy's performance. \n",
    "* [Instagram statistics](https://www.omnicoreagency.com/instagram-statistics/) estimates over 100 million videos and photos are uploaded to Instagram every day.   Assume that 75% of those items are 1024x768 PNG photos.\n",
    "* [YouTube statistics](https://www.omnicoreagency.com/youtube-statistics/) estimates 500 hours of video is uploaded to YouTube every minute.  For simplicity, assume all videos are HD quality encoded using HEVC at 30 frames per second. \n",
    "\n",
    "\n",
    "| Data Item                                  | Size per Item | \n",
    "|:-------------------------------------------|--------------:|\n",
    "| Daily Twitter Tweets (Uncompressed)        | ??? TB        |                       \n",
    "| Daily Twitter Tweets (Snappy Compressed)   | ??? PB        |                       \n",
    "| Daily Instagram Photos                     | ??? GB        |                       \n",
    "| Daily YouTube Videos                       | ??? TB        |                       \n",
    "| Yearly Twitter Tweets (Uncompressed)       | ??? PB        |                       \n",
    "| Yearly Twitter Tweets (Snappy Compressed)  | ??? PB        |                       \n",
    "| Yearly Instagram Photos                    | ??? PB        |                       \n",
    "| Yearly YouTube Videos                      | ??? PB        | "
   ]
  },
  {
   "cell_type": "code",
   "execution_count": 9,
   "metadata": {
    "pycharm": {
     "name": "#%%\n"
    }
   },
   "outputs": [
    {
     "name": "stderr",
     "output_type": "stream",
     "text": [
      "C:\\Users\\jeroc\\AppData\\Local\\Temp\\ipykernel_10784\\3553466661.py:19: FutureWarning: this method is deprecated in favour of `Styler.hide(axis=\"index\")`\n",
      "  df1_2.style.hide_index()\n"
     ]
    },
    {
     "data": {
      "text/plain": "<pandas.io.formats.style.Styler at 0x21b3defd240>",
      "text/html": "<style type=\"text/css\">\n</style>\n<table id=\"T_af94c\">\n  <thead>\n    <tr>\n      <th id=\"T_af94c_level0_col0\" class=\"col_heading level0 col0\" >name</th>\n      <th id=\"T_af94c_level0_col1\" class=\"col_heading level0 col1\" >size</th>\n      <th id=\"T_af94c_level0_col2\" class=\"col_heading level0 col2\" >unit</th>\n    </tr>\n  </thead>\n  <tbody>\n    <tr>\n      <td id=\"T_af94c_row0_col0\" class=\"data row0 col0\" >Daily Twitter Tweets (Uncompressed)</td>\n      <td id=\"T_af94c_row0_col1\" class=\"data row0 col1\" >0.100000</td>\n      <td id=\"T_af94c_row0_col2\" class=\"data row0 col2\" >TB</td>\n    </tr>\n    <tr>\n      <td id=\"T_af94c_row1_col0\" class=\"data row1 col0\" >Daily Twitter Tweets (Snappy Compressed)</td>\n      <td id=\"T_af94c_row1_col1\" class=\"data row1 col1\" >0.000100</td>\n      <td id=\"T_af94c_row1_col2\" class=\"data row1 col2\" >PB</td>\n    </tr>\n    <tr>\n      <td id=\"T_af94c_row2_col0\" class=\"data row2 col0\" >Daily Instagram Photos</td>\n      <td id=\"T_af94c_row2_col1\" class=\"data row2 col1\" >167187.000000</td>\n      <td id=\"T_af94c_row2_col2\" class=\"data row2 col2\" >GB</td>\n    </tr>\n    <tr>\n      <td id=\"T_af94c_row3_col0\" class=\"data row3 col0\" >Daily YouTube Videos</td>\n      <td id=\"T_af94c_row3_col1\" class=\"data row3 col1\" >0.600000</td>\n      <td id=\"T_af94c_row3_col2\" class=\"data row3 col2\" >TB</td>\n    </tr>\n    <tr>\n      <td id=\"T_af94c_row4_col0\" class=\"data row4 col0\" >Yearly Twitter Tweets (Uncompressed)</td>\n      <td id=\"T_af94c_row4_col1\" class=\"data row4 col1\" >0.250000</td>\n      <td id=\"T_af94c_row4_col2\" class=\"data row4 col2\" >PB</td>\n    </tr>\n    <tr>\n      <td id=\"T_af94c_row5_col0\" class=\"data row5 col0\" >Yearly Twitter Tweets (Snappy Compressed)</td>\n      <td id=\"T_af94c_row5_col1\" class=\"data row5 col1\" >0.010000</td>\n      <td id=\"T_af94c_row5_col2\" class=\"data row5 col2\" >PB</td>\n    </tr>\n    <tr>\n      <td id=\"T_af94c_row6_col0\" class=\"data row6 col0\" >Yearly Instagram Photos</td>\n      <td id=\"T_af94c_row6_col1\" class=\"data row6 col1\" >0.200000</td>\n      <td id=\"T_af94c_row6_col2\" class=\"data row6 col2\" >PB</td>\n    </tr>\n    <tr>\n      <td id=\"T_af94c_row7_col0\" class=\"data row7 col0\" >Yearly YouTube Videos</td>\n      <td id=\"T_af94c_row7_col1\" class=\"data row7 col1\" >0.000600</td>\n      <td id=\"T_af94c_row7_col2\" class=\"data row7 col2\" >PB</td>\n    </tr>\n  </tbody>\n</table>\n"
     },
     "execution_count": 9,
     "metadata": {},
     "output_type": "execute_result"
    }
   ],
   "source": [
    "# TODO: Fill in the estimated sizes for each item\n",
    "# You may need to adjust the units as well\n",
    "\n",
    "items1_2 = [\n",
    "    DataItem(\"Daily Twitter Tweets (Uncompressed)\", 0.1, \"TB\"),\n",
    "    DataItem(\"Daily Twitter Tweets (Snappy Compressed)\", 0.0001, \"PB\"),\n",
    "    DataItem(\"Daily Instagram Photos\", 167187, \"GB\"),\n",
    "    DataItem(\"Daily YouTube Videos\", 0.6, \"TB\"),\n",
    "    DataItem(\"Yearly Twitter Tweets (Uncompressed)\", 0.25, \"PB\"),\n",
    "    DataItem(\"Yearly Twitter Tweets (Snappy Compressed)\", 0.01, \"PB\"),\n",
    "    DataItem(\"Yearly Instagram Photos\", 0.2, \"PB\"),\n",
    "    DataItem(\"Yearly YouTube Videos\", 0.0006, \"PB\"),\n",
    "]\n",
    "\n",
    "# Checks if items properly updated\n",
    "check_data_items(items1_2)\n",
    "\n",
    "df1_2 = pd.DataFrame(items1_2)\n",
    "df1_2.style.hide_index()"
   ]
  },
  {
   "cell_type": "markdown",
   "metadata": {
    "pycharm": {
     "name": "#%% md\n"
    }
   },
   "source": [
    "### Assignment 1.3\n",
    "\n",
    "Provide estimates of the one way latency for each of the following items.  Please explain how you arrived at the estimates for each item by citing references or providing calculations. "
   ]
  },
  {
   "cell_type": "markdown",
   "metadata": {
    "pycharm": {
     "name": "#%% md\n"
    }
   },
   "source": [
    "|                           | One Way Latency      |\n",
    "|:--------------------------|---------------------:|\n",
    "| Los Angeles to Amsterdam  | ? ms                 |\n",
    "| Low Earth Orbit Satellite | ? ms                 |\n",
    "| Geostationary Satellite   | ? ms                 |\n",
    "| Earth to the Moon         | ? ms                 |\n",
    "| Earth to Mars             | ? min                | "
   ]
  },
  {
   "cell_type": "code",
   "execution_count": 11,
   "metadata": {
    "pycharm": {
     "name": "#%%\n"
    }
   },
   "outputs": [
    {
     "name": "stderr",
     "output_type": "stream",
     "text": [
      "C:\\Users\\jeroc\\AppData\\Local\\Temp\\ipykernel_10784\\3637798996.py:63: FutureWarning: this method is deprecated in favour of `Styler.hide(axis=\"index\")`\n",
      "  df1_3.style.hide_index()\n"
     ]
    },
    {
     "data": {
      "text/plain": "<pandas.io.formats.style.Styler at 0x21b3f89bdf0>",
      "text/html": "<style type=\"text/css\">\n</style>\n<table id=\"T_bfe79\">\n  <thead>\n    <tr>\n      <th id=\"T_bfe79_level0_col0\" class=\"col_heading level0 col0\" >name</th>\n      <th id=\"T_bfe79_level0_col1\" class=\"col_heading level0 col1\" >time</th>\n      <th id=\"T_bfe79_level0_col2\" class=\"col_heading level0 col2\" >unit</th>\n      <th id=\"T_bfe79_level0_col3\" class=\"col_heading level0 col3\" >explanation</th>\n    </tr>\n  </thead>\n  <tbody>\n    <tr>\n      <td id=\"T_bfe79_row0_col0\" class=\"data row0 col0\" >Los Angeles to Amsterdam</td>\n      <td id=\"T_bfe79_row0_col1\" class=\"data row0 col1\" >112</td>\n      <td id=\"T_bfe79_row0_col2\" class=\"data row0 col2\" >ms</td>\n      <td id=\"T_bfe79_row0_col3\" class=\"data row0 col3\" >https://www.consoleconnect.com/locations/amsterdam/\nAmsterdam\tLos Angeles, CA\tUSA\t224 ms two ways</td>\n    </tr>\n    <tr>\n      <td id=\"T_bfe79_row1_col0\" class=\"data row1 col0\" >Low Earth Orbit Satellite</td>\n      <td id=\"T_bfe79_row1_col1\" class=\"data row1 col1\" >40</td>\n      <td id=\"T_bfe79_row1_col2\" class=\"data row1 col2\" >ms</td>\n      <td id=\"T_bfe79_row1_col3\" class=\"data row1 col3\" >https://www.omniaccess.com/leo/</td>\n    </tr>\n    <tr>\n      <td id=\"T_bfe79_row2_col0\" class=\"data row2 col0\" >Geostationary Satellite</td>\n      <td id=\"T_bfe79_row2_col1\" class=\"data row2 col1\" >280</td>\n      <td id=\"T_bfe79_row2_col2\" class=\"data row2 col2\" >ms</td>\n      <td id=\"T_bfe79_row2_col3\" class=\"data row2 col3\" >1. https://web.archive.org/web/20160103125227/https://www.isoc.org/inet97/proceedings/F5/F5_1.HTM#:~:text=For%20GEO%20satellite%20communications%20systems,as%20high%20as%20400%20milliseconds).\n2. https://www.satsig.net/latency.htm</td>\n    </tr>\n    <tr>\n      <td id=\"T_bfe79_row3_col0\" class=\"data row3 col0\" >Earth to the Moon</td>\n      <td id=\"T_bfe79_row3_col1\" class=\"data row3 col1\" >1300</td>\n      <td id=\"T_bfe79_row3_col2\" class=\"data row3 col2\" >ms</td>\n      <td id=\"T_bfe79_row3_col3\" class=\"data row3 col3\" >https://www.spaceacademy.net.au/spacelink/commdly.htm\n5 min estimated, multiplied by 300 in order to get milliseconds.</td>\n    </tr>\n    <tr>\n      <td id=\"T_bfe79_row4_col0\" class=\"data row4 col0\" >Earth to Mars</td>\n      <td id=\"T_bfe79_row4_col1\" class=\"data row4 col1\" >78000</td>\n      <td id=\"T_bfe79_row4_col2\" class=\"data row4 col2\" >min</td>\n      <td id=\"T_bfe79_row4_col3\" class=\"data row4 col3\" >1. https://interimm.org/comms-latency/en/\n2. https://mars.nasa.gov/mars2020/spacecraft/rover/communications/#:~:text=It%20generally%20takes%20about%205,Earth%2C%20depending%20on%20planet%20positions.\n1.3 second estimated, multiplied by 1000 in order to get milliseconds.</td>\n    </tr>\n  </tbody>\n</table>\n"
     },
     "execution_count": 11,
     "metadata": {},
     "output_type": "execute_result"
    }
   ],
   "source": [
    "# TODO: Provide explanations for how you arrived at each estimation\n",
    "\n",
    "los_angeles_to_amsterdam_explanation = \"\"\"\n",
    "https://www.consoleconnect.com/locations/amsterdam/\n",
    "Amsterdam\tLos Angeles, CA\tUSA\t224 ms two ways\n",
    "\"\"\"\n",
    "low_earth_orbit_satellite_explanation = \"\"\"\n",
    "https://www.omniaccess.com/leo/\n",
    "\"\"\"\n",
    "geostationary_satellite_explanation = \"\"\"\n",
    "1. https://web.archive.org/web/20160103125227/https://www.isoc.org/inet97/proceedings/F5/F5_1.HTM#:~:text=For%20GEO%20satellite%20communications%20systems,as%20high%20as%20400%20milliseconds).\n",
    "2. https://www.satsig.net/latency.htm\n",
    "\"\"\"\n",
    "earth_to_the_moon_explanation = \"\"\"\n",
    "https://www.spaceacademy.net.au/spacelink/commdly.htm\n",
    "5 min estimated, multiplied by 300 in order to get milliseconds.\n",
    "\"\"\"\n",
    "earth_to_mars_explanation = \"\"\"\n",
    "1. https://interimm.org/comms-latency/en/\n",
    "2. https://mars.nasa.gov/mars2020/spacecraft/rover/communications/#:~:text=It%20generally%20takes%20about%205,Earth%2C%20depending%20on%20planet%20positions.\n",
    "1.3 second estimated, multiplied by 1000 in order to get milliseconds.\n",
    "\"\"\"\n",
    "\n",
    "# TODO: Fill in the estimated times for each item\n",
    "\n",
    "items1_3 = [\n",
    "    LatencyItem(\n",
    "        \"Los Angeles to Amsterdam\",\n",
    "        112,\n",
    "        \"ms\",\n",
    "        los_angeles_to_amsterdam_explanation.strip()\n",
    "    ),\n",
    "    LatencyItem(\n",
    "        \"Low Earth Orbit Satellite\",\n",
    "        40,\n",
    "        \"ms\",\n",
    "        low_earth_orbit_satellite_explanation.strip()\n",
    "    ),\n",
    "    LatencyItem(\n",
    "        \"Geostationary Satellite\",\n",
    "        280,\n",
    "        \"ms\",\n",
    "        geostationary_satellite_explanation.strip()\n",
    "    ),\n",
    "    LatencyItem(\n",
    "        \"Earth to the Moon\",\n",
    "        1300,\n",
    "        \"ms\",\n",
    "        earth_to_the_moon_explanation.strip()\n",
    "    ),\n",
    "    LatencyItem(\n",
    "        \"Earth to Mars\",\n",
    "        78000,\n",
    "        \"min\",\n",
    "        earth_to_mars_explanation.strip()\n",
    "    ),\n",
    "]\n",
    "\n",
    "# Checks if items properly updated\n",
    "check_latency_items(items1_3)\n",
    "\n",
    "df1_3 = pd.DataFrame(items1_3)\n",
    "df1_3.style.hide_index()"
   ]
  },
  {
   "cell_type": "code",
   "execution_count": null,
   "outputs": [],
   "source": [],
   "metadata": {
    "collapsed": false,
    "pycharm": {
     "name": "#%%\n"
    }
   }
  }
 ],
 "metadata": {
  "kernelspec": {
   "display_name": "Python 3 (ipykernel)",
   "language": "python",
   "name": "python3"
  },
  "language_info": {
   "codemirror_mode": {
    "name": "ipython",
    "version": 3
   },
   "file_extension": ".py",
   "mimetype": "text/x-python",
   "name": "python",
   "nbconvert_exporter": "python",
   "pygments_lexer": "ipython3",
   "version": "3.9.7"
  }
 },
 "nbformat": 4,
 "nbformat_minor": 4
}