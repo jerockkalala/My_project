{
 "cells": [
  {
   "cell_type": "markdown",
   "source": [
    "##### Title: Exercice 8.2\n",
    "##### Author: Jerock Kalala\n",
    "##### Date: Febuary 5th 2023\n",
    "##### Modified By: --\n",
    "##### Project Milestone 3: Data Extraction and Preliminary Feature Engineering\n",
    "\n"
   ],
   "metadata": {
    "collapsed": false,
    "pycharm": {
     "name": "#%% md\n"
    }
   }
  },
  {
   "cell_type": "code",
   "execution_count": 121,
   "outputs": [],
   "source": [],
   "metadata": {
    "collapsed": false,
    "pycharm": {
     "name": "#%%\n"
    }
   }
  },
  {
   "cell_type": "markdown",
   "source": [
    "You need to get the data into a usable format and perform at least three different aspects of feature engineering (depending on what kind of model you plan to build). If the data is a PDF, you’ll use the technique you’ve learned so far to extract the text (I suggest this approach if you can find suitable PDF data). If the data is a CSV, it’ll be easier to ingest the data.\n",
    "Once you have the data, you’ll use at least three different feature engineering techniques to understand your corpus."
   ],
   "metadata": {
    "collapsed": false,
    "pycharm": {
     "name": "#%% md\n"
    }
   }
  },
  {
   "cell_type": "markdown",
   "source": [
    "Examples\n",
    "- Normalize the corpus, including converting to lower case and removing stop words\n",
    "- Bag of Words modeling\n",
    "- Bag of N-Grams modeling\n",
    "- Topic modeling\n",
    "- Clustering"
   ],
   "metadata": {
    "collapsed": false,
    "pycharm": {
     "name": "#%% md\n"
    }
   }
  },
  {
   "cell_type": "code",
   "execution_count": 131,
   "outputs": [],
   "source": [
    "import string\n",
    "import pandas as pd\n",
    "import numpy as np\n",
    "import re\n",
    "%matplotlib inline\n",
    "import nltk\n",
    "from nltk.corpus import stopwords\n",
    "import spacy\n",
    "\n",
    "nlp = spacy.load(\"en_core_web_sm\")\n"
   ],
   "metadata": {
    "collapsed": false,
    "pycharm": {
     "name": "#%%\n"
    }
   }
  },
  {
   "cell_type": "markdown",
   "source": [
    "#### Data Collection & Pre-Processing"
   ],
   "metadata": {
    "collapsed": false,
    "pycharm": {
     "name": "#%% md\n"
    }
   }
  },
  {
   "cell_type": "code",
   "execution_count": 132,
   "outputs": [
    {
     "data": {
      "text/plain": "                                             Message Category\n0  Subject: naturally irresistible your corporate...     spam\n1  Subject: the stock trading gunslinger  fanny i...     spam\n2  Subject: unbelievable new homes made easy  im ...     spam\n3  Subject: 4 color printing special  request add...     spam\n4  Subject: do not have money , get software cds ...     spam",
      "text/html": "<div>\n<style scoped>\n    .dataframe tbody tr th:only-of-type {\n        vertical-align: middle;\n    }\n\n    .dataframe tbody tr th {\n        vertical-align: top;\n    }\n\n    .dataframe thead th {\n        text-align: right;\n    }\n</style>\n<table border=\"1\" class=\"dataframe\">\n  <thead>\n    <tr style=\"text-align: right;\">\n      <th></th>\n      <th>Message</th>\n      <th>Category</th>\n    </tr>\n  </thead>\n  <tbody>\n    <tr>\n      <th>0</th>\n      <td>Subject: naturally irresistible your corporate...</td>\n      <td>spam</td>\n    </tr>\n    <tr>\n      <th>1</th>\n      <td>Subject: the stock trading gunslinger  fanny i...</td>\n      <td>spam</td>\n    </tr>\n    <tr>\n      <th>2</th>\n      <td>Subject: unbelievable new homes made easy  im ...</td>\n      <td>spam</td>\n    </tr>\n    <tr>\n      <th>3</th>\n      <td>Subject: 4 color printing special  request add...</td>\n      <td>spam</td>\n    </tr>\n    <tr>\n      <th>4</th>\n      <td>Subject: do not have money , get software cds ...</td>\n      <td>spam</td>\n    </tr>\n  </tbody>\n</table>\n</div>"
     },
     "execution_count": 132,
     "metadata": {},
     "output_type": "execute_result"
    }
   ],
   "source": [
    "corpus = pd.read_csv(\"E:\\\\Bellevue\\\\Winter_2022\\\\DSC 360 Data Mining Text Analytics an\\\\Term project\\\\2emails.csv\")\n",
    "corpus.head()"
   ],
   "metadata": {
    "collapsed": false,
    "pycharm": {
     "name": "#%%\n"
    }
   }
  },
  {
   "cell_type": "markdown",
   "source": [
    "- First, We'll need to know the dataset and the data characteristics:"
   ],
   "metadata": {
    "collapsed": false,
    "pycharm": {
     "name": "#%% md\n"
    }
   }
  },
  {
   "cell_type": "code",
   "execution_count": 133,
   "outputs": [
    {
     "name": "stdout",
     "output_type": "stream",
     "text": [
      "The shape is:  (5734, 2) \n",
      "\n",
      "<class 'pandas.core.frame.DataFrame'>\n",
      "RangeIndex: 5734 entries, 0 to 5733\n",
      "Data columns (total 2 columns):\n",
      " #   Column    Non-Null Count  Dtype \n",
      "---  ------    --------------  ----- \n",
      " 0   Message   5730 non-null   object\n",
      " 1   Category  5728 non-null   object\n",
      "dtypes: object(2)\n",
      "memory usage: 89.7+ KB\n"
     ]
    }
   ],
   "source": [
    "print(\"The shape is: \", corpus.shape, \"\\n\")\n",
    "#Checking the type of data\n",
    "corpus.info()"
   ],
   "metadata": {
    "collapsed": false,
    "pycharm": {
     "name": "#%%\n"
    }
   }
  },
  {
   "cell_type": "markdown",
   "source": [
    "- Checking for missing data and duplicate data --drop them"
   ],
   "metadata": {
    "collapsed": false,
    "pycharm": {
     "name": "#%% md\n"
    }
   }
  },
  {
   "cell_type": "code",
   "execution_count": 134,
   "outputs": [
    {
     "data": {
      "text/plain": "Message     0\nCategory    0\ndtype: int64"
     },
     "execution_count": 134,
     "metadata": {},
     "output_type": "execute_result"
    }
   ],
   "source": [
    "#check for duplicates and remove them\n",
    "corpus.drop_duplicates(inplace=True)\n",
    "\n",
    "#replace the null value with null string\n",
    "new_corpus = corpus.where((pd.notnull(corpus)), '')\n",
    "\n",
    "#check if we still have any missing data\n",
    "new_corpus.isnull().sum()"
   ],
   "metadata": {
    "collapsed": false,
    "pycharm": {
     "name": "#%%\n"
    }
   }
  },
  {
   "cell_type": "code",
   "execution_count": 135,
   "outputs": [
    {
     "data": {
      "text/plain": "(5698, 2)"
     },
     "execution_count": 135,
     "metadata": {},
     "output_type": "execute_result"
    }
   ],
   "source": [
    "#Checking the actual shape\n",
    "new_corpus.shape"
   ],
   "metadata": {
    "collapsed": false,
    "pycharm": {
     "name": "#%%\n"
    }
   }
  },
  {
   "cell_type": "markdown",
   "source": [
    "- Label encoding"
   ],
   "metadata": {
    "collapsed": false,
    "pycharm": {
     "name": "#%% md\n"
    }
   }
  },
  {
   "cell_type": "code",
   "execution_count": 136,
   "outputs": [
    {
     "name": "stdout",
     "output_type": "stream",
     "text": [
      "1. In our dataset, we have 5698 of emails\n",
      "2. category = 1 means a spam email and category =0 means a ham email\n"
     ]
    }
   ],
   "source": [
    "#label mails\n",
    "new_corpus.loc[new_corpus['Category'] == 'spam', 'Category'] =0\n",
    "new_corpus.loc[new_corpus['Category'] == 'ham', 'Category'] = 1\n",
    "\n",
    "#Here is the observation:\n",
    "print(\"1. In our dataset, we have {} of emails\" .format(new_corpus.shape[0]))\n",
    "print(\"2. category = 1 means a spam email and category =0 means a ham email\")"
   ],
   "metadata": {
    "collapsed": false,
    "pycharm": {
     "name": "#%%\n"
    }
   }
  },
  {
   "cell_type": "code",
   "execution_count": 137,
   "outputs": [
    {
     "data": {
      "text/plain": "                                             Message Category\n0  Subject: naturally irresistible your corporate...        0\n1  Subject: the stock trading gunslinger  fanny i...        0\n2  Subject: unbelievable new homes made easy  im ...        0\n3  Subject: 4 color printing special  request add...        0\n4  Subject: do not have money , get software cds ...        0",
      "text/html": "<div>\n<style scoped>\n    .dataframe tbody tr th:only-of-type {\n        vertical-align: middle;\n    }\n\n    .dataframe tbody tr th {\n        vertical-align: top;\n    }\n\n    .dataframe thead th {\n        text-align: right;\n    }\n</style>\n<table border=\"1\" class=\"dataframe\">\n  <thead>\n    <tr style=\"text-align: right;\">\n      <th></th>\n      <th>Message</th>\n      <th>Category</th>\n    </tr>\n  </thead>\n  <tbody>\n    <tr>\n      <th>0</th>\n      <td>Subject: naturally irresistible your corporate...</td>\n      <td>0</td>\n    </tr>\n    <tr>\n      <th>1</th>\n      <td>Subject: the stock trading gunslinger  fanny i...</td>\n      <td>0</td>\n    </tr>\n    <tr>\n      <th>2</th>\n      <td>Subject: unbelievable new homes made easy  im ...</td>\n      <td>0</td>\n    </tr>\n    <tr>\n      <th>3</th>\n      <td>Subject: 4 color printing special  request add...</td>\n      <td>0</td>\n    </tr>\n    <tr>\n      <th>4</th>\n      <td>Subject: do not have money , get software cds ...</td>\n      <td>0</td>\n    </tr>\n  </tbody>\n</table>\n</div>"
     },
     "execution_count": 137,
     "metadata": {},
     "output_type": "execute_result"
    }
   ],
   "source": [
    "new_corpus.head()"
   ],
   "metadata": {
    "collapsed": false,
    "pycharm": {
     "name": "#%%\n"
    }
   }
  },
  {
   "cell_type": "markdown",
   "source": [
    "- Defining the cleaning function"
   ],
   "metadata": {
    "collapsed": false,
    "pycharm": {
     "name": "#%% md\n"
    }
   }
  },
  {
   "cell_type": "code",
   "execution_count": 139,
   "outputs": [],
   "source": [
    "#normalize function\n",
    "\n",
    "wpt = nltk.WordPunctTokenizer()\n",
    "stop_words = nltk.corpus.stopwords.words('English')\n",
    "\n",
    "def normalize_document(doc):\n",
    "    # lowercase and remove special characters\\whitespace\n",
    "    doc = re.sub(r'[^a-zA-Z\\s]', '', doc, re.I|re.A)\n",
    "    doc = doc.lower()\n",
    "    doc = doc.strip()\n",
    "    #tokenize document\n",
    "    tokens = wpt.tokenize(doc)\n",
    "    # filter stopwords out of document\n",
    "    filtered_tokens = [token for token in tokens if token not in stop_words]\n",
    "    # re-create document from filtered tokens\n",
    "    doc = ' '.join(filtered_tokens)\n",
    "    doc = re.sub('\\n',' ',doc)\n",
    "    return doc\n",
    "\n",
    "normalize_corpus = np.vectorize(normalize_document)\n",
    "\n",
    "def clean_mails(doc):\n",
    "    doc = doc.str.replace('[^\\w\\s]', '', regex=True)\n",
    "    doc = doc.apply(lambda x: ' '.join([word for word in x.split() if word not in stop_words]))\n",
    "    return doc\n",
    "\n",
    "def cleaning(doc):\n",
    "    #remove punctuation\n",
    "  text = [char for char in doc if char not in string.punctuation]\n",
    "  text = ''.join(text)\n",
    "    #convert all text to lower case\n",
    "  text = text.lower()\n",
    "    #remove stop_words\n",
    "  text = [word for word in text.split() if word.lower() not in stopwords.words('english')]\n",
    "  return doc\n",
    "\n",
    "#new_corpus['email'] = new_corpus['Message'].apply(cleaning)"
   ],
   "metadata": {
    "collapsed": false,
    "pycharm": {
     "name": "#%%\n"
    }
   }
  },
  {
   "cell_type": "markdown",
   "source": [
    "- Cleaning our data"
   ],
   "metadata": {
    "collapsed": false,
    "pycharm": {
     "name": "#%% md\n"
    }
   }
  },
  {
   "cell_type": "code",
   "execution_count": 140,
   "outputs": [
    {
     "data": {
      "text/plain": "                                             Message Category  \\\n0  Subject: naturally irresistible your corporate...        0   \n1  Subject: the stock trading gunslinger  fanny i...        0   \n2  Subject: unbelievable new homes made easy  im ...        0   \n3  Subject: 4 color printing special  request add...        0   \n4  Subject: do not have money , get software cds ...        0   \n5  Subject: great nnews  hello , welcome to medzo...        0   \n6  Subject: here ' s a hot play in motion  homela...        0   \n7  Subject: save your money buy getting this thin...        0   \n8  Subject: undeliverable : home based business f...        0   \n9  Subject: save your money buy getting this thin...        0   \n\n                                                Mail  \n0  subject naturally irresistible corporate ident...  \n1  subject stock trading gunslinger fanny merrill...  \n2  subject unbelievable new homes made easy im wa...  \n3  subject color printing special request additio...  \n4  subject money get software cds software compat...  \n5  subject great nnews hello welcome medzonline s...  \n6  subject hot play motion homeland security inve...  \n7  subject save money buy getting thing tried cia...  \n8  subject undeliverable home based business grow...  \n9  subject save money buy getting thing tried cia...  ",
      "text/html": "<div>\n<style scoped>\n    .dataframe tbody tr th:only-of-type {\n        vertical-align: middle;\n    }\n\n    .dataframe tbody tr th {\n        vertical-align: top;\n    }\n\n    .dataframe thead th {\n        text-align: right;\n    }\n</style>\n<table border=\"1\" class=\"dataframe\">\n  <thead>\n    <tr style=\"text-align: right;\">\n      <th></th>\n      <th>Message</th>\n      <th>Category</th>\n      <th>Mail</th>\n    </tr>\n  </thead>\n  <tbody>\n    <tr>\n      <th>0</th>\n      <td>Subject: naturally irresistible your corporate...</td>\n      <td>0</td>\n      <td>subject naturally irresistible corporate ident...</td>\n    </tr>\n    <tr>\n      <th>1</th>\n      <td>Subject: the stock trading gunslinger  fanny i...</td>\n      <td>0</td>\n      <td>subject stock trading gunslinger fanny merrill...</td>\n    </tr>\n    <tr>\n      <th>2</th>\n      <td>Subject: unbelievable new homes made easy  im ...</td>\n      <td>0</td>\n      <td>subject unbelievable new homes made easy im wa...</td>\n    </tr>\n    <tr>\n      <th>3</th>\n      <td>Subject: 4 color printing special  request add...</td>\n      <td>0</td>\n      <td>subject color printing special request additio...</td>\n    </tr>\n    <tr>\n      <th>4</th>\n      <td>Subject: do not have money , get software cds ...</td>\n      <td>0</td>\n      <td>subject money get software cds software compat...</td>\n    </tr>\n    <tr>\n      <th>5</th>\n      <td>Subject: great nnews  hello , welcome to medzo...</td>\n      <td>0</td>\n      <td>subject great nnews hello welcome medzonline s...</td>\n    </tr>\n    <tr>\n      <th>6</th>\n      <td>Subject: here ' s a hot play in motion  homela...</td>\n      <td>0</td>\n      <td>subject hot play motion homeland security inve...</td>\n    </tr>\n    <tr>\n      <th>7</th>\n      <td>Subject: save your money buy getting this thin...</td>\n      <td>0</td>\n      <td>subject save money buy getting thing tried cia...</td>\n    </tr>\n    <tr>\n      <th>8</th>\n      <td>Subject: undeliverable : home based business f...</td>\n      <td>0</td>\n      <td>subject undeliverable home based business grow...</td>\n    </tr>\n    <tr>\n      <th>9</th>\n      <td>Subject: save your money buy getting this thin...</td>\n      <td>0</td>\n      <td>subject save money buy getting thing tried cia...</td>\n    </tr>\n  </tbody>\n</table>\n</div>"
     },
     "execution_count": 140,
     "metadata": {},
     "output_type": "execute_result"
    }
   ],
   "source": [
    "#Let's apply the function to clean our data\n",
    "new_corpus['Mail'] = normalize_corpus(new_corpus['Message'])\n",
    "new_corpus.head(10)"
   ],
   "metadata": {
    "collapsed": false,
    "pycharm": {
     "name": "#%%\n"
    }
   }
  },
  {
   "cell_type": "markdown",
   "source": [
    "#### Bag of Words"
   ],
   "metadata": {
    "collapsed": false,
    "pycharm": {
     "name": "#%% md\n"
    }
   }
  },
  {
   "cell_type": "code",
   "execution_count": 142,
   "outputs": [
    {
     "name": "stdout",
     "output_type": "stream",
     "text": [
      "Bag of Words Model\n",
      "\n",
      "Non-zero feature positions in the sparse matrix:\n",
      "  (0, 30043)\t1\n",
      "  (0, 21089)\t1\n",
      "  (0, 16569)\t1\n",
      "  (0, 7805)\t1\n",
      "  (0, 15424)\t1\n",
      "  (0, 18864)\t1\n",
      "  (0, 25698)\t1\n",
      "  (0, 14406)\t1\n",
      "  (0, 25822)\t1\n",
      "  (0, 7036)\t3\n",
      "  (0, 19377)\t2\n",
      "  (0, 13163)\t1\n",
      "  (0, 30307)\t1\n",
      "  (0, 15966)\t1\n",
      "  (0, 16614)\t1\n",
      "  (0, 13822)\t2\n",
      "  (0, 5794)\t1\n",
      "  (0, 18676)\t3\n",
      "  (0, 30024)\t1\n",
      "  (0, 29673)\t1\n",
      "  (0, 22559)\t1\n",
      "  (0, 33726)\t2\n",
      "  (0, 19155)\t2\n",
      "  (0, 30742)\t1\n",
      "  (0, 20761)\t2\n",
      "  :\t:\n",
      "  (5697, 13946)\t1\n",
      "  (5697, 20531)\t1\n",
      "  (5697, 5661)\t1\n",
      "  (5697, 22539)\t2\n",
      "  (5697, 19347)\t1\n",
      "  (5697, 3471)\t9\n",
      "  (5697, 28641)\t1\n",
      "  (5697, 11076)\t1\n",
      "  (5697, 10865)\t1\n",
      "  (5697, 15116)\t1\n",
      "  (5697, 11868)\t1\n",
      "  (5697, 17997)\t1\n",
      "  (5697, 29532)\t1\n",
      "  (5697, 10866)\t1\n",
      "  (5697, 18191)\t1\n",
      "  (5697, 32990)\t1\n",
      "  (5697, 6369)\t1\n",
      "  (5697, 27790)\t1\n",
      "  (5697, 11260)\t5\n",
      "  (5697, 33886)\t1\n",
      "  (5697, 27994)\t1\n",
      "  (5697, 15318)\t1\n",
      "  (5697, 31628)\t1\n",
      "  (5697, 8113)\t1\n",
      "  (5697, 9125)\t1 \n",
      "\n",
      "\n",
      "Dense representation of the matrix:\n",
      "[[0 0 0 ... 0 0 0]\n",
      " [0 0 0 ... 0 0 0]\n",
      " [0 0 0 ... 0 0 0]\n",
      " ...\n",
      " [0 0 0 ... 0 0 0]\n",
      " [0 0 0 ... 0 0 0]\n",
      " [0 0 0 ... 0 0 0]] \n",
      "\n",
      "\n",
      "All document feature vectors:\n",
      "      00  000  0000  00000000  0000000000  0000102789  0000104281  0000104486  \\\n",
      "0      0    0     0         0           0           0           0           0   \n",
      "1      0    0     0         0           0           0           0           0   \n",
      "2      0    0     0         0           0           0           0           0   \n",
      "3      0    0     0         0           0           0           0           0   \n",
      "4      0    0     0         0           0           0           0           0   \n",
      "...   ..  ...   ...       ...         ...         ...         ...         ...   \n",
      "5693   0    0     0         0           0           0           0           0   \n",
      "5694   0    0     0         0           0           0           0           0   \n",
      "5695   0    0     0         0           0           0           0           0   \n",
      "5696   0    0     0         0           0           0           0           0   \n",
      "5697   0    0     0         0           0           0           0           0   \n",
      "\n",
      "      0000104631  0000104730  ...  zwzm  zxghlajf  zyban  zyc  zygoma  zymg  \\\n",
      "0              0           0  ...     0         0      0    0       0     0   \n",
      "1              0           0  ...     0         0      0    0       0     0   \n",
      "2              0           0  ...     0         0      0    0       0     0   \n",
      "3              0           0  ...     0         0      0    0       0     0   \n",
      "4              0           0  ...     0         0      0    0       0     0   \n",
      "...          ...         ...  ...   ...       ...    ...  ...     ...   ...   \n",
      "5693           0           0  ...     0         0      0    0       0     0   \n",
      "5694           0           0  ...     0         0      0    0       0     0   \n",
      "5695           0           0  ...     0         0      0    0       0     0   \n",
      "5696           0           0  ...     0         0      0    0       0     0   \n",
      "5697           0           0  ...     0         0      0    0       0     0   \n",
      "\n",
      "      zzmacmac  zzn  zzncacst  zzzz  \n",
      "0            0    0         0     0  \n",
      "1            0    0         0     0  \n",
      "2            0    0         0     0  \n",
      "3            0    0         0     0  \n",
      "4            0    0         0     0  \n",
      "...        ...  ...       ...   ...  \n",
      "5693         0    0         0     0  \n",
      "5694         0    0         0     0  \n",
      "5695         0    0         0     0  \n",
      "5696         0    0         0     0  \n",
      "5697         0    0         0     0  \n",
      "\n",
      "[5698 rows x 34928 columns] \n",
      "\n"
     ]
    }
   ],
   "source": [
    "#BOW\n",
    "\n",
    "print('Bag of Words Model')\n",
    "# starting on page 208\n",
    "from sklearn.feature_extraction.text import CountVectorizer\n",
    "# get bag of words features in sparse format\n",
    "count_vector = CountVectorizer(min_df=0., max_df=1.)\n",
    "count_vector_matrix = count_vector.fit_transform(new_corpus['Mail'])\n",
    "\n",
    "# view non-zero feature positions in the sparse matrix\n",
    "print(\"\\nNon-zero feature positions in the sparse matrix:\")\n",
    "print(count_vector_matrix, '\\n')\n",
    "\n",
    "# view dense representation (warning - might give a memory error if the data is too big)\n",
    "count_vector_matrix = count_vector_matrix.toarray()\n",
    "print(\"\\nDense representation of the matrix:\")\n",
    "print(count_vector_matrix, '\\n')\n",
    "\n",
    "# get all unique words in the corpus\n",
    "vocab = count_vector.get_feature_names_out()\n",
    "\n",
    "#show document feature vectors\n",
    "count_vector_df = pd.DataFrame(count_vector_matrix, columns=vocab)\n",
    "print(\"\\nAll document feature vectors:\")\n",
    "print(count_vector_df, '\\n')\n"
   ],
   "metadata": {
    "collapsed": false,
    "pycharm": {
     "name": "#%%\n"
    }
   }
  },
  {
   "cell_type": "markdown",
   "source": [
    "- N-Grams"
   ],
   "metadata": {
    "collapsed": false,
    "pycharm": {
     "name": "#%% md\n"
    }
   }
  },
  {
   "cell_type": "code",
   "execution_count": 146,
   "outputs": [
    {
     "name": "stdout",
     "output_type": "stream",
     "text": [
      "      00 00  00 000  00 0009249480  00 01  00 03  00 04  00 05  00 06  \\\n",
      "0         0       0              0      0      0      0      0      0   \n",
      "1         0       0              0      0      0      0      0      0   \n",
      "2         0       0              0      0      0      0      0      0   \n",
      "3         0       0              0      0      0      0      0      0   \n",
      "4         0       0              0      0      0      0      0      0   \n",
      "...     ...     ...            ...    ...    ...    ...    ...    ...   \n",
      "5693      0       0              0      0      0      0      0      0   \n",
      "5694      0       0              0      0      0      0      0      0   \n",
      "5695      0       0              0      0      0      0      0      0   \n",
      "5696      0       0              0      0      0      0      0      0   \n",
      "5697      0       0              0      0      0      0      0      0   \n",
      "\n",
      "      00 0600  00 07  ...  zygoma um  zymg dolly  zymg ollie  zymg rodger  \\\n",
      "0           0      0  ...          0           0           0            0   \n",
      "1           0      0  ...          0           0           0            0   \n",
      "2           0      0  ...          0           0           0            0   \n",
      "3           0      0  ...          0           0           0            0   \n",
      "4           0      0  ...          0           0           0            0   \n",
      "...       ...    ...  ...        ...         ...         ...          ...   \n",
      "5693        0      0  ...          0           0           0            0   \n",
      "5694        0      0  ...          0           0           0            0   \n",
      "5695        0      0  ...          0           0           0            0   \n",
      "5696        0      0  ...          0           0           0            0   \n",
      "5697        0      0  ...          0           0           0            0   \n",
      "\n",
      "      zzmacmac aol  zzn con  zzncacst dveok  zzzz example  \\\n",
      "0                0        0               0             0   \n",
      "1                0        0               0             0   \n",
      "2                0        0               0             0   \n",
      "3                0        0               0             0   \n",
      "4                0        0               0             0   \n",
      "...            ...      ...             ...           ...   \n",
      "5693             0        0               0             0   \n",
      "5694             0        0               0             0   \n",
      "5695             0        0               0             0   \n",
      "5696             0        0               0             0   \n",
      "5697             0        0               0             0   \n",
      "\n",
      "      zzzz visamastercard  zzzz winner  \n",
      "0                       0            0  \n",
      "1                       0            0  \n",
      "2                       0            0  \n",
      "3                       0            0  \n",
      "4                       0            0  \n",
      "...                   ...          ...  \n",
      "5693                    0            0  \n",
      "5694                    0            0  \n",
      "5695                    0            0  \n",
      "5696                    0            0  \n",
      "5697                    0            0  \n",
      "\n",
      "[5698 rows x 334243 columns] \n",
      "\n"
     ]
    }
   ],
   "source": [
    "# you can set the n-gram range to 1,2 to get unigrams as well as bigrams\n",
    "bv = CountVectorizer(ngram_range=(2,2))\n",
    "bv_matrix = bv.fit_transform(new_corpus['Mail'])\n",
    "bv_matrix = bv_matrix.toarray()\n",
    "vocab = bv.get_feature_names_out()\n",
    "bv_df = pd.DataFrame(bv_matrix, columns=vocab)\n",
    "print(bv_df, '\\n')"
   ],
   "metadata": {
    "collapsed": false,
    "pycharm": {
     "name": "#%%\n"
    }
   }
  },
  {
   "cell_type": "markdown",
   "source": [
    "- Term Frequency-Inverse Document Frequency"
   ],
   "metadata": {
    "collapsed": false,
    "pycharm": {
     "name": "#%% md\n"
    }
   }
  },
  {
   "cell_type": "code",
   "execution_count": 152,
   "outputs": [
    {
     "name": "stdout",
     "output_type": "stream",
     "text": [
      "Tfidf transformer:\n",
      "       00  000  0000  00000000  0000000000  0000102789  0000104281  \\\n",
      "0     0.0  0.0   0.0       0.0         0.0         0.0         0.0   \n",
      "1     0.0  0.0   0.0       0.0         0.0         0.0         0.0   \n",
      "2     0.0  0.0   0.0       0.0         0.0         0.0         0.0   \n",
      "3     0.0  0.0   0.0       0.0         0.0         0.0         0.0   \n",
      "4     0.0  0.0   0.0       0.0         0.0         0.0         0.0   \n",
      "...   ...  ...   ...       ...         ...         ...         ...   \n",
      "5693  0.0  0.0   0.0       0.0         0.0         0.0         0.0   \n",
      "5694  0.0  0.0   0.0       0.0         0.0         0.0         0.0   \n",
      "5695  0.0  0.0   0.0       0.0         0.0         0.0         0.0   \n",
      "5696  0.0  0.0   0.0       0.0         0.0         0.0         0.0   \n",
      "5697  0.0  0.0   0.0       0.0         0.0         0.0         0.0   \n",
      "\n",
      "      0000104486  0000104631  0000104730  ...  zwzm  zxghlajf  zyban  zyc  \\\n",
      "0            0.0         0.0         0.0  ...   0.0       0.0    0.0  0.0   \n",
      "1            0.0         0.0         0.0  ...   0.0       0.0    0.0  0.0   \n",
      "2            0.0         0.0         0.0  ...   0.0       0.0    0.0  0.0   \n",
      "3            0.0         0.0         0.0  ...   0.0       0.0    0.0  0.0   \n",
      "4            0.0         0.0         0.0  ...   0.0       0.0    0.0  0.0   \n",
      "...          ...         ...         ...  ...   ...       ...    ...  ...   \n",
      "5693         0.0         0.0         0.0  ...   0.0       0.0    0.0  0.0   \n",
      "5694         0.0         0.0         0.0  ...   0.0       0.0    0.0  0.0   \n",
      "5695         0.0         0.0         0.0  ...   0.0       0.0    0.0  0.0   \n",
      "5696         0.0         0.0         0.0  ...   0.0       0.0    0.0  0.0   \n",
      "5697         0.0         0.0         0.0  ...   0.0       0.0    0.0  0.0   \n",
      "\n",
      "      zygoma  zymg  zzmacmac  zzn  zzncacst  zzzz  \n",
      "0        0.0   0.0       0.0  0.0       0.0   0.0  \n",
      "1        0.0   0.0       0.0  0.0       0.0   0.0  \n",
      "2        0.0   0.0       0.0  0.0       0.0   0.0  \n",
      "3        0.0   0.0       0.0  0.0       0.0   0.0  \n",
      "4        0.0   0.0       0.0  0.0       0.0   0.0  \n",
      "...      ...   ...       ...  ...       ...   ...  \n",
      "5693     0.0   0.0       0.0  0.0       0.0   0.0  \n",
      "5694     0.0   0.0       0.0  0.0       0.0   0.0  \n",
      "5695     0.0   0.0       0.0  0.0       0.0   0.0  \n",
      "5696     0.0   0.0       0.0  0.0       0.0   0.0  \n",
      "5697     0.0   0.0       0.0  0.0       0.0   0.0  \n",
      "\n",
      "[5698 rows x 34928 columns] \n",
      "\n"
     ]
    }
   ],
   "source": [
    "#Tf-Idf Transformer\n",
    "from sklearn.feature_extraction.text import TfidfTransformer\n",
    "\n",
    "print('Tfidf transformer:')\n",
    "term = TfidfTransformer(norm = 'l2', use_idf=True)\n",
    "term_matrix = term.fit_transform(count_vector_matrix)\n",
    "term_matrix = term_matrix.toarray()\n",
    "vocab = count_vector.get_feature_names_out()\n",
    "print(pd.DataFrame(np.round(term_matrix, 2), columns=vocab), '\\n')"
   ],
   "metadata": {
    "collapsed": false,
    "pycharm": {
     "name": "#%%\n"
    }
   }
  },
  {
   "cell_type": "code",
   "execution_count": null,
   "outputs": [],
   "source": [],
   "metadata": {
    "collapsed": false,
    "pycharm": {
     "name": "#%%\n"
    }
   }
  }
 ],
 "metadata": {
  "kernelspec": {
   "display_name": "Python 3",
   "language": "python",
   "name": "python3"
  },
  "language_info": {
   "codemirror_mode": {
    "name": "ipython",
    "version": 2
   },
   "file_extension": ".py",
   "mimetype": "text/x-python",
   "name": "python",
   "nbconvert_exporter": "python",
   "pygments_lexer": "ipython2",
   "version": "2.7.6"
  }
 },
 "nbformat": 4,
 "nbformat_minor": 0
}