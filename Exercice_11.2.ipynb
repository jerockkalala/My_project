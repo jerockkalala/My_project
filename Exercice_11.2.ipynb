{
 "cells": [
  {
   "cell_type": "markdown",
   "source": [
    "##### Title: Exercice 11.2\n",
    "##### Author: Jerock Kalala\n",
    "##### Date: Febuary 28th 2023\n",
    "##### Modified By: --\n",
    "##### Exercise: Sentiment Analysis\n"
   ],
   "metadata": {
    "collapsed": false,
    "pycharm": {
     "name": "#%% md\n"
    }
   }
  },
  {
   "cell_type": "markdown",
   "source": [
    "Load up Dependencies"
   ],
   "metadata": {
    "collapsed": false,
    "pycharm": {
     "name": "#%% md\n"
    }
   }
  },
  {
   "cell_type": "code",
   "execution_count": 2,
   "outputs": [],
   "source": [
    "import tensorflow as tf\n",
    "import tensorflow_hub as hub\n",
    "import numpy as np\n",
    "import pandas as pd\n",
    "#import text_normalizer as tn"
   ],
   "metadata": {
    "collapsed": false,
    "pycharm": {
     "name": "#%%\n"
    }
   }
  },
  {
   "cell_type": "markdown",
   "source": [
    "Check if GPU is available for use!"
   ],
   "metadata": {
    "collapsed": false,
    "pycharm": {
     "name": "#%% md\n"
    }
   }
  },
  {
   "cell_type": "code",
   "execution_count": 3,
   "outputs": [
    {
     "name": "stdout",
     "output_type": "stream",
     "text": [
      "WARNING:tensorflow:From C:\\Users\\jeroc\\AppData\\Local\\Temp\\ipykernel_25472\\3941048940.py:1: is_gpu_available (from tensorflow.python.framework.test_util) is deprecated and will be removed in a future version.\n",
      "Instructions for updating:\n",
      "Use `tf.config.list_physical_devices('GPU')` instead.\n"
     ]
    },
    {
     "data": {
      "text/plain": "False"
     },
     "execution_count": 3,
     "metadata": {},
     "output_type": "execute_result"
    }
   ],
   "source": [
    "tf.compat.v1.test.is_gpu_available()"
   ],
   "metadata": {
    "collapsed": false,
    "pycharm": {
     "name": "#%%\n"
    }
   }
  },
  {
   "cell_type": "code",
   "execution_count": 4,
   "outputs": [
    {
     "data": {
      "text/plain": "''"
     },
     "execution_count": 4,
     "metadata": {},
     "output_type": "execute_result"
    }
   ],
   "source": [
    "tf.compat.v1.test.gpu_device_name()"
   ],
   "metadata": {
    "collapsed": false,
    "pycharm": {
     "name": "#%%\n"
    }
   }
  },
  {
   "cell_type": "markdown",
   "source": [
    "### Load and view Dataset"
   ],
   "metadata": {
    "collapsed": false,
    "pycharm": {
     "name": "#%% md\n"
    }
   }
  },
  {
   "cell_type": "code",
   "execution_count": 5,
   "outputs": [
    {
     "name": "stdout",
     "output_type": "stream",
     "text": [
      "<class 'pandas.core.frame.DataFrame'>\n",
      "RangeIndex: 38932 entries, 0 to 38931\n",
      "Data columns (total 5 columns):\n",
      " #   Column        Non-Null Count  Dtype \n",
      "---  ------        --------------  ----- \n",
      " 0   User_ID       38932 non-null  object\n",
      " 1   Description   38932 non-null  object\n",
      " 2   Browser_Used  38932 non-null  object\n",
      " 3   Device_Used   38932 non-null  object\n",
      " 4   Is_Response   38932 non-null  object\n",
      "dtypes: object(5)\n",
      "memory usage: 1.5+ MB\n"
     ]
    }
   ],
   "source": [
    "dataset = pd.read_csv(\"E:\\\\Bellevue\\\\Winter_2022\\\\DSC 360 Data Mining Text Analytics an\\\\Week_10\\\\hotel-reviews.csv\", encoding='ISO-8859-1')\n",
    "dataset.info()"
   ],
   "metadata": {
    "collapsed": false,
    "pycharm": {
     "name": "#%%\n"
    }
   }
  },
  {
   "cell_type": "code",
   "execution_count": 6,
   "outputs": [
    {
     "data": {
      "text/plain": "   User_ID                                        Description  \\\n0  id10326  The room was kind of clean but had a VERY stro...   \n1  id10327  I stayed at the Crown Plaza April -- - April -...   \n2  id10328  I booked this hotel through Hotwire at the low...   \n3  id10329  Stayed here with husband and sons on the way t...   \n4  id10330  My girlfriends and I stayed here to celebrate ...   \n\n        Browser_Used Device_Used Is_Response  \n0               Edge      Mobile   not happy  \n1  Internet Explorer      Mobile   not happy  \n2            Mozilla      Tablet   not happy  \n3   InternetExplorer     Desktop       happy  \n4               Edge      Tablet   not happy  ",
      "text/html": "<div>\n<style scoped>\n    .dataframe tbody tr th:only-of-type {\n        vertical-align: middle;\n    }\n\n    .dataframe tbody tr th {\n        vertical-align: top;\n    }\n\n    .dataframe thead th {\n        text-align: right;\n    }\n</style>\n<table border=\"1\" class=\"dataframe\">\n  <thead>\n    <tr style=\"text-align: right;\">\n      <th></th>\n      <th>User_ID</th>\n      <th>Description</th>\n      <th>Browser_Used</th>\n      <th>Device_Used</th>\n      <th>Is_Response</th>\n    </tr>\n  </thead>\n  <tbody>\n    <tr>\n      <th>0</th>\n      <td>id10326</td>\n      <td>The room was kind of clean but had a VERY stro...</td>\n      <td>Edge</td>\n      <td>Mobile</td>\n      <td>not happy</td>\n    </tr>\n    <tr>\n      <th>1</th>\n      <td>id10327</td>\n      <td>I stayed at the Crown Plaza April -- - April -...</td>\n      <td>Internet Explorer</td>\n      <td>Mobile</td>\n      <td>not happy</td>\n    </tr>\n    <tr>\n      <th>2</th>\n      <td>id10328</td>\n      <td>I booked this hotel through Hotwire at the low...</td>\n      <td>Mozilla</td>\n      <td>Tablet</td>\n      <td>not happy</td>\n    </tr>\n    <tr>\n      <th>3</th>\n      <td>id10329</td>\n      <td>Stayed here with husband and sons on the way t...</td>\n      <td>InternetExplorer</td>\n      <td>Desktop</td>\n      <td>happy</td>\n    </tr>\n    <tr>\n      <th>4</th>\n      <td>id10330</td>\n      <td>My girlfriends and I stayed here to celebrate ...</td>\n      <td>Edge</td>\n      <td>Tablet</td>\n      <td>not happy</td>\n    </tr>\n  </tbody>\n</table>\n</div>"
     },
     "execution_count": 6,
     "metadata": {},
     "output_type": "execute_result"
    }
   ],
   "source": [
    "dataset.head()"
   ],
   "metadata": {
    "collapsed": false,
    "pycharm": {
     "name": "#%%\n"
    }
   }
  },
  {
   "cell_type": "code",
   "execution_count": 7,
   "outputs": [],
   "source": [
    "#keep necessary data\n",
    "dataset.drop(columns = ['User_ID', 'Browser_Used', 'Device_Used'], inplace = True)"
   ],
   "metadata": {
    "collapsed": false,
    "pycharm": {
     "name": "#%%\n"
    }
   }
  },
  {
   "cell_type": "code",
   "execution_count": 8,
   "outputs": [
    {
     "data": {
      "text/plain": "                                         Description  Is_Response\n0  The room was kind of clean but had a VERY stro...            0\n1  I stayed at the Crown Plaza April -- - April -...            0\n2  I booked this hotel through Hotwire at the low...            0\n3  Stayed here with husband and sons on the way t...            1\n4  My girlfriends and I stayed here to celebrate ...            0",
      "text/html": "<div>\n<style scoped>\n    .dataframe tbody tr th:only-of-type {\n        vertical-align: middle;\n    }\n\n    .dataframe tbody tr th {\n        vertical-align: top;\n    }\n\n    .dataframe thead th {\n        text-align: right;\n    }\n</style>\n<table border=\"1\" class=\"dataframe\">\n  <thead>\n    <tr style=\"text-align: right;\">\n      <th></th>\n      <th>Description</th>\n      <th>Is_Response</th>\n    </tr>\n  </thead>\n  <tbody>\n    <tr>\n      <th>0</th>\n      <td>The room was kind of clean but had a VERY stro...</td>\n      <td>0</td>\n    </tr>\n    <tr>\n      <th>1</th>\n      <td>I stayed at the Crown Plaza April -- - April -...</td>\n      <td>0</td>\n    </tr>\n    <tr>\n      <th>2</th>\n      <td>I booked this hotel through Hotwire at the low...</td>\n      <td>0</td>\n    </tr>\n    <tr>\n      <th>3</th>\n      <td>Stayed here with husband and sons on the way t...</td>\n      <td>1</td>\n    </tr>\n    <tr>\n      <th>4</th>\n      <td>My girlfriends and I stayed here to celebrate ...</td>\n      <td>0</td>\n    </tr>\n  </tbody>\n</table>\n</div>"
     },
     "execution_count": 8,
     "metadata": {},
     "output_type": "execute_result"
    }
   ],
   "source": [
    "dataset['Is_Response'] = [1 if Is_Response == 'happy' else 0 for Is_Response in dataset['Is_Response'].values]\n",
    "dataset.head()"
   ],
   "metadata": {
    "collapsed": false,
    "pycharm": {
     "name": "#%%\n"
    }
   }
  },
  {
   "cell_type": "markdown",
   "source": [
    "### Build train, validation and test datasets"
   ],
   "metadata": {
    "collapsed": false,
    "pycharm": {
     "name": "#%% md\n"
    }
   }
  },
  {
   "cell_type": "code",
   "execution_count": 9,
   "outputs": [
    {
     "data": {
      "text/plain": "((30000,), (5000,), (3932,))"
     },
     "execution_count": 9,
     "metadata": {},
     "output_type": "execute_result"
    }
   ],
   "source": [
    "description = dataset['Description'].values\n",
    "response = dataset['Is_Response'].values\n",
    "\n",
    "train_description = description[:30000]\n",
    "train_response = response[:30000]\n",
    "\n",
    "val_description = description[30000:35000]\n",
    "val_response = response[30000:35000]\n",
    "\n",
    "test_description = description[35000:]\n",
    "test_response = response[35000:]\n",
    "train_description.shape, val_description.shape, test_description.shape"
   ],
   "metadata": {
    "collapsed": false,
    "pycharm": {
     "name": "#%%\n"
    }
   }
  },
  {
   "cell_type": "markdown",
   "source": [
    "### Basic Text Wrangling"
   ],
   "metadata": {
    "collapsed": false,
    "pycharm": {
     "name": "#%% md\n"
    }
   }
  },
  {
   "cell_type": "code",
   "execution_count": 10,
   "outputs": [],
   "source": [
    "import contractions\n",
    "from bs4 import BeautifulSoup\n",
    "import unicodedata\n",
    "import re\n",
    "\n",
    "def strip_html_tags(text):\n",
    "    soup = BeautifulSoup(text, \"html.parser\")\n",
    "    [s.extract() for s in soup(['iframe', 'script'])]\n",
    "    stripped_text = soup.get_text()\n",
    "    stripped_text = re.sub(r'[\\r|\\n|\\r\\n]+', '\\n', stripped_text)\n",
    "    return stripped_text\n",
    "\n",
    "def remove_accented_chars(text):\n",
    "    text = unicodedata.normalize('NFKD', text).encode('ascii', 'ignore').decode('utf-8', 'ignore')\n",
    "    return text\n",
    "\n",
    "#def expand_contractions(text):\n",
    "#    return contractions.fix(text)\n",
    "\n",
    "def remove_special_characters(text, remove_digits=False):\n",
    "    pattern = r'[^a-zA-Z0-9\\s]' if not remove_digits else r'[^a-zA-Z\\s]'\n",
    "    text = re.sub(pattern, '', text)\n",
    "    return text\n",
    "\n",
    "#cleaning function\n",
    "def pre_process_document(document):\n",
    "\n",
    "    # strip HTML\n",
    "    document = strip_html_tags(document)\n",
    "\n",
    "    # lower case\n",
    "    document = document.lower()\n",
    "\n",
    "    # remove extra newlines (often might be present in really noisy text)\n",
    "    document = document.translate(document.maketrans(\"\\n\\t\\r\", \"   \"))\n",
    "\n",
    "    # remove accented characters\n",
    "    document = remove_accented_chars(document)\n",
    "\n",
    "    # expand contractions\n",
    "#    document = expand_contractions(document)\n",
    "\n",
    "    # remove special characters and\\or digits\n",
    "    # insert spaces between special characters to isolate them\n",
    "    special_char_pattern = re.compile(r'([{.(-)!}])')\n",
    "    document = special_char_pattern.sub(\" \\\\1 \", document)\n",
    "    document = remove_special_characters(document, remove_digits=True)\n",
    "\n",
    "    # remove extra whitespace\n",
    "    document = re.sub(' +', ' ', document)\n",
    "    document = document.strip()\n",
    "\n",
    "    return document\n",
    "\n",
    "\n",
    "pre_process_corpus = np.vectorize(pre_process_document)"
   ],
   "metadata": {
    "collapsed": false,
    "pycharm": {
     "name": "#%%\n"
    }
   }
  },
  {
   "cell_type": "code",
   "execution_count": 11,
   "outputs": [
    {
     "name": "stderr",
     "output_type": "stream",
     "text": [
      "C:\\Users\\jeroc\\Python\\Python310\\lib\\site-packages\\bs4\\__init__.py:435: MarkupResemblesLocatorWarning: The input looks more like a filename than markup. You may want to open this file and pass the filehandle into Beautiful Soup.\n",
      "  warnings.warn(\n"
     ]
    }
   ],
   "source": [
    "train_description = pre_process_corpus(train_description)\n",
    "val_description = pre_process_corpus(val_description)\n",
    "test_description = pre_process_corpus(test_description)"
   ],
   "metadata": {
    "collapsed": false,
    "pycharm": {
     "name": "#%%\n"
    }
   }
  },
  {
   "cell_type": "markdown",
   "source": [
    "### Build Data Ingestion Functions"
   ],
   "metadata": {
    "collapsed": false,
    "pycharm": {
     "name": "#%% md\n"
    }
   }
  },
  {
   "cell_type": "code",
   "execution_count": 12,
   "outputs": [
    {
     "name": "stdout",
     "output_type": "stream",
     "text": [
      "WARNING:tensorflow:From C:\\Users\\jeroc\\AppData\\Local\\Temp\\ipykernel_25472\\543155267.py:5: The name tf.estimator.inputs is deprecated. Please use tf.compat.v1.estimator.inputs instead.\n",
      "\n",
      "WARNING:tensorflow:From C:\\Users\\jeroc\\AppData\\Local\\Temp\\ipykernel_25472\\543155267.py:5: The name tf.estimator.inputs.numpy_input_fn is deprecated. Please use tf.compat.v1.estimator.inputs.numpy_input_fn instead.\n",
      "\n"
     ]
    }
   ],
   "source": [
    "# Training input on the whole training set with no limit on training epochs.\n",
    "#train_input_fn = tf.estimator.inputs.numpy_input_fn({'sentence': train_description}, train_response,\n",
    "#    batch_size=256, num_epochs=None, shuffle=True)\n",
    "\n",
    "train_input_fn =tf.compat.v1.estimator.inputs.numpy_input_fn({'sentence': train_description}, train_response,\n",
    "    batch_size=256, num_epochs=None, shuffle=True)"
   ],
   "metadata": {
    "collapsed": false,
    "pycharm": {
     "name": "#%%\n"
    }
   }
  },
  {
   "cell_type": "code",
   "execution_count": 13,
   "outputs": [],
   "source": [
    "# Prediction on the whole training set.\n",
    "predict_train_input_fn =tf.compat.v1.estimator.inputs.numpy_input_fn({'sentence': train_description}, train_response,\n",
    "     shuffle=False)"
   ],
   "metadata": {
    "collapsed": false,
    "pycharm": {
     "name": "#%%\n"
    }
   }
  },
  {
   "cell_type": "code",
   "execution_count": 14,
   "outputs": [],
   "source": [
    "# Prediction on the whole validation set.\n",
    "predict_val_input_fn = tf.compat.v1.estimator.inputs.numpy_input_fn(\n",
    "    {'sentence': val_description}, val_response, shuffle=False)"
   ],
   "metadata": {
    "collapsed": false,
    "pycharm": {
     "name": "#%%\n"
    }
   }
  },
  {
   "cell_type": "code",
   "execution_count": 15,
   "outputs": [],
   "source": [
    "# Prediction on the test set.\n",
    "predict_test_input_fn = tf.compat.v1.estimator.inputs.numpy_input_fn(\n",
    "    {'sentence': test_description}, test_response, shuffle=False)"
   ],
   "metadata": {
    "collapsed": false,
    "pycharm": {
     "name": "#%%\n"
    }
   }
  },
  {
   "cell_type": "markdown",
   "source": [
    "### Build Deep Learning Model with Universal Sentence Encoder"
   ],
   "metadata": {
    "collapsed": false,
    "pycharm": {
     "name": "#%% md\n"
    }
   }
  },
  {
   "cell_type": "code",
   "execution_count": 16,
   "outputs": [],
   "source": [
    "embedding_feature = hub.text_embedding_column(\n",
    "    key='sentence',\n",
    "    module_spec=\"https://tfhub.dev/google/universal-sentence-encoder/2\",\n",
    "    trainable=False)"
   ],
   "metadata": {
    "collapsed": false,
    "pycharm": {
     "name": "#%%\n"
    }
   }
  },
  {
   "cell_type": "code",
   "execution_count": 17,
   "outputs": [
    {
     "name": "stdout",
     "output_type": "stream",
     "text": [
      "INFO:tensorflow:Using default config.\n"
     ]
    },
    {
     "name": "stderr",
     "output_type": "stream",
     "text": [
      "INFO:tensorflow:Using default config.\n"
     ]
    },
    {
     "name": "stdout",
     "output_type": "stream",
     "text": [
      "WARNING:tensorflow:Using temporary folder as model directory: C:\\Users\\jeroc\\AppData\\Local\\Temp\\tmpisy5sx9y\n"
     ]
    },
    {
     "name": "stderr",
     "output_type": "stream",
     "text": [
      "WARNING:tensorflow:Using temporary folder as model directory: C:\\Users\\jeroc\\AppData\\Local\\Temp\\tmpisy5sx9y\n"
     ]
    },
    {
     "name": "stdout",
     "output_type": "stream",
     "text": [
      "INFO:tensorflow:Using config: {'_model_dir': 'C:\\\\Users\\\\jeroc\\\\AppData\\\\Local\\\\Temp\\\\tmpisy5sx9y', '_tf_random_seed': None, '_save_summary_steps': 100, '_save_checkpoints_steps': None, '_save_checkpoints_secs': 600, '_session_config': allow_soft_placement: true\n",
      "graph_options {\n",
      "  rewrite_options {\n",
      "    meta_optimizer_iterations: ONE\n",
      "  }\n",
      "}\n",
      ", '_keep_checkpoint_max': 5, '_keep_checkpoint_every_n_hours': 10000, '_log_step_count_steps': 100, '_train_distribute': None, '_device_fn': None, '_protocol': None, '_eval_distribute': None, '_experimental_distribute': None, '_experimental_max_worker_delay_secs': None, '_session_creation_timeout_secs': 7200, '_checkpoint_save_graph_def': True, '_service': None, '_cluster_spec': ClusterSpec({}), '_task_type': 'worker', '_task_id': 0, '_global_id_in_cluster': 0, '_master': '', '_evaluation_master': '', '_is_chief': True, '_num_ps_replicas': 0, '_num_worker_replicas': 1}\n"
     ]
    },
    {
     "name": "stderr",
     "output_type": "stream",
     "text": [
      "INFO:tensorflow:Using config: {'_model_dir': 'C:\\\\Users\\\\jeroc\\\\AppData\\\\Local\\\\Temp\\\\tmpisy5sx9y', '_tf_random_seed': None, '_save_summary_steps': 100, '_save_checkpoints_steps': None, '_save_checkpoints_secs': 600, '_session_config': allow_soft_placement: true\n",
      "graph_options {\n",
      "  rewrite_options {\n",
      "    meta_optimizer_iterations: ONE\n",
      "  }\n",
      "}\n",
      ", '_keep_checkpoint_max': 5, '_keep_checkpoint_every_n_hours': 10000, '_log_step_count_steps': 100, '_train_distribute': None, '_device_fn': None, '_protocol': None, '_eval_distribute': None, '_experimental_distribute': None, '_experimental_max_worker_delay_secs': None, '_session_creation_timeout_secs': 7200, '_checkpoint_save_graph_def': True, '_service': None, '_cluster_spec': ClusterSpec({}), '_task_type': 'worker', '_task_id': 0, '_global_id_in_cluster': 0, '_master': '', '_evaluation_master': '', '_is_chief': True, '_num_ps_replicas': 0, '_num_worker_replicas': 1}\n"
     ]
    }
   ],
   "source": [
    "dnn = tf.compat.v1.estimator.DNNClassifier(\n",
    "          hidden_units=[512, 128],\n",
    "          feature_columns=[embedding_feature],\n",
    "          n_classes=2,\n",
    "          activation_fn=tf.compat.v1.nn.relu,\n",
    "          dropout=0.1,\n",
    "          optimizer=tf.compat.v1.train.AdagradOptimizer(learning_rate=0.005))"
   ],
   "metadata": {
    "collapsed": false,
    "pycharm": {
     "name": "#%%\n"
    }
   }
  },
  {
   "cell_type": "markdown",
   "source": [
    "- Train for approx 12 epochs"
   ],
   "metadata": {
    "collapsed": false,
    "pycharm": {
     "name": "#%% md\n"
    }
   }
  },
  {
   "cell_type": "code",
   "execution_count": 18,
   "outputs": [
    {
     "data": {
      "text/plain": "128.0"
     },
     "execution_count": 18,
     "metadata": {},
     "output_type": "execute_result"
    }
   ],
   "source": [
    "256*1500/3000"
   ],
   "metadata": {
    "collapsed": false,
    "pycharm": {
     "name": "#%%\n"
    }
   }
  },
  {
   "cell_type": "markdown",
   "source": [
    "### Model Training"
   ],
   "metadata": {
    "collapsed": false,
    "pycharm": {
     "name": "#%% md\n"
    }
   }
  },
  {
   "cell_type": "code",
   "execution_count": null,
   "outputs": [
    {
     "name": "stdout",
     "output_type": "stream",
     "text": [
      "\n",
      "----------------------------------------------------------------------------------------------------\n",
      "Training for step = 0\n",
      "Train Time (s): 139.35413432121277\n",
      "Eval Metrics (Train): {'accuracy': 1.0, 'accuracy_baseline': 1.0, 'auc': 0.99999994, 'auc_precision_recall': 0.0, 'average_loss': 0.00037796018, 'label/mean': 0.0, 'loss': 0.048250236, 'precision': 0.0, 'prediction/mean': 0.00037712054, 'recall': 0.0, 'global_step': 100}\n",
      "Eval Metrics (Validation): {'accuracy': 1.0, 'accuracy_baseline': 1.0, 'auc': 1.0, 'auc_precision_recall': 0.0, 'average_loss': 0.00037912192, 'label/mean': 0.0, 'loss': 0.04739024, 'precision': 0.0, 'prediction/mean': 0.00037838364, 'recall': 0.0, 'global_step': 100}\n",
      "\n",
      "----------------------------------------------------------------------------------------------------\n",
      "Training for step = 100\n",
      "Train Time (s): 75.42655634880066\n",
      "Eval Metrics (Train): {'accuracy': 1.0, 'accuracy_baseline': 1.0, 'auc': 0.99999994, 'auc_precision_recall': 0.0, 'average_loss': 0.00016688764, 'label/mean': 0.0, 'loss': 0.021304805, 'precision': 0.0, 'prediction/mean': 0.0001665573, 'recall': 0.0, 'global_step': 200}\n",
      "Eval Metrics (Validation): {'accuracy': 1.0, 'accuracy_baseline': 1.0, 'auc': 1.0, 'auc_precision_recall': 0.0, 'average_loss': 0.00016683196, 'label/mean': 0.0, 'loss': 0.020853994, 'precision': 0.0, 'prediction/mean': 0.0001665539, 'recall': 0.0, 'global_step': 200}\n",
      "\n",
      "----------------------------------------------------------------------------------------------------\n",
      "Training for step = 200\n",
      "Train Time (s): 92.2151415348053\n",
      "Eval Metrics (Train): {'accuracy': 1.0, 'accuracy_baseline': 1.0, 'auc': 0.99999994, 'auc_precision_recall': 0.0, 'average_loss': 0.00010460524, 'label/mean': 0.0, 'loss': 0.013353861, 'precision': 0.0, 'prediction/mean': 0.00010441111, 'recall': 0.0, 'global_step': 300}\n",
      "Eval Metrics (Validation): {'accuracy': 1.0, 'accuracy_baseline': 1.0, 'auc': 0.99999994, 'auc_precision_recall': 0.0, 'average_loss': 0.00010430947, 'label/mean': 0.0, 'loss': 0.013038683, 'precision': 0.0, 'prediction/mean': 0.000104149876, 'recall': 0.0, 'global_step': 300}\n",
      "\n",
      "----------------------------------------------------------------------------------------------------\n",
      "Training for step = 300\n",
      "Train Time (s): 67.57169961929321\n",
      "Eval Metrics (Train): {'accuracy': 1.0, 'accuracy_baseline': 1.0, 'auc': 1.0, 'auc_precision_recall': 0.0, 'average_loss': 7.529314e-05, 'label/mean': 0.0, 'loss': 0.00961189, 'precision': 0.0, 'prediction/mean': 7.516033e-05, 'recall': 0.0, 'global_step': 400}\n",
      "Eval Metrics (Validation): {'accuracy': 1.0, 'accuracy_baseline': 1.0, 'auc': 0.99999994, 'auc_precision_recall': 0.0, 'average_loss': 7.494138e-05, 'label/mean': 0.0, 'loss': 0.009367673, 'precision': 0.0, 'prediction/mean': 7.483372e-05, 'recall': 0.0, 'global_step': 400}\n",
      "\n",
      "----------------------------------------------------------------------------------------------------\n",
      "Training for step = 400\n",
      "Train Time (s): 60.46991014480591\n",
      "Eval Metrics (Train): {'accuracy': 1.0, 'accuracy_baseline': 1.0, 'auc': 1.0, 'auc_precision_recall': 0.0, 'average_loss': 5.872656e-05, 'label/mean': 0.0, 'loss': 0.007497008, 'precision': 0.0, 'prediction/mean': 5.8626913e-05, 'recall': 0.0, 'global_step': 500}\n",
      "Eval Metrics (Validation): {'accuracy': 1.0, 'accuracy_baseline': 1.0, 'auc': 0.99999994, 'auc_precision_recall': 0.0, 'average_loss': 5.836289e-05, 'label/mean': 0.0, 'loss': 0.0072953613, 'precision': 0.0, 'prediction/mean': 5.8282913e-05, 'recall': 0.0, 'global_step': 500}\n",
      "\n",
      "----------------------------------------------------------------------------------------------------\n",
      "Training for step = 500\n",
      "Train Time (s): 62.77962350845337\n",
      "Eval Metrics (Train): {'accuracy': 1.0, 'accuracy_baseline': 1.0, 'auc': 1.0, 'auc_precision_recall': 0.0, 'average_loss': 4.7812373e-05, 'label/mean': 0.0, 'loss': 0.0061037075, 'precision': 0.0, 'prediction/mean': 4.7734113e-05, 'recall': 0.0, 'global_step': 600}\n",
      "Eval Metrics (Validation): {'accuracy': 1.0, 'accuracy_baseline': 1.0, 'auc': 1.0, 'auc_precision_recall': 0.0, 'average_loss': 4.745177e-05, 'label/mean': 0.0, 'loss': 0.0059314715, 'precision': 0.0, 'prediction/mean': 4.7389593e-05, 'recall': 0.0, 'global_step': 600}\n",
      "\n",
      "----------------------------------------------------------------------------------------------------\n",
      "Training for step = 600\n",
      "Train Time (s): 91.55988097190857\n",
      "Eval Metrics (Train): {'accuracy': 1.0, 'accuracy_baseline': 1.0, 'auc': 1.0, 'auc_precision_recall': 0.0, 'average_loss': 4.033564e-05, 'label/mean': 0.0, 'loss': 0.0051492304, 'precision': 0.0, 'prediction/mean': 4.027173e-05, 'recall': 0.0, 'global_step': 700}\n",
      "Eval Metrics (Validation): {'accuracy': 1.0, 'accuracy_baseline': 1.0, 'auc': 1.0, 'auc_precision_recall': 0.0, 'average_loss': 3.998654e-05, 'label/mean': 0.0, 'loss': 0.0049983175, 'precision': 0.0, 'prediction/mean': 3.993614e-05, 'recall': 0.0, 'global_step': 700}\n",
      "\n",
      "----------------------------------------------------------------------------------------------------\n",
      "Training for step = 700\n",
      "Train Time (s): 64.18007493019104\n",
      "Eval Metrics (Train): {'accuracy': 1.0, 'accuracy_baseline': 1.0, 'auc': 1.0, 'auc_precision_recall': 0.0, 'average_loss': 3.490702e-05, 'label/mean': 0.0, 'loss': 0.0044562155, 'precision': 0.0, 'prediction/mean': 3.4853307e-05, 'recall': 0.0, 'global_step': 800}\n",
      "Eval Metrics (Validation): {'accuracy': 1.0, 'accuracy_baseline': 1.0, 'auc': 1.0, 'auc_precision_recall': 0.0, 'average_loss': 3.4572873e-05, 'label/mean': 0.0, 'loss': 0.004321609, 'precision': 0.0, 'prediction/mean': 3.4530713e-05, 'recall': 0.0, 'global_step': 800}\n",
      "\n",
      "----------------------------------------------------------------------------------------------------\n",
      "Training for step = 800\n",
      "Train Time (s): 67.78992247581482\n",
      "Eval Metrics (Train): {'accuracy': 1.0, 'accuracy_baseline': 1.0, 'auc': 1.0, 'auc_precision_recall': 0.0, 'average_loss': 3.075082e-05, 'label/mean': 0.0, 'loss': 0.0039256364, 'precision': 0.0, 'prediction/mean': 3.0704807e-05, 'recall': 0.0, 'global_step': 900}\n",
      "Eval Metrics (Validation): {'accuracy': 1.0, 'accuracy_baseline': 1.0, 'auc': 0.99999994, 'auc_precision_recall': 0.0, 'average_loss': 3.043105e-05, 'label/mean': 0.0, 'loss': 0.0038038814, 'precision': 0.0, 'prediction/mean': 3.0395111e-05, 'recall': 0.0, 'global_step': 900}\n",
      "\n",
      "----------------------------------------------------------------------------------------------------\n",
      "Training for step = 900\n",
      "Train Time (s): 71.2681052684784\n",
      "Eval Metrics (Train): {'accuracy': 1.0, 'accuracy_baseline': 1.0, 'auc': 1.0, 'auc_precision_recall': 0.0, 'average_loss': 2.736495e-05, 'label/mean': 0.0, 'loss': 0.0034933977, 'precision': 0.0, 'prediction/mean': 2.7325192e-05, 'recall': 0.0, 'global_step': 1000}\n",
      "Eval Metrics (Validation): {'accuracy': 1.0, 'accuracy_baseline': 1.0, 'auc': 0.99999994, 'auc_precision_recall': 0.0, 'average_loss': 2.7060583e-05, 'label/mean': 0.0, 'loss': 0.003382573, 'precision': 0.0, 'prediction/mean': 2.7029675e-05, 'recall': 0.0, 'global_step': 1000}\n",
      "\n",
      "----------------------------------------------------------------------------------------------------\n",
      "Training for step = 1000\n",
      "Train Time (s): 71.19323658943176\n",
      "Eval Metrics (Train): {'accuracy': 1.0, 'accuracy_baseline': 1.0, 'auc': 1.0, 'auc_precision_recall': 0.0, 'average_loss': 2.466638e-05, 'label/mean': 0.0, 'loss': 0.0031488996, 'precision': 0.0, 'prediction/mean': 2.4631368e-05, 'recall': 0.0, 'global_step': 1100}\n",
      "Train Time (s): 89.7005705833435\n",
      "Eval Metrics (Train): {'accuracy': 1.0, 'accuracy_baseline': 1.0, 'auc': 1.0, 'auc_precision_recall': 0.0, 'average_loss': 1.9086074e-05, 'label/mean': 0.0, 'loss': 0.0024365198, 'precision': 0.0, 'prediction/mean': 1.9060604e-05, 'recall': 0.0, 'global_step': 1400}\n",
      "Eval Metrics (Validation): {'accuracy': 1.0, 'accuracy_baseline': 1.0, 'auc': 0.99999994, 'auc_precision_recall': 0.0, 'average_loss': 1.8817404e-05, 'label/mean': 0.0, 'loss': 0.0023521755, 'precision': 0.0, 'prediction/mean': 1.87981e-05, 'recall': 0.0, 'global_step': 1400}\n",
      "\n",
      "----------------------------------------------------------------------------------------------------\n",
      "Training for step = 1400\n",
      "Train Time (s): 76.02884888648987\n",
      "Eval Metrics (Train): {'accuracy': 1.0, 'accuracy_baseline': 1.0, 'auc': 0.99999994, 'auc_precision_recall': 0.0, 'average_loss': 1.7686845e-05, 'label/mean': 0.0, 'loss': 0.0022578952, 'precision': 0.0, 'prediction/mean': 1.7663751e-05, 'recall': 0.0, 'global_step': 1500}\n",
      "Eval Metrics (Validation): {'accuracy': 1.0, 'accuracy_baseline': 1.0, 'auc': 0.99999994, 'auc_precision_recall': 0.0, 'average_loss': 1.7429538e-05, 'label/mean': 0.0, 'loss': 0.0021786923, 'precision': 0.0, 'prediction/mean': 1.7412087e-05, 'recall': 0.0, 'global_step': 1500}\n",
      "\n",
      "----------------------------------------------------------------------------------------------------\n",
      "Training for step = 1500\n",
      "Train Time (s): 77.43467712402344\n",
      "Eval Metrics (Train): {'accuracy': 1.0, 'accuracy_baseline': 1.0, 'auc': 0.99999994, 'auc_precision_recall': 0.0, 'average_loss': 1.6455404e-05, 'label/mean': 0.0, 'loss': 0.0021006898, 'precision': 0.0, 'prediction/mean': 1.6434398e-05, 'recall': 0.0, 'global_step': 1600}\n",
      "Eval Metrics (Validation): {'accuracy': 1.0, 'accuracy_baseline': 1.0, 'auc': 1.0, 'auc_precision_recall': 0.0, 'average_loss': 1.620988e-05, 'label/mean': 0.0, 'loss': 0.0020262352, 'precision': 0.0, 'prediction/mean': 1.6194039e-05, 'recall': 0.0, 'global_step': 1600}\n"
     ]
    }
   ],
   "source": [
    "tf.compat.v1.logging.set_verbosity(tf.compat.v1.logging.ERROR)\n",
    "import time\n",
    "\n",
    "TOTAL_STEPS = 1500\n",
    "STEP_SIZE = 100\n",
    "for step in range(0, TOTAL_STEPS+1, STEP_SIZE):\n",
    "    print()\n",
    "    print('-'*100)\n",
    "    print('Training for step =', step)\n",
    "    start_time = time.time()\n",
    "    dnn.train(input_fn=train_input_fn, steps=STEP_SIZE)\n",
    "    elapsed_time = time.time() - start_time\n",
    "    print('Train Time (s):', elapsed_time)\n",
    "    print('Eval Metrics (Train):', dnn.evaluate(input_fn=predict_train_input_fn))\n",
    "    print('Eval Metrics (Validation):', dnn.evaluate(input_fn=predict_val_input_fn))"
   ],
   "metadata": {
    "collapsed": false,
    "pycharm": {
     "name": "#%%\n"
    }
   }
  },
  {
   "cell_type": "markdown",
   "source": [
    "### Model Evaluation"
   ],
   "metadata": {
    "collapsed": false,
    "pycharm": {
     "name": "#%% md\n"
    }
   }
  },
  {
   "cell_type": "code",
   "execution_count": 19,
   "outputs": [
    {
     "name": "stdout",
     "output_type": "stream",
     "text": [
      "INFO:tensorflow:Could not find trained model in model_dir: C:\\Users\\jeroc\\AppData\\Local\\Temp\\tmpisy5sx9y, running initialization to evaluate.\n"
     ]
    },
    {
     "name": "stderr",
     "output_type": "stream",
     "text": [
      "INFO:tensorflow:Could not find trained model in model_dir: C:\\Users\\jeroc\\AppData\\Local\\Temp\\tmpisy5sx9y, running initialization to evaluate.\n"
     ]
    },
    {
     "name": "stdout",
     "output_type": "stream",
     "text": [
      "WARNING:tensorflow:From C:\\Users\\jeroc\\Python\\Python310\\lib\\site-packages\\tensorflow_estimator\\python\\estimator\\inputs\\queues\\feeding_queue_runner.py:60: QueueRunner.__init__ (from tensorflow.python.training.queue_runner_impl) is deprecated and will be removed in a future version.\n",
      "Instructions for updating:\n",
      "To construct input pipelines, use the `tf.data` module.\n"
     ]
    },
    {
     "name": "stderr",
     "output_type": "stream",
     "text": [
      "WARNING:tensorflow:From C:\\Users\\jeroc\\Python\\Python310\\lib\\site-packages\\tensorflow_estimator\\python\\estimator\\inputs\\queues\\feeding_queue_runner.py:60: QueueRunner.__init__ (from tensorflow.python.training.queue_runner_impl) is deprecated and will be removed in a future version.\n",
      "Instructions for updating:\n",
      "To construct input pipelines, use the `tf.data` module.\n"
     ]
    },
    {
     "name": "stdout",
     "output_type": "stream",
     "text": [
      "WARNING:tensorflow:From C:\\Users\\jeroc\\Python\\Python310\\lib\\site-packages\\tensorflow_estimator\\python\\estimator\\inputs\\queues\\feeding_functions.py:491: add_queue_runner (from tensorflow.python.training.queue_runner_impl) is deprecated and will be removed in a future version.\n",
      "Instructions for updating:\n",
      "To construct input pipelines, use the `tf.data` module.\n"
     ]
    },
    {
     "name": "stderr",
     "output_type": "stream",
     "text": [
      "WARNING:tensorflow:From C:\\Users\\jeroc\\Python\\Python310\\lib\\site-packages\\tensorflow_estimator\\python\\estimator\\inputs\\queues\\feeding_functions.py:491: add_queue_runner (from tensorflow.python.training.queue_runner_impl) is deprecated and will be removed in a future version.\n",
      "Instructions for updating:\n",
      "To construct input pipelines, use the `tf.data` module.\n"
     ]
    },
    {
     "name": "stdout",
     "output_type": "stream",
     "text": [
      "INFO:tensorflow:Calling model_fn.\n"
     ]
    },
    {
     "name": "stderr",
     "output_type": "stream",
     "text": [
      "INFO:tensorflow:Calling model_fn.\n"
     ]
    },
    {
     "name": "stdout",
     "output_type": "stream",
     "text": [
      "INFO:tensorflow:Saver not created because there are no variables in the graph to restore\n"
     ]
    },
    {
     "name": "stderr",
     "output_type": "stream",
     "text": [
      "INFO:tensorflow:Saver not created because there are no variables in the graph to restore\n"
     ]
    },
    {
     "name": "stdout",
     "output_type": "stream",
     "text": [
      "INFO:tensorflow:Saver not created because there are no variables in the graph to restore\n"
     ]
    },
    {
     "name": "stderr",
     "output_type": "stream",
     "text": [
      "INFO:tensorflow:Saver not created because there are no variables in the graph to restore\n"
     ]
    },
    {
     "name": "stdout",
     "output_type": "stream",
     "text": [
      "WARNING:tensorflow:From C:\\Users\\jeroc\\Python\\Python310\\lib\\site-packages\\tensorflow_estimator\\python\\estimator\\canned\\head.py:635: auc (from tensorflow.python.ops.metrics_impl) is deprecated and will be removed in a future version.\n",
      "Instructions for updating:\n",
      "The value of AUC returned by this may race with the update so this is deprecated. Please use tf.keras.metrics.AUC instead.\n"
     ]
    },
    {
     "name": "stderr",
     "output_type": "stream",
     "text": [
      "WARNING:tensorflow:From C:\\Users\\jeroc\\Python\\Python310\\lib\\site-packages\\tensorflow_estimator\\python\\estimator\\canned\\head.py:635: auc (from tensorflow.python.ops.metrics_impl) is deprecated and will be removed in a future version.\n",
      "Instructions for updating:\n",
      "The value of AUC returned by this may race with the update so this is deprecated. Please use tf.keras.metrics.AUC instead.\n"
     ]
    },
    {
     "name": "stdout",
     "output_type": "stream",
     "text": [
      "WARNING:tensorflow:Trapezoidal rule is known to produce incorrect PR-AUCs; please switch to \"careful_interpolation\" instead.\n"
     ]
    },
    {
     "name": "stderr",
     "output_type": "stream",
     "text": [
      "WARNING:tensorflow:Trapezoidal rule is known to produce incorrect PR-AUCs; please switch to \"careful_interpolation\" instead.\n"
     ]
    },
    {
     "name": "stdout",
     "output_type": "stream",
     "text": [
      "WARNING:tensorflow:Trapezoidal rule is known to produce incorrect PR-AUCs; please switch to \"careful_interpolation\" instead.\n"
     ]
    },
    {
     "name": "stderr",
     "output_type": "stream",
     "text": [
      "WARNING:tensorflow:Trapezoidal rule is known to produce incorrect PR-AUCs; please switch to \"careful_interpolation\" instead.\n"
     ]
    },
    {
     "name": "stdout",
     "output_type": "stream",
     "text": [
      "INFO:tensorflow:Done calling model_fn.\n"
     ]
    },
    {
     "name": "stderr",
     "output_type": "stream",
     "text": [
      "INFO:tensorflow:Done calling model_fn.\n"
     ]
    },
    {
     "name": "stdout",
     "output_type": "stream",
     "text": [
      "INFO:tensorflow:Starting evaluation at 2023-03-02T22:51:27\n"
     ]
    },
    {
     "name": "stderr",
     "output_type": "stream",
     "text": [
      "INFO:tensorflow:Starting evaluation at 2023-03-02T22:51:27\n"
     ]
    },
    {
     "name": "stdout",
     "output_type": "stream",
     "text": [
      "INFO:tensorflow:Graph was finalized.\n"
     ]
    },
    {
     "name": "stderr",
     "output_type": "stream",
     "text": [
      "INFO:tensorflow:Graph was finalized.\n"
     ]
    },
    {
     "name": "stdout",
     "output_type": "stream",
     "text": [
      "INFO:tensorflow:Running local_init_op.\n"
     ]
    },
    {
     "name": "stderr",
     "output_type": "stream",
     "text": [
      "INFO:tensorflow:Running local_init_op.\n"
     ]
    },
    {
     "name": "stdout",
     "output_type": "stream",
     "text": [
      "INFO:tensorflow:Done running local_init_op.\n"
     ]
    },
    {
     "name": "stderr",
     "output_type": "stream",
     "text": [
      "INFO:tensorflow:Done running local_init_op.\n"
     ]
    },
    {
     "name": "stdout",
     "output_type": "stream",
     "text": [
      "WARNING:tensorflow:From C:\\Users\\jeroc\\Python\\Python310\\lib\\site-packages\\tensorflow\\python\\training\\monitored_session.py:910: start_queue_runners (from tensorflow.python.training.queue_runner_impl) is deprecated and will be removed in a future version.\n",
      "Instructions for updating:\n",
      "To construct input pipelines, use the `tf.data` module.\n"
     ]
    },
    {
     "name": "stderr",
     "output_type": "stream",
     "text": [
      "WARNING:tensorflow:From C:\\Users\\jeroc\\Python\\Python310\\lib\\site-packages\\tensorflow\\python\\training\\monitored_session.py:910: start_queue_runners (from tensorflow.python.training.queue_runner_impl) is deprecated and will be removed in a future version.\n",
      "Instructions for updating:\n",
      "To construct input pipelines, use the `tf.data` module.\n"
     ]
    },
    {
     "name": "stdout",
     "output_type": "stream",
     "text": [
      "INFO:tensorflow:Inference Time : 46.66022s\n"
     ]
    },
    {
     "name": "stderr",
     "output_type": "stream",
     "text": [
      "INFO:tensorflow:Inference Time : 46.66022s\n"
     ]
    },
    {
     "name": "stdout",
     "output_type": "stream",
     "text": [
      "INFO:tensorflow:Finished evaluation at 2023-03-02-22:52:14\n"
     ]
    },
    {
     "name": "stderr",
     "output_type": "stream",
     "text": [
      "INFO:tensorflow:Finished evaluation at 2023-03-02-22:52:14\n"
     ]
    },
    {
     "name": "stdout",
     "output_type": "stream",
     "text": [
      "INFO:tensorflow:Saving dict for global step 0: accuracy = 0.6287, accuracy_baseline = 0.6824667, auc = 0.44414762, auc_precision_recall = 0.6342907, average_loss = 0.6895257, global_step = 0, label/mean = 0.6824667, loss = 88.02456, precision = 0.677128, prediction/mean = 0.5065047, recall = 0.87149554\n"
     ]
    },
    {
     "name": "stderr",
     "output_type": "stream",
     "text": [
      "INFO:tensorflow:Saving dict for global step 0: accuracy = 0.6287, accuracy_baseline = 0.6824667, auc = 0.44414762, auc_precision_recall = 0.6342907, average_loss = 0.6895257, global_step = 0, label/mean = 0.6824667, loss = 88.02456, precision = 0.677128, prediction/mean = 0.5065047, recall = 0.87149554\n"
     ]
    },
    {
     "data": {
      "text/plain": "{'accuracy': 0.6287,\n 'accuracy_baseline': 0.6824667,\n 'auc': 0.44414762,\n 'auc_precision_recall': 0.6342907,\n 'average_loss': 0.6895257,\n 'label/mean': 0.6824667,\n 'loss': 88.02456,\n 'precision': 0.677128,\n 'prediction/mean': 0.5065047,\n 'recall': 0.87149554,\n 'global_step': 0}"
     },
     "execution_count": 19,
     "metadata": {},
     "output_type": "execute_result"
    }
   ],
   "source": [
    "dnn.evaluate(input_fn=predict_train_input_fn)"
   ],
   "metadata": {
    "collapsed": false,
    "pycharm": {
     "name": "#%%\n"
    }
   }
  },
  {
   "cell_type": "code",
   "execution_count": 20,
   "outputs": [
    {
     "name": "stdout",
     "output_type": "stream",
     "text": [
      "INFO:tensorflow:Could not find trained model in model_dir: C:\\Users\\jeroc\\AppData\\Local\\Temp\\tmpisy5sx9y, running initialization to evaluate.\n"
     ]
    },
    {
     "name": "stderr",
     "output_type": "stream",
     "text": [
      "INFO:tensorflow:Could not find trained model in model_dir: C:\\Users\\jeroc\\AppData\\Local\\Temp\\tmpisy5sx9y, running initialization to evaluate.\n"
     ]
    },
    {
     "name": "stdout",
     "output_type": "stream",
     "text": [
      "INFO:tensorflow:Calling model_fn.\n"
     ]
    },
    {
     "name": "stderr",
     "output_type": "stream",
     "text": [
      "INFO:tensorflow:Calling model_fn.\n"
     ]
    },
    {
     "name": "stdout",
     "output_type": "stream",
     "text": [
      "INFO:tensorflow:Saver not created because there are no variables in the graph to restore\n"
     ]
    },
    {
     "name": "stderr",
     "output_type": "stream",
     "text": [
      "INFO:tensorflow:Saver not created because there are no variables in the graph to restore\n"
     ]
    },
    {
     "name": "stdout",
     "output_type": "stream",
     "text": [
      "INFO:tensorflow:Saver not created because there are no variables in the graph to restore\n"
     ]
    },
    {
     "name": "stderr",
     "output_type": "stream",
     "text": [
      "INFO:tensorflow:Saver not created because there are no variables in the graph to restore\n"
     ]
    },
    {
     "name": "stdout",
     "output_type": "stream",
     "text": [
      "WARNING:tensorflow:Trapezoidal rule is known to produce incorrect PR-AUCs; please switch to \"careful_interpolation\" instead.\n"
     ]
    },
    {
     "name": "stderr",
     "output_type": "stream",
     "text": [
      "WARNING:tensorflow:Trapezoidal rule is known to produce incorrect PR-AUCs; please switch to \"careful_interpolation\" instead.\n"
     ]
    },
    {
     "name": "stdout",
     "output_type": "stream",
     "text": [
      "WARNING:tensorflow:Trapezoidal rule is known to produce incorrect PR-AUCs; please switch to \"careful_interpolation\" instead.\n"
     ]
    },
    {
     "name": "stderr",
     "output_type": "stream",
     "text": [
      "WARNING:tensorflow:Trapezoidal rule is known to produce incorrect PR-AUCs; please switch to \"careful_interpolation\" instead.\n"
     ]
    },
    {
     "name": "stdout",
     "output_type": "stream",
     "text": [
      "INFO:tensorflow:Done calling model_fn.\n"
     ]
    },
    {
     "name": "stderr",
     "output_type": "stream",
     "text": [
      "INFO:tensorflow:Done calling model_fn.\n"
     ]
    },
    {
     "name": "stdout",
     "output_type": "stream",
     "text": [
      "INFO:tensorflow:Starting evaluation at 2023-03-02T22:52:22\n"
     ]
    },
    {
     "name": "stderr",
     "output_type": "stream",
     "text": [
      "INFO:tensorflow:Starting evaluation at 2023-03-02T22:52:22\n"
     ]
    },
    {
     "name": "stdout",
     "output_type": "stream",
     "text": [
      "INFO:tensorflow:Graph was finalized.\n"
     ]
    },
    {
     "name": "stderr",
     "output_type": "stream",
     "text": [
      "INFO:tensorflow:Graph was finalized.\n"
     ]
    },
    {
     "name": "stdout",
     "output_type": "stream",
     "text": [
      "INFO:tensorflow:Running local_init_op.\n"
     ]
    },
    {
     "name": "stderr",
     "output_type": "stream",
     "text": [
      "INFO:tensorflow:Running local_init_op.\n"
     ]
    },
    {
     "name": "stdout",
     "output_type": "stream",
     "text": [
      "INFO:tensorflow:Done running local_init_op.\n"
     ]
    },
    {
     "name": "stderr",
     "output_type": "stream",
     "text": [
      "INFO:tensorflow:Done running local_init_op.\n"
     ]
    },
    {
     "name": "stdout",
     "output_type": "stream",
     "text": [
      "INFO:tensorflow:Inference Time : 17.22255s\n"
     ]
    },
    {
     "name": "stderr",
     "output_type": "stream",
     "text": [
      "INFO:tensorflow:Inference Time : 17.22255s\n"
     ]
    },
    {
     "name": "stdout",
     "output_type": "stream",
     "text": [
      "INFO:tensorflow:Finished evaluation at 2023-03-02-22:52:39\n"
     ]
    },
    {
     "name": "stderr",
     "output_type": "stream",
     "text": [
      "INFO:tensorflow:Finished evaluation at 2023-03-02-22:52:39\n"
     ]
    },
    {
     "name": "stdout",
     "output_type": "stream",
     "text": [
      "INFO:tensorflow:Saving dict for global step 0: accuracy = 0.60274667, accuracy_baseline = 0.68209565, auc = 0.41171944, auc_precision_recall = 0.6065924, average_loss = 0.6911097, global_step = 0, label/mean = 0.68209565, loss = 87.65946, precision = 0.6687764, prediction/mean = 0.50494164, recall = 0.82736766\n"
     ]
    },
    {
     "name": "stderr",
     "output_type": "stream",
     "text": [
      "INFO:tensorflow:Saving dict for global step 0: accuracy = 0.60274667, accuracy_baseline = 0.68209565, auc = 0.41171944, auc_precision_recall = 0.6065924, average_loss = 0.6911097, global_step = 0, label/mean = 0.68209565, loss = 87.65946, precision = 0.6687764, prediction/mean = 0.50494164, recall = 0.82736766\n"
     ]
    },
    {
     "data": {
      "text/plain": "{'accuracy': 0.60274667,\n 'accuracy_baseline': 0.68209565,\n 'auc': 0.41171944,\n 'auc_precision_recall': 0.6065924,\n 'average_loss': 0.6911097,\n 'label/mean': 0.68209565,\n 'loss': 87.65946,\n 'precision': 0.6687764,\n 'prediction/mean': 0.50494164,\n 'recall': 0.82736766,\n 'global_step': 0}"
     },
     "execution_count": 20,
     "metadata": {},
     "output_type": "execute_result"
    }
   ],
   "source": [
    "dnn.evaluate(input_fn=predict_test_input_fn)"
   ],
   "metadata": {
    "collapsed": false,
    "pycharm": {
     "name": "#%%\n"
    }
   }
  },
  {
   "cell_type": "markdown",
   "source": [
    "### Build a Generic Model Trainer on any Input Sentence Encoder"
   ],
   "metadata": {
    "collapsed": false,
    "pycharm": {
     "name": "#%% md\n"
    }
   }
  },
  {
   "cell_type": "code",
   "execution_count": 21,
   "outputs": [],
   "source": [
    "import time\n",
    "\n",
    "TOTAL_STEPS = 1500\n",
    "STEP_SIZE = 500\n",
    "\n",
    "my_checkpointing_config = tf.compat.v1.estimator.RunConfig(\n",
    "    keep_checkpoint_max = 2,       # Retain the 2 most recent checkpoints.\n",
    ")\n",
    "\n",
    "def train_and_evaluate_with_sentence_encoder(hub_module, train_module=False, path=''):\n",
    "    embedding_feature = hub.text_embedding_column(\n",
    "        key='sentence', module_spec=hub_module, trainable=train_module)\n",
    "\n",
    "    print()\n",
    "    print('='*100)\n",
    "    print('Training with', hub_module)\n",
    "    print('Trainable is:', train_module)\n",
    "    print('='*100)\n",
    "\n",
    "    dnn = tf.compat.v1.estimator.DNNClassifier(\n",
    "            hidden_units=[512, 128],\n",
    "            feature_columns=[embedding_feature],\n",
    "            n_classes=2,\n",
    "            activation_fn=tf.compat.v1.nn.relu,\n",
    "            dropout=0.1,\n",
    "            optimizer=tf.compat.v1.train.AdagradOptimizer(learning_rate=0.005),\n",
    "            model_dir=path,\n",
    "            config=my_checkpointing_config)\n",
    "\n",
    "    for step in range(0, TOTAL_STEPS+1, STEP_SIZE):\n",
    "        print('-'*100)\n",
    "        print('Training for step =', step)\n",
    "        start_time = time.time()\n",
    "        dnn.train(input_fn=train_input_fn, steps=STEP_SIZE)\n",
    "        elapsed_time = time.time() - start_time\n",
    "        print('Train Time (s):', elapsed_time)\n",
    "        print('Eval Metrics (Train):', dnn.evaluate(input_fn=predict_train_input_fn))\n",
    "        print('Eval Metrics (Validation):', dnn.evaluate(input_fn=predict_val_input_fn))\n",
    "\n",
    "    train_eval_result = dnn.evaluate(input_fn=predict_train_input_fn)\n",
    "    test_eval_result = dnn.evaluate(input_fn=predict_test_input_fn)\n",
    "\n",
    "    return {\n",
    "      \"Model Dir\": dnn.model_dir,\n",
    "      \"Training Accuracy\": train_eval_result[\"accuracy\"],\n",
    "      \"Test Accuracy\": test_eval_result[\"accuracy\"],\n",
    "      \"Training AUC\": train_eval_result[\"auc\"],\n",
    "      \"Test AUC\": test_eval_result[\"auc\"],\n",
    "      \"Training Precision\": train_eval_result[\"precision\"],\n",
    "      \"Test Precision\": test_eval_result[\"precision\"],\n",
    "      \"Training Recall\": train_eval_result[\"recall\"],\n",
    "      \"Test Recall\": test_eval_result[\"recall\"]\n",
    "    }"
   ],
   "metadata": {
    "collapsed": false,
    "pycharm": {
     "name": "#%%\n"
    }
   }
  },
  {
   "cell_type": "markdown",
   "source": [
    "### Train Deep Learning Models on difference Sentence Encoders"
   ],
   "metadata": {
    "collapsed": false,
    "pycharm": {
     "name": "#%% md\n"
    }
   }
  },
  {
   "cell_type": "markdown",
   "source": [
    "- NNLM - pre-trained and fine-tuning\n",
    "- USE - pre-trained and fine-tuning"
   ],
   "metadata": {
    "collapsed": false,
    "pycharm": {
     "name": "#%% md\n"
    }
   }
  },
  {
   "cell_type": "code",
   "execution_count": 22,
   "outputs": [
    {
     "name": "stdout",
     "output_type": "stream",
     "text": [
      "\n",
      "====================================================================================================\n",
      "Training with https://tfhub.dev/google/nnlm-en-dim128/1\n",
      "Trainable is: False\n",
      "====================================================================================================\n",
      "----------------------------------------------------------------------------------------------------\n",
      "Training for step = 0\n",
      "Train Time (s): 30.946471691131592\n",
      "Eval Metrics (Train): {'accuracy': 0.8548333, 'accuracy_baseline': 0.6824667, 'auc': 0.9203631, 'auc_precision_recall': 0.9586054, 'average_loss': 0.32905224, 'label/mean': 0.6824667, 'loss': 42.006668, 'precision': 0.8836578, 'prediction/mean': 0.6712664, 'recall': 0.9066621, 'global_step': 500}\n",
      "Eval Metrics (Validation): {'accuracy': 0.8508, 'accuracy_baseline': 0.673, 'auc': 0.914762, 'auc_precision_recall': 0.9519834, 'average_loss': 0.3416108, 'label/mean': 0.673, 'loss': 42.701347, 'precision': 0.87814033, 'prediction/mean': 0.6638266, 'recall': 0.9037147, 'global_step': 500}\n",
      "----------------------------------------------------------------------------------------------------\n",
      "Training for step = 500\n",
      "Train Time (s): 17.01788592338562\n",
      "Eval Metrics (Train): {'accuracy': 0.8599667, 'accuracy_baseline': 0.6824667, 'auc': 0.924958, 'auc_precision_recall': 0.96128654, 'average_loss': 0.31838095, 'label/mean': 0.6824667, 'loss': 40.64438, 'precision': 0.87958944, 'prediction/mean': 0.6839396, 'recall': 0.92087525, 'global_step': 1000}\n",
      "Eval Metrics (Validation): {'accuracy': 0.8558, 'accuracy_baseline': 0.673, 'auc': 0.9176688, 'auc_precision_recall': 0.9537887, 'average_loss': 0.33472157, 'label/mean': 0.673, 'loss': 41.840195, 'precision': 0.8742922, 'prediction/mean': 0.6757601, 'recall': 0.917682, 'global_step': 1000}\n",
      "----------------------------------------------------------------------------------------------------\n",
      "Training for step = 1000\n",
      "Train Time (s): 18.556899785995483\n",
      "Eval Metrics (Train): {'accuracy': 0.86256665, 'accuracy_baseline': 0.6824667, 'auc': 0.9278943, 'auc_precision_recall': 0.9629188, 'average_loss': 0.3122187, 'label/mean': 0.6824667, 'loss': 39.857704, 'precision': 0.8828019, 'prediction/mean': 0.68538743, 'recall': 0.92087525, 'global_step': 1500}\n",
      "Eval Metrics (Validation): {'accuracy': 0.8568, 'accuracy_baseline': 0.673, 'auc': 0.9187699, 'auc_precision_recall': 0.954773, 'average_loss': 0.33286664, 'label/mean': 0.673, 'loss': 41.60833, 'precision': 0.8746818, 'prediction/mean': 0.6777475, 'recall': 0.91887075, 'global_step': 1500}\n",
      "----------------------------------------------------------------------------------------------------\n",
      "Training for step = 1500\n",
      "Train Time (s): 31.29775619506836\n",
      "Eval Metrics (Train): {'accuracy': 0.8656667, 'accuracy_baseline': 0.6824667, 'auc': 0.93053013, 'auc_precision_recall': 0.96436316, 'average_loss': 0.30679443, 'label/mean': 0.6824667, 'loss': 39.165245, 'precision': 0.8853581, 'prediction/mean': 0.68382496, 'recall': 0.9226336, 'global_step': 2000}\n",
      "Eval Metrics (Validation): {'accuracy': 0.8588, 'accuracy_baseline': 0.673, 'auc': 0.91952145, 'auc_precision_recall': 0.9552478, 'average_loss': 0.33122957, 'label/mean': 0.673, 'loss': 41.403694, 'precision': 0.87694925, 'prediction/mean': 0.67617756, 'recall': 0.9191679, 'global_step': 2000}\n",
      "\n",
      "====================================================================================================\n",
      "Training with https://tfhub.dev/google/nnlm-en-dim128/1\n",
      "Trainable is: True\n",
      "====================================================================================================\n",
      "----------------------------------------------------------------------------------------------------\n",
      "Training for step = 0\n",
      "Train Time (s): 146.65008091926575\n",
      "Eval Metrics (Train): {'accuracy': 0.92083335, 'accuracy_baseline': 0.6824667, 'auc': 0.9696748, 'auc_precision_recall': 0.9845499, 'average_loss': 0.20522805, 'label/mean': 0.6824667, 'loss': 26.199326, 'precision': 0.9436682, 'prediction/mean': 0.6684795, 'recall': 0.94011915, 'global_step': 500}\n",
      "Eval Metrics (Validation): {'accuracy': 0.8774, 'accuracy_baseline': 0.673, 'auc': 0.94478303, 'auc_precision_recall': 0.9702184, 'average_loss': 0.28371435, 'label/mean': 0.673, 'loss': 35.464294, 'precision': 0.91001195, 'prediction/mean': 0.66208524, 'recall': 0.907578, 'global_step': 500}\n",
      "----------------------------------------------------------------------------------------------------\n",
      "Training for step = 500\n",
      "Train Time (s): 116.54654264450073\n",
      "Eval Metrics (Train): {'accuracy': 0.9450667, 'accuracy_baseline': 0.6824667, 'auc': 0.9822605, 'auc_precision_recall': 0.99093795, 'average_loss': 0.15364945, 'label/mean': 0.6824667, 'loss': 19.614822, 'precision': 0.95038277, 'prediction/mean': 0.69175917, 'recall': 0.97015727, 'global_step': 1000}\n",
      "Eval Metrics (Validation): {'accuracy': 0.8784, 'accuracy_baseline': 0.673, 'auc': 0.94031245, 'auc_precision_recall': 0.9675431, 'average_loss': 0.31401592, 'label/mean': 0.673, 'loss': 39.25199, 'precision': 0.9001451, 'prediction/mean': 0.6858957, 'recall': 0.9215453, 'global_step': 1000}\n",
      "----------------------------------------------------------------------------------------------------\n",
      "Training for step = 1000\n",
      "Train Time (s): 153.30536460876465\n",
      "Eval Metrics (Train): {'accuracy': 0.96383333, 'accuracy_baseline': 0.6824667, 'auc': 0.9901565, 'auc_precision_recall': 0.9949726, 'average_loss': 0.11416384, 'label/mean': 0.6824667, 'loss': 14.574106, 'precision': 0.97980696, 'prediction/mean': 0.66503006, 'recall': 0.96693367, 'global_step': 1500}\n",
      "Eval Metrics (Validation): {'accuracy': 0.8724, 'accuracy_baseline': 0.673, 'auc': 0.93432504, 'auc_precision_recall': 0.96414036, 'average_loss': 0.36522955, 'label/mean': 0.673, 'loss': 45.653694, 'precision': 0.9123072, 'prediction/mean': 0.65627295, 'recall': 0.8965825, 'global_step': 1500}\n",
      "----------------------------------------------------------------------------------------------------\n",
      "Training for step = 1500\n",
      "Train Time (s): 155.71089029312134\n",
      "Eval Metrics (Train): {'accuracy': 0.9810333, 'accuracy_baseline': 0.6824667, 'auc': 0.99498636, 'auc_precision_recall': 0.9974357, 'average_loss': 0.07431755, 'label/mean': 0.6824667, 'loss': 9.487348, 'precision': 0.9829201, 'prediction/mean': 0.6865727, 'recall': 0.9894012, 'global_step': 2000}\n",
      "Eval Metrics (Validation): {'accuracy': 0.8702, 'accuracy_baseline': 0.673, 'auc': 0.92469096, 'auc_precision_recall': 0.9589767, 'average_loss': 0.42980528, 'label/mean': 0.673, 'loss': 53.72566, 'precision': 0.89661217, 'prediction/mean': 0.6810472, 'recall': 0.91233283, 'global_step': 2000}\n",
      "\n",
      "====================================================================================================\n",
      "Training with https://tfhub.dev/google/universal-sentence-encoder/2\n",
      "Trainable is: False\n",
      "====================================================================================================\n",
      "----------------------------------------------------------------------------------------------------\n",
      "Training for step = 0\n",
      "Train Time (s): 244.91351079940796\n",
      "Eval Metrics (Train): {'accuracy': 0.8621, 'accuracy_baseline': 0.6824667, 'auc': 0.92479897, 'auc_precision_recall': 0.96068585, 'average_loss': 0.31798607, 'label/mean': 0.6824667, 'loss': 40.593967, 'precision': 0.8826175, 'prediction/mean': 0.68035597, 'recall': 0.920338, 'global_step': 500}\n",
      "Eval Metrics (Validation): {'accuracy': 0.858, 'accuracy_baseline': 0.673, 'auc': 0.92257464, 'auc_precision_recall': 0.9570545, 'average_loss': 0.32457703, 'label/mean': 0.673, 'loss': 40.57213, 'precision': 0.8783129, 'prediction/mean': 0.67304164, 'recall': 0.915899, 'global_step': 500}\n",
      "----------------------------------------------------------------------------------------------------\n",
      "Training for step = 500\n",
      "Train Time (s): 191.11718797683716\n",
      "Eval Metrics (Train): {'accuracy': 0.86513335, 'accuracy_baseline': 0.6824667, 'auc': 0.92821187, 'auc_precision_recall': 0.96258086, 'average_loss': 0.31075788, 'label/mean': 0.6824667, 'loss': 39.67122, 'precision': 0.88240224, 'prediction/mean': 0.68594176, 'recall': 0.9257595, 'global_step': 1000}\n",
      "Eval Metrics (Validation): {'accuracy': 0.8624, 'accuracy_baseline': 0.673, 'auc': 0.9241014, 'auc_precision_recall': 0.9583544, 'average_loss': 0.32161006, 'label/mean': 0.673, 'loss': 40.201256, 'precision': 0.8807966, 'prediction/mean': 0.67820024, 'recall': 0.92005944, 'global_step': 1000}\n",
      "----------------------------------------------------------------------------------------------------\n",
      "Training for step = 1000\n",
      "Train Time (s): 207.19299840927124\n",
      "Eval Metrics (Train): {'accuracy': 0.8704, 'accuracy_baseline': 0.6824667, 'auc': 0.93150175, 'auc_precision_recall': 0.964375, 'average_loss': 0.30409867, 'label/mean': 0.6824667, 'loss': 38.821106, 'precision': 0.89363015, 'prediction/mean': 0.6731406, 'recall': 0.9195565, 'global_step': 1500}\n",
      "Eval Metrics (Validation): {'accuracy': 0.862, 'accuracy_baseline': 0.673, 'auc': 0.92514557, 'auc_precision_recall': 0.95900726, 'average_loss': 0.3195083, 'label/mean': 0.673, 'loss': 39.93854, 'precision': 0.8857802, 'prediction/mean': 0.6655348, 'recall': 0.91263, 'global_step': 1500}\n",
      "----------------------------------------------------------------------------------------------------\n",
      "Training for step = 1500\n",
      "Train Time (s): 197.8085641860962\n",
      "Eval Metrics (Train): {'accuracy': 0.8737, 'accuracy_baseline': 0.6824667, 'auc': 0.9347479, 'auc_precision_recall': 0.9661778, 'average_loss': 0.2972683, 'label/mean': 0.6824667, 'loss': 37.949142, 'precision': 0.89517313, 'prediction/mean': 0.67444485, 'recall': 0.9230243, 'global_step': 2000}\n",
      "Eval Metrics (Validation): {'accuracy': 0.8618, 'accuracy_baseline': 0.673, 'auc': 0.9258474, 'auc_precision_recall': 0.95938575, 'average_loss': 0.31804362, 'label/mean': 0.673, 'loss': 39.755455, 'precision': 0.88485897, 'prediction/mean': 0.666407, 'recall': 0.9135215, 'global_step': 2000}\n",
      "\n",
      "====================================================================================================\n",
      "Training with https://tfhub.dev/google/universal-sentence-encoder/2\n",
      "Trainable is: True\n",
      "====================================================================================================\n",
      "----------------------------------------------------------------------------------------------------\n",
      "Training for step = 0\n",
      "Train Time (s): 292.68378591537476\n",
      "Eval Metrics (Train): {'accuracy': 0.9956, 'accuracy_baseline': 0.6824667, 'auc': 0.99926186, 'auc_precision_recall': 0.9996627, 'average_loss': 0.017930858, 'label/mean': 0.6824667, 'loss': 2.2890456, 'precision': 0.9981877, 'prediction/mean': 0.67729986, 'recall': 0.99535996, 'global_step': 500}\n",
      "Eval Metrics (Validation): {'accuracy': 0.8798, 'accuracy_baseline': 0.673, 'auc': 0.9272233, 'auc_precision_recall': 0.96276593, 'average_loss': 0.49570155, 'label/mean': 0.673, 'loss': 61.962696, 'precision': 0.9244472, 'prediction/mean': 0.6485616, 'recall': 0.8945022, 'global_step': 500}\n",
      "----------------------------------------------------------------------------------------------------\n",
      "Training for step = 500\n",
      "Train Time (s): 272.7080864906311\n",
      "Eval Metrics (Train): {'accuracy': 0.9999667, 'accuracy_baseline': 0.6824667, 'auc': 0.99997544, 'auc_precision_recall': 0.9999922, 'average_loss': 0.00047516028, 'label/mean': 0.6824667, 'loss': 0.06065876, 'precision': 1.0, 'prediction/mean': 0.68245685, 'recall': 0.9999512, 'global_step': 1000}\n",
      "Eval Metrics (Validation): {'accuracy': 0.884, 'accuracy_baseline': 0.673, 'auc': 0.90246063, 'auc_precision_recall': 0.9546745, 'average_loss': 0.7305989, 'label/mean': 0.673, 'loss': 91.32487, 'precision': 0.9096793, 'prediction/mean': 0.68026894, 'recall': 0.91887075, 'global_step': 1000}\n",
      "----------------------------------------------------------------------------------------------------\n",
      "Training for step = 1000\n",
      "Train Time (s): 252.93936491012573\n",
      "Eval Metrics (Train): {'accuracy': 0.9999667, 'accuracy_baseline': 0.6824667, 'auc': 0.9999755, 'auc_precision_recall': 0.9999922, 'average_loss': 0.00027218586, 'label/mean': 0.6824667, 'loss': 0.03474713, 'precision': 1.0, 'prediction/mean': 0.6824558, 'recall': 0.9999512, 'global_step': 1500}\n",
      "Eval Metrics (Validation): {'accuracy': 0.885, 'accuracy_baseline': 0.673, 'auc': 0.8956929, 'auc_precision_recall': 0.95184386, 'average_loss': 0.7981473, 'label/mean': 0.673, 'loss': 99.76842, 'precision': 0.90741825, 'prediction/mean': 0.68500555, 'recall': 0.9233284, 'global_step': 1500}\n",
      "----------------------------------------------------------------------------------------------------\n",
      "Training for step = 1500\n",
      "Train Time (s): 255.64915132522583\n",
      "Eval Metrics (Train): {'accuracy': 0.9999667, 'accuracy_baseline': 0.6824667, 'auc': 1.0, 'auc_precision_recall': 1.0, 'average_loss': 0.00013115254, 'label/mean': 0.6824667, 'loss': 0.016742878, 'precision': 1.0, 'prediction/mean': 0.68244994, 'recall': 0.9999512, 'global_step': 2000}\n",
      "Eval Metrics (Validation): {'accuracy': 0.8854, 'accuracy_baseline': 0.673, 'auc': 0.89513344, 'auc_precision_recall': 0.95169646, 'average_loss': 0.83489347, 'label/mean': 0.673, 'loss': 104.36168, 'precision': 0.90818715, 'prediction/mean': 0.6837262, 'recall': 0.9230312, 'global_step': 2000}\n"
     ]
    }
   ],
   "source": [
    "tf.compat.v1.logging.set_verbosity(tf.compat.v1.logging.ERROR)\n",
    "\n",
    "results = {}\n",
    "\n",
    "results[\"nnlm-en-dim128\"] = train_and_evaluate_with_sentence_encoder(\n",
    "    \"https://tfhub.dev/google/nnlm-en-dim128/1\", path='.\\\\storage\\\\models\\\\nnlm-en-dim128_f\\\\')\n",
    "\n",
    "results[\"nnlm-en-dim128-with-training\"] = train_and_evaluate_with_sentence_encoder(\n",
    "    \"https://tfhub.dev/google/nnlm-en-dim128/1\", train_module=True, path='.\\\\storage\\\\models\\\\nnlm-en-dim128_t\\\\')\n",
    "\n",
    "results[\"use-512\"] = train_and_evaluate_with_sentence_encoder(\n",
    "    \"https://tfhub.dev/google/universal-sentence-encoder/2\", path='.\\\\storage\\\\models\\\\use-512_f\\\\')\n",
    "\n",
    "results[\"use-512-with-training\"] = train_and_evaluate_with_sentence_encoder(\n",
    "    \"https://tfhub.dev/google/universal-sentence-encoder/2\", train_module=True, path='.\\\\storage\\\\models\\\\use-512_t\\\\')"
   ],
   "metadata": {
    "collapsed": false,
    "pycharm": {
     "name": "#%%\n"
    }
   }
  },
  {
   "cell_type": "markdown",
   "source": [
    "### Model Evaluations"
   ],
   "metadata": {
    "collapsed": false,
    "pycharm": {
     "name": "#%% md\n"
    }
   }
  },
  {
   "cell_type": "code",
   "execution_count": 23,
   "outputs": [
    {
     "data": {
      "text/plain": "                                                       Model Dir  \\\nnnlm-en-dim128                .\\storage\\models\\nnlm-en-dim128_f\\   \nnnlm-en-dim128-with-training  .\\storage\\models\\nnlm-en-dim128_t\\   \nuse-512                              .\\storage\\models\\use-512_f\\   \nuse-512-with-training                .\\storage\\models\\use-512_t\\   \n\n                              Training Accuracy  Test Accuracy  Training AUC  \\\nnnlm-en-dim128                         0.865667       0.851729      0.930530   \nnnlm-en-dim128-with-training           0.981033       0.880214      0.994986   \nuse-512                                0.873700       0.859868      0.934748   \nuse-512-with-training                  0.999967       0.890132      1.000000   \n\n                              Test AUC  Training Precision  Test Precision  \\\nnnlm-en-dim128                0.915734            0.885358        0.880667   \nnnlm-en-dim128-with-training  0.927299            0.982920        0.904501   \nuse-512                       0.924206            0.895173        0.889580   \nuse-512-with-training         0.895005            1.000000        0.918216   \n\n                              Training Recall  Test Recall  \nnnlm-en-dim128                       0.922634     0.905295  \nnnlm-en-dim128-with-training         0.989401     0.921700  \nuse-512                              0.923024     0.907159  \nuse-512-with-training                0.999951     0.920955  ",
      "text/html": "<div>\n<style scoped>\n    .dataframe tbody tr th:only-of-type {\n        vertical-align: middle;\n    }\n\n    .dataframe tbody tr th {\n        vertical-align: top;\n    }\n\n    .dataframe thead th {\n        text-align: right;\n    }\n</style>\n<table border=\"1\" class=\"dataframe\">\n  <thead>\n    <tr style=\"text-align: right;\">\n      <th></th>\n      <th>Model Dir</th>\n      <th>Training Accuracy</th>\n      <th>Test Accuracy</th>\n      <th>Training AUC</th>\n      <th>Test AUC</th>\n      <th>Training Precision</th>\n      <th>Test Precision</th>\n      <th>Training Recall</th>\n      <th>Test Recall</th>\n    </tr>\n  </thead>\n  <tbody>\n    <tr>\n      <th>nnlm-en-dim128</th>\n      <td>.\\storage\\models\\nnlm-en-dim128_f\\</td>\n      <td>0.865667</td>\n      <td>0.851729</td>\n      <td>0.930530</td>\n      <td>0.915734</td>\n      <td>0.885358</td>\n      <td>0.880667</td>\n      <td>0.922634</td>\n      <td>0.905295</td>\n    </tr>\n    <tr>\n      <th>nnlm-en-dim128-with-training</th>\n      <td>.\\storage\\models\\nnlm-en-dim128_t\\</td>\n      <td>0.981033</td>\n      <td>0.880214</td>\n      <td>0.994986</td>\n      <td>0.927299</td>\n      <td>0.982920</td>\n      <td>0.904501</td>\n      <td>0.989401</td>\n      <td>0.921700</td>\n    </tr>\n    <tr>\n      <th>use-512</th>\n      <td>.\\storage\\models\\use-512_f\\</td>\n      <td>0.873700</td>\n      <td>0.859868</td>\n      <td>0.934748</td>\n      <td>0.924206</td>\n      <td>0.895173</td>\n      <td>0.889580</td>\n      <td>0.923024</td>\n      <td>0.907159</td>\n    </tr>\n    <tr>\n      <th>use-512-with-training</th>\n      <td>.\\storage\\models\\use-512_t\\</td>\n      <td>0.999967</td>\n      <td>0.890132</td>\n      <td>1.000000</td>\n      <td>0.895005</td>\n      <td>1.000000</td>\n      <td>0.918216</td>\n      <td>0.999951</td>\n      <td>0.920955</td>\n    </tr>\n  </tbody>\n</table>\n</div>"
     },
     "execution_count": 23,
     "metadata": {},
     "output_type": "execute_result"
    }
   ],
   "source": [
    "results_df = pd.DataFrame.from_dict(results, orient=\"index\")\n",
    "results_df"
   ],
   "metadata": {
    "collapsed": false,
    "pycharm": {
     "name": "#%%\n"
    }
   }
  },
  {
   "cell_type": "code",
   "execution_count": 24,
   "outputs": [
    {
     "data": {
      "text/plain": "'.\\\\storage\\\\models\\\\use-512_t\\\\'"
     },
     "execution_count": 24,
     "metadata": {},
     "output_type": "execute_result"
    }
   ],
   "source": [
    "best_model_dir = results_df[results_df['Test Accuracy'] == results_df['Test Accuracy'].max()]['Model Dir'].values[0]\n",
    "best_model_dir"
   ],
   "metadata": {
    "collapsed": false,
    "pycharm": {
     "name": "#%%\n"
    }
   }
  },
  {
   "cell_type": "code",
   "execution_count": 27,
   "outputs": [
    {
     "data": {
      "text/plain": "<tensorflow_estimator.python.estimator.canned.dnn.DNNClassifier at 0x13200340bb0>"
     },
     "execution_count": 27,
     "metadata": {},
     "output_type": "execute_result"
    }
   ],
   "source": [
    "embedding_feature = hub.text_embedding_column(\n",
    "        key='sentence', module_spec=\"https://tfhub.dev/google/universal-sentence-encoder/2\", trainable=True)\n",
    "\n",
    "dnn = tf.compat.v1.estimator.DNNClassifier(\n",
    "            hidden_units=[512, 128],\n",
    "            feature_columns=[embedding_feature],\n",
    "            n_classes=2,\n",
    "            activation_fn=tf.nn.relu,\n",
    "            dropout=0.1,\n",
    "            optimizer=tf.compat.v1.train.AdagradOptimizer(learning_rate=0.005),\n",
    "            model_dir=best_model_dir)\n",
    "dnn"
   ],
   "metadata": {
    "collapsed": false,
    "pycharm": {
     "name": "#%%\n"
    }
   }
  },
  {
   "cell_type": "code",
   "execution_count": 28,
   "outputs": [],
   "source": [
    "def get_predictions(estimator, input_fn):\n",
    "    return [x[\"class_ids\"][0] for x in estimator.predict(input_fn=input_fn)]"
   ],
   "metadata": {
    "collapsed": false,
    "pycharm": {
     "name": "#%%\n"
    }
   }
  },
  {
   "cell_type": "code",
   "execution_count": 29,
   "outputs": [
    {
     "data": {
      "text/plain": "[1, 0, 0, 1, 1, 1, 0, 0, 1, 1]"
     },
     "execution_count": 29,
     "metadata": {},
     "output_type": "execute_result"
    }
   ],
   "source": [
    "predictions = get_predictions(estimator=dnn, input_fn=predict_test_input_fn)\n",
    "predictions[:10]"
   ],
   "metadata": {
    "collapsed": false,
    "pycharm": {
     "name": "#%%\n"
    }
   }
  },
  {
   "cell_type": "code",
   "execution_count": 32,
   "outputs": [
    {
     "data": {
      "text/plain": "<Figure size 640x480 with 2 Axes>",
      "image/png": "[encoded data removed]"
     },
     "metadata": {},
     "output_type": "display_data"
    }
   ],
   "source": [
    "import seaborn as sns\n",
    "import matplotlib.pyplot as plt\n",
    "\n",
    "%matplotlib inline\n",
    "\n",
    "with tf.compat.v1.Session() as session:\n",
    "    cm = tf.compat.v1.confusion_matrix(test_response, predictions).eval()\n",
    "\n",
    "LABELS = ['Not happy', 'Happy']\n",
    "sns.heatmap(cm, annot=True, xticklabels=LABELS, yticklabels=LABELS, fmt='g')\n",
    "xl = plt.xlabel(\"Predicted\")\n",
    "yl = plt.ylabel(\"Actuals\")"
   ],
   "metadata": {
    "collapsed": false,
    "pycharm": {
     "name": "#%%\n"
    }
   }
  },
  {
   "cell_type": "code",
   "execution_count": null,
   "outputs": [],
   "source": [],
   "metadata": {
    "collapsed": false,
    "pycharm": {
     "name": "#%%\n"
    }
   }
  }
 ],
 "metadata": {
  "kernelspec": {
   "display_name": "Python 3",
   "language": "python",
   "name": "python3"
  },
  "language_info": {
   "codemirror_mode": {
    "name": "ipython",
    "version": 2
   },
   "file_extension": ".py",
   "mimetype": "text/x-python",
   "name": "python",
   "nbconvert_exporter": "python",
   "pygments_lexer": "ipython2",
   "version": "2.7.6"
  }
 },
 "nbformat": 4,
 "nbformat_minor": 0
}