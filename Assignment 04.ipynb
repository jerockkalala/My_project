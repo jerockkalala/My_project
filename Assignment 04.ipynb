{
 "cells": [
  {
   "cell_type": "markdown",
   "metadata": {
    "pycharm": {
     "name": "#%% md\n"
    }
   },
   "source": [
    "# Working with NoSQL Databases"
   ]
  },
  {
   "cell_type": "markdown",
   "metadata": {
    "tags": [],
    "pycharm": {
     "name": "#%% md\n"
    }
   },
   "source": [
    "## Assignment 4\n",
    "\n",
    "In this assignment, you will work with examples of NoSQL databases. It includes implementing a simple in-memory key-value database in Python, using an embedded document-oriented database, and working with a graph database. \n",
    "\n",
    "The `people` dictionary contains the data you will use for this assignment. "
   ]
  },
  {
   "cell_type": "code",
   "execution_count": 1,
   "metadata": {
    "pycharm": {
     "name": "#%%\n"
    }
   },
   "outputs": [],
   "source": [
    "people = [\n",
    " {'username': 'ryanandrew',\n",
    "  'name': 'Lisa Weber',\n",
    "  'age': 64,\n",
    "  'follows': ['jill95', 'jeffrey39']},\n",
    " {'username': 'robertkirk',\n",
    "  'name': 'Austin Harris',\n",
    "  'age': 21,\n",
    "  'follows': ['achen', 'stricklandheather']},\n",
    " {'username': 'jill95',\n",
    "  'name': 'Jason Tran',\n",
    "  'age': 72,\n",
    "  'follows': ['paul31', 'achen', 'uguerrero', 'murphydanny']},\n",
    " {'username': 'uguerrero',\n",
    "  'name': 'Jason Marshall',\n",
    "  'age': 45,\n",
    "  'follows': ['ryanandrew', 'achen']},\n",
    " {'username': 'pparker',\n",
    "  'name': 'Aaron Elliott',\n",
    "  'age': 21,\n",
    "  'follows': ['paul31']},\n",
    " {'username': 'xwilliams',\n",
    "  'name': 'John Dudley',\n",
    "  'age': 12,\n",
    "  'follows': ['ryanandrew', 'foleyangela', 'jeffrey39', 'alisonkeith']},\n",
    " {'username': 'kerrjulie',\n",
    "  'name': 'Charles Roberts',\n",
    "  'age': 35,\n",
    "  'follows': ['paul31']},\n",
    " {'username': 'stricklandheather',\n",
    "  'name': 'Sherry Nguyen',\n",
    "  'age': 27,\n",
    "  'follows': ['paul31', 'alisonkeith']},\n",
    " {'username': 'achen',\n",
    "  'name': 'Dwayne Hanson',\n",
    "  'age': 86,\n",
    "  'follows': ['uguerrero', 'xwilliams']},\n",
    " {'username': 'jeffrey39',\n",
    "  'name': 'James Henderson',\n",
    "  'age': 11,\n",
    "  'follows': ['murphydanny']},\n",
    " {'username': 'alisonkeith',\n",
    "  'name': 'Jordan Jordan',\n",
    "  'age': 39,\n",
    "  'follows': ['uguerrero']},\n",
    " {'username': 'murphydanny',\n",
    "  'name': 'Cindy Brown',\n",
    "  'age': 37,\n",
    "  'follows': ['ryanandrew', 'foleyangela', 'achen']},\n",
    " {'username': 'mgiles',\n",
    "  'name': 'Dawn Lopez',\n",
    "  'age': 44,\n",
    "  'follows': ['ryanandrew']},\n",
    " {'username': 'paul31',\n",
    "  'name': 'Jesus Thomas',\n",
    "  'age': 18,\n",
    "  'follows': ['robertkirk']},\n",
    " {'username': 'foleyangela',\n",
    "  'name': 'Juan Wood',\n",
    "  'age': 59,\n",
    "  'follows': ['achen', 'jeffrey39']}\n",
    "]"
   ]
  },
  {
   "cell_type": "markdown",
   "metadata": {
    "pycharm": {
     "name": "#%% md\n"
    }
   },
   "source": [
    "### Assignment 4.1\n",
    "\n",
    "Implement a simple, in-memory key-value database using the skeleton code provided below. Insert all the `people` values with the `username` as the key and the entire profile as the value. Test `insert`, `fetch`, and `delete` to ensure they work properly. "
   ]
  },
  {
   "cell_type": "code",
   "execution_count": 62,
   "metadata": {
    "pycharm": {
     "name": "#%%\n"
    }
   },
   "outputs": [],
   "source": [
    "class SimpleDB:\n",
    "    def __init__(self):\n",
    "        self.db = dict()\n",
    "\n",
    "    def insert(self, key, value):\n",
    "        \"\"\"\n",
    "        Inserts a new value into the database\n",
    "\n",
    "        :param key: the key to insert\n",
    "        :param value: the value to insert\n",
    "        :return: True if value inserted, False if not\n",
    "        \"\"\"\n",
    "        self.db[key] = value\n",
    "        return True\n",
    "\n",
    "    def delete(self, key):\n",
    "        \"\"\"\n",
    "\n",
    "        :param key: key to delete\n",
    "        :return: True if value deleted, False if not\n",
    "        \"\"\"\n",
    "        for val in self.db:\n",
    "         if key in val:\n",
    "          val.remove(value)\n",
    "          return True\n",
    "        return False\n",
    "\n",
    "    def fetch(self, val):\n",
    "\n",
    "        \"\"\"\n",
    "        Fetches value associated with key\n",
    "\n",
    "        :param key: key whose value to fetch\n",
    "        :return: Value associated with key, \n",
    "        None if no value associated with key\n",
    "        \"\"\"\n",
    "\n",
    "        for val in self.db.items():\n",
    "         if key in val:\n",
    "          return value\n",
    "        return \"doesn't exist\"\n",
    "    \n",
    "simple_db = SimpleDB()\n"
   ]
  },
  {
   "cell_type": "code",
   "execution_count": 65,
   "outputs": [
    {
     "data": {
      "text/plain": "True"
     },
     "execution_count": 65,
     "metadata": {},
     "output_type": "execute_result"
    }
   ],
   "source": [
    "value = people[0]\n",
    "key = people[0]['username']\n",
    "simple_db.insert(key, value)\n",
    "#print(key)"
   ],
   "metadata": {
    "collapsed": false,
    "pycharm": {
     "name": "#%%\n"
    }
   }
  },
  {
   "cell_type": "code",
   "execution_count": 66,
   "outputs": [
    {
     "data": {
      "text/plain": "{'username': 'ryanandrew',\n 'name': 'Lisa Weber',\n 'age': 64,\n 'follows': ['jill95', 'jeffrey39']}"
     },
     "execution_count": 66,
     "metadata": {},
     "output_type": "execute_result"
    }
   ],
   "source": [
    "simple_db.fetch('ryanandrew')"
   ],
   "metadata": {
    "collapsed": false,
    "pycharm": {
     "name": "#%%\n"
    }
   }
  },
  {
   "cell_type": "markdown",
   "metadata": {
    "pycharm": {
     "name": "#%% md\n"
    }
   },
   "source": [
    "When implemented correctly, the following code should return `True`:\n",
    "\n",
    "```python\n",
    "ryanandrew_profile = people[0]\n",
    "simple_db.insert('ryanandrew', ryanandrew_profile)\n",
    "```\n",
    "After inserting the profile, you should be able to fetch the profile using:\n",
    "\n",
    "```python\n",
    "simple_db.fetch('ryanandrew')\n",
    "```\n",
    "This code should return:\n",
    "\n",
    "```json\n",
    "{'username': 'ryanandrew',\n",
    "  'name': 'Lisa Weber',\n",
    "  'age': 64,\n",
    "  'follows': ['jill95', 'jeffrey39']}\n",
    "```\n",
    "\n",
    "Performing a delete following by a fetch should return `None`. \n",
    "\n",
    "```python\n",
    "simple_db.delete('ryanandrew')\n",
    "simple_db.fetch('ryanandrew')\n",
    "```"
   ]
  },
  {
   "cell_type": "markdown",
   "metadata": {
    "pycharm": {
     "name": "#%% md\n"
    }
   },
   "source": [
    "### Assignment 4.2\n",
    "\n",
    "Next, you will use the same dataset with a document-oriented database called TinyDB. See the [TinyDB documentation](https://tinydb.readthedocs.io/en/latest/) and [TinyDB getting started](https://tinydb.readthedocs.io/en/latest/getting-started.html) for details on how to use TinyDB. While this database does not have the features of a full document database, such as MongoDB, it should provide an overview of the basics of document databases. \n",
    "\n",
    "The following code creates a TinyDB database in the `output` folder. It creates the `output` folder if it does not exist. "
   ]
  },
  {
   "cell_type": "code",
   "execution_count": 67,
   "metadata": {
    "pycharm": {
     "name": "#%%\n"
    }
   },
   "outputs": [],
   "source": [
    "from pathlib import Path\n",
    "from tinydb import TinyDB, Query\n",
    "\n",
    "output_dir = Path('output')\n",
    "output_dir.mkdir(parents=True, exist_ok=True)\n",
    "db_path = output_dir.joinpath('tinydb-people.json')\n",
    "\n",
    "people_db = TinyDB(db_path)\n",
    "\n",
    "# Clears any existing data in the database\n",
    "people_db.truncate()"
   ]
  },
  {
   "cell_type": "markdown",
   "metadata": {
    "pycharm": {
     "name": "#%% md\n"
    }
   },
   "source": [
    "#### Assignment 4.2.a\n",
    "\n",
    "Insert all entries from the `people` dataset into the newly created database. "
   ]
  },
  {
   "cell_type": "code",
   "execution_count": 68,
   "metadata": {
    "pycharm": {
     "name": "#%%\n"
    }
   },
   "outputs": [],
   "source": [
    "# TODO: Insert `people` data into `people_db`\n",
    "for person in people:\n",
    "    people_db.insert(person)"
   ]
  },
  {
   "cell_type": "markdown",
   "metadata": {
    "pycharm": {
     "name": "#%% md\n"
    }
   },
   "source": [
    "#### Assignment 4.2.b\n",
    "\n",
    "Perform a search that returns all people older than 40 and assign the results to `over_40_results`. "
   ]
  },
  {
   "cell_type": "code",
   "execution_count": 69,
   "metadata": {
    "pycharm": {
     "name": "#%%\n"
    }
   },
   "outputs": [
    {
     "data": {
      "text/plain": "[{'username': 'ryanandrew',\n  'name': 'Lisa Weber',\n  'age': 64,\n  'follows': ['jill95', 'jeffrey39']},\n {'username': 'jill95',\n  'name': 'Jason Tran',\n  'age': 72,\n  'follows': ['paul31', 'achen', 'uguerrero', 'murphydanny']},\n {'username': 'uguerrero',\n  'name': 'Jason Marshall',\n  'age': 45,\n  'follows': ['ryanandrew', 'achen']},\n {'username': 'achen',\n  'name': 'Dwayne Hanson',\n  'age': 86,\n  'follows': ['uguerrero', 'xwilliams']},\n {'username': 'mgiles',\n  'name': 'Dawn Lopez',\n  'age': 44,\n  'follows': ['ryanandrew']},\n {'username': 'foleyangela',\n  'name': 'Juan Wood',\n  'age': 59,\n  'follows': ['achen', 'jeffrey39']}]"
     },
     "execution_count": 69,
     "metadata": {},
     "output_type": "execute_result"
    }
   ],
   "source": [
    "# TODO: Perform a search for that returns all people older than 40\n",
    "Person = Query()\n",
    "over_40_results = people_db.search(Person.age > 40)\n",
    "over_40_results"
   ]
  },
  {
   "cell_type": "markdown",
   "metadata": {
    "pycharm": {
     "name": "#%% md\n"
    }
   },
   "source": [
    "#### Assignment 4.2.c\n",
    "\n",
    "Remove all people older than 40 from the database. Verify removal by performing an additional search. "
   ]
  },
  {
   "cell_type": "code",
   "execution_count": 71,
   "metadata": {
    "pycharm": {
     "name": "#%%\n"
    }
   },
   "outputs": [
    {
     "name": "stdout",
     "output_type": "stream",
     "text": [
      "[]\n"
     ]
    }
   ],
   "source": [
    "# TODO: Remove all people older than 40 from the database\n",
    "people_db.remove(Person.age > 40)\n",
    "\n",
    "# verify removal by performing an additional search\n",
    "removed_results = people_db.search(Person.age > 40)\n",
    "\n",
    "# the search should return an empty list\n",
    "print(removed_results)"
   ]
  },
  {
   "cell_type": "markdown",
   "metadata": {
    "pycharm": {
     "name": "#%% md\n"
    }
   },
   "source": [
    "### Assignment 4.3\n",
    "\n",
    "Lastly, we will insert the `people` data into [cog](https://arun1729.github.io/cog/), an embedded graph database implemented purely in Python. It does not provide the features of other graph databases, such as Neo4j or DGraph, but should provide an overview of the basics of graph databases. "
   ]
  },
  {
   "cell_type": "markdown",
   "metadata": {
    "pycharm": {
     "name": "#%% md\n"
    }
   },
   "source": [
    "#### Assignment 4.3.a\n",
    "\n",
    "Insert the `people` dataset into the graph `g`.   For instance, you can add the first entry using the following code. \n",
    "\n",
    "```python\n",
    "g.put(\"ryanandrew\", \"follows\", \"jill95\")\n",
    "g.put(\"ryanandrew\", \"follows\", \"jeffrey39\")\n",
    "```\n",
    "\n",
    "Display the relationships between people using the following code. \n",
    "\n",
    "```python\n",
    "g.v().tag(\"from\").out(\"follows\").tag(\"to\").view(\"follows\").render()\n",
    "```"
   ]
  },
  {
   "cell_type": "code",
   "execution_count": 93,
   "metadata": {
    "pycharm": {
     "name": "#%%\n"
    }
   },
   "outputs": [],
   "source": [
    "# TODO: Load `people` into the graph and display the follower graph\n",
    "\n",
    "from cog.torque import Graph\n",
    "\n",
    "g = Graph(\"people\")\n",
    "\n",
    "#  Iterate through the people data and add the edges (follows relationships) to the graph using the put method\n",
    "for person in people:\n",
    "    for follow in person['follows']:\n",
    "        g.put(person['username'], \"follows\", follow)"
   ]
  },
  {
   "cell_type": "code",
   "execution_count": 94,
   "outputs": [
    {
     "data": {
      "text/plain": "<IPython.core.display.HTML object>",
      "text/html": "  <iframe srcdoc='\n<!DOCTYPE html>\n<html lang=\"en\">\n  <head>\n    <title>Cog Graph</title>\n    <style type=\"text/css\">\n       body {\n        padding: 0;\n        margin: 0;\n        width: 100%;!important; \n        height: 100%;!important; \n      }\n\n      #cog-graph-view {\n        width: 700px;\n        height: 700px;\n      }\n    </style>\n\n\n    <script\n      type=\"text/javascript\"\n      src=\"https://cdnjs.cloudflare.com/ajax/libs/vis-network/9.1.2/dist/vis-network.min.js\"\n    ></script>\n  </head>  \n \n  <body>\n    <div id=\"cog-graph-view\"></div>\n\n    <script type=\"text/javascript\">\n\n    results =[{\"id\": \"alisonkeith\", \"from\": \"stricklandheather\", \"to\": \"alisonkeith\"}, {\"id\": \"paul31\", \"from\": \"stricklandheather\", \"to\": \"paul31\"}, {\"id\": \"jeffrey39\", \"from\": \"foleyangela\", \"to\": \"jeffrey39\"}, {\"id\": \"achen\", \"from\": \"foleyangela\", \"to\": \"achen\"}, {\"id\": \"paul31\", \"from\": \"pparker\", \"to\": \"paul31\"}, {\"id\": \"achen\", \"from\": \"uguerrero\", \"to\": \"achen\"}, {\"id\": \"ryanandrew\", \"from\": \"uguerrero\", \"to\": \"ryanandrew\"}, {\"id\": \"murphydanny\", \"from\": \"jeffrey39\", \"to\": \"murphydanny\"}, {\"id\": \"achen\", \"from\": \"murphydanny\", \"to\": \"achen\"}, {\"id\": \"foleyangela\", \"from\": \"murphydanny\", \"to\": \"foleyangela\"}, {\"id\": \"ryanandrew\", \"from\": \"murphydanny\", \"to\": \"ryanandrew\"}, {\"id\": \"jeffrey39\", \"from\": \"ryanandrew\", \"to\": \"jeffrey39\"}, {\"id\": \"jill95\", \"from\": \"ryanandrew\", \"to\": \"jill95\"}, {\"id\": \"uguerrero\", \"from\": \"alisonkeith\", \"to\": \"uguerrero\"}, {\"id\": \"xwilliams\", \"from\": \"achen\", \"to\": \"xwilliams\"}, {\"id\": \"uguerrero\", \"from\": \"achen\", \"to\": \"uguerrero\"}, {\"id\": \"stricklandheather\", \"from\": \"robertkirk\", \"to\": \"stricklandheather\"}, {\"id\": \"achen\", \"from\": \"robertkirk\", \"to\": \"achen\"}, {\"id\": \"alisonkeith\", \"from\": \"xwilliams\", \"to\": \"alisonkeith\"}, {\"id\": \"jeffrey39\", \"from\": \"xwilliams\", \"to\": \"jeffrey39\"}, {\"id\": \"foleyangela\", \"from\": \"xwilliams\", \"to\": \"foleyangela\"}, {\"id\": \"ryanandrew\", \"from\": \"xwilliams\", \"to\": \"ryanandrew\"}, {\"id\": \"murphydanny\", \"from\": \"jill95\", \"to\": \"murphydanny\"}, {\"id\": \"uguerrero\", \"from\": \"jill95\", \"to\": \"uguerrero\"}, {\"id\": \"achen\", \"from\": \"jill95\", \"to\": \"achen\"}, {\"id\": \"paul31\", \"from\": \"jill95\", \"to\": \"paul31\"}, {\"id\": \"ryanandrew\", \"from\": \"mgiles\", \"to\": \"ryanandrew\"}, {\"id\": \"robertkirk\", \"from\": \"paul31\", \"to\": \"robertkirk\"}, {\"id\": \"paul31\", \"from\": \"kerrjulie\", \"to\": \"paul31\"}] \n\n    var nodes = new vis.DataSet();\n    var edges = new vis.DataSet();\n    for (let i = 0; i < results.length; i++) {\n        res = results[i];\n        nodes.update({\n            id: res.from,\n            label: res.from\n        });\n        nodes.update({\n            id: res.to,\n            label: res.to\n        });\n        edges.update({\n            from: res.from,\n            to: res.to\n        });\n\n    }\n\n    var container = document.getElementById(\"cog-graph-view\");\n    var data = {\n        nodes: nodes,\n        edges: edges,\n    };\n    var options = {\n        nodes: {\n            font: {\n                size: 20,\n                color: \"black\"\n            },\n            color: \"#46944f\",\n            shape: \"dot\",\n            widthConstraint: 200,\n\n        },\n        edges: {\n            font: \"12px arial #ff0000\",\n            scaling: {\n                label: true,\n            },\n            shadow: true,\n            smooth: true,\n            arrows: { to: {enabled: true}}\n        },\n        physics: {\n            barnesHut: {\n                gravitationalConstant: -30000\n            },\n            stabilization: {\n                iterations: 1000\n            },\n        }\n\n    };\n    var network = new vis.Network(container, data, options);\n    </script>\n  </body>\n</html>\n\n' width=\"700\" height=\"700\"> </iframe> "
     },
     "metadata": {},
     "output_type": "display_data"
    }
   ],
   "source": [
    "g.v().tag(\"from\").out(\"follows\").tag(\"to\").view(\"follows\").render()"
   ],
   "metadata": {
    "collapsed": false,
    "pycharm": {
     "name": "#%%\n"
    }
   }
  },
  {
   "cell_type": "markdown",
   "metadata": {
    "pycharm": {
     "name": "#%% md\n"
    }
   },
   "source": [
    "#### Assignment 4.3.b\n",
    "\n",
    "Find the usernames of people who follow `murphydanny`."
   ]
  },
  {
   "cell_type": "code",
   "execution_count": 95,
   "outputs": [
    {
     "name": "stdout",
     "output_type": "stream",
     "text": [
      "{'result': [{'id': 'jeffrey39'}, {'id': 'jill95'}]}\n"
     ]
    }
   ],
   "source": [
    "m= g.v().has(\"follows\", \"murphydanny\").all()\n",
    "print(m)"
   ],
   "metadata": {
    "collapsed": false,
    "pycharm": {
     "name": "#%%\n"
    }
   }
  },
  {
   "cell_type": "code",
   "execution_count": null,
   "outputs": [],
   "source": [],
   "metadata": {
    "collapsed": false,
    "pycharm": {
     "name": "#%%\n"
    }
   }
  }
 ],
 "metadata": {
  "kernelspec": {
   "display_name": "Python 3 (ipykernel)",
   "language": "python",
   "name": "python3"
  },
  "language_info": {
   "codemirror_mode": {
    "name": "ipython",
    "version": 3
   },
   "file_extension": ".py",
   "mimetype": "text/x-python",
   "name": "python",
   "nbconvert_exporter": "python",
   "pygments_lexer": "ipython3",
   "version": "3.9.7"
  }
 },
 "nbformat": 4,
 "nbformat_minor": 4
}