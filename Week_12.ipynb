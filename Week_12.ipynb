{
 "cells": [
  {
   "cell_type": "code",
   "execution_count": 1,
   "metadata": {
    "collapsed": true,
    "pycharm": {
     "name": "#%%\n"
    }
   },
   "outputs": [
    {
     "name": "stderr",
     "output_type": "stream",
     "text": [
      "C:\\Users\\jeroc\\AppData\\Local\\Temp\\ipykernel_36256\\2562867785.py:2: UserWarning: \n",
      "The dash_core_components package is deprecated. Please replace\n",
      "`import dash_core_components as dcc` with `from dash import dcc`\n",
      "  import dash_core_components as dcc\n",
      "C:\\Users\\jeroc\\AppData\\Local\\Temp\\ipykernel_36256\\2562867785.py:3: UserWarning: \n",
      "The dash_html_components package is deprecated. Please replace\n",
      "`import dash_html_components as html` with `from dash import html`\n",
      "  import dash_html_components as html\n"
     ]
    }
   ],
   "source": [
    "import dash\n",
    "import dash_core_components as dcc\n",
    "import dash_html_components as html\n",
    "from sklearn.ensemble import RandomForestRegressor\n",
    "from dash import dcc\n",
    "from dash import html\n",
    "import numpy as np\n",
    "import pandas as pd\n",
    "import joblib\n",
    "from dash.dependencies import Input, Output"
   ]
  },
  {
   "cell_type": "code",
   "execution_count": 26,
   "outputs": [],
   "source": [
    "train= pd.read_csv(\"train.csv\")\n",
    "test= pd.read_csv(\"test.csv\")"
   ],
   "metadata": {
    "collapsed": false,
    "pycharm": {
     "name": "#%%\n"
    }
   }
  },
  {
   "cell_type": "code",
   "execution_count": 3,
   "outputs": [],
   "source": [
    "model = joblib.load('model.joblib')\n",
    "scaler = joblib.load('scaler.joblib')"
   ],
   "metadata": {
    "collapsed": false,
    "pycharm": {
     "name": "#%%\n"
    }
   }
  },
  {
   "cell_type": "code",
   "execution_count": 27,
   "outputs": [],
   "source": [
    "# Create the app\n",
    "app = dash.Dash()"
   ],
   "metadata": {
    "collapsed": false,
    "pycharm": {
     "name": "#%%\n"
    }
   }
  },
  {
   "cell_type": "code",
   "execution_count": 28,
   "outputs": [],
   "source": [
    "# Create the layout\n",
    "app.layout = html.Div([\n",
    "    html.H1('Walmart Sales Prediction'),\n",
    "    html.Div([\n",
    "        html.H3('Store:'),\n",
    "        dcc.Input(id='Store', type='number', value=1, min=1, max=2)\n",
    "    ]),\n",
    "    html.Div([\n",
    "        html.H3('Dept:'),\n",
    "        dcc.Input(id='Dept', placeholder='', type='number', value=1, min=1, max=3)\n",
    "    ]),\n",
    "    html.Div([\n",
    "        html.H3('Temperature:'),\n",
    "        dcc.Input(id='Temperature', placeholder='', type='number', value=10, min=1, max=10)\n",
    "    ]),\n",
    "    html.Div([\n",
    "        html.H3('Fuel_Price:'),\n",
    "        dcc.Input(id='Fuel_Price', placeholder='', type='number', value=2, min=1, max=5)\n",
    "    ]),\n",
    "    html.Div([\n",
    "        html.H3('MarkDown2:'),\n",
    "        dcc.Input(id='MarkDown2', placeholder='', type='number', value=100, min=5, max=10)\n",
    "    ]),\n",
    "    html.Div([\n",
    "        html.H3('MarkDown3:'),\n",
    "        dcc.Input(id='Markdown3', placeholder='', type='number', value=100, min=5, max=10)\n",
    "    ]),\n",
    "    html.Div([\n",
    "        html.H3('Unemployment:'),\n",
    "        dcc.Input(id='Unemployment', placeholder='', type='number', value=5, min=5, max=10)\n",
    "    ]),\n",
    "\n",
    "    html.Div([\n",
    "        html.Button('Predicted Sales:'),\n",
    "        #dcc.output(id='Predicted_Sales', type='text')\n",
    "        html.Div(id='predict-button')\n",
    "    ])\n",
    "])"
   ],
   "metadata": {
    "collapsed": false,
    "pycharm": {
     "name": "#%%\n"
    }
   }
  },
  {
   "cell_type": "code",
   "execution_count": 29,
   "outputs": [],
   "source": [
    "def get_prediction(Store, Dept, Temperature, Fuel_Price, MarkDown2, MarkDown3, MarkDown4, Unemployment):\n",
    "    '''takes the inputs from the user and produces the sales prediction'''\n",
    "\n",
    "    cols = ['Store', 'Dept', 'Temperature', 'Fuel_Price', 'MarkDown2', 'MarkDown3', 'MarkDown4', 'Unemployment']\n",
    "\n",
    "    ddf = pd.DataFrame(data = np.zeros((1,len(cols))), columns = cols)\n",
    "\n",
    "    ## get the numeric characteristics\n",
    "    ddf.loc[0,'Store'] = Store\n",
    "    ddf.loc[0,'Dept'] = Dept\n",
    "    ddf.loc[0,'Temperature'] = Temperature\n",
    "    ddf.loc[0,'Fuel_Price'] = Fuel_Price\n",
    "    ddf.loc[0,'MarkDown2'] = MarkDown2\n",
    "    ddf.loc[0,'MarkDown3'] =MarkDown3\n",
    "    ddf.loc[0,'MarkDown4'] = MarkDown4\n",
    "    ddf.loc[0,'Unemployment'] = Unemployment\n",
    "\n",
    "    ## Scale the numerical features using the trained scaler\n",
    "    numerical_features = ['Store', 'Dept', 'Temperature', 'Fuel_Price', 'MarkDown2', 'MarkDown3', 'MarkDown4', 'Unemployment']\n",
    "    ddf.loc[:,numerical_features] = scaler.transform(ddf.loc[:,numerical_features])\n",
    "\n",
    "    ## Get the predictions using our trained neural network\n",
    "    prediction = model.predict(ddf.values).flatten()[0]\n",
    "\n",
    "    ## Transform the log-sales to sales\n",
    "    prediction = np.exp(prediction)\n",
    "\n",
    "    return prediction"
   ],
   "metadata": {
    "collapsed": false,
    "pycharm": {
     "name": "#%%\n"
    }
   }
  },
  {
   "cell_type": "code",
   "execution_count": 30,
   "outputs": [],
   "source": [
    "# Create the callback\n",
    "@app.callback(\n",
    "    Output('Predicted_Sales', 'children'),\n",
    "    [Input('Store', 'value'),\n",
    "     Input('Dept', 'value'),\n",
    "     Input('Temperature', 'value'),\n",
    "     Input('Fuel_Price', 'value'),\n",
    "     Input('MarkDown2', 'value'),\n",
    "     Input('Markdown3', 'value'),\n",
    "     Input('Unemployment', 'value')])\n",
    "def predict_sales(store, dept, temperature, fuel_price, markdown2, markdown3, unemployment):\n",
    "    # Create the input data\n",
    "    features = {\n",
    "        'Store': store,\n",
    "        'Dept': dept,\n",
    "        'Temperature': temperature,\n",
    "        'Fuel_Price': fuel_price,\n",
    "        'MarkDown2': markdown2,\n",
    "        'Markdown3': markdown3,\n",
    "        'Unemployment': unemployment\n",
    "    }\n",
    "\n",
    "    # Make the prediction\n",
    "def show_prediction(Store, Dept, Temperature, Fuel_Price, MarkDown2, MarkDown3, MarkDown4, Unemployment):\n",
    "    pred = get_prediction(Store, Dept, Temperature, Fuel_Price, MarkDown2, MarkDown3, MarkDown4, Unemployment)\n",
    "    return str(\"Predicted Price: {:,}\".format(pred))\n",
    "\n",
    "# Run the app\n",
    "app.run_server(debug=False)"
   ],
   "metadata": {
    "collapsed": false,
    "pycharm": {
     "name": "#%%\n"
    }
   }
  }
 ],
 "metadata": {
  "kernelspec": {
   "display_name": "Python 3",
   "language": "python",
   "name": "python3"
  },
  "language_info": {
   "codemirror_mode": {
    "name": "ipython",
    "version": 2
   },
   "file_extension": ".py",
   "mimetype": "text/x-python",
   "name": "python",
   "nbconvert_exporter": "python",
   "pygments_lexer": "ipython2",
   "version": "2.7.6"
  }
 },
 "nbformat": 4,
 "nbformat_minor": 0
}