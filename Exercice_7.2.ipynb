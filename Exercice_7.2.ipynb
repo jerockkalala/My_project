{
 "cells": [
  {
   "cell_type": "markdown",
   "source": [
    "##### Title: Exercice 7.2\n",
    "##### Author: Jerock Kalala\n",
    "##### Date: February 1st 2023\n",
    "##### Modified By: --\n",
    "##### Using Natural Language Processing (NLP) #Summarizing Text\n"
   ],
   "metadata": {
    "collapsed": false,
    "pycharm": {
     "name": "#%% md\n"
    }
   }
  },
  {
   "cell_type": "code",
   "execution_count": 42,
   "outputs": [],
   "source": [
    "#import libraries\n",
    "import spacy\n",
    "from spacy.lang.en.stop_words import STOP_WORDS\n",
    "from string import punctuation\n",
    "from collections import Counter\n",
    "from heapq import nlargest\n",
    "import en_core_web_sm\n",
    "\n",
    "#Summarizing function\n",
    "def sum_sentence(text, limit): #text = input, limit=number of sentences to return\n",
    "#tokenize and find the important keywords\n",
    "    keyword = []\n",
    "    pos_tag = ['PROPN', 'ADJ', 'NOUN', 'VERB']\n",
    "    nlp = en_core_web_sm.load() #load spacy model\n",
    "    doc = nlp(text.lower())\n",
    "    for token in doc:\n",
    "        if token.text in nlp.Defaults.stop_words or token.text in punctuation:\n",
    "            continue\n",
    "        if token.pos_ in pos_tag:\n",
    "            keyword.append(token.text)\n",
    "#normalize the weightage of the keywords\n",
    "    freq_word = Counter(keyword)\n",
    "    max_freq = Counter(keyword).most_common(1)[0][1]\n",
    "    for w in freq_word:\n",
    "        freq_word[w] = (freq_word[w]/max_freq)\n",
    "# calculate the importance of the sentences by identifying the occurrence of important keywords and sum up the value\n",
    "    sent_strength={}\n",
    "    for sent in doc.sents:\n",
    "        for word in sent:\n",
    "            if word.text in freq_word.keys():\n",
    "                if sent in sent_strength.keys():\n",
    "                    sent_strength[sent]+=freq_word[word.text]\n",
    "                else:\n",
    "                    sent_strength[sent]=freq_word[word.text]\n",
    "#determine the top sentences\n",
    "    summary = []\n",
    "    sorted_x = sorted(sent_strength.items(), key=lambda kv: kv[1], reverse=True)\n",
    "    counter = 0\n",
    "    for i in range(len(sorted_x)):\n",
    "        summary.append(str(sorted_x[i][0]).capitalize())\n",
    "        counter += 1\n",
    "        if counter >= limit:\n",
    "            break\n",
    "\n",
    "    return ' '.join(summary)"
   ],
   "metadata": {
    "collapsed": false,
    "pycharm": {
     "name": "#%%\n"
    }
   }
  },
  {
   "cell_type": "code",
   "execution_count": 55,
   "outputs": [
    {
     "name": "stdout",
     "output_type": "stream",
     "text": [
      "The First World War was essentially a quarrel between European powers which involved Africa, both directly and indirectly, because at the outbreak of hostilities the greater part of it was ruled by the European belligerents. Campaigns were fought on African soil which â€’ though they only marginally affected the overall course of war â€’  had significant implications for Africa. Mor e than a million African soldiers were involved in these campaigns or campaigns in Europe. Even more men, as well as wome and children, were recruited, often forcibly, as carriers to support armies whose supplies could not be moved by conventional methods such as road, rail or packanimal. Over 150000 soldiers and carriers lost their lives during the war. Many more were wounded and disabled. By the time the war ended, every country in Africa, with the exception of the small Spanish territories â€’ which remained neutral â€’ had been formally committed to one side or the other. Belgian, British, French, Italian and Portuguese administrations were allied â€’ more or less actively â€’ against German colonies.\n",
      "\n",
      "Even the last remaining independent states on the continent â€’ Liberia, Ethiopia and DÃ¤rfÃ¼r â€’ became involved. Liberia declared for the Allies on the entry of the United States into the war in 1917. The pro-Muslim boy â€’ Emperor of Ethiopia, Lij Iyasu, proclaimed his country's allegiance to Turkey, thereby causing considerable concern among the Allies that he would inspire a djihÃ¤d among the Muslims of the Horn of Africa where Sayyid Muhammad Abdule Hasan's forces were still giving trouble to the British. British, French and Italian troops moved to Berbera, Djibuti and Massawa, but the intervention proved unnecessary since shocked Christian nobles overthrew the Emperor in September 1916. Similarly, Sultan 'All Dinar of DÃ¤rfÃ¼r, nominally tributary to, but effectively independent of, the Anglo-Egyptian Sudan, responded to the Turkish call to djihÃ¤d and raided French Chad, threatened British Borno (Northern Nigeria) and tried to stir up revolt in Kordof an (Sudan). Not until February 1916 was he defeated and killed in battle and DÃ¤rfÃ¼r fully incorporated into Sudan.\n",
      "\n",
      "Whether directly involved in the fighting or not, nearly every African territory was affected by the exclusion of the Germans from the African trade, the wartime shortages of imports caused by scarcity of shipping space, or, on the brighter side, sudden booms in demands for strategic resources.\n",
      "\n",
      "A great deal has been written about the European campaigns in Africa during the First World War, and the consequent distribution of German territory among the victorious Allied powers - the last chapter in the Scramble for Africa. Muc h less has been written about the impact of the war on Africans and on the administrative structures recently imposed on them by their European conquerors. How far did these fragile structures withstand the exodus of European administrative personnel, the spectacle of white conqueror fighting white conqueror, the exactions on recently subdued Africans in terms of me n and material, and the widespread revolts that took place on the occasion, though not always directly, or even indirectly as a result of the war? What were the social, political and economic consequences of involving Africans in the European war? It is with these broad questions that this chapter will be principally concerned. However a brief account of the military campaigns is essential if we are fully to understand the implications of the war for Africa.\n",
      "\n",
      "The War on African soil\n",
      "The immediate consequence for Africa of the declaration of war in Europe was the invasion by the Allies of Germany's colonies. Neither side had prepared for war in sub-Saharan Africa. Indeed there was short-lived hope that it might be isolated from the war. Governor Doering of Togo suggested to his neighbours in British Gold Coast (now Ghana) and French Dahomey (now Benin) that Togo should be neutralized so that the spectacle of Europeans fighting each other would not be witnessed by their African subjects. In German East Africa (now Tanzania) the Governor, Dr Schnee, was intent on avoiding hostilities so he could pursue his energetic programme of development, and when the British bombarded Dar es Salaam shortly after the declaration of war, he subscribed to a short-lived truce that would neutralize German East Africa. There was even optimism in some quarters that the articles of the Berlin Act of 1885 covering the neutrality of the conventional basin of the Congo would avert war in eastcentral Africa.\n",
      "\n",
      "The forces in favour of involving Germany's African possessions in the war were, however, more pressing. From the point of view of Britain, given her naval supremacy, the strategy as laid down by the Committee for Imperial Defence was to carry war to her enemy's colonies. To maintain this naval supremacy, Germany's African communications system and principal ports had to be put out of action. F\n"
     ]
    }
   ],
   "source": [
    "#import a text file \"The First World War and its consequences in africa'\n",
    "file = open(\"E:\\\\Bellevue\\\\Winter_2022\\\\DSC 360 Data Mining Text Analytics an\\Week_7\\\\essai2.txt\", \"r\")\n",
    "txt = file.read()\n",
    "print(txt[:5000])"
   ],
   "metadata": {
    "collapsed": false,
    "pycharm": {
     "name": "#%%\n"
    }
   }
  },
  {
   "cell_type": "code",
   "execution_count": 46,
   "outputs": [
    {
     "name": "stdout",
     "output_type": "stream",
     "text": [
      "Within the union, the south african native national congress (later to become the african national congress) presented a memorandum after the war to king george v of britain, citing the african contribution to the war in both the south west african and east african campaigns as well as in france, and recalling that the war had been fought to liberate oppressed peoples and to grant to every nation the right to determine its sovereign destiny.81 the congress was informed by the british colonial office that britain could not interfere in the internal affairs of south africa and the congress appeal was not presented to the peace conference. \n",
      "\n",
      "while wilson's fourteen points did not inspire demands for immediate independence in africa south of the sahara, his liberal sentiments encouraged west african nationalists to hope that they could influence the versailles peace conference and also encouraged them to demand a greater say in their own affairs.69 as the sierra leonean, f. w. dove, a delegate to the national congress of british west africa put it, the time had 'passed when the african peoples should be coerced against their will to do things that are not in accordance with their best interests'.70 in the sudan, wilson's fourteen points, coupled with the inspiration of the arab revolt of 1916, proved a turning-point in sudanese nationalism, informing the attitudes of a new generation of politically conscious young men who had passed through government schools and had acquired some modern, western skills.\n",
      "\n",
      "in many territories where heavy contributions had been made in terms of men and material to the war effort, there was hope that these would be rewarded at least by social and political reform. After the war, at the versailles peace conference, the colonial record of one of them, germany, was examined and found wanting, according to newly conceived standards of morality concerning the governance of colonial peoples.82 undoubtedly, most of the other colonial powers would have been found equally wanting if their own record had been similarly scrutinized.83 the idea of administering so-called backward peoples as a 'sacred trust', though evident in the 1890s in the prohibition, for example, of the sale of alcohol to africans, was now enshrined in the mandates where the victorious allies took over the administration of germany's colonies on behalf of the league of nations â€’  'responsible for the ... promotion to the utmost of the material and moral well-being and the social progress of [their] inhabitants'.84 theoretically the principle of international accountability had been underlined, though, because of the weakness of the league of nations, little could be done, for instance, about the deplorable conditions of the indigenous inhabitants of south west africa administered under mandate by the union.85 the right of self-determination, firste nunciated at the congress of the socialist second international held in london in 1896, had also been enunciated by the leader of a major world power, woodrow wilson, whilst the newly-emerged soviet union was to attack all forms of colonialism in africa.\n"
     ]
    }
   ],
   "source": [
    "print(sum_sentence(txt, 3))"
   ],
   "metadata": {
    "collapsed": false,
    "pycharm": {
     "name": "#%%\n"
    }
   }
  },
  {
   "cell_type": "code",
   "execution_count": 53,
   "outputs": [
    {
     "name": "stdout",
     "output_type": "stream",
     "text": [
      "The orinigal text had  55663 words\n",
      "The summary has 3143 words\n"
     ]
    }
   ],
   "source": [
    "#print the statistics\n",
    "print(\"The original text had \", len(txt), \"words\")\n",
    "print(\"The summary has\", len(sum_sentence(txt, 3)), \"words\")"
   ],
   "metadata": {
    "collapsed": false,
    "pycharm": {
     "name": "#%%\n"
    }
   }
  },
  {
   "cell_type": "code",
   "execution_count": null,
   "outputs": [],
   "source": [],
   "metadata": {
    "collapsed": false,
    "pycharm": {
     "name": "#%%\n"
    }
   }
  }
 ],
 "metadata": {
  "kernelspec": {
   "display_name": "Python 3",
   "language": "python",
   "name": "python3"
  },
  "language_info": {
   "codemirror_mode": {
    "name": "ipython",
    "version": 2
   },
   "file_extension": ".py",
   "mimetype": "text/x-python",
   "name": "python",
   "nbconvert_exporter": "python",
   "pygments_lexer": "ipython2",
   "version": "2.7.6"
  }
 },
 "nbformat": 4,
 "nbformat_minor": 0
}