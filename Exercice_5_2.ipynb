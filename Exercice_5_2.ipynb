{
 "cells": [
  {
   "cell_type": "markdown",
   "source": [
    "##### Title: Exercice 5.2\n",
    "##### Author: Jerock Kalala\n",
    "##### Date: January 27th 2023\n",
    "##### Modified By: --\n",
    "##### Using Natural Language Processing (NLP)\n"
   ],
   "metadata": {
    "collapsed": false,
    "pycharm": {
     "name": "#%% md\n"
    }
   }
  },
  {
   "cell_type": "markdown",
   "source": [
    " Using the file, twitter_sample.csv file, which can be found in the \"data\" directory in the Week 5 GitHub repository:"
   ],
   "metadata": {
    "collapsed": false,
    "pycharm": {
     "name": "#%% md\n"
    }
   }
  },
  {
   "cell_type": "code",
   "execution_count": 110,
   "outputs": [
    {
     "data": {
      "text/plain": "                 Tweet Id                                          Tweet URL  \\\n0   \"1167429261210218497\"  https://twitter.com/animalhealthEU/status/1167...   \n1   \"1167375334670557185\"  https://twitter.com/PennyBrohnUK/status/116737...   \n2   \"1167237977615097861\"  https://twitter.com/lordbyronaf/status/1167237...   \n3   \"1167236897078480898\"  https://twitter.com/CountessDavis/status/11672...   \n4   \"1167228378191204353\"  https://twitter.com/Local12/status/11672283781...   \n5   \"1167228285463531520\"  https://twitter.com/lbonis1/status/11672282854...   \n6   \"1167163662051631104\"  https://twitter.com/luapppank/status/116716366...   \n7   \"1167109799282118656\"  https://twitter.com/AG_EM33/status/11671097992...   \n8   \"1167071808895541248\"  https://twitter.com/andyglittle/status/1167071...   \n9   \"1167069888474537984\"  https://twitter.com/MOX13/status/1167069888474...   \n10  \"1167062757126094848\"  https://twitter.com/dkalnow/status/11670627571...   \n11  \"1167061075075973123\"  https://twitter.com/EMOverEasy/status/11670610...   \n12  \"1166892836165496835\"  https://twitter.com/AndreaWestbyMD/status/1166...   \n13  \"1166860403516813318\"  https://twitter.com/RealZiggyFlo/status/116686...   \n14  \"1166742759232790529\"  https://twitter.com/HolmesHaddad/status/116674...   \n15  \"1166686363481268224\"  https://twitter.com/Pinhead6/status/1166686363...   \n16  \"1166678848395780096\"  https://twitter.com/VetDocVideo/status/1166678...   \n17  \"1166660764146503681\"  https://twitter.com/BfTGermany/status/11666607...   \n18  \"1166580818673901568\"  https://twitter.com/POLPROWET/status/116658081...   \n19  \"1166434142260797441\"  https://twitter.com/ricki_ifferte/status/11664...   \n\n   Tweet Posted Time (UTC)                                      Tweet Content  \\\n0     30 Aug 2019 13:30:00  Pets change our lives &amp; become a part of o...   \n1     30 Aug 2019 09:55:43  Another spot of our #morethanmedicine bus in #...   \n2     30 Aug 2019 00:49:54  What a great team ⁦@HealthSourceOH⁩ ⁦@Local12⁩...   \n3     30 Aug 2019 00:45:37  What a great team ⁦@HealthSourceOH⁩ ⁦@Local12⁩...   \n4     30 Aug 2019 00:11:46  What a great team ⁦@HealthSourceOH⁩ ⁦@Local12⁩...   \n5     30 Aug 2019 00:11:23  What a great team ⁦@HealthSourceOH⁩ ⁦@Local12⁩...   \n6     29 Aug 2019 19:54:36  Will you be at #FIX19? Want a preview of @AG_E...   \n7     29 Aug 2019 16:20:34  Will you be at #FIX19? Want a preview of @AG_E...   \n8     29 Aug 2019 13:49:37  Will you be at #FIX19? Want a preview of @AG_E...   \n9     29 Aug 2019 13:41:59  Will you be at #FIX19? Want a preview of @AG_E...   \n10    29 Aug 2019 13:13:38  Will you be at #FIX19? Want a preview of @AG_E...   \n11    29 Aug 2019 13:06:57  Will you be at #FIX19? Want a preview of @AG_E...   \n12    29 Aug 2019 01:58:26  Y’all ⁦@UMNNMFamMedRes⁩ Rose Marie Leslie is a...   \n13    28 Aug 2019 23:49:34  @Medtronic Here, here! Engage with your patien...   \n14    28 Aug 2019 16:02:05  @Medtronic Here, here! Engage with your patien...   \n15    28 Aug 2019 12:17:59  Zoonosen sind ein Risiko für Mensch und Tier❗️...   \n16    28 Aug 2019 11:48:07  Zoonosen sind ein Risiko für Mensch und Tier❗️...   \n17    28 Aug 2019 10:36:16  Zoonosen sind ein Risiko für Mensch und Tier❗️...   \n18    28 Aug 2019 05:18:35  Czy wiesz, że do bez leków dla zwierząt potrze...   \n19    27 Aug 2019 19:35:45  Thank you @crtaylor33 and @forbes for spotligh...   \n\n   Tweet Type                Client  Retweets Received  Likes Received  \\\n0       Tweet  Twitter Ads Composer                  0               4   \n1       Tweet       Twitter Web App                  0               5   \n2     ReTweet   Twitter for Android                  0               0   \n3     ReTweet   Twitter for Android                  0               0   \n4     ReTweet             TweetDeck                  0               0   \n5       Tweet    Twitter for iPhone                  3              17   \n6     ReTweet    Twitter for iPhone                  0               0   \n7     ReTweet    Twitter for iPhone                  0               0   \n8     ReTweet    Twitter for iPhone                  0               0   \n9     ReTweet    Twitter for iPhone                  0               0   \n10    ReTweet    Twitter for iPhone                  0               0   \n11      Tweet       Twitter Web App                  6              19   \n12      Tweet    Twitter for iPhone                  0              27   \n13    ReTweet       Twitter Web App                  0               0   \n14      Reply       Twitter Web App                  1               1   \n15    ReTweet      Twitter for iPad                  0               0   \n16    ReTweet       Twitter Web App                  0               0   \n17      Tweet       Twitter Web App                  2               7   \n18      Tweet    Twitter for iPhone                  0               1   \n19    ReTweet    Twitter for iPhone                  0               0   \n\n                                       Tweet Location Tweet Language  ...  \\\n0                                            Brussels        English  ...   \n1                                       Pill, Bristol        English  ...   \n2                                           Ohio, USA        English  ...   \n3                                                 NaN        English  ...   \n4                                      Cincinnati, OH        English  ...   \n5                                             WKRC TV        English  ...   \n6                                      Scottsdale, AZ        English  ...   \n7                                                 NaN        English  ...   \n8                                         Columbus,OH        English  ...   \n9                                                 NaN        English  ...   \n10                                       Columbus, OH        English  ...   \n11                                      DK Diner, USA        English  ...   \n12                                    Minneapolis, MN        English  ...   \n13  Life zig zags so go with the flow. RT not nece...        English  ...   \n14                        San Francisco Bay Area, USA        English  ...   \n15         südlich der südlichsten Stadt Deutschlands         German  ...   \n16                              Breuberg, Deutschland         German  ...   \n17                                  Bonn, Deutschland         German  ...   \n18                                           Warszawa         Polish  ...   \n19                                        Connecticut        English  ...   \n\n                   Name        Username  \\\n0    AnimalhealthEurope  animalhealthEU   \n1        Penny Brohn UK    PennyBrohnUK   \n2          Lord ByronAF     lordbyronaf   \n3   Lisa Countess davis   CountessDavis   \n4      Local 12/WKRC-TV         Local12   \n5             Liz Bonis         lbonis1   \n6            paul knapp       luapppank   \n7                  Alin         AG_EM33   \n8           Andy Little     andyglittle   \n9      Tanner Gronowski           MOX13   \n10          Drew Kalnow         dkalnow   \n11           EMOverEasy      EMOverEasy   \n12        Andrea Westby  AndreaWestbyMD   \n13         ℛεɑℓℤɩɠɠƴℱℓℴ    RealZiggyFlo   \n14  Laura Holmes Haddad    HolmesHaddad   \n15         Papa Pinhead        Pinhead6   \n16    Thomas Wengenroth     VetDocVideo   \n17     BfTiergesundheit      BfTGermany   \n18            POLPROWET       POLPROWET   \n19                ricki   ricki_ifferte   \n\n                                             User Bio  \\\n0   AnimalhealthEurope represents manufacturers of...   \n1   We help people live well with the impact of ca...   \n2   It's easier to be who you are, than it is to b...   \n3   I am named after @ElvisPresley daughter Lisa M...   \n4   Local 12 is #Cincinnati's trusted source for b...   \n5   Health and Medical Reporter/News Anchor Regist...   \n6   16.2 (and rising) hdcp golfer. fairways and gr...   \n7   DO &amp; MPH | EM resident | Interests: #FOAMe...   \n8   EM DOC @DoctorsEMres, PodCaster, lover of my f...   \n9   Emergency Medicine Doc, outdoor enthusiast, am...   \n10  EM Physician and Sim Director @DoctorsEMres Oc...   \n11  Tackling real world problems from the EM persp...   \n12  She/her/hers. Teacher of family medicine, form...   \n13      Cure Duchenne http://www.parentprojectmd.org/   \n14  Writer, mom, dog lover, inflammatory breast ca...   \n15  74er Jahrgang mit grosser Sammelleidenschaft v...   \n16  Nutztierhaltung (http://stallbesuch.de) und Ti...   \n17  Der Bundesverband für Tiergesundheit e.V. vert...   \n18  Oficjalny profil Polskiego Stowarzyszenia Prod...   \n19  “I am unfinished, I’ve got so much left to learn”   \n\n   Verified or Non-Verified                         Profile URL  \\\n0              Non-Verified  https://twitter.com/animalhealthEU   \n1              Non-Verified    https://twitter.com/PennyBrohnUK   \n2              Non-Verified     https://twitter.com/lordbyronaf   \n3              Non-Verified   https://twitter.com/CountessDavis   \n4                  Verified         https://twitter.com/Local12   \n5                  Verified         https://twitter.com/lbonis1   \n6              Non-Verified       https://twitter.com/luapppank   \n7              Non-Verified         https://twitter.com/AG_EM33   \n8              Non-Verified     https://twitter.com/andyglittle   \n9              Non-Verified           https://twitter.com/MOX13   \n10             Non-Verified         https://twitter.com/dkalnow   \n11             Non-Verified      https://twitter.com/EMOverEasy   \n12             Non-Verified  https://twitter.com/AndreaWestbyMD   \n13             Non-Verified    https://twitter.com/RealZiggyFlo   \n14             Non-Verified    https://twitter.com/HolmesHaddad   \n15             Non-Verified        https://twitter.com/Pinhead6   \n16             Non-Verified     https://twitter.com/VetDocVideo   \n17             Non-Verified      https://twitter.com/BfTGermany   \n18             Non-Verified       https://twitter.com/POLPROWET   \n19             Non-Verified   https://twitter.com/ricki_ifferte   \n\n   Protected or Non-protected User Followers  User Following  \\\n0               Non-Protected           3697             542   \n1               Non-Protected           3227            1571   \n2               Non-Protected           7808            8617   \n3               Non-Protected            291              81   \n4               Non-Protected         198675             651   \n5               Non-Protected           6015            4866   \n6               Non-Protected             69              81   \n7               Non-Protected           9655            3043   \n8               Non-Protected           1697            1123   \n9               Non-Protected            796             613   \n10              Non-Protected            771             394   \n11              Non-Protected           1345             361   \n12              Non-Protected            938            1247   \n13              Non-Protected            628             870   \n14              Non-Protected            355             645   \n15              Non-Protected            233             639   \n16              Non-Protected           1482            1759   \n17              Non-Protected             48              46   \n18              Non-Protected             98             194   \n19              Non-Protected             76             189   \n\n    User Account Creation Date Impressions  \n0         17 Dec 2012 09:14:15        7394  \n1         15 Sep 2010 09:44:02        6454  \n2         25 Jul 2012 15:43:47           0  \n3         26 Jan 2017 18:21:42           0  \n4         02 Sep 2008 20:09:44           0  \n5         16 Mar 2013 12:05:02       12033  \n6         17 May 2009 12:58:43           0  \n7         26 Mar 2016 03:57:53           0  \n8         25 Nov 2013 19:42:29           0  \n9         02 Jun 2009 17:50:10           0  \n10        30 Mar 2014 01:06:26           0  \n11        09 Mar 2016 15:04:58        2696  \n12        15 Apr 2015 19:58:49        1876  \n13        11 Apr 2011 10:36:42           0  \n14        20 Jul 2015 20:15:28         711  \n15        16 Aug 2009 10:16:13           0  \n16        20 May 2011 13:36:13           0  \n17        07 Feb 2019 08:32:42          98  \n18        17 Feb 2017 07:20:30         196  \n19        31 Dec 2014 06:42:40           0  \n\n[20 rows x 21 columns]",
      "text/html": "<div>\n<style scoped>\n    .dataframe tbody tr th:only-of-type {\n        vertical-align: middle;\n    }\n\n    .dataframe tbody tr th {\n        vertical-align: top;\n    }\n\n    .dataframe thead th {\n        text-align: right;\n    }\n</style>\n<table border=\"1\" class=\"dataframe\">\n  <thead>\n    <tr style=\"text-align: right;\">\n      <th></th>\n      <th>Tweet Id</th>\n      <th>Tweet URL</th>\n      <th>Tweet Posted Time (UTC)</th>\n      <th>Tweet Content</th>\n      <th>Tweet Type</th>\n      <th>Client</th>\n      <th>Retweets Received</th>\n      <th>Likes Received</th>\n      <th>Tweet Location</th>\n      <th>Tweet Language</th>\n      <th>...</th>\n      <th>Name</th>\n      <th>Username</th>\n      <th>User Bio</th>\n      <th>Verified or Non-Verified</th>\n      <th>Profile URL</th>\n      <th>Protected or Non-protected</th>\n      <th>User Followers</th>\n      <th>User Following</th>\n      <th>User Account Creation Date</th>\n      <th>Impressions</th>\n    </tr>\n  </thead>\n  <tbody>\n    <tr>\n      <th>0</th>\n      <td>\"1167429261210218497\"</td>\n      <td>https://twitter.com/animalhealthEU/status/1167...</td>\n      <td>30 Aug 2019 13:30:00</td>\n      <td>Pets change our lives &amp;amp; become a part of o...</td>\n      <td>Tweet</td>\n      <td>Twitter Ads Composer</td>\n      <td>0</td>\n      <td>4</td>\n      <td>Brussels</td>\n      <td>English</td>\n      <td>...</td>\n      <td>AnimalhealthEurope</td>\n      <td>animalhealthEU</td>\n      <td>AnimalhealthEurope represents manufacturers of...</td>\n      <td>Non-Verified</td>\n      <td>https://twitter.com/animalhealthEU</td>\n      <td>Non-Protected</td>\n      <td>3697</td>\n      <td>542</td>\n      <td>17 Dec 2012 09:14:15</td>\n      <td>7394</td>\n    </tr>\n    <tr>\n      <th>1</th>\n      <td>\"1167375334670557185\"</td>\n      <td>https://twitter.com/PennyBrohnUK/status/116737...</td>\n      <td>30 Aug 2019 09:55:43</td>\n      <td>Another spot of our #morethanmedicine bus in #...</td>\n      <td>Tweet</td>\n      <td>Twitter Web App</td>\n      <td>0</td>\n      <td>5</td>\n      <td>Pill, Bristol</td>\n      <td>English</td>\n      <td>...</td>\n      <td>Penny Brohn UK</td>\n      <td>PennyBrohnUK</td>\n      <td>We help people live well with the impact of ca...</td>\n      <td>Non-Verified</td>\n      <td>https://twitter.com/PennyBrohnUK</td>\n      <td>Non-Protected</td>\n      <td>3227</td>\n      <td>1571</td>\n      <td>15 Sep 2010 09:44:02</td>\n      <td>6454</td>\n    </tr>\n    <tr>\n      <th>2</th>\n      <td>\"1167237977615097861\"</td>\n      <td>https://twitter.com/lordbyronaf/status/1167237...</td>\n      <td>30 Aug 2019 00:49:54</td>\n      <td>What a great team ⁦@HealthSourceOH⁩ ⁦@Local12⁩...</td>\n      <td>ReTweet</td>\n      <td>Twitter for Android</td>\n      <td>0</td>\n      <td>0</td>\n      <td>Ohio, USA</td>\n      <td>English</td>\n      <td>...</td>\n      <td>Lord ByronAF</td>\n      <td>lordbyronaf</td>\n      <td>It's easier to be who you are, than it is to b...</td>\n      <td>Non-Verified</td>\n      <td>https://twitter.com/lordbyronaf</td>\n      <td>Non-Protected</td>\n      <td>7808</td>\n      <td>8617</td>\n      <td>25 Jul 2012 15:43:47</td>\n      <td>0</td>\n    </tr>\n    <tr>\n      <th>3</th>\n      <td>\"1167236897078480898\"</td>\n      <td>https://twitter.com/CountessDavis/status/11672...</td>\n      <td>30 Aug 2019 00:45:37</td>\n      <td>What a great team ⁦@HealthSourceOH⁩ ⁦@Local12⁩...</td>\n      <td>ReTweet</td>\n      <td>Twitter for Android</td>\n      <td>0</td>\n      <td>0</td>\n      <td>NaN</td>\n      <td>English</td>\n      <td>...</td>\n      <td>Lisa Countess davis</td>\n      <td>CountessDavis</td>\n      <td>I am named after @ElvisPresley daughter Lisa M...</td>\n      <td>Non-Verified</td>\n      <td>https://twitter.com/CountessDavis</td>\n      <td>Non-Protected</td>\n      <td>291</td>\n      <td>81</td>\n      <td>26 Jan 2017 18:21:42</td>\n      <td>0</td>\n    </tr>\n    <tr>\n      <th>4</th>\n      <td>\"1167228378191204353\"</td>\n      <td>https://twitter.com/Local12/status/11672283781...</td>\n      <td>30 Aug 2019 00:11:46</td>\n      <td>What a great team ⁦@HealthSourceOH⁩ ⁦@Local12⁩...</td>\n      <td>ReTweet</td>\n      <td>TweetDeck</td>\n      <td>0</td>\n      <td>0</td>\n      <td>Cincinnati, OH</td>\n      <td>English</td>\n      <td>...</td>\n      <td>Local 12/WKRC-TV</td>\n      <td>Local12</td>\n      <td>Local 12 is #Cincinnati's trusted source for b...</td>\n      <td>Verified</td>\n      <td>https://twitter.com/Local12</td>\n      <td>Non-Protected</td>\n      <td>198675</td>\n      <td>651</td>\n      <td>02 Sep 2008 20:09:44</td>\n      <td>0</td>\n    </tr>\n    <tr>\n      <th>5</th>\n      <td>\"1167228285463531520\"</td>\n      <td>https://twitter.com/lbonis1/status/11672282854...</td>\n      <td>30 Aug 2019 00:11:23</td>\n      <td>What a great team ⁦@HealthSourceOH⁩ ⁦@Local12⁩...</td>\n      <td>Tweet</td>\n      <td>Twitter for iPhone</td>\n      <td>3</td>\n      <td>17</td>\n      <td>WKRC TV</td>\n      <td>English</td>\n      <td>...</td>\n      <td>Liz Bonis</td>\n      <td>lbonis1</td>\n      <td>Health and Medical Reporter/News Anchor Regist...</td>\n      <td>Verified</td>\n      <td>https://twitter.com/lbonis1</td>\n      <td>Non-Protected</td>\n      <td>6015</td>\n      <td>4866</td>\n      <td>16 Mar 2013 12:05:02</td>\n      <td>12033</td>\n    </tr>\n    <tr>\n      <th>6</th>\n      <td>\"1167163662051631104\"</td>\n      <td>https://twitter.com/luapppank/status/116716366...</td>\n      <td>29 Aug 2019 19:54:36</td>\n      <td>Will you be at #FIX19? Want a preview of @AG_E...</td>\n      <td>ReTweet</td>\n      <td>Twitter for iPhone</td>\n      <td>0</td>\n      <td>0</td>\n      <td>Scottsdale, AZ</td>\n      <td>English</td>\n      <td>...</td>\n      <td>paul knapp</td>\n      <td>luapppank</td>\n      <td>16.2 (and rising) hdcp golfer. fairways and gr...</td>\n      <td>Non-Verified</td>\n      <td>https://twitter.com/luapppank</td>\n      <td>Non-Protected</td>\n      <td>69</td>\n      <td>81</td>\n      <td>17 May 2009 12:58:43</td>\n      <td>0</td>\n    </tr>\n    <tr>\n      <th>7</th>\n      <td>\"1167109799282118656\"</td>\n      <td>https://twitter.com/AG_EM33/status/11671097992...</td>\n      <td>29 Aug 2019 16:20:34</td>\n      <td>Will you be at #FIX19? Want a preview of @AG_E...</td>\n      <td>ReTweet</td>\n      <td>Twitter for iPhone</td>\n      <td>0</td>\n      <td>0</td>\n      <td>NaN</td>\n      <td>English</td>\n      <td>...</td>\n      <td>Alin</td>\n      <td>AG_EM33</td>\n      <td>DO &amp;amp; MPH | EM resident | Interests: #FOAMe...</td>\n      <td>Non-Verified</td>\n      <td>https://twitter.com/AG_EM33</td>\n      <td>Non-Protected</td>\n      <td>9655</td>\n      <td>3043</td>\n      <td>26 Mar 2016 03:57:53</td>\n      <td>0</td>\n    </tr>\n    <tr>\n      <th>8</th>\n      <td>\"1167071808895541248\"</td>\n      <td>https://twitter.com/andyglittle/status/1167071...</td>\n      <td>29 Aug 2019 13:49:37</td>\n      <td>Will you be at #FIX19? Want a preview of @AG_E...</td>\n      <td>ReTweet</td>\n      <td>Twitter for iPhone</td>\n      <td>0</td>\n      <td>0</td>\n      <td>Columbus,OH</td>\n      <td>English</td>\n      <td>...</td>\n      <td>Andy Little</td>\n      <td>andyglittle</td>\n      <td>EM DOC @DoctorsEMres, PodCaster, lover of my f...</td>\n      <td>Non-Verified</td>\n      <td>https://twitter.com/andyglittle</td>\n      <td>Non-Protected</td>\n      <td>1697</td>\n      <td>1123</td>\n      <td>25 Nov 2013 19:42:29</td>\n      <td>0</td>\n    </tr>\n    <tr>\n      <th>9</th>\n      <td>\"1167069888474537984\"</td>\n      <td>https://twitter.com/MOX13/status/1167069888474...</td>\n      <td>29 Aug 2019 13:41:59</td>\n      <td>Will you be at #FIX19? Want a preview of @AG_E...</td>\n      <td>ReTweet</td>\n      <td>Twitter for iPhone</td>\n      <td>0</td>\n      <td>0</td>\n      <td>NaN</td>\n      <td>English</td>\n      <td>...</td>\n      <td>Tanner Gronowski</td>\n      <td>MOX13</td>\n      <td>Emergency Medicine Doc, outdoor enthusiast, am...</td>\n      <td>Non-Verified</td>\n      <td>https://twitter.com/MOX13</td>\n      <td>Non-Protected</td>\n      <td>796</td>\n      <td>613</td>\n      <td>02 Jun 2009 17:50:10</td>\n      <td>0</td>\n    </tr>\n    <tr>\n      <th>10</th>\n      <td>\"1167062757126094848\"</td>\n      <td>https://twitter.com/dkalnow/status/11670627571...</td>\n      <td>29 Aug 2019 13:13:38</td>\n      <td>Will you be at #FIX19? Want a preview of @AG_E...</td>\n      <td>ReTweet</td>\n      <td>Twitter for iPhone</td>\n      <td>0</td>\n      <td>0</td>\n      <td>Columbus, OH</td>\n      <td>English</td>\n      <td>...</td>\n      <td>Drew Kalnow</td>\n      <td>dkalnow</td>\n      <td>EM Physician and Sim Director @DoctorsEMres Oc...</td>\n      <td>Non-Verified</td>\n      <td>https://twitter.com/dkalnow</td>\n      <td>Non-Protected</td>\n      <td>771</td>\n      <td>394</td>\n      <td>30 Mar 2014 01:06:26</td>\n      <td>0</td>\n    </tr>\n    <tr>\n      <th>11</th>\n      <td>\"1167061075075973123\"</td>\n      <td>https://twitter.com/EMOverEasy/status/11670610...</td>\n      <td>29 Aug 2019 13:06:57</td>\n      <td>Will you be at #FIX19? Want a preview of @AG_E...</td>\n      <td>Tweet</td>\n      <td>Twitter Web App</td>\n      <td>6</td>\n      <td>19</td>\n      <td>DK Diner, USA</td>\n      <td>English</td>\n      <td>...</td>\n      <td>EMOverEasy</td>\n      <td>EMOverEasy</td>\n      <td>Tackling real world problems from the EM persp...</td>\n      <td>Non-Verified</td>\n      <td>https://twitter.com/EMOverEasy</td>\n      <td>Non-Protected</td>\n      <td>1345</td>\n      <td>361</td>\n      <td>09 Mar 2016 15:04:58</td>\n      <td>2696</td>\n    </tr>\n    <tr>\n      <th>12</th>\n      <td>\"1166892836165496835\"</td>\n      <td>https://twitter.com/AndreaWestbyMD/status/1166...</td>\n      <td>29 Aug 2019 01:58:26</td>\n      <td>Y’all ⁦@UMNNMFamMedRes⁩ Rose Marie Leslie is a...</td>\n      <td>Tweet</td>\n      <td>Twitter for iPhone</td>\n      <td>0</td>\n      <td>27</td>\n      <td>Minneapolis, MN</td>\n      <td>English</td>\n      <td>...</td>\n      <td>Andrea Westby</td>\n      <td>AndreaWestbyMD</td>\n      <td>She/her/hers. Teacher of family medicine, form...</td>\n      <td>Non-Verified</td>\n      <td>https://twitter.com/AndreaWestbyMD</td>\n      <td>Non-Protected</td>\n      <td>938</td>\n      <td>1247</td>\n      <td>15 Apr 2015 19:58:49</td>\n      <td>1876</td>\n    </tr>\n    <tr>\n      <th>13</th>\n      <td>\"1166860403516813318\"</td>\n      <td>https://twitter.com/RealZiggyFlo/status/116686...</td>\n      <td>28 Aug 2019 23:49:34</td>\n      <td>@Medtronic Here, here! Engage with your patien...</td>\n      <td>ReTweet</td>\n      <td>Twitter Web App</td>\n      <td>0</td>\n      <td>0</td>\n      <td>Life zig zags so go with the flow. RT not nece...</td>\n      <td>English</td>\n      <td>...</td>\n      <td>ℛεɑℓℤɩɠɠƴℱℓℴ</td>\n      <td>RealZiggyFlo</td>\n      <td>Cure Duchenne http://www.parentprojectmd.org/</td>\n      <td>Non-Verified</td>\n      <td>https://twitter.com/RealZiggyFlo</td>\n      <td>Non-Protected</td>\n      <td>628</td>\n      <td>870</td>\n      <td>11 Apr 2011 10:36:42</td>\n      <td>0</td>\n    </tr>\n    <tr>\n      <th>14</th>\n      <td>\"1166742759232790529\"</td>\n      <td>https://twitter.com/HolmesHaddad/status/116674...</td>\n      <td>28 Aug 2019 16:02:05</td>\n      <td>@Medtronic Here, here! Engage with your patien...</td>\n      <td>Reply</td>\n      <td>Twitter Web App</td>\n      <td>1</td>\n      <td>1</td>\n      <td>San Francisco Bay Area, USA</td>\n      <td>English</td>\n      <td>...</td>\n      <td>Laura Holmes Haddad</td>\n      <td>HolmesHaddad</td>\n      <td>Writer, mom, dog lover, inflammatory breast ca...</td>\n      <td>Non-Verified</td>\n      <td>https://twitter.com/HolmesHaddad</td>\n      <td>Non-Protected</td>\n      <td>355</td>\n      <td>645</td>\n      <td>20 Jul 2015 20:15:28</td>\n      <td>711</td>\n    </tr>\n    <tr>\n      <th>15</th>\n      <td>\"1166686363481268224\"</td>\n      <td>https://twitter.com/Pinhead6/status/1166686363...</td>\n      <td>28 Aug 2019 12:17:59</td>\n      <td>Zoonosen sind ein Risiko für Mensch und Tier❗️...</td>\n      <td>ReTweet</td>\n      <td>Twitter for iPad</td>\n      <td>0</td>\n      <td>0</td>\n      <td>südlich der südlichsten Stadt Deutschlands</td>\n      <td>German</td>\n      <td>...</td>\n      <td>Papa Pinhead</td>\n      <td>Pinhead6</td>\n      <td>74er Jahrgang mit grosser Sammelleidenschaft v...</td>\n      <td>Non-Verified</td>\n      <td>https://twitter.com/Pinhead6</td>\n      <td>Non-Protected</td>\n      <td>233</td>\n      <td>639</td>\n      <td>16 Aug 2009 10:16:13</td>\n      <td>0</td>\n    </tr>\n    <tr>\n      <th>16</th>\n      <td>\"1166678848395780096\"</td>\n      <td>https://twitter.com/VetDocVideo/status/1166678...</td>\n      <td>28 Aug 2019 11:48:07</td>\n      <td>Zoonosen sind ein Risiko für Mensch und Tier❗️...</td>\n      <td>ReTweet</td>\n      <td>Twitter Web App</td>\n      <td>0</td>\n      <td>0</td>\n      <td>Breuberg, Deutschland</td>\n      <td>German</td>\n      <td>...</td>\n      <td>Thomas Wengenroth</td>\n      <td>VetDocVideo</td>\n      <td>Nutztierhaltung (http://stallbesuch.de) und Ti...</td>\n      <td>Non-Verified</td>\n      <td>https://twitter.com/VetDocVideo</td>\n      <td>Non-Protected</td>\n      <td>1482</td>\n      <td>1759</td>\n      <td>20 May 2011 13:36:13</td>\n      <td>0</td>\n    </tr>\n    <tr>\n      <th>17</th>\n      <td>\"1166660764146503681\"</td>\n      <td>https://twitter.com/BfTGermany/status/11666607...</td>\n      <td>28 Aug 2019 10:36:16</td>\n      <td>Zoonosen sind ein Risiko für Mensch und Tier❗️...</td>\n      <td>Tweet</td>\n      <td>Twitter Web App</td>\n      <td>2</td>\n      <td>7</td>\n      <td>Bonn, Deutschland</td>\n      <td>German</td>\n      <td>...</td>\n      <td>BfTiergesundheit</td>\n      <td>BfTGermany</td>\n      <td>Der Bundesverband für Tiergesundheit e.V. vert...</td>\n      <td>Non-Verified</td>\n      <td>https://twitter.com/BfTGermany</td>\n      <td>Non-Protected</td>\n      <td>48</td>\n      <td>46</td>\n      <td>07 Feb 2019 08:32:42</td>\n      <td>98</td>\n    </tr>\n    <tr>\n      <th>18</th>\n      <td>\"1166580818673901568\"</td>\n      <td>https://twitter.com/POLPROWET/status/116658081...</td>\n      <td>28 Aug 2019 05:18:35</td>\n      <td>Czy wiesz, że do bez leków dla zwierząt potrze...</td>\n      <td>Tweet</td>\n      <td>Twitter for iPhone</td>\n      <td>0</td>\n      <td>1</td>\n      <td>Warszawa</td>\n      <td>Polish</td>\n      <td>...</td>\n      <td>POLPROWET</td>\n      <td>POLPROWET</td>\n      <td>Oficjalny profil Polskiego Stowarzyszenia Prod...</td>\n      <td>Non-Verified</td>\n      <td>https://twitter.com/POLPROWET</td>\n      <td>Non-Protected</td>\n      <td>98</td>\n      <td>194</td>\n      <td>17 Feb 2017 07:20:30</td>\n      <td>196</td>\n    </tr>\n    <tr>\n      <th>19</th>\n      <td>\"1166434142260797441\"</td>\n      <td>https://twitter.com/ricki_ifferte/status/11664...</td>\n      <td>27 Aug 2019 19:35:45</td>\n      <td>Thank you @crtaylor33 and @forbes for spotligh...</td>\n      <td>ReTweet</td>\n      <td>Twitter for iPhone</td>\n      <td>0</td>\n      <td>0</td>\n      <td>Connecticut</td>\n      <td>English</td>\n      <td>...</td>\n      <td>ricki</td>\n      <td>ricki_ifferte</td>\n      <td>“I am unfinished, I’ve got so much left to learn”</td>\n      <td>Non-Verified</td>\n      <td>https://twitter.com/ricki_ifferte</td>\n      <td>Non-Protected</td>\n      <td>76</td>\n      <td>189</td>\n      <td>31 Dec 2014 06:42:40</td>\n      <td>0</td>\n    </tr>\n  </tbody>\n</table>\n<p>20 rows × 21 columns</p>\n</div>"
     },
     "execution_count": 110,
     "metadata": {},
     "output_type": "execute_result"
    }
   ],
   "source": [
    "import pandas as pd\n",
    "import numpy as np\n",
    "import nltk\n",
    "import re\n",
    "import matplotlib.pyplot as plt\n",
    "%matplotlib inline\n",
    "import nltk\n",
    "from nltk.stem.snowball import SnowballStemmer\n",
    "from nltk.corpus import stopwords\n",
    "import spacy\n",
    "from datetime import date\n",
    "nlp = spacy.load(\"en_core_web_sm\")\n",
    "\n",
    "corpus = pd.read_csv(\"E:\\\\Bellevue\\\\Winter_2022\\\\DSC 360 Data Mining Text Analytics an\\Week_5\\\\twitter_sample.csv\")\n",
    "corpus[:20]"
   ],
   "metadata": {
    "collapsed": false,
    "pycharm": {
     "name": "#%%\n"
    }
   }
  },
  {
   "cell_type": "code",
   "execution_count": 111,
   "outputs": [],
   "source": [
    "wpt = nltk.WordPunctTokenizer()\n",
    "stop_words = nltk.corpus.stopwords.words('English')\n",
    "\n",
    "def normalize_document(doc):\n",
    "    # lowercase and remove special characters\\whitespace\n",
    "    doc = re.sub(r'[^a-zA-Z\\s]', '', doc, re.I|re.A)\n",
    "    doc = doc.lower()\n",
    "    doc = doc.strip()\n",
    "    #tokenize document\n",
    "    tokens = wpt.tokenize(doc)\n",
    "    # filter stopwords out of document\n",
    "    filtered_tokens = [token for token in tokens if token not in stop_words]\n",
    "    # re-create document from filtered tokens\n",
    "    doc = ' '.join(filtered_tokens)\n",
    "    doc = re.sub('\\n',' ',doc)\n",
    "    return doc\n",
    "\n",
    "normalize_corpus = np.vectorize(normalize_document)\n",
    "\n",
    "def clean_tweets(doc):\n",
    "    doc = doc.str.replace('[^\\w\\s]', '', regex=True)\n",
    "    doc = doc.apply(lambda x: ' '.join([word for word in x.split() if word not in stop_words]))\n",
    "    return doc"
   ],
   "metadata": {
    "collapsed": false,
    "pycharm": {
     "name": "#%%\n"
    }
   }
  },
  {
   "cell_type": "markdown",
   "source": [
    "1. Clean the “Tweet Content” column by removing non-text data and stop words."
   ],
   "metadata": {
    "collapsed": false,
    "pycharm": {
     "name": "#%% md\n"
    }
   }
  },
  {
   "cell_type": "code",
   "execution_count": 112,
   "outputs": [
    {
     "data": {
      "text/plain": "                Tweet Id                                          Tweet URL  \\\n0  \"1167429261210218497\"  https://twitter.com/animalhealthEU/status/1167...   \n1  \"1167375334670557185\"  https://twitter.com/PennyBrohnUK/status/116737...   \n2  \"1167237977615097861\"  https://twitter.com/lordbyronaf/status/1167237...   \n3  \"1167236897078480898\"  https://twitter.com/CountessDavis/status/11672...   \n4  \"1167228378191204353\"  https://twitter.com/Local12/status/11672283781...   \n5  \"1167228285463531520\"  https://twitter.com/lbonis1/status/11672282854...   \n6  \"1167163662051631104\"  https://twitter.com/luapppank/status/116716366...   \n7  \"1167109799282118656\"  https://twitter.com/AG_EM33/status/11671097992...   \n8  \"1167071808895541248\"  https://twitter.com/andyglittle/status/1167071...   \n9  \"1167069888474537984\"  https://twitter.com/MOX13/status/1167069888474...   \n\n  Tweet Posted Time (UTC)                                      Tweet Content  \\\n0    30 Aug 2019 13:30:00  pets change lives amp become part families tha...   \n1    30 Aug 2019 09:55:43  another spot morethanmedicine bus bristol week...   \n2    30 Aug 2019 00:49:54  great team healthsourceoh local morethanmedici...   \n3    30 Aug 2019 00:45:37  great team healthsourceoh local morethanmedici...   \n4    30 Aug 2019 00:11:46  great team healthsourceoh local morethanmedici...   \n5    30 Aug 2019 00:11:23  great team healthsourceoh local morethanmedici...   \n6    29 Aug 2019 19:54:36  fix want preview agem story check back monday ...   \n7    29 Aug 2019 16:20:34  fix want preview agem story check back monday ...   \n8    29 Aug 2019 13:49:37  fix want preview agem story check back monday ...   \n9    29 Aug 2019 13:41:59  fix want preview agem story check back monday ...   \n\n  Tweet Type                Client  Retweets Received  Likes Received  \\\n0      Tweet  Twitter Ads Composer                  0               4   \n1      Tweet       Twitter Web App                  0               5   \n2    ReTweet   Twitter for Android                  0               0   \n3    ReTweet   Twitter for Android                  0               0   \n4    ReTweet             TweetDeck                  0               0   \n5      Tweet    Twitter for iPhone                  3              17   \n6    ReTweet    Twitter for iPhone                  0               0   \n7    ReTweet    Twitter for iPhone                  0               0   \n8    ReTweet    Twitter for iPhone                  0               0   \n9    ReTweet    Twitter for iPhone                  0               0   \n\n   Tweet Location Tweet Language  ...                 Name        Username  \\\n0        Brussels        English  ...   AnimalhealthEurope  animalhealthEU   \n1   Pill, Bristol        English  ...       Penny Brohn UK    PennyBrohnUK   \n2       Ohio, USA        English  ...         Lord ByronAF     lordbyronaf   \n3             NaN        English  ...  Lisa Countess davis   CountessDavis   \n4  Cincinnati, OH        English  ...     Local 12/WKRC-TV         Local12   \n5         WKRC TV        English  ...            Liz Bonis         lbonis1   \n6  Scottsdale, AZ        English  ...           paul knapp       luapppank   \n7             NaN        English  ...                 Alin         AG_EM33   \n8     Columbus,OH        English  ...          Andy Little     andyglittle   \n9             NaN        English  ...     Tanner Gronowski           MOX13   \n\n                                            User Bio Verified or Non-Verified  \\\n0  AnimalhealthEurope represents manufacturers of...             Non-Verified   \n1  We help people live well with the impact of ca...             Non-Verified   \n2  It's easier to be who you are, than it is to b...             Non-Verified   \n3  I am named after @ElvisPresley daughter Lisa M...             Non-Verified   \n4  Local 12 is #Cincinnati's trusted source for b...                 Verified   \n5  Health and Medical Reporter/News Anchor Regist...                 Verified   \n6  16.2 (and rising) hdcp golfer. fairways and gr...             Non-Verified   \n7  DO &amp; MPH | EM resident | Interests: #FOAMe...             Non-Verified   \n8  EM DOC @DoctorsEMres, PodCaster, lover of my f...             Non-Verified   \n9  Emergency Medicine Doc, outdoor enthusiast, am...             Non-Verified   \n\n                          Profile URL Protected or Non-protected  \\\n0  https://twitter.com/animalhealthEU              Non-Protected   \n1    https://twitter.com/PennyBrohnUK              Non-Protected   \n2     https://twitter.com/lordbyronaf              Non-Protected   \n3   https://twitter.com/CountessDavis              Non-Protected   \n4         https://twitter.com/Local12              Non-Protected   \n5         https://twitter.com/lbonis1              Non-Protected   \n6       https://twitter.com/luapppank              Non-Protected   \n7         https://twitter.com/AG_EM33              Non-Protected   \n8     https://twitter.com/andyglittle              Non-Protected   \n9           https://twitter.com/MOX13              Non-Protected   \n\n  User Followers  User Following  User Account Creation Date Impressions  \n0           3697             542        17 Dec 2012 09:14:15        7394  \n1           3227            1571        15 Sep 2010 09:44:02        6454  \n2           7808            8617        25 Jul 2012 15:43:47           0  \n3            291              81        26 Jan 2017 18:21:42           0  \n4         198675             651        02 Sep 2008 20:09:44           0  \n5           6015            4866        16 Mar 2013 12:05:02       12033  \n6             69              81        17 May 2009 12:58:43           0  \n7           9655            3043        26 Mar 2016 03:57:53           0  \n8           1697            1123        25 Nov 2013 19:42:29           0  \n9            796             613        02 Jun 2009 17:50:10           0  \n\n[10 rows x 21 columns]",
      "text/html": "<div>\n<style scoped>\n    .dataframe tbody tr th:only-of-type {\n        vertical-align: middle;\n    }\n\n    .dataframe tbody tr th {\n        vertical-align: top;\n    }\n\n    .dataframe thead th {\n        text-align: right;\n    }\n</style>\n<table border=\"1\" class=\"dataframe\">\n  <thead>\n    <tr style=\"text-align: right;\">\n      <th></th>\n      <th>Tweet Id</th>\n      <th>Tweet URL</th>\n      <th>Tweet Posted Time (UTC)</th>\n      <th>Tweet Content</th>\n      <th>Tweet Type</th>\n      <th>Client</th>\n      <th>Retweets Received</th>\n      <th>Likes Received</th>\n      <th>Tweet Location</th>\n      <th>Tweet Language</th>\n      <th>...</th>\n      <th>Name</th>\n      <th>Username</th>\n      <th>User Bio</th>\n      <th>Verified or Non-Verified</th>\n      <th>Profile URL</th>\n      <th>Protected or Non-protected</th>\n      <th>User Followers</th>\n      <th>User Following</th>\n      <th>User Account Creation Date</th>\n      <th>Impressions</th>\n    </tr>\n  </thead>\n  <tbody>\n    <tr>\n      <th>0</th>\n      <td>\"1167429261210218497\"</td>\n      <td>https://twitter.com/animalhealthEU/status/1167...</td>\n      <td>30 Aug 2019 13:30:00</td>\n      <td>pets change lives amp become part families tha...</td>\n      <td>Tweet</td>\n      <td>Twitter Ads Composer</td>\n      <td>0</td>\n      <td>4</td>\n      <td>Brussels</td>\n      <td>English</td>\n      <td>...</td>\n      <td>AnimalhealthEurope</td>\n      <td>animalhealthEU</td>\n      <td>AnimalhealthEurope represents manufacturers of...</td>\n      <td>Non-Verified</td>\n      <td>https://twitter.com/animalhealthEU</td>\n      <td>Non-Protected</td>\n      <td>3697</td>\n      <td>542</td>\n      <td>17 Dec 2012 09:14:15</td>\n      <td>7394</td>\n    </tr>\n    <tr>\n      <th>1</th>\n      <td>\"1167375334670557185\"</td>\n      <td>https://twitter.com/PennyBrohnUK/status/116737...</td>\n      <td>30 Aug 2019 09:55:43</td>\n      <td>another spot morethanmedicine bus bristol week...</td>\n      <td>Tweet</td>\n      <td>Twitter Web App</td>\n      <td>0</td>\n      <td>5</td>\n      <td>Pill, Bristol</td>\n      <td>English</td>\n      <td>...</td>\n      <td>Penny Brohn UK</td>\n      <td>PennyBrohnUK</td>\n      <td>We help people live well with the impact of ca...</td>\n      <td>Non-Verified</td>\n      <td>https://twitter.com/PennyBrohnUK</td>\n      <td>Non-Protected</td>\n      <td>3227</td>\n      <td>1571</td>\n      <td>15 Sep 2010 09:44:02</td>\n      <td>6454</td>\n    </tr>\n    <tr>\n      <th>2</th>\n      <td>\"1167237977615097861\"</td>\n      <td>https://twitter.com/lordbyronaf/status/1167237...</td>\n      <td>30 Aug 2019 00:49:54</td>\n      <td>great team healthsourceoh local morethanmedici...</td>\n      <td>ReTweet</td>\n      <td>Twitter for Android</td>\n      <td>0</td>\n      <td>0</td>\n      <td>Ohio, USA</td>\n      <td>English</td>\n      <td>...</td>\n      <td>Lord ByronAF</td>\n      <td>lordbyronaf</td>\n      <td>It's easier to be who you are, than it is to b...</td>\n      <td>Non-Verified</td>\n      <td>https://twitter.com/lordbyronaf</td>\n      <td>Non-Protected</td>\n      <td>7808</td>\n      <td>8617</td>\n      <td>25 Jul 2012 15:43:47</td>\n      <td>0</td>\n    </tr>\n    <tr>\n      <th>3</th>\n      <td>\"1167236897078480898\"</td>\n      <td>https://twitter.com/CountessDavis/status/11672...</td>\n      <td>30 Aug 2019 00:45:37</td>\n      <td>great team healthsourceoh local morethanmedici...</td>\n      <td>ReTweet</td>\n      <td>Twitter for Android</td>\n      <td>0</td>\n      <td>0</td>\n      <td>NaN</td>\n      <td>English</td>\n      <td>...</td>\n      <td>Lisa Countess davis</td>\n      <td>CountessDavis</td>\n      <td>I am named after @ElvisPresley daughter Lisa M...</td>\n      <td>Non-Verified</td>\n      <td>https://twitter.com/CountessDavis</td>\n      <td>Non-Protected</td>\n      <td>291</td>\n      <td>81</td>\n      <td>26 Jan 2017 18:21:42</td>\n      <td>0</td>\n    </tr>\n    <tr>\n      <th>4</th>\n      <td>\"1167228378191204353\"</td>\n      <td>https://twitter.com/Local12/status/11672283781...</td>\n      <td>30 Aug 2019 00:11:46</td>\n      <td>great team healthsourceoh local morethanmedici...</td>\n      <td>ReTweet</td>\n      <td>TweetDeck</td>\n      <td>0</td>\n      <td>0</td>\n      <td>Cincinnati, OH</td>\n      <td>English</td>\n      <td>...</td>\n      <td>Local 12/WKRC-TV</td>\n      <td>Local12</td>\n      <td>Local 12 is #Cincinnati's trusted source for b...</td>\n      <td>Verified</td>\n      <td>https://twitter.com/Local12</td>\n      <td>Non-Protected</td>\n      <td>198675</td>\n      <td>651</td>\n      <td>02 Sep 2008 20:09:44</td>\n      <td>0</td>\n    </tr>\n    <tr>\n      <th>5</th>\n      <td>\"1167228285463531520\"</td>\n      <td>https://twitter.com/lbonis1/status/11672282854...</td>\n      <td>30 Aug 2019 00:11:23</td>\n      <td>great team healthsourceoh local morethanmedici...</td>\n      <td>Tweet</td>\n      <td>Twitter for iPhone</td>\n      <td>3</td>\n      <td>17</td>\n      <td>WKRC TV</td>\n      <td>English</td>\n      <td>...</td>\n      <td>Liz Bonis</td>\n      <td>lbonis1</td>\n      <td>Health and Medical Reporter/News Anchor Regist...</td>\n      <td>Verified</td>\n      <td>https://twitter.com/lbonis1</td>\n      <td>Non-Protected</td>\n      <td>6015</td>\n      <td>4866</td>\n      <td>16 Mar 2013 12:05:02</td>\n      <td>12033</td>\n    </tr>\n    <tr>\n      <th>6</th>\n      <td>\"1167163662051631104\"</td>\n      <td>https://twitter.com/luapppank/status/116716366...</td>\n      <td>29 Aug 2019 19:54:36</td>\n      <td>fix want preview agem story check back monday ...</td>\n      <td>ReTweet</td>\n      <td>Twitter for iPhone</td>\n      <td>0</td>\n      <td>0</td>\n      <td>Scottsdale, AZ</td>\n      <td>English</td>\n      <td>...</td>\n      <td>paul knapp</td>\n      <td>luapppank</td>\n      <td>16.2 (and rising) hdcp golfer. fairways and gr...</td>\n      <td>Non-Verified</td>\n      <td>https://twitter.com/luapppank</td>\n      <td>Non-Protected</td>\n      <td>69</td>\n      <td>81</td>\n      <td>17 May 2009 12:58:43</td>\n      <td>0</td>\n    </tr>\n    <tr>\n      <th>7</th>\n      <td>\"1167109799282118656\"</td>\n      <td>https://twitter.com/AG_EM33/status/11671097992...</td>\n      <td>29 Aug 2019 16:20:34</td>\n      <td>fix want preview agem story check back monday ...</td>\n      <td>ReTweet</td>\n      <td>Twitter for iPhone</td>\n      <td>0</td>\n      <td>0</td>\n      <td>NaN</td>\n      <td>English</td>\n      <td>...</td>\n      <td>Alin</td>\n      <td>AG_EM33</td>\n      <td>DO &amp;amp; MPH | EM resident | Interests: #FOAMe...</td>\n      <td>Non-Verified</td>\n      <td>https://twitter.com/AG_EM33</td>\n      <td>Non-Protected</td>\n      <td>9655</td>\n      <td>3043</td>\n      <td>26 Mar 2016 03:57:53</td>\n      <td>0</td>\n    </tr>\n    <tr>\n      <th>8</th>\n      <td>\"1167071808895541248\"</td>\n      <td>https://twitter.com/andyglittle/status/1167071...</td>\n      <td>29 Aug 2019 13:49:37</td>\n      <td>fix want preview agem story check back monday ...</td>\n      <td>ReTweet</td>\n      <td>Twitter for iPhone</td>\n      <td>0</td>\n      <td>0</td>\n      <td>Columbus,OH</td>\n      <td>English</td>\n      <td>...</td>\n      <td>Andy Little</td>\n      <td>andyglittle</td>\n      <td>EM DOC @DoctorsEMres, PodCaster, lover of my f...</td>\n      <td>Non-Verified</td>\n      <td>https://twitter.com/andyglittle</td>\n      <td>Non-Protected</td>\n      <td>1697</td>\n      <td>1123</td>\n      <td>25 Nov 2013 19:42:29</td>\n      <td>0</td>\n    </tr>\n    <tr>\n      <th>9</th>\n      <td>\"1167069888474537984\"</td>\n      <td>https://twitter.com/MOX13/status/1167069888474...</td>\n      <td>29 Aug 2019 13:41:59</td>\n      <td>fix want preview agem story check back monday ...</td>\n      <td>ReTweet</td>\n      <td>Twitter for iPhone</td>\n      <td>0</td>\n      <td>0</td>\n      <td>NaN</td>\n      <td>English</td>\n      <td>...</td>\n      <td>Tanner Gronowski</td>\n      <td>MOX13</td>\n      <td>Emergency Medicine Doc, outdoor enthusiast, am...</td>\n      <td>Non-Verified</td>\n      <td>https://twitter.com/MOX13</td>\n      <td>Non-Protected</td>\n      <td>796</td>\n      <td>613</td>\n      <td>02 Jun 2009 17:50:10</td>\n      <td>0</td>\n    </tr>\n  </tbody>\n</table>\n<p>10 rows × 21 columns</p>\n</div>"
     },
     "execution_count": 112,
     "metadata": {},
     "output_type": "execute_result"
    }
   ],
   "source": [
    "#corpus['Clean Tweets'] = normalize_corpus(corpus['Tweet Content'])\n",
    "corpus['Tweet Content'] = normalize_corpus(corpus['Tweet Content'])\n",
    "corpus.head(10)"
   ],
   "metadata": {
    "collapsed": false,
    "pycharm": {
     "name": "#%%\n"
    }
   }
  },
  {
   "cell_type": "code",
   "execution_count": 113,
   "outputs": [],
   "source": [
    "#norm_corpus = normalize_corpus(corpus)\n",
    "#print(norm_corpus, '\\n')\n",
    "#corpus.head(10)"
   ],
   "metadata": {
    "collapsed": false,
    "pycharm": {
     "name": "#%%\n"
    }
   }
  },
  {
   "cell_type": "markdown",
   "source": [
    "2. Filtering only tweets (not re-tweets) use your class from part one of this exercise to build BOW and TF-IDF Vectorizer representations of the text; print your results. Don't over-think this, leverage what the author does in the text."
   ],
   "metadata": {
    "collapsed": false,
    "pycharm": {
     "name": "#%% md\n"
    }
   }
  },
  {
   "cell_type": "code",
   "execution_count": 114,
   "outputs": [
    {
     "name": "stdout",
     "output_type": "stream",
     "text": [
      "Bag of Words Model\n",
      "  (0, 2)\t1\n",
      "  (1, 2)\t1\n",
      "  (2, 1)\t1\n",
      "  (3, 1)\t1\n",
      "  (4, 1)\t1\n",
      "  (5, 2)\t1\n",
      "  (6, 1)\t1\n",
      "  (7, 1)\t1\n",
      "  (8, 1)\t1\n",
      "  (9, 1)\t1\n",
      "  (10, 1)\t1\n",
      "  (11, 2)\t1\n",
      "  (12, 2)\t1\n",
      "  (13, 1)\t1\n",
      "  (14, 0)\t1\n",
      "  (15, 1)\t1\n",
      "  (16, 1)\t1\n",
      "  (17, 2)\t1\n",
      "  (18, 2)\t1\n",
      "  (19, 1)\t1\n",
      "  (20, 1)\t1\n",
      "  (21, 2)\t1\n",
      "  (22, 1)\t1\n",
      "  (23, 2)\t1\n",
      "  (24, 1)\t1\n",
      "  :\t:\n",
      "  (361, 2)\t1\n",
      "  (362, 1)\t1\n",
      "  (363, 2)\t1\n",
      "  (364, 2)\t1\n",
      "  (365, 1)\t1\n",
      "  (366, 2)\t1\n",
      "  (367, 1)\t1\n",
      "  (368, 1)\t1\n",
      "  (369, 1)\t1\n",
      "  (370, 1)\t1\n",
      "  (371, 0)\t1\n",
      "  (372, 1)\t1\n",
      "  (373, 1)\t1\n",
      "  (374, 1)\t1\n",
      "  (375, 1)\t1\n",
      "  (376, 1)\t1\n",
      "  (377, 1)\t1\n",
      "  (378, 2)\t1\n",
      "  (379, 1)\t1\n",
      "  (380, 2)\t1\n",
      "  (381, 1)\t1\n",
      "  (382, 2)\t1\n",
      "  (383, 1)\t1\n",
      "  (384, 1)\t1\n",
      "  (385, 2)\t1 \n",
      "\n",
      "[[0 0 1]\n",
      " [0 0 1]\n",
      " [0 1 0]\n",
      " ...\n",
      " [0 1 0]\n",
      " [0 1 0]\n",
      " [0 0 1]] \n",
      "\n",
      "     reply  retweet  tweet\n",
      "0        0        0      1\n",
      "1        0        0      1\n",
      "2        0        1      0\n",
      "3        0        1      0\n",
      "4        0        1      0\n",
      "..     ...      ...    ...\n",
      "381      0        1      0\n",
      "382      0        0      1\n",
      "383      0        1      0\n",
      "384      0        1      0\n",
      "385      0        0      1\n",
      "\n",
      "[386 rows x 3 columns] \n",
      "\n"
     ]
    },
    {
     "ename": "ValueError",
     "evalue": "empty vocabulary; perhaps the documents only contain stop words",
     "output_type": "error",
     "traceback": [
      "\u001B[1;31m---------------------------------------------------------------------------\u001B[0m",
      "\u001B[1;31mValueError\u001B[0m                                Traceback (most recent call last)",
      "Cell \u001B[1;32mIn [114], line 24\u001B[0m\n\u001B[0;32m     22\u001B[0m \u001B[38;5;66;03m# you can set the n-gram range to 1,2 to get unigrams as well as bigrams\u001B[39;00m\n\u001B[0;32m     23\u001B[0m bv \u001B[38;5;241m=\u001B[39m CountVectorizer(ngram_range\u001B[38;5;241m=\u001B[39m(\u001B[38;5;241m2\u001B[39m,\u001B[38;5;241m2\u001B[39m))\n\u001B[1;32m---> 24\u001B[0m bv_matrix \u001B[38;5;241m=\u001B[39m \u001B[43mbv\u001B[49m\u001B[38;5;241;43m.\u001B[39;49m\u001B[43mfit_transform\u001B[49m\u001B[43m(\u001B[49m\u001B[43mcorpus\u001B[49m\u001B[43m[\u001B[49m\u001B[38;5;124;43m'\u001B[39;49m\u001B[38;5;124;43mTweet Type\u001B[39;49m\u001B[38;5;124;43m'\u001B[39;49m\u001B[43m]\u001B[49m\u001B[43m)\u001B[49m\n\u001B[0;32m     25\u001B[0m bv_matrix \u001B[38;5;241m=\u001B[39m bv_matrix\u001B[38;5;241m.\u001B[39mtoarray()\n\u001B[0;32m     26\u001B[0m vocab \u001B[38;5;241m=\u001B[39m bv\u001B[38;5;241m.\u001B[39mget_feature_names_out()\n",
      "File \u001B[1;32m~\\Python\\Python310\\lib\\site-packages\\sklearn\\feature_extraction\\text.py:1338\u001B[0m, in \u001B[0;36mCountVectorizer.fit_transform\u001B[1;34m(self, raw_documents, y)\u001B[0m\n\u001B[0;32m   1330\u001B[0m             warnings\u001B[38;5;241m.\u001B[39mwarn(\n\u001B[0;32m   1331\u001B[0m                 \u001B[38;5;124m\"\u001B[39m\u001B[38;5;124mUpper case characters found in\u001B[39m\u001B[38;5;124m\"\u001B[39m\n\u001B[0;32m   1332\u001B[0m                 \u001B[38;5;124m\"\u001B[39m\u001B[38;5;124m vocabulary while \u001B[39m\u001B[38;5;124m'\u001B[39m\u001B[38;5;124mlowercase\u001B[39m\u001B[38;5;124m'\u001B[39m\u001B[38;5;124m\"\u001B[39m\n\u001B[0;32m   1333\u001B[0m                 \u001B[38;5;124m\"\u001B[39m\u001B[38;5;124m is True. These entries will not\u001B[39m\u001B[38;5;124m\"\u001B[39m\n\u001B[0;32m   1334\u001B[0m                 \u001B[38;5;124m\"\u001B[39m\u001B[38;5;124m be matched with any documents\u001B[39m\u001B[38;5;124m\"\u001B[39m\n\u001B[0;32m   1335\u001B[0m             )\n\u001B[0;32m   1336\u001B[0m             \u001B[38;5;28;01mbreak\u001B[39;00m\n\u001B[1;32m-> 1338\u001B[0m vocabulary, X \u001B[38;5;241m=\u001B[39m \u001B[38;5;28;43mself\u001B[39;49m\u001B[38;5;241;43m.\u001B[39;49m\u001B[43m_count_vocab\u001B[49m\u001B[43m(\u001B[49m\u001B[43mraw_documents\u001B[49m\u001B[43m,\u001B[49m\u001B[43m \u001B[49m\u001B[38;5;28;43mself\u001B[39;49m\u001B[38;5;241;43m.\u001B[39;49m\u001B[43mfixed_vocabulary_\u001B[49m\u001B[43m)\u001B[49m\n\u001B[0;32m   1340\u001B[0m \u001B[38;5;28;01mif\u001B[39;00m \u001B[38;5;28mself\u001B[39m\u001B[38;5;241m.\u001B[39mbinary:\n\u001B[0;32m   1341\u001B[0m     X\u001B[38;5;241m.\u001B[39mdata\u001B[38;5;241m.\u001B[39mfill(\u001B[38;5;241m1\u001B[39m)\n",
      "File \u001B[1;32m~\\Python\\Python310\\lib\\site-packages\\sklearn\\feature_extraction\\text.py:1228\u001B[0m, in \u001B[0;36mCountVectorizer._count_vocab\u001B[1;34m(self, raw_documents, fixed_vocab)\u001B[0m\n\u001B[0;32m   1226\u001B[0m     vocabulary \u001B[38;5;241m=\u001B[39m \u001B[38;5;28mdict\u001B[39m(vocabulary)\n\u001B[0;32m   1227\u001B[0m     \u001B[38;5;28;01mif\u001B[39;00m \u001B[38;5;129;01mnot\u001B[39;00m vocabulary:\n\u001B[1;32m-> 1228\u001B[0m         \u001B[38;5;28;01mraise\u001B[39;00m \u001B[38;5;167;01mValueError\u001B[39;00m(\n\u001B[0;32m   1229\u001B[0m             \u001B[38;5;124m\"\u001B[39m\u001B[38;5;124mempty vocabulary; perhaps the documents only contain stop words\u001B[39m\u001B[38;5;124m\"\u001B[39m\n\u001B[0;32m   1230\u001B[0m         )\n\u001B[0;32m   1232\u001B[0m \u001B[38;5;28;01mif\u001B[39;00m indptr[\u001B[38;5;241m-\u001B[39m\u001B[38;5;241m1\u001B[39m] \u001B[38;5;241m>\u001B[39m np\u001B[38;5;241m.\u001B[39miinfo(np\u001B[38;5;241m.\u001B[39mint32)\u001B[38;5;241m.\u001B[39mmax:  \u001B[38;5;66;03m# = 2**31 - 1\u001B[39;00m\n\u001B[0;32m   1233\u001B[0m     \u001B[38;5;28;01mif\u001B[39;00m _IS_32BIT:\n",
      "\u001B[1;31mValueError\u001B[0m: empty vocabulary; perhaps the documents only contain stop words"
     ]
    }
   ],
   "source": [
    "#BOW\n",
    "print('Bag of Words Model')\n",
    "# starting on page 208\n",
    "from sklearn.feature_extraction.text import CountVectorizer\n",
    "# get bag of words features in sparse format\n",
    "cv = CountVectorizer(min_df=0., max_df=1.)\n",
    "cv_matrix = cv.fit_transform(corpus['Tweet Type'])\n",
    "# view non-zero feature positions in the sparse matrix\n",
    "print(cv_matrix, '\\n')\n",
    "\n",
    "# view dense representation\n",
    "# warning - might give a memory error if the data is too big\n",
    "cv_matrix = cv_matrix.toarray()\n",
    "print(cv_matrix, '\\n')\n",
    "\n",
    "# get all unique words in the corpus\n",
    "vocab = cv.get_feature_names_out()\n",
    "#show document feature vectors\n",
    "cv_df = pd.DataFrame(cv_matrix, columns=vocab)\n",
    "print(cv_df, '\\n')\n",
    "\n",
    "# you can set the n-gram range to 1,2 to get unigrams as well as bigrams\n",
    "bv = CountVectorizer(ngram_range=(2,2))\n",
    "bv_matrix = bv.fit_transform(corpus['Tweet Type'])\n",
    "bv_matrix = bv_matrix.toarray()\n",
    "vocab = bv.get_feature_names_out()\n",
    "bv_df = pd.DataFrame(bv_matrix, columns=vocab)\n",
    "print(bv_df, '\\n')"
   ],
   "metadata": {
    "collapsed": false,
    "pycharm": {
     "name": "#%%\n"
    }
   }
  },
  {
   "cell_type": "code",
   "execution_count": 115,
   "outputs": [
    {
     "name": "stdout",
     "output_type": "stream",
     "text": [
      "tfidf transformer:\n",
      "     reply  retweet  tweet\n",
      "0      0.0      0.0    1.0\n",
      "1      0.0      0.0    1.0\n",
      "2      0.0      1.0    0.0\n",
      "3      0.0      1.0    0.0\n",
      "4      0.0      1.0    0.0\n",
      "..     ...      ...    ...\n",
      "381    0.0      1.0    0.0\n",
      "382    0.0      0.0    1.0\n",
      "383    0.0      1.0    0.0\n",
      "384    0.0      1.0    0.0\n",
      "385    0.0      0.0    1.0\n",
      "\n",
      "[386 rows x 3 columns] \n",
      "\n"
     ]
    }
   ],
   "source": [
    "#Tf-Idf Transformer\n",
    "print('tfidf transformer:')\n",
    "from sklearn.feature_extraction.text import TfidfTransformer\n",
    "tt = TfidfTransformer(norm = 'l2', use_idf=True)\n",
    "tt_matrix = tt.fit_transform(cv_matrix)\n",
    "tt_matrix = tt_matrix.toarray()\n",
    "vocab = cv.get_feature_names_out()\n",
    "print(pd.DataFrame(np.round(tt_matrix, 2), columns=vocab), '\\n')"
   ],
   "metadata": {
    "collapsed": false,
    "pycharm": {
     "name": "#%%\n"
    }
   }
  },
  {
   "cell_type": "markdown",
   "source": [
    "3. Find one or more documents (each tweet is a document) that are similar to each other using Cosine Similarity; print your results. (NOTE: the lower the Cosine Similarity, the more likely the documents are similar.)"
   ],
   "metadata": {
    "collapsed": false,
    "pycharm": {
     "name": "#%% md\n"
    }
   }
  },
  {
   "cell_type": "code",
   "execution_count": 116,
   "outputs": [
    {
     "name": "stdout",
     "output_type": "stream",
     "text": [
      "tfidf vectorizer:\n",
      "     ability  academic  acep  acepnow  acoeprso  across  act  activity  \\\n",
      "0        0.0      0.00   0.0      0.0       0.0     0.0  0.0       0.0   \n",
      "1        0.0      0.00   0.0      0.0       0.0     0.0  0.0       0.0   \n",
      "2        0.0      0.00   0.0      0.0       0.0     0.0  0.0       0.0   \n",
      "3        0.0      0.00   0.0      0.0       0.0     0.0  0.0       0.0   \n",
      "4        0.0      0.00   0.0      0.0       0.0     0.0  0.0       0.0   \n",
      "..       ...       ...   ...      ...       ...     ...  ...       ...   \n",
      "381      0.0      0.00   0.0      0.0       0.0     0.0  0.0       0.0   \n",
      "382      0.0      0.23   0.0      0.0       0.0     0.0  0.0       0.0   \n",
      "383      0.0      0.00   0.0      0.0       0.0     0.0  0.0       0.0   \n",
      "384      0.0      0.00   0.0      0.0       0.0     0.0  0.0       0.0   \n",
      "385      0.0      0.00   0.0      0.0       0.0     0.0  0.0       0.0   \n",
      "\n",
      "     address  advice  ...  yet  youll  young  youre  zoetis  zones  zoonosen  \\\n",
      "0        0.0     0.0  ...  0.0    0.0    0.0    0.0     0.0    0.0       0.0   \n",
      "1        0.0     0.0  ...  0.0    0.0    0.0    0.0     0.0    0.0       0.0   \n",
      "2        0.0     0.0  ...  0.0    0.0    0.0    0.0     0.0    0.0       0.0   \n",
      "3        0.0     0.0  ...  0.0    0.0    0.0    0.0     0.0    0.0       0.0   \n",
      "4        0.0     0.0  ...  0.0    0.0    0.0    0.0     0.0    0.0       0.0   \n",
      "..       ...     ...  ...  ...    ...    ...    ...     ...    ...       ...   \n",
      "381      0.0     0.0  ...  0.0    0.0    0.0    0.0     0.0    0.0       0.0   \n",
      "382      0.0     0.0  ...  0.0    0.0    0.0    0.0     0.0    0.0       0.0   \n",
      "383      0.0     0.0  ...  0.0    0.0    0.0    0.0     0.0    0.0       0.0   \n",
      "384      0.0     0.0  ...  0.0    0.0    0.0    0.0     0.0    0.0       0.0   \n",
      "385      0.0     0.0  ...  0.0    0.0    0.0    0.0     0.0    0.0       0.0   \n",
      "\n",
      "     zoonoses   zu  zwierzt  \n",
      "0         0.0  0.0      0.0  \n",
      "1         0.0  0.0      0.0  \n",
      "2         0.0  0.0      0.0  \n",
      "3         0.0  0.0      0.0  \n",
      "4         0.0  0.0      0.0  \n",
      "..        ...  ...      ...  \n",
      "381       0.0  0.0      0.0  \n",
      "382       0.0  0.0      0.0  \n",
      "383       0.0  0.0      0.0  \n",
      "384       0.0  0.0      0.0  \n",
      "385       0.0  0.0      0.0  \n",
      "\n",
      "[386 rows x 1062 columns] \n",
      "\n"
     ]
    }
   ],
   "source": [
    "print('tfidf vectorizer:')\n",
    "from sklearn.feature_extraction.text import TfidfVectorizer\n",
    "tv = TfidfVectorizer(min_df=0., max_df=1., norm='l2', use_idf=True, smooth_idf=True)\n",
    "tv_matrix = tv.fit_transform(corpus['Tweet Content'])\n",
    "tv_matrix = tv_matrix.toarray()\n",
    "# this part is not in the book - save the tv_matrix for use later on\n",
    "import os\n",
    "np.save('tv_matrix.npy', tv_matrix)\n",
    "\n",
    "vocab = tv.get_feature_names_out()\n",
    "print(pd.DataFrame(np.round(tv_matrix, 2), columns=vocab), '\\n')"
   ],
   "metadata": {
    "collapsed": false,
    "pycharm": {
     "name": "#%%\n"
    }
   }
  },
  {
   "cell_type": "code",
   "execution_count": 117,
   "outputs": [
    {
     "name": "stdout",
     "output_type": "stream",
     "text": [
      "Similarity matrix DF:\n",
      "           0         1         2         3         4         5         6    \\\n",
      "0    1.000000  0.002240  0.003851  0.003851  0.003851  0.003851  0.002302   \n",
      "1    0.002240  1.000000  0.004446  0.004446  0.004446  0.004446  0.002658   \n",
      "2    0.003851  0.004446  1.000000  1.000000  1.000000  1.000000  0.004569   \n",
      "3    0.003851  0.004446  1.000000  1.000000  1.000000  1.000000  0.004569   \n",
      "4    0.003851  0.004446  1.000000  1.000000  1.000000  1.000000  0.004569   \n",
      "..        ...       ...       ...       ...       ...       ...       ...   \n",
      "381  0.090952  0.003131  0.005382  0.005382  0.005382  0.005382  0.003217   \n",
      "382  0.001977  0.002283  0.076390  0.076390  0.076390  0.076390  0.087237   \n",
      "383  0.090952  0.003131  0.005382  0.005382  0.005382  0.005382  0.003217   \n",
      "384  0.090952  0.003131  0.005382  0.005382  0.005382  0.005382  0.003217   \n",
      "385  0.090952  0.003131  0.005382  0.005382  0.005382  0.005382  0.003217   \n",
      "\n",
      "          7         8         9    ...       376       377       378  \\\n",
      "0    0.002302  0.002302  0.002302  ...  0.002491  0.001977  0.002491   \n",
      "1    0.002658  0.002658  0.002658  ...  0.002876  0.002283  0.002876   \n",
      "2    0.004569  0.004569  0.004569  ...  0.004944  0.076390  0.004944   \n",
      "3    0.004569  0.004569  0.004569  ...  0.004944  0.076390  0.004944   \n",
      "4    0.004569  0.004569  0.004569  ...  0.004944  0.076390  0.004944   \n",
      "..        ...       ...       ...  ...       ...       ...       ...   \n",
      "381  0.003217  0.003217  0.003217  ...  0.003481  0.002763  0.003481   \n",
      "382  0.087237  0.087237  0.087237  ...  0.170560  1.000000  0.170560   \n",
      "383  0.003217  0.003217  0.003217  ...  0.003481  0.002763  0.003481   \n",
      "384  0.003217  0.003217  0.003217  ...  0.003481  0.002763  0.003481   \n",
      "385  0.003217  0.003217  0.003217  ...  0.003481  0.002763  0.003481   \n",
      "\n",
      "          379       380       381       382       383       384       385  \n",
      "0    0.001977  0.028301  0.090952  0.001977  0.090952  0.090952  0.090952  \n",
      "1    0.002283  0.002062  0.003131  0.002283  0.003131  0.003131  0.003131  \n",
      "2    0.076390  0.003544  0.005382  0.076390  0.005382  0.005382  0.005382  \n",
      "3    0.076390  0.003544  0.005382  0.076390  0.005382  0.005382  0.005382  \n",
      "4    0.076390  0.003544  0.005382  0.076390  0.005382  0.005382  0.005382  \n",
      "..        ...       ...       ...       ...       ...       ...       ...  \n",
      "381  0.002763  0.019552  1.000000  0.002763  1.000000  1.000000  1.000000  \n",
      "382  1.000000  0.001820  0.002763  1.000000  0.002763  0.002763  0.002763  \n",
      "383  0.002763  0.019552  1.000000  0.002763  1.000000  1.000000  1.000000  \n",
      "384  0.002763  0.019552  1.000000  0.002763  1.000000  1.000000  1.000000  \n",
      "385  0.002763  0.019552  1.000000  0.002763  1.000000  1.000000  1.000000  \n",
      "\n",
      "[386 rows x 386 columns] \n",
      "\n"
     ]
    }
   ],
   "source": [
    "# load the tv_matrix save in the last file\n",
    "tv_matrix = np.load('tv_matrix.npy')\n",
    "\n",
    "# Document Similarity - staring on page 221\n",
    "from sklearn.metrics.pairwise import cosine_similarity\n",
    "\n",
    "similarity_matrix = cosine_similarity(tv_matrix)\n",
    "similarity_df = pd.DataFrame(similarity_matrix)\n",
    "print('Similarity matrix DF:\\n', similarity_df, '\\n')"
   ],
   "metadata": {
    "collapsed": false,
    "pycharm": {
     "name": "#%%\n"
    }
   }
  },
  {
   "cell_type": "code",
   "execution_count": 118,
   "outputs": [],
   "source": [
    "from collections import Counter\n",
    "from math  import sqrt\n",
    "\n",
    "def word2vec(word):\n",
    "    # Count the number of characters in each word.\n",
    "    count_characters = Counter(word)\n",
    "    # Gets the set of characters and calculates the \"length\" of the vector.\n",
    "    set_characters = set(count_characters)\n",
    "    length = sqrt(sum(c*c for c in count_characters.values()))\n",
    "    return count_characters, set_characters, length, word"
   ],
   "metadata": {
    "collapsed": false,
    "pycharm": {
     "name": "#%%\n"
    }
   }
  },
  {
   "cell_type": "code",
   "execution_count": 119,
   "outputs": [],
   "source": [
    "def cosine_similarity(vector1, vector2, ndigits):\n",
    "\n",
    "    # Get the common characters between the two character sets\n",
    "    common_characters = vector1[1].intersection(vector2[1])\n",
    "    # Sum of the product of each intersection character.\n",
    "    product_summation = sum(vector1[0][character] * vector2[0]                  [character] for character in common_characters)\n",
    "    # Gets the length of each vector from the word2vec output.\n",
    "    length = vector1[2] * vector2[2]\n",
    "    # Calculates cosine similarity and rounds the value to ndigits decimal places.\n",
    "    if length == 0:\n",
    "        # Set value to 0 if word is empty.\n",
    "        similarity = 0\n",
    "    else:\n",
    "        similarity = round(product_summation/length, ndigits)\n",
    "    return similarity"
   ],
   "metadata": {
    "collapsed": false,
    "pycharm": {
     "name": "#%%\n"
    }
   }
  },
  {
   "cell_type": "code",
   "execution_count": 126,
   "outputs": [],
   "source": [
    "ndigits = (len(corpus['Tweet Content']))\n",
    "similarity_threshold = 0"
   ],
   "metadata": {
    "collapsed": false,
    "pycharm": {
     "name": "#%%\n"
    }
   }
  },
  {
   "cell_type": "code",
   "execution_count": 127,
   "outputs": [],
   "source": [
    "def find_similar(full_names_list, similarity_threshold, ndigits):\n",
    "    # Initiate an empty list to store results.\n",
    "    results_list = []\n",
    "    # Apply word2vec function to each name and store them in a list.\n",
    "    vector_list = [word2vec(str(i)) for i in full_names_list]\n",
    "    # Two loops to compare each vector with another vector only once.\n",
    "    for i in range(len(vector_list)):\n",
    "        # Get first vector\n",
    "        vector1 = vector_list[i]\n",
    "        for j in range(i+1, len(vector_list)):\n",
    "            # Get the next vector\n",
    "            vector2 = vector_list[j]\n",
    "            # Calculate cosine similarity\n",
    "            similarity_score = cosine_similarity(vector1, vector2, ndigits)\n",
    "            # Append to results list if similarity score is between 1 and the threshold.\n",
    "            # Note that scores of 1 can be ignored here if we want to exclude people with the same name.\n",
    "            if 1 >= similarity_score >= similarity_threshold:\n",
    "                results_list.append([vector1[3], vector2[3], similarity_score])\n",
    "            else:\n",
    "                pass\n",
    "    # Convert list to dataframe.\n",
    "    results_df = pd.DataFrame(results_list)\n",
    "    if len(results_df) != 0:\n",
    "        results_df.columns = ['full_name', 'comparison_name', 'similarity_score']\n",
    "    else:\n",
    "    # Can add error here if there's no results to return if desired.\n",
    "        pass\n",
    "    return results_df"
   ],
   "metadata": {
    "collapsed": false,
    "pycharm": {
     "name": "#%%\n"
    }
   }
  },
  {
   "cell_type": "code",
   "execution_count": 128,
   "outputs": [
    {
     "data": {
      "text/plain": "                                               full_name  \\\n0      pets change lives amp become part families tha...   \n1      pets change lives amp become part families tha...   \n2      pets change lives amp become part families tha...   \n3      pets change lives amp become part families tha...   \n4      pets change lives amp become part families tha...   \n...                                                  ...   \n74176  great weekend rebellion back month tipsfornewd...   \n74177  great weekend rebellion back month tipsfornewd...   \n74178  morethanmedicine mean protecting animalhealth ...   \n74179  morethanmedicine mean protecting animalhealth ...   \n74180  morethanmedicine mean protecting animalhealth ...   \n\n                                         comparison_name  similarity_score  \n0      another spot morethanmedicine bus bristol week...          0.928081  \n1      great team healthsourceoh local morethanmedici...          0.914231  \n2      great team healthsourceoh local morethanmedici...          0.914231  \n3      great team healthsourceoh local morethanmedici...          0.914231  \n4      great team healthsourceoh local morethanmedici...          0.914231  \n...                                                  ...               ...  \n74176  morethanmedicine mean protecting animalhealth ...          0.933120  \n74177  morethanmedicine mean protecting animalhealth ...          0.933120  \n74178  morethanmedicine mean protecting animalhealth ...          1.000000  \n74179  morethanmedicine mean protecting animalhealth ...          1.000000  \n74180  morethanmedicine mean protecting animalhealth ...          1.000000  \n\n[74181 rows x 3 columns]",
      "text/html": "<div>\n<style scoped>\n    .dataframe tbody tr th:only-of-type {\n        vertical-align: middle;\n    }\n\n    .dataframe tbody tr th {\n        vertical-align: top;\n    }\n\n    .dataframe thead th {\n        text-align: right;\n    }\n</style>\n<table border=\"1\" class=\"dataframe\">\n  <thead>\n    <tr style=\"text-align: right;\">\n      <th></th>\n      <th>full_name</th>\n      <th>comparison_name</th>\n      <th>similarity_score</th>\n    </tr>\n  </thead>\n  <tbody>\n    <tr>\n      <th>0</th>\n      <td>pets change lives amp become part families tha...</td>\n      <td>another spot morethanmedicine bus bristol week...</td>\n      <td>0.928081</td>\n    </tr>\n    <tr>\n      <th>1</th>\n      <td>pets change lives amp become part families tha...</td>\n      <td>great team healthsourceoh local morethanmedici...</td>\n      <td>0.914231</td>\n    </tr>\n    <tr>\n      <th>2</th>\n      <td>pets change lives amp become part families tha...</td>\n      <td>great team healthsourceoh local morethanmedici...</td>\n      <td>0.914231</td>\n    </tr>\n    <tr>\n      <th>3</th>\n      <td>pets change lives amp become part families tha...</td>\n      <td>great team healthsourceoh local morethanmedici...</td>\n      <td>0.914231</td>\n    </tr>\n    <tr>\n      <th>4</th>\n      <td>pets change lives amp become part families tha...</td>\n      <td>great team healthsourceoh local morethanmedici...</td>\n      <td>0.914231</td>\n    </tr>\n    <tr>\n      <th>...</th>\n      <td>...</td>\n      <td>...</td>\n      <td>...</td>\n    </tr>\n    <tr>\n      <th>74176</th>\n      <td>great weekend rebellion back month tipsfornewd...</td>\n      <td>morethanmedicine mean protecting animalhealth ...</td>\n      <td>0.933120</td>\n    </tr>\n    <tr>\n      <th>74177</th>\n      <td>great weekend rebellion back month tipsfornewd...</td>\n      <td>morethanmedicine mean protecting animalhealth ...</td>\n      <td>0.933120</td>\n    </tr>\n    <tr>\n      <th>74178</th>\n      <td>morethanmedicine mean protecting animalhealth ...</td>\n      <td>morethanmedicine mean protecting animalhealth ...</td>\n      <td>1.000000</td>\n    </tr>\n    <tr>\n      <th>74179</th>\n      <td>morethanmedicine mean protecting animalhealth ...</td>\n      <td>morethanmedicine mean protecting animalhealth ...</td>\n      <td>1.000000</td>\n    </tr>\n    <tr>\n      <th>74180</th>\n      <td>morethanmedicine mean protecting animalhealth ...</td>\n      <td>morethanmedicine mean protecting animalhealth ...</td>\n      <td>1.000000</td>\n    </tr>\n  </tbody>\n</table>\n<p>74181 rows × 3 columns</p>\n</div>"
     },
     "execution_count": 128,
     "metadata": {},
     "output_type": "execute_result"
    }
   ],
   "source": [
    "find_similar(corpus['Tweet Content'], similarity_threshold, ndigits)"
   ],
   "metadata": {
    "collapsed": false,
    "pycharm": {
     "name": "#%%\n"
    }
   }
  },
  {
   "cell_type": "code",
   "execution_count": null,
   "outputs": [],
   "source": [],
   "metadata": {
    "collapsed": false,
    "pycharm": {
     "name": "#%%\n"
    }
   }
  }
 ],
 "metadata": {
  "kernelspec": {
   "display_name": "Python 3",
   "language": "python",
   "name": "python3"
  },
  "language_info": {
   "codemirror_mode": {
    "name": "ipython",
    "version": 2
   },
   "file_extension": ".py",
   "mimetype": "text/x-python",
   "name": "python",
   "nbconvert_exporter": "python",
   "pygments_lexer": "ipython2",
   "version": "2.7.6"
  }
 },
 "nbformat": 4,
 "nbformat_minor": 0
}