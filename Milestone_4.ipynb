{
 "cells": [
  {
   "cell_type": "markdown",
   "source": [
    "##### Title: Exercice 10.8\n",
    "##### Author: Jerock Kalala\n",
    "##### Date: Febuary 22th 2023\n",
    "##### Modified By: --\n",
    "##### Project Milestone 4: Model building\n",
    "\n"
   ],
   "metadata": {
    "collapsed": false,
    "pycharm": {
     "name": "#%% md\n"
    }
   }
  },
  {
   "cell_type": "code",
   "execution_count": 33,
   "outputs": [],
   "source": [],
   "metadata": {
    "collapsed": false,
    "pycharm": {
     "name": "#%%\n"
    }
   }
  },
  {
   "cell_type": "markdown",
   "source": [
    "You need to get the data into a usable format and perform at least three different aspects of feature engineering (depending on what kind of model you plan to build). If the data is a PDF, you’ll use the technique you’ve learned so far to extract the text (I suggest this approach if you can find suitable PDF data). If the data is a CSV, it’ll be easier to ingest the data.\n",
    "Once you have the data, you’ll use at least three different feature engineering techniques to understand your corpus."
   ],
   "metadata": {
    "collapsed": false,
    "pycharm": {
     "name": "#%% md\n"
    }
   }
  },
  {
   "cell_type": "markdown",
   "source": [
    "Examples\n",
    "- Normalize the corpus, including converting to lower case and removing stop words\n",
    "- Bag of Words modeling\n",
    "- Bag of N-Grams modeling\n",
    "- Topic modeling\n",
    "- Clustering"
   ],
   "metadata": {
    "collapsed": false,
    "pycharm": {
     "name": "#%% md\n"
    }
   }
  },
  {
   "cell_type": "code",
   "execution_count": 34,
   "outputs": [],
   "source": [
    "import string\n",
    "import pandas as pd\n",
    "import numpy as np\n",
    "import re\n",
    "%matplotlib inline\n",
    "import nltk\n",
    "from nltk.corpus import stopwords\n",
    "import spacy\n",
    "import string\n",
    "nlp = spacy.load(\"en_core_web_sm\")\n"
   ],
   "metadata": {
    "collapsed": false,
    "pycharm": {
     "name": "#%%\n"
    }
   }
  },
  {
   "cell_type": "markdown",
   "source": [
    "#### Data Collection & Pre-Processing"
   ],
   "metadata": {
    "collapsed": false,
    "pycharm": {
     "name": "#%% md\n"
    }
   }
  },
  {
   "cell_type": "code",
   "execution_count": 35,
   "outputs": [
    {
     "data": {
      "text/plain": "                                             Message Category\n0  Subject: naturally irresistible your corporate...     spam\n1  Subject: the stock trading gunslinger  fanny i...     spam\n2  Subject: unbelievable new homes made easy  im ...     spam\n3  Subject: 4 color printing special  request add...     spam\n4  Subject: do not have money , get software cds ...     spam",
      "text/html": "<div>\n<style scoped>\n    .dataframe tbody tr th:only-of-type {\n        vertical-align: middle;\n    }\n\n    .dataframe tbody tr th {\n        vertical-align: top;\n    }\n\n    .dataframe thead th {\n        text-align: right;\n    }\n</style>\n<table border=\"1\" class=\"dataframe\">\n  <thead>\n    <tr style=\"text-align: right;\">\n      <th></th>\n      <th>Message</th>\n      <th>Category</th>\n    </tr>\n  </thead>\n  <tbody>\n    <tr>\n      <th>0</th>\n      <td>Subject: naturally irresistible your corporate...</td>\n      <td>spam</td>\n    </tr>\n    <tr>\n      <th>1</th>\n      <td>Subject: the stock trading gunslinger  fanny i...</td>\n      <td>spam</td>\n    </tr>\n    <tr>\n      <th>2</th>\n      <td>Subject: unbelievable new homes made easy  im ...</td>\n      <td>spam</td>\n    </tr>\n    <tr>\n      <th>3</th>\n      <td>Subject: 4 color printing special  request add...</td>\n      <td>spam</td>\n    </tr>\n    <tr>\n      <th>4</th>\n      <td>Subject: do not have money , get software cds ...</td>\n      <td>spam</td>\n    </tr>\n  </tbody>\n</table>\n</div>"
     },
     "execution_count": 35,
     "metadata": {},
     "output_type": "execute_result"
    }
   ],
   "source": [
    "corpus = pd.read_csv(\"E:\\\\Bellevue\\\\Winter_2022\\\\DSC 360 Data Mining Text Analytics an\\\\Term project\\\\2emails.csv\")\n",
    "corpus.head()"
   ],
   "metadata": {
    "collapsed": false,
    "pycharm": {
     "name": "#%%\n"
    }
   }
  },
  {
   "cell_type": "markdown",
   "source": [
    "- First, We'll need to know the dataset and the data characteristics:"
   ],
   "metadata": {
    "collapsed": false,
    "pycharm": {
     "name": "#%% md\n"
    }
   }
  },
  {
   "cell_type": "code",
   "execution_count": 36,
   "outputs": [
    {
     "name": "stdout",
     "output_type": "stream",
     "text": [
      "The shape is:  (5734, 2) \n",
      "\n",
      "<class 'pandas.core.frame.DataFrame'>\n",
      "RangeIndex: 5734 entries, 0 to 5733\n",
      "Data columns (total 2 columns):\n",
      " #   Column    Non-Null Count  Dtype \n",
      "---  ------    --------------  ----- \n",
      " 0   Message   5730 non-null   object\n",
      " 1   Category  5728 non-null   object\n",
      "dtypes: object(2)\n",
      "memory usage: 89.7+ KB\n"
     ]
    }
   ],
   "source": [
    "print(\"The shape is: \", corpus.shape, \"\\n\")\n",
    "#Checking the type of data\n",
    "corpus.info()"
   ],
   "metadata": {
    "collapsed": false,
    "pycharm": {
     "name": "#%%\n"
    }
   }
  },
  {
   "cell_type": "markdown",
   "source": [
    "- Checking for missing data and duplicate data --drop them"
   ],
   "metadata": {
    "collapsed": false,
    "pycharm": {
     "name": "#%% md\n"
    }
   }
  },
  {
   "cell_type": "code",
   "execution_count": 37,
   "outputs": [
    {
     "data": {
      "text/plain": "Message     0\nCategory    0\ndtype: int64"
     },
     "execution_count": 37,
     "metadata": {},
     "output_type": "execute_result"
    }
   ],
   "source": [
    "#check for duplicates and remove them\n",
    "corpus.drop_duplicates(inplace=True)\n",
    "\n",
    "#replace the null value with null string\n",
    "new_corpus = corpus.where((pd.notnull(corpus)), '')\n",
    "\n",
    "#check if we still have any missing data\n",
    "new_corpus.isnull().sum()"
   ],
   "metadata": {
    "collapsed": false,
    "pycharm": {
     "name": "#%%\n"
    }
   }
  },
  {
   "cell_type": "code",
   "execution_count": 38,
   "outputs": [
    {
     "name": "stdout",
     "output_type": "stream",
     "text": [
      "number of empty message:  0\n",
      "number of empty Category:  0\n",
      "(5698, 2)\n",
      "(5698, 2)\n"
     ]
    }
   ],
   "source": [
    "#Checking the actual shape\n",
    "count_null = new_corpus['Message'].isnull().sum()\n",
    "count_nan = new_corpus['Category'].isnull().sum()\n",
    "print(\"number of empty message: \", count_null)\n",
    "print(\"number of empty Category: \", count_nan)\n",
    "print(corpus.shape)\n",
    "print(new_corpus.shape)"
   ],
   "metadata": {
    "collapsed": false,
    "pycharm": {
     "name": "#%%\n"
    }
   }
  },
  {
   "cell_type": "code",
   "execution_count": 39,
   "outputs": [
    {
     "data": {
      "text/plain": "Message     object\nCategory    object\ndtype: object"
     },
     "execution_count": 39,
     "metadata": {},
     "output_type": "execute_result"
    }
   ],
   "source": [
    "new_corpus.dtypes"
   ],
   "metadata": {
    "collapsed": false,
    "pycharm": {
     "name": "#%%\n"
    }
   }
  },
  {
   "cell_type": "markdown",
   "source": [
    "- Label encoding"
   ],
   "metadata": {
    "collapsed": false,
    "pycharm": {
     "name": "#%% md\n"
    }
   }
  },
  {
   "cell_type": "code",
   "execution_count": 40,
   "outputs": [
    {
     "name": "stdout",
     "output_type": "stream",
     "text": [
      "1. In our dataset, we have 5698 of emails\n",
      "2. category = 1 means a spam email and category =0 means a ham email\n"
     ]
    }
   ],
   "source": [
    "#label mails\n",
    "new_corpus.loc[new_corpus['Category'] == 'spam', 'Category'] =0\n",
    "new_corpus.loc[new_corpus['Category'] == 'ham', 'Category'] = 1\n",
    "\n",
    "#Here is the observation:\n",
    "print(\"1. In our dataset, we have {} of emails\" .format(new_corpus.shape[0]))\n",
    "print(\"2. category = 1 means a spam email and category =0 means a ham email\")"
   ],
   "metadata": {
    "collapsed": false,
    "pycharm": {
     "name": "#%%\n"
    }
   }
  },
  {
   "cell_type": "code",
   "execution_count": 41,
   "outputs": [
    {
     "data": {
      "text/plain": "                                             Message Category\n0  Subject: naturally irresistible your corporate...        0\n1  Subject: the stock trading gunslinger  fanny i...        0\n2  Subject: unbelievable new homes made easy  im ...        0\n3  Subject: 4 color printing special  request add...        0\n4  Subject: do not have money , get software cds ...        0",
      "text/html": "<div>\n<style scoped>\n    .dataframe tbody tr th:only-of-type {\n        vertical-align: middle;\n    }\n\n    .dataframe tbody tr th {\n        vertical-align: top;\n    }\n\n    .dataframe thead th {\n        text-align: right;\n    }\n</style>\n<table border=\"1\" class=\"dataframe\">\n  <thead>\n    <tr style=\"text-align: right;\">\n      <th></th>\n      <th>Message</th>\n      <th>Category</th>\n    </tr>\n  </thead>\n  <tbody>\n    <tr>\n      <th>0</th>\n      <td>Subject: naturally irresistible your corporate...</td>\n      <td>0</td>\n    </tr>\n    <tr>\n      <th>1</th>\n      <td>Subject: the stock trading gunslinger  fanny i...</td>\n      <td>0</td>\n    </tr>\n    <tr>\n      <th>2</th>\n      <td>Subject: unbelievable new homes made easy  im ...</td>\n      <td>0</td>\n    </tr>\n    <tr>\n      <th>3</th>\n      <td>Subject: 4 color printing special  request add...</td>\n      <td>0</td>\n    </tr>\n    <tr>\n      <th>4</th>\n      <td>Subject: do not have money , get software cds ...</td>\n      <td>0</td>\n    </tr>\n  </tbody>\n</table>\n</div>"
     },
     "execution_count": 41,
     "metadata": {},
     "output_type": "execute_result"
    }
   ],
   "source": [
    "new_corpus.head()"
   ],
   "metadata": {
    "collapsed": false,
    "pycharm": {
     "name": "#%%\n"
    }
   }
  },
  {
   "cell_type": "markdown",
   "source": [
    "- Defining the cleaning function"
   ],
   "metadata": {
    "collapsed": false,
    "pycharm": {
     "name": "#%% md\n"
    }
   }
  },
  {
   "cell_type": "code",
   "execution_count": 42,
   "outputs": [],
   "source": [
    "#normalize function\n",
    "\n",
    "wpt = nltk.WordPunctTokenizer()\n",
    "stop_words = nltk.corpus.stopwords.words('English')\n",
    "\n",
    "def normalize_document(doc):\n",
    "    # lowercase and remove special characters\\whitespace\n",
    "    doc = re.sub(r'[^a-zA-Z\\s]', '', doc, re.I|re.A)\n",
    "    doc = doc.lower()\n",
    "    doc = doc.strip()\n",
    "    #tokenize document\n",
    "    tokens = wpt.tokenize(doc)\n",
    "    # filter stopwords out of document\n",
    "    filtered_tokens = [token for token in tokens if token not in stop_words]\n",
    "    # re-create document from filtered tokens\n",
    "    doc = ' '.join(filtered_tokens)\n",
    "    doc = re.sub('\\n',' ',doc)\n",
    "    return doc\n",
    "\n",
    "normalize_corpus = np.vectorize(normalize_document)\n",
    "\n",
    "def clean_mails(doc):\n",
    "    doc = doc.str.replace('[^\\w\\s]', '', regex=True)\n",
    "    doc = doc.apply(lambda x: ' '.join([word for word in x.split() if word not in stop_words]))\n",
    "    return doc\n",
    "\n",
    "def cleaning(doc):\n",
    "    #remove punctuation\n",
    "  text = [char for char in doc if char not in string.punctuation]\n",
    "  text = ''.join(text)\n",
    "    #convert all text to lower case\n",
    "  text = text.lower()\n",
    "    #remove stop_words\n",
    "  text = [word for word in text.split() if word.lower() not in stopwords.words('english')]\n",
    "  return doc\n",
    "\n",
    "#new_corpus['email'] = new_corpus['Message'].apply(cleaning)"
   ],
   "metadata": {
    "collapsed": false,
    "pycharm": {
     "name": "#%%\n"
    }
   }
  },
  {
   "cell_type": "markdown",
   "source": [
    "- Cleaning our data"
   ],
   "metadata": {
    "collapsed": false,
    "pycharm": {
     "name": "#%% md\n"
    }
   }
  },
  {
   "cell_type": "code",
   "execution_count": 48,
   "outputs": [
    {
     "data": {
      "text/plain": "                                             Message Category  \\\n0  Subject: naturally irresistible your corporate...        0   \n1  Subject: the stock trading gunslinger  fanny i...        0   \n2  Subject: unbelievable new homes made easy  im ...        0   \n3  Subject: 4 color printing special  request add...        0   \n4  Subject: do not have money , get software cds ...        0   \n\n                                                Mail  \\\n0  subject naturally irresistible corporate ident...   \n1  subject stock trading gunslinger fanny merrill...   \n2  subject unbelievable new homes made easy im wa...   \n3  subject color printing special request additio...   \n4  subject money get software cds software compat...   \n\n                                          Mail_token  \n0  [subject, naturally, irresistible, corporate, ...  \n1  [subject, stock, trading, gunslinger, fanny, m...  \n2  [subject, unbelievable, new, homes, made, easy...  \n3  [subject, color, printing, special, request, a...  \n4  [subject, money, get, software, cds, software,...  ",
      "text/html": "<div>\n<style scoped>\n    .dataframe tbody tr th:only-of-type {\n        vertical-align: middle;\n    }\n\n    .dataframe tbody tr th {\n        vertical-align: top;\n    }\n\n    .dataframe thead th {\n        text-align: right;\n    }\n</style>\n<table border=\"1\" class=\"dataframe\">\n  <thead>\n    <tr style=\"text-align: right;\">\n      <th></th>\n      <th>Message</th>\n      <th>Category</th>\n      <th>Mail</th>\n      <th>Mail_token</th>\n    </tr>\n  </thead>\n  <tbody>\n    <tr>\n      <th>0</th>\n      <td>Subject: naturally irresistible your corporate...</td>\n      <td>0</td>\n      <td>subject naturally irresistible corporate ident...</td>\n      <td>[subject, naturally, irresistible, corporate, ...</td>\n    </tr>\n    <tr>\n      <th>1</th>\n      <td>Subject: the stock trading gunslinger  fanny i...</td>\n      <td>0</td>\n      <td>subject stock trading gunslinger fanny merrill...</td>\n      <td>[subject, stock, trading, gunslinger, fanny, m...</td>\n    </tr>\n    <tr>\n      <th>2</th>\n      <td>Subject: unbelievable new homes made easy  im ...</td>\n      <td>0</td>\n      <td>subject unbelievable new homes made easy im wa...</td>\n      <td>[subject, unbelievable, new, homes, made, easy...</td>\n    </tr>\n    <tr>\n      <th>3</th>\n      <td>Subject: 4 color printing special  request add...</td>\n      <td>0</td>\n      <td>subject color printing special request additio...</td>\n      <td>[subject, color, printing, special, request, a...</td>\n    </tr>\n    <tr>\n      <th>4</th>\n      <td>Subject: do not have money , get software cds ...</td>\n      <td>0</td>\n      <td>subject money get software cds software compat...</td>\n      <td>[subject, money, get, software, cds, software,...</td>\n    </tr>\n  </tbody>\n</table>\n</div>"
     },
     "execution_count": 48,
     "metadata": {},
     "output_type": "execute_result"
    }
   ],
   "source": [
    "from nltk.tokenize import RegexpTokenizer\n",
    "regexp = RegexpTokenizer('\\w+')\n",
    "new_corpus['Mail_token'] = new_corpus['Mail'].apply(regexp.tokenize)\n",
    "new_corpus.head()"
   ],
   "metadata": {
    "collapsed": false,
    "pycharm": {
     "name": "#%%\n"
    }
   }
  },
  {
   "cell_type": "markdown",
   "source": [
    "#### Bag of Words"
   ],
   "metadata": {
    "collapsed": false,
    "pycharm": {
     "name": "#%% md\n"
    }
   }
  },
  {
   "cell_type": "code",
   "execution_count": 44,
   "outputs": [
    {
     "name": "stdout",
     "output_type": "stream",
     "text": [
      "Bag of Words Model\n",
      "\n",
      "Non-zero feature positions in the sparse matrix:\n",
      "  (0, 30043)\t1\n",
      "  (0, 21089)\t1\n",
      "  (0, 16569)\t1\n",
      "  (0, 7805)\t1\n",
      "  (0, 15424)\t1\n",
      "  (0, 18864)\t1\n",
      "  (0, 25698)\t1\n",
      "  (0, 14406)\t1\n",
      "  (0, 25822)\t1\n",
      "  (0, 7036)\t3\n",
      "  (0, 19377)\t2\n",
      "  (0, 13163)\t1\n",
      "  (0, 30307)\t1\n",
      "  (0, 15966)\t1\n",
      "  (0, 16614)\t1\n",
      "  (0, 13822)\t2\n",
      "  (0, 5794)\t1\n",
      "  (0, 18676)\t3\n",
      "  (0, 30024)\t1\n",
      "  (0, 29673)\t1\n",
      "  (0, 22559)\t1\n",
      "  (0, 33726)\t2\n",
      "  (0, 19155)\t2\n",
      "  (0, 30742)\t1\n",
      "  (0, 20761)\t2\n",
      "  :\t:\n",
      "  (5697, 13946)\t1\n",
      "  (5697, 20531)\t1\n",
      "  (5697, 5661)\t1\n",
      "  (5697, 22539)\t2\n",
      "  (5697, 19347)\t1\n",
      "  (5697, 3471)\t9\n",
      "  (5697, 28641)\t1\n",
      "  (5697, 11076)\t1\n",
      "  (5697, 10865)\t1\n",
      "  (5697, 15116)\t1\n",
      "  (5697, 11868)\t1\n",
      "  (5697, 17997)\t1\n",
      "  (5697, 29532)\t1\n",
      "  (5697, 10866)\t1\n",
      "  (5697, 18191)\t1\n",
      "  (5697, 32990)\t1\n",
      "  (5697, 6369)\t1\n",
      "  (5697, 27790)\t1\n",
      "  (5697, 11260)\t5\n",
      "  (5697, 33886)\t1\n",
      "  (5697, 27994)\t1\n",
      "  (5697, 15318)\t1\n",
      "  (5697, 31628)\t1\n",
      "  (5697, 8113)\t1\n",
      "  (5697, 9125)\t1 \n",
      "\n",
      "\n",
      "Dense representation of the matrix:\n",
      "[[0 0 0 ... 0 0 0]\n",
      " [0 0 0 ... 0 0 0]\n",
      " [0 0 0 ... 0 0 0]\n",
      " ...\n",
      " [0 0 0 ... 0 0 0]\n",
      " [0 0 0 ... 0 0 0]\n",
      " [0 0 0 ... 0 0 0]] \n",
      "\n",
      "\n",
      "All document feature vectors:\n",
      "      00  000  0000  00000000  0000000000  0000102789  0000104281  0000104486  \\\n",
      "0      0    0     0         0           0           0           0           0   \n",
      "1      0    0     0         0           0           0           0           0   \n",
      "2      0    0     0         0           0           0           0           0   \n",
      "3      0    0     0         0           0           0           0           0   \n",
      "4      0    0     0         0           0           0           0           0   \n",
      "...   ..  ...   ...       ...         ...         ...         ...         ...   \n",
      "5693   0    0     0         0           0           0           0           0   \n",
      "5694   0    0     0         0           0           0           0           0   \n",
      "5695   0    0     0         0           0           0           0           0   \n",
      "5696   0    0     0         0           0           0           0           0   \n",
      "5697   0    0     0         0           0           0           0           0   \n",
      "\n",
      "      0000104631  0000104730  ...  zwzm  zxghlajf  zyban  zyc  zygoma  zymg  \\\n",
      "0              0           0  ...     0         0      0    0       0     0   \n",
      "1              0           0  ...     0         0      0    0       0     0   \n",
      "2              0           0  ...     0         0      0    0       0     0   \n",
      "3              0           0  ...     0         0      0    0       0     0   \n",
      "4              0           0  ...     0         0      0    0       0     0   \n",
      "...          ...         ...  ...   ...       ...    ...  ...     ...   ...   \n",
      "5693           0           0  ...     0         0      0    0       0     0   \n",
      "5694           0           0  ...     0         0      0    0       0     0   \n",
      "5695           0           0  ...     0         0      0    0       0     0   \n",
      "5696           0           0  ...     0         0      0    0       0     0   \n",
      "5697           0           0  ...     0         0      0    0       0     0   \n",
      "\n",
      "      zzmacmac  zzn  zzncacst  zzzz  \n",
      "0            0    0         0     0  \n",
      "1            0    0         0     0  \n",
      "2            0    0         0     0  \n",
      "3            0    0         0     0  \n",
      "4            0    0         0     0  \n",
      "...        ...  ...       ...   ...  \n",
      "5693         0    0         0     0  \n",
      "5694         0    0         0     0  \n",
      "5695         0    0         0     0  \n",
      "5696         0    0         0     0  \n",
      "5697         0    0         0     0  \n",
      "\n",
      "[5698 rows x 34928 columns] \n",
      "\n"
     ]
    }
   ],
   "source": [
    "#BOW\n",
    "\n",
    "print('Bag of Words Model')\n",
    "# starting on page 208\n",
    "from sklearn.feature_extraction.text import CountVectorizer\n",
    "# get bag of words features in sparse format\n",
    "count_vector = CountVectorizer(min_df=0., max_df=1.)\n",
    "count_vector_matrix = count_vector.fit_transform(new_corpus['Mail'])\n",
    "\n",
    "# view non-zero feature positions in the sparse matrix\n",
    "print(\"\\nNon-zero feature positions in the sparse matrix:\")\n",
    "print(count_vector_matrix, '\\n')\n",
    "\n",
    "# view dense representation (warning - might give a memory error if the data is too big)\n",
    "count_vector_matrix = count_vector_matrix.toarray()\n",
    "print(\"\\nDense representation of the matrix:\")\n",
    "print(count_vector_matrix, '\\n')\n",
    "\n",
    "# get all unique words in the corpus\n",
    "vocab = count_vector.get_feature_names_out()\n",
    "\n",
    "#show document feature vectors\n",
    "count_vector_df = pd.DataFrame(count_vector_matrix, columns=vocab)\n",
    "print(\"\\nAll document feature vectors:\")\n",
    "print(count_vector_df, '\\n')\n"
   ],
   "metadata": {
    "collapsed": false,
    "pycharm": {
     "name": "#%%\n"
    }
   }
  },
  {
   "cell_type": "markdown",
   "source": [
    "- N-Grams"
   ],
   "metadata": {
    "collapsed": false,
    "pycharm": {
     "name": "#%% md\n"
    }
   }
  },
  {
   "cell_type": "code",
   "execution_count": 45,
   "outputs": [
    {
     "name": "stdout",
     "output_type": "stream",
     "text": [
      "      00 00  00 000  00 0009249480  00 01  00 03  00 04  00 05  00 06  \\\n",
      "0         0       0              0      0      0      0      0      0   \n",
      "1         0       0              0      0      0      0      0      0   \n",
      "2         0       0              0      0      0      0      0      0   \n",
      "3         0       0              0      0      0      0      0      0   \n",
      "4         0       0              0      0      0      0      0      0   \n",
      "...     ...     ...            ...    ...    ...    ...    ...    ...   \n",
      "5693      0       0              0      0      0      0      0      0   \n",
      "5694      0       0              0      0      0      0      0      0   \n",
      "5695      0       0              0      0      0      0      0      0   \n",
      "5696      0       0              0      0      0      0      0      0   \n",
      "5697      0       0              0      0      0      0      0      0   \n",
      "\n",
      "      00 0600  00 07  ...  zygoma um  zymg dolly  zymg ollie  zymg rodger  \\\n",
      "0           0      0  ...          0           0           0            0   \n",
      "1           0      0  ...          0           0           0            0   \n",
      "2           0      0  ...          0           0           0            0   \n",
      "3           0      0  ...          0           0           0            0   \n",
      "4           0      0  ...          0           0           0            0   \n",
      "...       ...    ...  ...        ...         ...         ...          ...   \n",
      "5693        0      0  ...          0           0           0            0   \n",
      "5694        0      0  ...          0           0           0            0   \n",
      "5695        0      0  ...          0           0           0            0   \n",
      "5696        0      0  ...          0           0           0            0   \n",
      "5697        0      0  ...          0           0           0            0   \n",
      "\n",
      "      zzmacmac aol  zzn con  zzncacst dveok  zzzz example  \\\n",
      "0                0        0               0             0   \n",
      "1                0        0               0             0   \n",
      "2                0        0               0             0   \n",
      "3                0        0               0             0   \n",
      "4                0        0               0             0   \n",
      "...            ...      ...             ...           ...   \n",
      "5693             0        0               0             0   \n",
      "5694             0        0               0             0   \n",
      "5695             0        0               0             0   \n",
      "5696             0        0               0             0   \n",
      "5697             0        0               0             0   \n",
      "\n",
      "      zzzz visamastercard  zzzz winner  \n",
      "0                       0            0  \n",
      "1                       0            0  \n",
      "2                       0            0  \n",
      "3                       0            0  \n",
      "4                       0            0  \n",
      "...                   ...          ...  \n",
      "5693                    0            0  \n",
      "5694                    0            0  \n",
      "5695                    0            0  \n",
      "5696                    0            0  \n",
      "5697                    0            0  \n",
      "\n",
      "[5698 rows x 334243 columns] \n",
      "\n"
     ]
    }
   ],
   "source": [
    "# you can set the n-gram range to 1,2 to get unigrams as well as bigrams\n",
    "bv = CountVectorizer(ngram_range=(2,2))\n",
    "bv_matrix = bv.fit_transform(new_corpus['Mail'])\n",
    "bv_matrix = bv_matrix.toarray()\n",
    "vocab = bv.get_feature_names_out()\n",
    "bv_df = pd.DataFrame(bv_matrix, columns=vocab)\n",
    "print(bv_df, '\\n')"
   ],
   "metadata": {
    "collapsed": false,
    "pycharm": {
     "name": "#%%\n"
    }
   }
  },
  {
   "cell_type": "markdown",
   "source": [
    "- Term Frequency-Inverse Document Frequency"
   ],
   "metadata": {
    "collapsed": false,
    "pycharm": {
     "name": "#%% md\n"
    }
   }
  },
  {
   "cell_type": "code",
   "execution_count": 46,
   "outputs": [
    {
     "name": "stdout",
     "output_type": "stream",
     "text": [
      "Tfidf transformer:\n",
      "       00  000  0000  00000000  0000000000  0000102789  0000104281  \\\n",
      "0     0.0  0.0   0.0       0.0         0.0         0.0         0.0   \n",
      "1     0.0  0.0   0.0       0.0         0.0         0.0         0.0   \n",
      "2     0.0  0.0   0.0       0.0         0.0         0.0         0.0   \n",
      "3     0.0  0.0   0.0       0.0         0.0         0.0         0.0   \n",
      "4     0.0  0.0   0.0       0.0         0.0         0.0         0.0   \n",
      "...   ...  ...   ...       ...         ...         ...         ...   \n",
      "5693  0.0  0.0   0.0       0.0         0.0         0.0         0.0   \n",
      "5694  0.0  0.0   0.0       0.0         0.0         0.0         0.0   \n",
      "5695  0.0  0.0   0.0       0.0         0.0         0.0         0.0   \n",
      "5696  0.0  0.0   0.0       0.0         0.0         0.0         0.0   \n",
      "5697  0.0  0.0   0.0       0.0         0.0         0.0         0.0   \n",
      "\n",
      "      0000104486  0000104631  0000104730  ...  zwzm  zxghlajf  zyban  zyc  \\\n",
      "0            0.0         0.0         0.0  ...   0.0       0.0    0.0  0.0   \n",
      "1            0.0         0.0         0.0  ...   0.0       0.0    0.0  0.0   \n",
      "2            0.0         0.0         0.0  ...   0.0       0.0    0.0  0.0   \n",
      "3            0.0         0.0         0.0  ...   0.0       0.0    0.0  0.0   \n",
      "4            0.0         0.0         0.0  ...   0.0       0.0    0.0  0.0   \n",
      "...          ...         ...         ...  ...   ...       ...    ...  ...   \n",
      "5693         0.0         0.0         0.0  ...   0.0       0.0    0.0  0.0   \n",
      "5694         0.0         0.0         0.0  ...   0.0       0.0    0.0  0.0   \n",
      "5695         0.0         0.0         0.0  ...   0.0       0.0    0.0  0.0   \n",
      "5696         0.0         0.0         0.0  ...   0.0       0.0    0.0  0.0   \n",
      "5697         0.0         0.0         0.0  ...   0.0       0.0    0.0  0.0   \n",
      "\n",
      "      zygoma  zymg  zzmacmac  zzn  zzncacst  zzzz  \n",
      "0        0.0   0.0       0.0  0.0       0.0   0.0  \n",
      "1        0.0   0.0       0.0  0.0       0.0   0.0  \n",
      "2        0.0   0.0       0.0  0.0       0.0   0.0  \n",
      "3        0.0   0.0       0.0  0.0       0.0   0.0  \n",
      "4        0.0   0.0       0.0  0.0       0.0   0.0  \n",
      "...      ...   ...       ...  ...       ...   ...  \n",
      "5693     0.0   0.0       0.0  0.0       0.0   0.0  \n",
      "5694     0.0   0.0       0.0  0.0       0.0   0.0  \n",
      "5695     0.0   0.0       0.0  0.0       0.0   0.0  \n",
      "5696     0.0   0.0       0.0  0.0       0.0   0.0  \n",
      "5697     0.0   0.0       0.0  0.0       0.0   0.0  \n",
      "\n",
      "[5698 rows x 34928 columns] \n",
      "\n"
     ]
    }
   ],
   "source": [
    "#Tf-Idf Transformer\n",
    "from sklearn.feature_extraction.text import TfidfTransformer\n",
    "\n",
    "print('Tfidf transformer:')\n",
    "term = TfidfTransformer(norm = 'l2', use_idf=True)\n",
    "term_matrix = term.fit_transform(count_vector_matrix)\n",
    "term_matrix = term_matrix.toarray()\n",
    "vocab = count_vector.get_feature_names_out()\n",
    "print(pd.DataFrame(np.round(term_matrix, 2), columns=vocab), '\\n')"
   ],
   "metadata": {
    "collapsed": false,
    "pycharm": {
     "name": "#%%\n"
    }
   }
  },
  {
   "cell_type": "markdown",
   "source": [
    "#### Model"
   ],
   "metadata": {
    "collapsed": false,
    "pycharm": {
     "name": "#%% md\n"
    }
   }
  },
  {
   "cell_type": "code",
   "execution_count": 49,
   "outputs": [
    {
     "data": {
      "text/plain": "   Category                                               Mail  \\\n0         0  subject naturally irresistible corporate ident...   \n1         0  subject stock trading gunslinger fanny merrill...   \n2         0  subject unbelievable new homes made easy im wa...   \n3         0  subject color printing special request additio...   \n4         0  subject money get software cds software compat...   \n5         0  subject great nnews hello welcome medzonline s...   \n6         0  subject hot play motion homeland security inve...   \n7         0  subject save money buy getting thing tried cia...   \n8         0  subject undeliverable home based business grow...   \n9         0  subject save money buy getting thing tried cia...   \n10        0  subject las vegas high rise boom las vegas fas...   \n11        0  subject save money buy getting thing tried cia...   \n12        0  subject brighten teeth get teeth bright white ...   \n13        0  subject wall street phenomenon reaps rewards s...   \n14        0  subject fpa notice ebay misrepresentation iden...   \n15        0  subject search engine position first listing t...   \n16        0  subject software guaranteed legal name brand s...   \n17        0  subject localized software languages available...   \n18        0  subject security alert confirm national credit...   \n19        0  subject st century web specialists jrgbm dear ...   \n\n                                           Mail_token  \n0   [subject, naturally, irresistible, corporate, ...  \n1   [subject, stock, trading, gunslinger, fanny, m...  \n2   [subject, unbelievable, new, homes, made, easy...  \n3   [subject, color, printing, special, request, a...  \n4   [subject, money, get, software, cds, software,...  \n5   [subject, great, nnews, hello, welcome, medzon...  \n6   [subject, hot, play, motion, homeland, securit...  \n7   [subject, save, money, buy, getting, thing, tr...  \n8   [subject, undeliverable, home, based, business...  \n9   [subject, save, money, buy, getting, thing, tr...  \n10  [subject, las, vegas, high, rise, boom, las, v...  \n11  [subject, save, money, buy, getting, thing, tr...  \n12  [subject, brighten, teeth, get, teeth, bright,...  \n13  [subject, wall, street, phenomenon, reaps, rew...  \n14  [subject, fpa, notice, ebay, misrepresentation...  \n15  [subject, search, engine, position, first, lis...  \n16  [subject, software, guaranteed, legal, name, b...  \n17  [subject, localized, software, languages, avai...  \n18  [subject, security, alert, confirm, national, ...  \n19  [subject, st, century, web, specialists, jrgbm...  ",
      "text/html": "<div>\n<style scoped>\n    .dataframe tbody tr th:only-of-type {\n        vertical-align: middle;\n    }\n\n    .dataframe tbody tr th {\n        vertical-align: top;\n    }\n\n    .dataframe thead th {\n        text-align: right;\n    }\n</style>\n<table border=\"1\" class=\"dataframe\">\n  <thead>\n    <tr style=\"text-align: right;\">\n      <th></th>\n      <th>Category</th>\n      <th>Mail</th>\n      <th>Mail_token</th>\n    </tr>\n  </thead>\n  <tbody>\n    <tr>\n      <th>0</th>\n      <td>0</td>\n      <td>subject naturally irresistible corporate ident...</td>\n      <td>[subject, naturally, irresistible, corporate, ...</td>\n    </tr>\n    <tr>\n      <th>1</th>\n      <td>0</td>\n      <td>subject stock trading gunslinger fanny merrill...</td>\n      <td>[subject, stock, trading, gunslinger, fanny, m...</td>\n    </tr>\n    <tr>\n      <th>2</th>\n      <td>0</td>\n      <td>subject unbelievable new homes made easy im wa...</td>\n      <td>[subject, unbelievable, new, homes, made, easy...</td>\n    </tr>\n    <tr>\n      <th>3</th>\n      <td>0</td>\n      <td>subject color printing special request additio...</td>\n      <td>[subject, color, printing, special, request, a...</td>\n    </tr>\n    <tr>\n      <th>4</th>\n      <td>0</td>\n      <td>subject money get software cds software compat...</td>\n      <td>[subject, money, get, software, cds, software,...</td>\n    </tr>\n    <tr>\n      <th>5</th>\n      <td>0</td>\n      <td>subject great nnews hello welcome medzonline s...</td>\n      <td>[subject, great, nnews, hello, welcome, medzon...</td>\n    </tr>\n    <tr>\n      <th>6</th>\n      <td>0</td>\n      <td>subject hot play motion homeland security inve...</td>\n      <td>[subject, hot, play, motion, homeland, securit...</td>\n    </tr>\n    <tr>\n      <th>7</th>\n      <td>0</td>\n      <td>subject save money buy getting thing tried cia...</td>\n      <td>[subject, save, money, buy, getting, thing, tr...</td>\n    </tr>\n    <tr>\n      <th>8</th>\n      <td>0</td>\n      <td>subject undeliverable home based business grow...</td>\n      <td>[subject, undeliverable, home, based, business...</td>\n    </tr>\n    <tr>\n      <th>9</th>\n      <td>0</td>\n      <td>subject save money buy getting thing tried cia...</td>\n      <td>[subject, save, money, buy, getting, thing, tr...</td>\n    </tr>\n    <tr>\n      <th>10</th>\n      <td>0</td>\n      <td>subject las vegas high rise boom las vegas fas...</td>\n      <td>[subject, las, vegas, high, rise, boom, las, v...</td>\n    </tr>\n    <tr>\n      <th>11</th>\n      <td>0</td>\n      <td>subject save money buy getting thing tried cia...</td>\n      <td>[subject, save, money, buy, getting, thing, tr...</td>\n    </tr>\n    <tr>\n      <th>12</th>\n      <td>0</td>\n      <td>subject brighten teeth get teeth bright white ...</td>\n      <td>[subject, brighten, teeth, get, teeth, bright,...</td>\n    </tr>\n    <tr>\n      <th>13</th>\n      <td>0</td>\n      <td>subject wall street phenomenon reaps rewards s...</td>\n      <td>[subject, wall, street, phenomenon, reaps, rew...</td>\n    </tr>\n    <tr>\n      <th>14</th>\n      <td>0</td>\n      <td>subject fpa notice ebay misrepresentation iden...</td>\n      <td>[subject, fpa, notice, ebay, misrepresentation...</td>\n    </tr>\n    <tr>\n      <th>15</th>\n      <td>0</td>\n      <td>subject search engine position first listing t...</td>\n      <td>[subject, search, engine, position, first, lis...</td>\n    </tr>\n    <tr>\n      <th>16</th>\n      <td>0</td>\n      <td>subject software guaranteed legal name brand s...</td>\n      <td>[subject, software, guaranteed, legal, name, b...</td>\n    </tr>\n    <tr>\n      <th>17</th>\n      <td>0</td>\n      <td>subject localized software languages available...</td>\n      <td>[subject, localized, software, languages, avai...</td>\n    </tr>\n    <tr>\n      <th>18</th>\n      <td>0</td>\n      <td>subject security alert confirm national credit...</td>\n      <td>[subject, security, alert, confirm, national, ...</td>\n    </tr>\n    <tr>\n      <th>19</th>\n      <td>0</td>\n      <td>subject st century web specialists jrgbm dear ...</td>\n      <td>[subject, st, century, web, specialists, jrgbm...</td>\n    </tr>\n  </tbody>\n</table>\n</div>"
     },
     "execution_count": 49,
     "metadata": {},
     "output_type": "execute_result"
    }
   ],
   "source": [
    "df = new_corpus.drop(['Message'], axis=1)\n",
    "df.fillna(0)\n",
    "df.head(20)"
   ],
   "metadata": {
    "collapsed": false,
    "pycharm": {
     "name": "#%%\n"
    }
   }
  },
  {
   "cell_type": "markdown",
   "source": [
    "- Plot --Class distribution"
   ],
   "metadata": {
    "collapsed": false,
    "pycharm": {
     "name": "#%% md\n"
    }
   }
  },
  {
   "cell_type": "code",
   "execution_count": 52,
   "outputs": [
    {
     "data": {
      "text/plain": "<Figure size 1000x600 with 1 Axes>",
      "image/png": "[encoded data removed]"
     },
     "metadata": {},
     "output_type": "display_data"
    }
   ],
   "source": [
    "import matplotlib.pyplot as plt\n",
    "import seaborn as sns\n",
    "\n",
    "fig, ax = plt.subplots(1, 1, figsize=(10, 6))\n",
    "f = sns.countplot(x = df['Category'], palette=\"Blues_d\")\n",
    "plt.xlabel('Target Variable')\n",
    "plt.ylabel('Counts of each class')\n",
    "plt.title('Class distribution (%)')\n",
    "for p in f.patches:\n",
    "    width = p.get_width()\n",
    "    height = p.get_height()\n",
    "    x, y = p.get_xy()\n",
    "    ax.annotate(f'{round(height/df.shape[0], 2)*100} %', (x + width/2, y + height*1.01), ha='center')"
   ],
   "metadata": {
    "collapsed": false,
    "pycharm": {
     "name": "#%%\n"
    }
   }
  },
  {
   "cell_type": "markdown",
   "source": [
    "- Converting words to vectors using TF-IDF Vectorizer"
   ],
   "metadata": {
    "collapsed": false,
    "pycharm": {
     "name": "#%% md\n"
    }
   }
  },
  {
   "cell_type": "code",
   "execution_count": 53,
   "outputs": [
    {
     "name": "stdout",
     "output_type": "stream",
     "text": [
      "This is the vector shape:  (5698, 34928)\n"
     ]
    }
   ],
   "source": [
    "#convert the Mail data into vectors\n",
    "from sklearn.feature_extraction.text import TfidfVectorizer\n",
    "from sklearn.linear_model import LogisticRegression\n",
    "\n",
    "classif = LogisticRegression()\n",
    "vectorizer = TfidfVectorizer()\n",
    "\n",
    "#vectors = vectorizer.fit_transform(corpus[])\n",
    "vectors = vectorizer.fit_transform(df['Mail'])\n",
    "#features = vectors\n",
    "#print(\"This is the vector shape: \", vectors.shape)\n",
    "print(\"This is the vector shape: \", vectors.shape)"
   ],
   "metadata": {
    "collapsed": false,
    "pycharm": {
     "name": "#%%\n"
    }
   }
  },
  {
   "cell_type": "markdown",
   "source": [
    "- Splitting into training and test set"
   ],
   "metadata": {
    "collapsed": false,
    "pycharm": {
     "name": "#%% md\n"
    }
   }
  },
  {
   "cell_type": "code",
   "execution_count": 54,
   "outputs": [
    {
     "name": "stdout",
     "output_type": "stream",
     "text": [
      "Data_train : 4159\n",
      "Data_test  : 1539\n",
      "Target_train : 4159\n",
      "Target_test  : 1539\n"
     ]
    }
   ],
   "source": [
    "from sklearn.model_selection import train_test_split\n",
    "\n",
    "z = df['Mail']\n",
    "w = df['Category'].values.astype('U')\n",
    "z_train, z_test, w_train,w_test = train_test_split(z, w, test_size = 0.27, random_state = 42)\n",
    "print('Data_train :', len(z_train))\n",
    "print('Data_test  :', len(z_test))\n",
    "print('Target_train :', len(w_train))\n",
    "print('Target_test  :', len(w_test))"
   ],
   "metadata": {
    "collapsed": false,
    "pycharm": {
     "name": "#%%\n"
    }
   }
  },
  {
   "cell_type": "markdown",
   "source": [
    "- Model Pipeline"
   ],
   "metadata": {
    "collapsed": false,
    "pycharm": {
     "name": "#%% md\n"
    }
   }
  },
  {
   "cell_type": "code",
   "execution_count": 55,
   "outputs": [
    {
     "data": {
      "text/plain": "Pipeline(steps=[('Vectorizer', TfidfVectorizer()),\n                ('Classifier', LogisticRegression())])",
      "text/html": "<style>#sk-container-id-2 {color: black;background-color: white;}#sk-container-id-2 pre{padding: 0;}#sk-container-id-2 div.sk-toggleable {background-color: white;}#sk-container-id-2 label.sk-toggleable__label {cursor: pointer;display: block;width: 100%;margin-bottom: 0;padding: 0.3em;box-sizing: border-box;text-align: center;}#sk-container-id-2 label.sk-toggleable__label-arrow:before {content: \"▸\";float: left;margin-right: 0.25em;color: #696969;}#sk-container-id-2 label.sk-toggleable__label-arrow:hover:before {color: black;}#sk-container-id-2 div.sk-estimator:hover label.sk-toggleable__label-arrow:before {color: black;}#sk-container-id-2 div.sk-toggleable__content {max-height: 0;max-width: 0;overflow: hidden;text-align: left;background-color: #f0f8ff;}#sk-container-id-2 div.sk-toggleable__content pre {margin: 0.2em;color: black;border-radius: 0.25em;background-color: #f0f8ff;}#sk-container-id-2 input.sk-toggleable__control:checked~div.sk-toggleable__content {max-height: 200px;max-width: 100%;overflow: auto;}#sk-container-id-2 input.sk-toggleable__control:checked~label.sk-toggleable__label-arrow:before {content: \"▾\";}#sk-container-id-2 div.sk-estimator input.sk-toggleable__control:checked~label.sk-toggleable__label {background-color: #d4ebff;}#sk-container-id-2 div.sk-label input.sk-toggleable__control:checked~label.sk-toggleable__label {background-color: #d4ebff;}#sk-container-id-2 input.sk-hidden--visually {border: 0;clip: rect(1px 1px 1px 1px);clip: rect(1px, 1px, 1px, 1px);height: 1px;margin: -1px;overflow: hidden;padding: 0;position: absolute;width: 1px;}#sk-container-id-2 div.sk-estimator {font-family: monospace;background-color: #f0f8ff;border: 1px dotted black;border-radius: 0.25em;box-sizing: border-box;margin-bottom: 0.5em;}#sk-container-id-2 div.sk-estimator:hover {background-color: #d4ebff;}#sk-container-id-2 div.sk-parallel-item::after {content: \"\";width: 100%;border-bottom: 1px solid gray;flex-grow: 1;}#sk-container-id-2 div.sk-label:hover label.sk-toggleable__label {background-color: #d4ebff;}#sk-container-id-2 div.sk-serial::before {content: \"\";position: absolute;border-left: 1px solid gray;box-sizing: border-box;top: 0;bottom: 0;left: 50%;z-index: 0;}#sk-container-id-2 div.sk-serial {display: flex;flex-direction: column;align-items: center;background-color: white;padding-right: 0.2em;padding-left: 0.2em;position: relative;}#sk-container-id-2 div.sk-item {position: relative;z-index: 1;}#sk-container-id-2 div.sk-parallel {display: flex;align-items: stretch;justify-content: center;background-color: white;position: relative;}#sk-container-id-2 div.sk-item::before, #sk-container-id-2 div.sk-parallel-item::before {content: \"\";position: absolute;border-left: 1px solid gray;box-sizing: border-box;top: 0;bottom: 0;left: 50%;z-index: -1;}#sk-container-id-2 div.sk-parallel-item {display: flex;flex-direction: column;z-index: 1;position: relative;background-color: white;}#sk-container-id-2 div.sk-parallel-item:first-child::after {align-self: flex-end;width: 50%;}#sk-container-id-2 div.sk-parallel-item:last-child::after {align-self: flex-start;width: 50%;}#sk-container-id-2 div.sk-parallel-item:only-child::after {width: 0;}#sk-container-id-2 div.sk-dashed-wrapped {border: 1px dashed gray;margin: 0 0.4em 0.5em 0.4em;box-sizing: border-box;padding-bottom: 0.4em;background-color: white;}#sk-container-id-2 div.sk-label label {font-family: monospace;font-weight: bold;display: inline-block;line-height: 1.2em;}#sk-container-id-2 div.sk-label-container {text-align: center;}#sk-container-id-2 div.sk-container {/* jupyter's `normalize.less` sets `[hidden] { display: none; }` but bootstrap.min.css set `[hidden] { display: none !important; }` so we also need the `!important` here to be able to override the default hidden behavior on the sphinx rendered scikit-learn.org. See: https://github.com/scikit-learn/scikit-learn/issues/21755 */display: inline-block !important;position: relative;}#sk-container-id-2 div.sk-text-repr-fallback {display: none;}</style><div id=\"sk-container-id-2\" class=\"sk-top-container\"><div class=\"sk-text-repr-fallback\"><pre>Pipeline(steps=[(&#x27;Vectorizer&#x27;, TfidfVectorizer()),\n                (&#x27;Classifier&#x27;, LogisticRegression())])</pre><b>In a Jupyter environment, please rerun this cell to show the HTML representation or trust the notebook. <br />On GitHub, the HTML representation is unable to render, please try loading this page with nbviewer.org.</b></div><div class=\"sk-container\" hidden><div class=\"sk-item sk-dashed-wrapped\"><div class=\"sk-label-container\"><div class=\"sk-label sk-toggleable\"><input class=\"sk-toggleable__control sk-hidden--visually\" id=\"sk-estimator-id-4\" type=\"checkbox\" ><label for=\"sk-estimator-id-4\" class=\"sk-toggleable__label sk-toggleable__label-arrow\">Pipeline</label><div class=\"sk-toggleable__content\"><pre>Pipeline(steps=[(&#x27;Vectorizer&#x27;, TfidfVectorizer()),\n                (&#x27;Classifier&#x27;, LogisticRegression())])</pre></div></div></div><div class=\"sk-serial\"><div class=\"sk-item\"><div class=\"sk-estimator sk-toggleable\"><input class=\"sk-toggleable__control sk-hidden--visually\" id=\"sk-estimator-id-5\" type=\"checkbox\" ><label for=\"sk-estimator-id-5\" class=\"sk-toggleable__label sk-toggleable__label-arrow\">TfidfVectorizer</label><div class=\"sk-toggleable__content\"><pre>TfidfVectorizer()</pre></div></div></div><div class=\"sk-item\"><div class=\"sk-estimator sk-toggleable\"><input class=\"sk-toggleable__control sk-hidden--visually\" id=\"sk-estimator-id-6\" type=\"checkbox\" ><label for=\"sk-estimator-id-6\" class=\"sk-toggleable__label sk-toggleable__label-arrow\">LogisticRegression</label><div class=\"sk-toggleable__content\"><pre>LogisticRegression()</pre></div></div></div></div></div></div></div>"
     },
     "execution_count": 55,
     "metadata": {},
     "output_type": "execute_result"
    }
   ],
   "source": [
    "#Create Model Pipeline\n",
    "\n",
    "from sklearn.pipeline import Pipeline\n",
    "\n",
    "model = Pipeline([('Vectorizer',vectorizer),('Classifier',classif)])\n",
    "model.fit(z_train, w_train)"
   ],
   "metadata": {
    "collapsed": false,
    "pycharm": {
     "name": "#%%\n"
    }
   }
  },
  {
   "cell_type": "markdown",
   "source": [
    "- Prediction on test data"
   ],
   "metadata": {
    "collapsed": false,
    "pycharm": {
     "name": "#%% md\n"
    }
   }
  },
  {
   "cell_type": "code",
   "execution_count": 58,
   "outputs": [
    {
     "data": {
      "text/plain": "array(['1', '0', '1', '1', '1', '0', '1', '1', '1', '1', '0', '1', '0',\n       '1', '1', '1', '0', '0', '1', '0'], dtype='<U92')"
     },
     "execution_count": 58,
     "metadata": {},
     "output_type": "execute_result"
    }
   ],
   "source": [
    "# predict on the test set\n",
    "y_pred = model.predict(z_test)\n",
    "x_pred = model.predict(z_train)\n",
    "y_pred[:20]"
   ],
   "metadata": {
    "collapsed": false,
    "pycharm": {
     "name": "#%%\n"
    }
   }
  },
  {
   "cell_type": "code",
   "execution_count": null,
   "outputs": [],
   "source": [],
   "metadata": {
    "collapsed": false,
    "pycharm": {
     "name": "#%%\n"
    }
   }
  }
 ],
 "metadata": {
  "kernelspec": {
   "display_name": "Python 3",
   "language": "python",
   "name": "python3"
  },
  "language_info": {
   "codemirror_mode": {
    "name": "ipython",
    "version": 2
   },
   "file_extension": ".py",
   "mimetype": "text/x-python",
   "name": "python",
   "nbconvert_exporter": "python",
   "pygments_lexer": "ipython2",
   "version": "2.7.6"
  }
 },
 "nbformat": 4,
 "nbformat_minor": 0
}