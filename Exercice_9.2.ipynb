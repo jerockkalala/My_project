{
 "cells": [
  {
   "cell_type": "markdown",
   "source": [
    "##### Title: Exercice 9.2\n",
    "##### Author: Jerock Kalala\n",
    "##### Date: Febuary 15th 2023\n",
    "##### Modified By: --\n",
    "##### NER Tagger"
   ],
   "metadata": {
    "collapsed": false,
    "pycharm": {
     "name": "#%% md\n"
    }
   }
  },
  {
   "cell_type": "markdown",
   "source": [
    "Using the Kaggle NER corpus (ner_database.csv), which you can also find in our GitHub, create a NER tagger using Scikit-learn, which implies creating the NER model."
   ],
   "metadata": {
    "collapsed": false,
    "pycharm": {
     "name": "#%% md\n"
    }
   }
  },
  {
   "cell_type": "code",
   "execution_count": 2,
   "outputs": [
    {
     "data": {
      "text/plain": "    Sentence #           Word  POS Tag\n0  Sentence: 1      Thousands  NNS   O\n1          NaN             of   IN   O\n2          NaN  demonstrators  NNS   O\n3          NaN           have  VBP   O\n4          NaN        marched  VBN   O",
      "text/html": "<div>\n<style scoped>\n    .dataframe tbody tr th:only-of-type {\n        vertical-align: middle;\n    }\n\n    .dataframe tbody tr th {\n        vertical-align: top;\n    }\n\n    .dataframe thead th {\n        text-align: right;\n    }\n</style>\n<table border=\"1\" class=\"dataframe\">\n  <thead>\n    <tr style=\"text-align: right;\">\n      <th></th>\n      <th>Sentence #</th>\n      <th>Word</th>\n      <th>POS</th>\n      <th>Tag</th>\n    </tr>\n  </thead>\n  <tbody>\n    <tr>\n      <th>0</th>\n      <td>Sentence: 1</td>\n      <td>Thousands</td>\n      <td>NNS</td>\n      <td>O</td>\n    </tr>\n    <tr>\n      <th>1</th>\n      <td>NaN</td>\n      <td>of</td>\n      <td>IN</td>\n      <td>O</td>\n    </tr>\n    <tr>\n      <th>2</th>\n      <td>NaN</td>\n      <td>demonstrators</td>\n      <td>NNS</td>\n      <td>O</td>\n    </tr>\n    <tr>\n      <th>3</th>\n      <td>NaN</td>\n      <td>have</td>\n      <td>VBP</td>\n      <td>O</td>\n    </tr>\n    <tr>\n      <th>4</th>\n      <td>NaN</td>\n      <td>marched</td>\n      <td>VBN</td>\n      <td>O</td>\n    </tr>\n  </tbody>\n</table>\n</div>"
     },
     "execution_count": 2,
     "metadata": {},
     "output_type": "execute_result"
    }
   ],
   "source": [
    "import pandas as pd\n",
    "\n",
    "dframe = pd.read_csv(\"E:\\\\Bellevue\\\\Winter_2022\\\\DSC 360 Data Mining Text Analytics an\\\\Week_9\\\\ner_dataset.csv\", encoding='ISO-8859-1')\n",
    "dframe.head()"
   ],
   "metadata": {
    "collapsed": false,
    "pycharm": {
     "name": "#%%\n"
    }
   }
  },
  {
   "cell_type": "code",
   "execution_count": 3,
   "outputs": [
    {
     "data": {
      "text/plain": "Sentence #    1000616\nWord                0\nPOS                 0\nTag                 0\ndtype: int64"
     },
     "execution_count": 3,
     "metadata": {},
     "output_type": "execute_result"
    }
   ],
   "source": [
    "#let's check for null\n",
    "dframe.isnull().sum()"
   ],
   "metadata": {
    "collapsed": false,
    "pycharm": {
     "name": "#%%\n"
    }
   }
  },
  {
   "cell_type": "markdown",
   "source": [
    "We notice that there are many NaN values in ‘Sentence #” column, and we fill NaN by preceding values."
   ],
   "metadata": {
    "collapsed": false,
    "pycharm": {
     "name": "#%% md\n"
    }
   }
  },
  {
   "cell_type": "code",
   "execution_count": 4,
   "outputs": [
    {
     "name": "stdout",
     "output_type": "stream",
     "text": [
      "<class 'pandas.core.frame.DataFrame'>\n",
      "RangeIndex: 1048575 entries, 0 to 1048574\n",
      "Data columns (total 4 columns):\n",
      " #   Column      Non-Null Count    Dtype \n",
      "---  ------      --------------    ----- \n",
      " 0   Sentence #  1048575 non-null  object\n",
      " 1   Word        1048575 non-null  object\n",
      " 2   POS         1048575 non-null  object\n",
      " 3   Tag         1048575 non-null  object\n",
      "dtypes: object(4)\n",
      "memory usage: 32.0+ MB\n",
      "\n",
      "     Sentence #           Word  POS Tag\n",
      "0  Sentence: 1      Thousands  NNS   O\n",
      "1  Sentence: 1             of   IN   O\n",
      "2  Sentence: 1  demonstrators  NNS   O\n",
      "3  Sentence: 1           have  VBP   O\n",
      "4  Sentence: 1        marched  VBN   O\n"
     ]
    }
   ],
   "source": [
    "df = dframe.fillna(method='ffill')\n",
    "df.info()\n",
    "print(\"\\n\", df.head())"
   ],
   "metadata": {
    "collapsed": false,
    "pycharm": {
     "name": "#%%\n"
    }
   }
  },
  {
   "cell_type": "markdown",
   "source": [
    "The entire data set can not be fit into the memory of a single computer, so we select the first 100,000 records"
   ],
   "metadata": {
    "collapsed": false,
    "pycharm": {
     "name": "#%% md\n"
    }
   }
  },
  {
   "cell_type": "code",
   "execution_count": 5,
   "outputs": [
    {
     "data": {
      "text/plain": "                  0            1              2            3            4      \\\nSentence #  Sentence: 1  Sentence: 1    Sentence: 1  Sentence: 1  Sentence: 1   \nWord          Thousands           of  demonstrators         have      marched   \nPOS                 NNS           IN            NNS          VBP          VBN   \nTag                   O            O              O            O            O   \n\n                  5            6            7            8            9      \\\nSentence #  Sentence: 1  Sentence: 1  Sentence: 1  Sentence: 1  Sentence: 1   \nWord            through       London           to      protest          the   \nPOS                  IN          NNP           TO           VB           DT   \nTag                   O        B-geo            O            O            O   \n\n            ...           99990           99991           99992  \\\nSentence #  ...  Sentence: 4543  Sentence: 4543  Sentence: 4543   \nWord        ...            some              60          others   \nPOS         ...              DT              CD             NNS   \nTag         ...               O               O               O   \n\n                     99993           99994           99995           99996  \\\nSentence #  Sentence: 4543  Sentence: 4543  Sentence: 4543  Sentence: 4543   \nWord               wounded              --            some       seriously   \nPOS                    VBD               :              DT              RB   \nTag                      O               O               O               O   \n\n                     99997           99998           99999  \nSentence #  Sentence: 4543  Sentence: 4544  Sentence: 4544  \nWord                     .   Demonstrators        chanting  \nPOS                      .             NNS             VBG  \nTag                      O               O               O  \n\n[4 rows x 100000 columns]",
      "text/html": "<div>\n<style scoped>\n    .dataframe tbody tr th:only-of-type {\n        vertical-align: middle;\n    }\n\n    .dataframe tbody tr th {\n        vertical-align: top;\n    }\n\n    .dataframe thead th {\n        text-align: right;\n    }\n</style>\n<table border=\"1\" class=\"dataframe\">\n  <thead>\n    <tr style=\"text-align: right;\">\n      <th></th>\n      <th>0</th>\n      <th>1</th>\n      <th>2</th>\n      <th>3</th>\n      <th>4</th>\n      <th>5</th>\n      <th>6</th>\n      <th>7</th>\n      <th>8</th>\n      <th>9</th>\n      <th>...</th>\n      <th>99990</th>\n      <th>99991</th>\n      <th>99992</th>\n      <th>99993</th>\n      <th>99994</th>\n      <th>99995</th>\n      <th>99996</th>\n      <th>99997</th>\n      <th>99998</th>\n      <th>99999</th>\n    </tr>\n  </thead>\n  <tbody>\n    <tr>\n      <th>Sentence #</th>\n      <td>Sentence: 1</td>\n      <td>Sentence: 1</td>\n      <td>Sentence: 1</td>\n      <td>Sentence: 1</td>\n      <td>Sentence: 1</td>\n      <td>Sentence: 1</td>\n      <td>Sentence: 1</td>\n      <td>Sentence: 1</td>\n      <td>Sentence: 1</td>\n      <td>Sentence: 1</td>\n      <td>...</td>\n      <td>Sentence: 4543</td>\n      <td>Sentence: 4543</td>\n      <td>Sentence: 4543</td>\n      <td>Sentence: 4543</td>\n      <td>Sentence: 4543</td>\n      <td>Sentence: 4543</td>\n      <td>Sentence: 4543</td>\n      <td>Sentence: 4543</td>\n      <td>Sentence: 4544</td>\n      <td>Sentence: 4544</td>\n    </tr>\n    <tr>\n      <th>Word</th>\n      <td>Thousands</td>\n      <td>of</td>\n      <td>demonstrators</td>\n      <td>have</td>\n      <td>marched</td>\n      <td>through</td>\n      <td>London</td>\n      <td>to</td>\n      <td>protest</td>\n      <td>the</td>\n      <td>...</td>\n      <td>some</td>\n      <td>60</td>\n      <td>others</td>\n      <td>wounded</td>\n      <td>--</td>\n      <td>some</td>\n      <td>seriously</td>\n      <td>.</td>\n      <td>Demonstrators</td>\n      <td>chanting</td>\n    </tr>\n    <tr>\n      <th>POS</th>\n      <td>NNS</td>\n      <td>IN</td>\n      <td>NNS</td>\n      <td>VBP</td>\n      <td>VBN</td>\n      <td>IN</td>\n      <td>NNP</td>\n      <td>TO</td>\n      <td>VB</td>\n      <td>DT</td>\n      <td>...</td>\n      <td>DT</td>\n      <td>CD</td>\n      <td>NNS</td>\n      <td>VBD</td>\n      <td>:</td>\n      <td>DT</td>\n      <td>RB</td>\n      <td>.</td>\n      <td>NNS</td>\n      <td>VBG</td>\n    </tr>\n    <tr>\n      <th>Tag</th>\n      <td>O</td>\n      <td>O</td>\n      <td>O</td>\n      <td>O</td>\n      <td>O</td>\n      <td>O</td>\n      <td>B-geo</td>\n      <td>O</td>\n      <td>O</td>\n      <td>O</td>\n      <td>...</td>\n      <td>O</td>\n      <td>O</td>\n      <td>O</td>\n      <td>O</td>\n      <td>O</td>\n      <td>O</td>\n      <td>O</td>\n      <td>O</td>\n      <td>O</td>\n      <td>O</td>\n    </tr>\n  </tbody>\n</table>\n<p>4 rows × 100000 columns</p>\n</div>"
     },
     "execution_count": 5,
     "metadata": {},
     "output_type": "execute_result"
    }
   ],
   "source": [
    "df = (dframe[:100000]).fillna(method='ffill')\n",
    "df.T"
   ],
   "metadata": {
    "collapsed": false,
    "pycharm": {
     "name": "#%%\n"
    }
   }
  },
  {
   "cell_type": "code",
   "execution_count": 6,
   "outputs": [
    {
     "data": {
      "text/plain": "(4544, 10922, 41, 17)"
     },
     "execution_count": 6,
     "metadata": {},
     "output_type": "execute_result"
    }
   ],
   "source": [
    "# get a total number of annotated tag\n",
    "df['Sentence #'].nunique(), df.Word.nunique(), df.POS.nunique(), df.Tag.nunique()"
   ],
   "metadata": {
    "collapsed": false,
    "pycharm": {
     "name": "#%%\n"
    }
   }
  },
  {
   "cell_type": "code",
   "execution_count": 7,
   "outputs": [
    {
     "data": {
      "text/plain": "      Tag  counts\n0   B-art      75\n1   B-eve      53\n2   B-geo    3303\n3   B-gpe    1740\n4   B-nat      30\n5   B-org    1876\n6   B-per    1668\n7   B-tim    1823\n8   I-art      43\n9   I-eve      47\n10  I-geo     690\n11  I-gpe      51\n12  I-nat      11\n13  I-org    1470\n14  I-per    1846\n15  I-tim     549\n16      O   84725",
      "text/html": "<div>\n<style scoped>\n    .dataframe tbody tr th:only-of-type {\n        vertical-align: middle;\n    }\n\n    .dataframe tbody tr th {\n        vertical-align: top;\n    }\n\n    .dataframe thead th {\n        text-align: right;\n    }\n</style>\n<table border=\"1\" class=\"dataframe\">\n  <thead>\n    <tr style=\"text-align: right;\">\n      <th></th>\n      <th>Tag</th>\n      <th>counts</th>\n    </tr>\n  </thead>\n  <tbody>\n    <tr>\n      <th>0</th>\n      <td>B-art</td>\n      <td>75</td>\n    </tr>\n    <tr>\n      <th>1</th>\n      <td>B-eve</td>\n      <td>53</td>\n    </tr>\n    <tr>\n      <th>2</th>\n      <td>B-geo</td>\n      <td>3303</td>\n    </tr>\n    <tr>\n      <th>3</th>\n      <td>B-gpe</td>\n      <td>1740</td>\n    </tr>\n    <tr>\n      <th>4</th>\n      <td>B-nat</td>\n      <td>30</td>\n    </tr>\n    <tr>\n      <th>5</th>\n      <td>B-org</td>\n      <td>1876</td>\n    </tr>\n    <tr>\n      <th>6</th>\n      <td>B-per</td>\n      <td>1668</td>\n    </tr>\n    <tr>\n      <th>7</th>\n      <td>B-tim</td>\n      <td>1823</td>\n    </tr>\n    <tr>\n      <th>8</th>\n      <td>I-art</td>\n      <td>43</td>\n    </tr>\n    <tr>\n      <th>9</th>\n      <td>I-eve</td>\n      <td>47</td>\n    </tr>\n    <tr>\n      <th>10</th>\n      <td>I-geo</td>\n      <td>690</td>\n    </tr>\n    <tr>\n      <th>11</th>\n      <td>I-gpe</td>\n      <td>51</td>\n    </tr>\n    <tr>\n      <th>12</th>\n      <td>I-nat</td>\n      <td>11</td>\n    </tr>\n    <tr>\n      <th>13</th>\n      <td>I-org</td>\n      <td>1470</td>\n    </tr>\n    <tr>\n      <th>14</th>\n      <td>I-per</td>\n      <td>1846</td>\n    </tr>\n    <tr>\n      <th>15</th>\n      <td>I-tim</td>\n      <td>549</td>\n    </tr>\n    <tr>\n      <th>16</th>\n      <td>O</td>\n      <td>84725</td>\n    </tr>\n  </tbody>\n</table>\n</div>"
     },
     "execution_count": 7,
     "metadata": {},
     "output_type": "execute_result"
    }
   ],
   "source": [
    "#check the unique NER tag distribution in the corpus\n",
    "#df.Tag.value_counts()\n",
    "df.groupby('Tag').size().reset_index(name='counts')"
   ],
   "metadata": {
    "collapsed": false,
    "pycharm": {
     "name": "#%%\n"
    }
   }
  },
  {
   "cell_type": "code",
   "execution_count": 19,
   "outputs": [
    {
     "data": {
      "text/plain": "    Sentence #           Word  POS\n0  Sentence: 1      Thousands  NNS\n1  Sentence: 1             of   IN\n2  Sentence: 1  demonstrators  NNS\n3  Sentence: 1           have  VBP\n4  Sentence: 1        marched  VBN",
      "text/html": "<div>\n<style scoped>\n    .dataframe tbody tr th:only-of-type {\n        vertical-align: middle;\n    }\n\n    .dataframe tbody tr th {\n        vertical-align: top;\n    }\n\n    .dataframe thead th {\n        text-align: right;\n    }\n</style>\n<table border=\"1\" class=\"dataframe\">\n  <thead>\n    <tr style=\"text-align: right;\">\n      <th></th>\n      <th>Sentence #</th>\n      <th>Word</th>\n      <th>POS</th>\n    </tr>\n  </thead>\n  <tbody>\n    <tr>\n      <th>0</th>\n      <td>Sentence: 1</td>\n      <td>Thousands</td>\n      <td>NNS</td>\n    </tr>\n    <tr>\n      <th>1</th>\n      <td>Sentence: 1</td>\n      <td>of</td>\n      <td>IN</td>\n    </tr>\n    <tr>\n      <th>2</th>\n      <td>Sentence: 1</td>\n      <td>demonstrators</td>\n      <td>NNS</td>\n    </tr>\n    <tr>\n      <th>3</th>\n      <td>Sentence: 1</td>\n      <td>have</td>\n      <td>VBP</td>\n    </tr>\n    <tr>\n      <th>4</th>\n      <td>Sentence: 1</td>\n      <td>marched</td>\n      <td>VBN</td>\n    </tr>\n  </tbody>\n</table>\n</div>"
     },
     "execution_count": 19,
     "metadata": {},
     "output_type": "execute_result"
    }
   ],
   "source": [
    "X = df.drop('Tag', axis=1)\n",
    "X.head()"
   ],
   "metadata": {
    "collapsed": false,
    "pycharm": {
     "name": "#%%\n"
    }
   }
  },
  {
   "cell_type": "code",
   "execution_count": null,
   "outputs": [],
   "source": [
    "#---------------------------------------------------------------------------------------------------------"
   ],
   "metadata": {
    "collapsed": false,
    "pycharm": {
     "name": "#%%\n"
    }
   }
  },
  {
   "cell_type": "markdown",
   "source": [
    "The following code transform the text date to vector using DictVectorizerand then split to train and test sets."
   ],
   "metadata": {
    "collapsed": false,
    "pycharm": {
     "name": "#%% md\n"
    }
   }
  },
  {
   "cell_type": "code",
   "execution_count": 9,
   "outputs": [
    {
     "data": {
      "text/plain": "((67000, 15507), (67000,))"
     },
     "execution_count": 9,
     "metadata": {},
     "output_type": "execute_result"
    }
   ],
   "source": [
    "from sklearn.feature_extraction import DictVectorizer\n",
    "from sklearn.model_selection import train_test_split\n",
    "import numpy as np\n",
    "\n",
    "X = df.drop('Tag', axis=1)\n",
    "v = DictVectorizer(sparse=False)\n",
    "X = v.fit_transform(X.to_dict('records'))\n",
    "y = df.Tag.values\n",
    "\n",
    "classes = np.unique(y)\n",
    "classes = classes.tolist()\n",
    "\n",
    "X_train, X_test, y_train, y_test = train_test_split(X, y, test_size = 0.33, random_state=0)\n",
    "X_train.shape, y_train.shape"
   ],
   "metadata": {
    "collapsed": false,
    "pycharm": {
     "name": "#%%\n"
    }
   }
  },
  {
   "cell_type": "code",
   "execution_count": 13,
   "outputs": [
    {
     "name": "stderr",
     "output_type": "stream",
     "text": [
      "[Parallel(n_jobs=-1)]: Using backend ThreadingBackend with 8 concurrent workers.\n"
     ]
    },
    {
     "name": "stdout",
     "output_type": "stream",
     "text": [
      "-- Epoch 1\n",
      "-- Epoch 1\n",
      "-- Epoch 1\n",
      "-- Epoch 1\n",
      "-- Epoch 1\n",
      "-- Epoch 1\n",
      "-- Epoch 1\n",
      "-- Epoch 1\n",
      "Norm: 13.42, NNZs: 162, Bias: -4.000000, T: 67000, Avg. loss: 0.001642\n",
      "Total training time: 4.84 seconds.\n",
      "-- Epoch 1\n",
      "Norm: 8.43, NNZs: 57, Bias: -3.000000, T: 67000, Avg. loss: 0.000567\n",
      "Total training time: 4.94 seconds.\n",
      "-- Epoch 1\n",
      "Norm: 44.41, NNZs: 1127, Bias: -4.000000, T: 67000, Avg. loss: 0.017164\n",
      "Total training time: 5.01 seconds.\n",
      "-- Epoch 1\n"
     ]
    },
    {
     "name": "stderr",
     "output_type": "stream",
     "text": [
      "[Parallel(n_jobs=-1)]: Done   2 tasks      | elapsed:    4.9s\n",
      "[Parallel(n_jobs=-1)]: Done   4 out of  17 | elapsed:    5.1s remaining:   16.7s\n"
     ]
    },
    {
     "name": "stdout",
     "output_type": "stream",
     "text": [
      "Norm: 56.87, NNZs: 2044, Bias: -4.000000, T: 67000, Avg. loss: 0.034970\n",
      "Total training time: 5.08 seconds.\n",
      "-- Epoch 1\n",
      "Norm: 48.83, NNZs: 1578, Bias: -4.000000, T: 67000, Avg. loss: 0.022328\n",
      "Total training time: 5.54 seconds.\n",
      "-- Epoch 1\n",
      "Norm: 68.07, NNZs: 2642, Bias: -4.000000, T: 67000, Avg. loss: 0.041776\n",
      "Total training time: 5.62 seconds.\n",
      "-- Epoch 1\n",
      "Norm: 11.53, NNZs: 113, Bias: -3.000000, T: 67000, Avg. loss: 0.001060\n",
      "Total training time: 5.71 seconds.\n",
      "-- Epoch 1\n"
     ]
    },
    {
     "name": "stderr",
     "output_type": "stream",
     "text": [
      "[Parallel(n_jobs=-1)]: Done   6 out of  17 | elapsed:    5.6s remaining:   10.4s\n"
     ]
    },
    {
     "name": "stdout",
     "output_type": "stream",
     "text": [
      "Norm: 49.90, NNZs: 1337, Bias: -4.000000, T: 67000, Avg. loss: 0.015328\n",
      "Total training time: 5.86 seconds.\n",
      "-- Epoch 1\n"
     ]
    },
    {
     "name": "stderr",
     "output_type": "stream",
     "text": [
      "[Parallel(n_jobs=-1)]: Done   8 out of  17 | elapsed:    5.8s remaining:    6.6s\n"
     ]
    },
    {
     "name": "stdout",
     "output_type": "stream",
     "text": [
      "Norm: 10.44, NNZs: 106, Bias: -3.000000, T: 67000, Avg. loss: 0.001060\n",
      "Total training time: 5.31 seconds.\n",
      "-- Epoch 1\n",
      "Norm: 11.45, NNZs: 96, Bias: -3.000000, T: 67000, Avg. loss: 0.000776\n",
      "Total training time: 5.25 seconds.\n"
     ]
    },
    {
     "name": "stderr",
     "output_type": "stream",
     "text": [
      "[Parallel(n_jobs=-1)]: Done  10 out of  17 | elapsed:   10.2s remaining:    7.1s\n"
     ]
    },
    {
     "name": "stdout",
     "output_type": "stream",
     "text": [
      "Norm: 11.00, NNZs: 102, Bias: -3.000000, T: 67000, Avg. loss: 0.001209\n",
      "Total training time: 5.55 seconds.\n",
      "Norm: 35.13, NNZs: 803, Bias: -4.000000, T: 67000, Avg. loss: 0.011149\n",
      "Total training time: 6.17 seconds.\n",
      "Norm: 30.53, NNZs: 672, Bias: -4.000000, T: 67000, Avg. loss: 0.012030\n",
      "Total training time: 5.47 seconds.\n"
     ]
    },
    {
     "name": "stderr",
     "output_type": "stream",
     "text": [
      "[Parallel(n_jobs=-1)]: Done  12 out of  17 | elapsed:   11.2s remaining:    4.6s\n"
     ]
    },
    {
     "name": "stdout",
     "output_type": "stream",
     "text": [
      "Norm: 6.24, NNZs: 31, Bias: -3.000000, T: 67000, Avg. loss: 0.000209\n",
      "Total training time: 6.10 seconds.\n",
      "Norm: 53.57, NNZs: 1703, Bias: -4.000000, T: 67000, Avg. loss: 0.026224\n",
      "Total training time: 6.22 seconds.\n"
     ]
    },
    {
     "name": "stderr",
     "output_type": "stream",
     "text": [
      "[Parallel(n_jobs=-1)]: Done  14 out of  17 | elapsed:   11.7s remaining:    2.4s\n"
     ]
    },
    {
     "name": "stdout",
     "output_type": "stream",
     "text": [
      "Norm: 60.35, NNZs: 2091, Bias: -6.000000, T: 67000, Avg. loss: 0.026940\n",
      "Total training time: 6.29 seconds.\n",
      "Norm: 73.89, NNZs: 2851, Bias: 4.000000, T: 67000, Avg. loss: 0.048866\n",
      "Total training time: 3.94 seconds.\n"
     ]
    },
    {
     "name": "stderr",
     "output_type": "stream",
     "text": [
      "[Parallel(n_jobs=-1)]: Done  17 out of  17 | elapsed:   14.1s finished\n"
     ]
    },
    {
     "data": {
      "text/plain": "Perceptron(max_iter=5, n_jobs=-1, verbose=10)",
      "text/html": "<style>#sk-container-id-2 {color: black;background-color: white;}#sk-container-id-2 pre{padding: 0;}#sk-container-id-2 div.sk-toggleable {background-color: white;}#sk-container-id-2 label.sk-toggleable__label {cursor: pointer;display: block;width: 100%;margin-bottom: 0;padding: 0.3em;box-sizing: border-box;text-align: center;}#sk-container-id-2 label.sk-toggleable__label-arrow:before {content: \"▸\";float: left;margin-right: 0.25em;color: #696969;}#sk-container-id-2 label.sk-toggleable__label-arrow:hover:before {color: black;}#sk-container-id-2 div.sk-estimator:hover label.sk-toggleable__label-arrow:before {color: black;}#sk-container-id-2 div.sk-toggleable__content {max-height: 0;max-width: 0;overflow: hidden;text-align: left;background-color: #f0f8ff;}#sk-container-id-2 div.sk-toggleable__content pre {margin: 0.2em;color: black;border-radius: 0.25em;background-color: #f0f8ff;}#sk-container-id-2 input.sk-toggleable__control:checked~div.sk-toggleable__content {max-height: 200px;max-width: 100%;overflow: auto;}#sk-container-id-2 input.sk-toggleable__control:checked~label.sk-toggleable__label-arrow:before {content: \"▾\";}#sk-container-id-2 div.sk-estimator input.sk-toggleable__control:checked~label.sk-toggleable__label {background-color: #d4ebff;}#sk-container-id-2 div.sk-label input.sk-toggleable__control:checked~label.sk-toggleable__label {background-color: #d4ebff;}#sk-container-id-2 input.sk-hidden--visually {border: 0;clip: rect(1px 1px 1px 1px);clip: rect(1px, 1px, 1px, 1px);height: 1px;margin: -1px;overflow: hidden;padding: 0;position: absolute;width: 1px;}#sk-container-id-2 div.sk-estimator {font-family: monospace;background-color: #f0f8ff;border: 1px dotted black;border-radius: 0.25em;box-sizing: border-box;margin-bottom: 0.5em;}#sk-container-id-2 div.sk-estimator:hover {background-color: #d4ebff;}#sk-container-id-2 div.sk-parallel-item::after {content: \"\";width: 100%;border-bottom: 1px solid gray;flex-grow: 1;}#sk-container-id-2 div.sk-label:hover label.sk-toggleable__label {background-color: #d4ebff;}#sk-container-id-2 div.sk-serial::before {content: \"\";position: absolute;border-left: 1px solid gray;box-sizing: border-box;top: 0;bottom: 0;left: 50%;z-index: 0;}#sk-container-id-2 div.sk-serial {display: flex;flex-direction: column;align-items: center;background-color: white;padding-right: 0.2em;padding-left: 0.2em;position: relative;}#sk-container-id-2 div.sk-item {position: relative;z-index: 1;}#sk-container-id-2 div.sk-parallel {display: flex;align-items: stretch;justify-content: center;background-color: white;position: relative;}#sk-container-id-2 div.sk-item::before, #sk-container-id-2 div.sk-parallel-item::before {content: \"\";position: absolute;border-left: 1px solid gray;box-sizing: border-box;top: 0;bottom: 0;left: 50%;z-index: -1;}#sk-container-id-2 div.sk-parallel-item {display: flex;flex-direction: column;z-index: 1;position: relative;background-color: white;}#sk-container-id-2 div.sk-parallel-item:first-child::after {align-self: flex-end;width: 50%;}#sk-container-id-2 div.sk-parallel-item:last-child::after {align-self: flex-start;width: 50%;}#sk-container-id-2 div.sk-parallel-item:only-child::after {width: 0;}#sk-container-id-2 div.sk-dashed-wrapped {border: 1px dashed gray;margin: 0 0.4em 0.5em 0.4em;box-sizing: border-box;padding-bottom: 0.4em;background-color: white;}#sk-container-id-2 div.sk-label label {font-family: monospace;font-weight: bold;display: inline-block;line-height: 1.2em;}#sk-container-id-2 div.sk-label-container {text-align: center;}#sk-container-id-2 div.sk-container {/* jupyter's `normalize.less` sets `[hidden] { display: none; }` but bootstrap.min.css set `[hidden] { display: none !important; }` so we also need the `!important` here to be able to override the default hidden behavior on the sphinx rendered scikit-learn.org. See: https://github.com/scikit-learn/scikit-learn/issues/21755 */display: inline-block !important;position: relative;}#sk-container-id-2 div.sk-text-repr-fallback {display: none;}</style><div id=\"sk-container-id-2\" class=\"sk-top-container\"><div class=\"sk-text-repr-fallback\"><pre>Perceptron(max_iter=5, n_jobs=-1, verbose=10)</pre><b>In a Jupyter environment, please rerun this cell to show the HTML representation or trust the notebook. <br />On GitHub, the HTML representation is unable to render, please try loading this page with nbviewer.org.</b></div><div class=\"sk-container\" hidden><div class=\"sk-item\"><div class=\"sk-estimator sk-toggleable\"><input class=\"sk-toggleable__control sk-hidden--visually\" id=\"sk-estimator-id-2\" type=\"checkbox\" checked><label for=\"sk-estimator-id-2\" class=\"sk-toggleable__label sk-toggleable__label-arrow\">Perceptron</label><div class=\"sk-toggleable__content\"><pre>Perceptron(max_iter=5, n_jobs=-1, verbose=10)</pre></div></div></div></div></div>"
     },
     "execution_count": 13,
     "metadata": {},
     "output_type": "execute_result"
    }
   ],
   "source": [
    "from sklearn.linear_model import Perceptron\n",
    "\n",
    "#Perceptron\n",
    "\n",
    "per = Perceptron(verbose=10, n_jobs=-1, max_iter=5)\n",
    "per.partial_fit(X_train, y_train, classes)\n"
   ],
   "metadata": {
    "collapsed": false,
    "pycharm": {
     "name": "#%%\n"
    }
   }
  },
  {
   "cell_type": "markdown",
   "source": [
    "Because tag “O” (outside) is the most common tag and it will make our results look much better than they actual are. So we remove tag “O” when we evaluate classification metrics."
   ],
   "metadata": {
    "collapsed": false,
    "pycharm": {
     "name": "#%% md\n"
    }
   }
  },
  {
   "cell_type": "code",
   "execution_count": 14,
   "outputs": [
    {
     "data": {
      "text/plain": "['B-art',\n 'B-eve',\n 'B-geo',\n 'B-gpe',\n 'B-nat',\n 'B-org',\n 'B-per',\n 'B-tim',\n 'I-art',\n 'I-eve',\n 'I-geo',\n 'I-gpe',\n 'I-nat',\n 'I-org',\n 'I-per',\n 'I-tim']"
     },
     "execution_count": 14,
     "metadata": {},
     "output_type": "execute_result"
    }
   ],
   "source": [
    "new_classes = classes.copy()\n",
    "new_classes.pop()\n",
    "new_classes"
   ],
   "metadata": {
    "collapsed": false,
    "pycharm": {
     "name": "#%%\n"
    }
   }
  },
  {
   "cell_type": "code",
   "execution_count": 15,
   "outputs": [
    {
     "name": "stderr",
     "output_type": "stream",
     "text": [
      "C:\\Users\\jeroc\\Python\\Python310\\lib\\site-packages\\sklearn\\metrics\\_classification.py:1334: UndefinedMetricWarning: Precision and F-score are ill-defined and being set to 0.0 in labels with no predicted samples. Use `zero_division` parameter to control this behavior.\n",
      "  _warn_prf(average, modifier, msg_start, len(result))\n"
     ]
    },
    {
     "name": "stdout",
     "output_type": "stream",
     "text": [
      "              precision    recall  f1-score   support\n",
      "\n",
      "       B-art       0.00      0.00      0.00        24\n",
      "       B-eve       0.11      0.05      0.07        19\n",
      "       B-geo       0.56      0.81      0.66      1085\n",
      "       B-gpe       0.92      0.78      0.84       556\n",
      "       B-nat       1.00      0.17      0.29        12\n",
      "       B-org       0.39      0.52      0.44       589\n",
      "       B-per       0.70      0.46      0.56       564\n",
      "       B-tim       0.91      0.63      0.75       611\n",
      "       I-art       0.00      0.00      0.00        12\n",
      "       I-eve       0.67      0.22      0.33        18\n",
      "       I-geo       0.75      0.42      0.54       230\n",
      "       I-gpe       1.00      0.07      0.13        14\n",
      "       I-nat       0.50      0.50      0.50         2\n",
      "       I-org       0.48      0.50      0.49       445\n",
      "       I-per       0.83      0.13      0.22       591\n",
      "       I-tim       0.36      0.18      0.24       194\n",
      "\n",
      "   micro avg       0.61      0.54      0.58      4966\n",
      "   macro avg       0.57      0.34      0.38      4966\n",
      "weighted avg       0.66      0.54      0.55      4966\n",
      "\n"
     ]
    },
    {
     "name": "stderr",
     "output_type": "stream",
     "text": [
      "C:\\Users\\jeroc\\Python\\Python310\\lib\\site-packages\\sklearn\\metrics\\_classification.py:1334: UndefinedMetricWarning: Precision and F-score are ill-defined and being set to 0.0 in labels with no predicted samples. Use `zero_division` parameter to control this behavior.\n",
      "  _warn_prf(average, modifier, msg_start, len(result))\n",
      "C:\\Users\\jeroc\\Python\\Python310\\lib\\site-packages\\sklearn\\metrics\\_classification.py:1334: UndefinedMetricWarning: Precision and F-score are ill-defined and being set to 0.0 in labels with no predicted samples. Use `zero_division` parameter to control this behavior.\n",
      "  _warn_prf(average, modifier, msg_start, len(result))\n"
     ]
    }
   ],
   "source": [
    "from sklearn.metrics import classification_report\n",
    "\n",
    "print(classification_report(y_pred=per.predict(X_test), y_true=y_test, labels=new_classes))"
   ],
   "metadata": {
    "collapsed": false,
    "pycharm": {
     "name": "#%%\n"
    }
   }
  },
  {
   "cell_type": "markdown",
   "source": [
    "Linear classifiers with SGD training"
   ],
   "metadata": {
    "collapsed": false,
    "pycharm": {
     "name": "#%% md\n"
    }
   }
  },
  {
   "cell_type": "code",
   "execution_count": 16,
   "outputs": [
    {
     "data": {
      "text/plain": "SGDClassifier()",
      "text/html": "<style>#sk-container-id-3 {color: black;background-color: white;}#sk-container-id-3 pre{padding: 0;}#sk-container-id-3 div.sk-toggleable {background-color: white;}#sk-container-id-3 label.sk-toggleable__label {cursor: pointer;display: block;width: 100%;margin-bottom: 0;padding: 0.3em;box-sizing: border-box;text-align: center;}#sk-container-id-3 label.sk-toggleable__label-arrow:before {content: \"▸\";float: left;margin-right: 0.25em;color: #696969;}#sk-container-id-3 label.sk-toggleable__label-arrow:hover:before {color: black;}#sk-container-id-3 div.sk-estimator:hover label.sk-toggleable__label-arrow:before {color: black;}#sk-container-id-3 div.sk-toggleable__content {max-height: 0;max-width: 0;overflow: hidden;text-align: left;background-color: #f0f8ff;}#sk-container-id-3 div.sk-toggleable__content pre {margin: 0.2em;color: black;border-radius: 0.25em;background-color: #f0f8ff;}#sk-container-id-3 input.sk-toggleable__control:checked~div.sk-toggleable__content {max-height: 200px;max-width: 100%;overflow: auto;}#sk-container-id-3 input.sk-toggleable__control:checked~label.sk-toggleable__label-arrow:before {content: \"▾\";}#sk-container-id-3 div.sk-estimator input.sk-toggleable__control:checked~label.sk-toggleable__label {background-color: #d4ebff;}#sk-container-id-3 div.sk-label input.sk-toggleable__control:checked~label.sk-toggleable__label {background-color: #d4ebff;}#sk-container-id-3 input.sk-hidden--visually {border: 0;clip: rect(1px 1px 1px 1px);clip: rect(1px, 1px, 1px, 1px);height: 1px;margin: -1px;overflow: hidden;padding: 0;position: absolute;width: 1px;}#sk-container-id-3 div.sk-estimator {font-family: monospace;background-color: #f0f8ff;border: 1px dotted black;border-radius: 0.25em;box-sizing: border-box;margin-bottom: 0.5em;}#sk-container-id-3 div.sk-estimator:hover {background-color: #d4ebff;}#sk-container-id-3 div.sk-parallel-item::after {content: \"\";width: 100%;border-bottom: 1px solid gray;flex-grow: 1;}#sk-container-id-3 div.sk-label:hover label.sk-toggleable__label {background-color: #d4ebff;}#sk-container-id-3 div.sk-serial::before {content: \"\";position: absolute;border-left: 1px solid gray;box-sizing: border-box;top: 0;bottom: 0;left: 50%;z-index: 0;}#sk-container-id-3 div.sk-serial {display: flex;flex-direction: column;align-items: center;background-color: white;padding-right: 0.2em;padding-left: 0.2em;position: relative;}#sk-container-id-3 div.sk-item {position: relative;z-index: 1;}#sk-container-id-3 div.sk-parallel {display: flex;align-items: stretch;justify-content: center;background-color: white;position: relative;}#sk-container-id-3 div.sk-item::before, #sk-container-id-3 div.sk-parallel-item::before {content: \"\";position: absolute;border-left: 1px solid gray;box-sizing: border-box;top: 0;bottom: 0;left: 50%;z-index: -1;}#sk-container-id-3 div.sk-parallel-item {display: flex;flex-direction: column;z-index: 1;position: relative;background-color: white;}#sk-container-id-3 div.sk-parallel-item:first-child::after {align-self: flex-end;width: 50%;}#sk-container-id-3 div.sk-parallel-item:last-child::after {align-self: flex-start;width: 50%;}#sk-container-id-3 div.sk-parallel-item:only-child::after {width: 0;}#sk-container-id-3 div.sk-dashed-wrapped {border: 1px dashed gray;margin: 0 0.4em 0.5em 0.4em;box-sizing: border-box;padding-bottom: 0.4em;background-color: white;}#sk-container-id-3 div.sk-label label {font-family: monospace;font-weight: bold;display: inline-block;line-height: 1.2em;}#sk-container-id-3 div.sk-label-container {text-align: center;}#sk-container-id-3 div.sk-container {/* jupyter's `normalize.less` sets `[hidden] { display: none; }` but bootstrap.min.css set `[hidden] { display: none !important; }` so we also need the `!important` here to be able to override the default hidden behavior on the sphinx rendered scikit-learn.org. See: https://github.com/scikit-learn/scikit-learn/issues/21755 */display: inline-block !important;position: relative;}#sk-container-id-3 div.sk-text-repr-fallback {display: none;}</style><div id=\"sk-container-id-3\" class=\"sk-top-container\"><div class=\"sk-text-repr-fallback\"><pre>SGDClassifier()</pre><b>In a Jupyter environment, please rerun this cell to show the HTML representation or trust the notebook. <br />On GitHub, the HTML representation is unable to render, please try loading this page with nbviewer.org.</b></div><div class=\"sk-container\" hidden><div class=\"sk-item\"><div class=\"sk-estimator sk-toggleable\"><input class=\"sk-toggleable__control sk-hidden--visually\" id=\"sk-estimator-id-3\" type=\"checkbox\" checked><label for=\"sk-estimator-id-3\" class=\"sk-toggleable__label sk-toggleable__label-arrow\">SGDClassifier</label><div class=\"sk-toggleable__content\"><pre>SGDClassifier()</pre></div></div></div></div></div>"
     },
     "execution_count": 16,
     "metadata": {},
     "output_type": "execute_result"
    }
   ],
   "source": [
    "from sklearn.linear_model import SGDClassifier\n",
    "\n",
    "sgd = SGDClassifier()\n",
    "sgd.partial_fit(X_train, y_train, classes)"
   ],
   "metadata": {
    "collapsed": false,
    "pycharm": {
     "name": "#%%\n"
    }
   }
  },
  {
   "cell_type": "code",
   "execution_count": 21,
   "outputs": [
    {
     "name": "stderr",
     "output_type": "stream",
     "text": [
      "C:\\Users\\jeroc\\Python\\Python310\\lib\\site-packages\\sklearn\\metrics\\_classification.py:1334: UndefinedMetricWarning: Precision and F-score are ill-defined and being set to 0.0 in labels with no predicted samples. Use `zero_division` parameter to control this behavior.\n",
      "  _warn_prf(average, modifier, msg_start, len(result))\n"
     ]
    },
    {
     "name": "stdout",
     "output_type": "stream",
     "text": [
      "              precision    recall  f1-score   support\n",
      "\n",
      "       B-art       0.00      0.00      0.00        24\n",
      "       B-eve       0.11      0.05      0.07        19\n",
      "       B-geo       0.56      0.81      0.66      1085\n",
      "       B-gpe       0.92      0.78      0.84       556\n",
      "       B-nat       1.00      0.17      0.29        12\n",
      "       B-org       0.39      0.52      0.44       589\n",
      "       B-per       0.70      0.46      0.56       564\n",
      "       B-tim       0.91      0.63      0.75       611\n",
      "       I-art       0.00      0.00      0.00        12\n",
      "       I-eve       0.67      0.22      0.33        18\n",
      "       I-geo       0.75      0.42      0.54       230\n",
      "       I-gpe       1.00      0.07      0.13        14\n",
      "       I-nat       0.50      0.50      0.50         2\n",
      "       I-org       0.48      0.50      0.49       445\n",
      "       I-per       0.83      0.13      0.22       591\n",
      "       I-tim       0.36      0.18      0.24       194\n",
      "\n",
      "   micro avg       0.61      0.54      0.58      4966\n",
      "   macro avg       0.57      0.34      0.38      4966\n",
      "weighted avg       0.66      0.54      0.55      4966\n",
      "\n"
     ]
    },
    {
     "name": "stderr",
     "output_type": "stream",
     "text": [
      "C:\\Users\\jeroc\\Python\\Python310\\lib\\site-packages\\sklearn\\metrics\\_classification.py:1334: UndefinedMetricWarning: Precision and F-score are ill-defined and being set to 0.0 in labels with no predicted samples. Use `zero_division` parameter to control this behavior.\n",
      "  _warn_prf(average, modifier, msg_start, len(result))\n",
      "C:\\Users\\jeroc\\Python\\Python310\\lib\\site-packages\\sklearn\\metrics\\_classification.py:1334: UndefinedMetricWarning: Precision and F-score are ill-defined and being set to 0.0 in labels with no predicted samples. Use `zero_division` parameter to control this behavior.\n",
      "  _warn_prf(average, modifier, msg_start, len(result))\n"
     ]
    }
   ],
   "source": [
    "print(classification_report(y_pred=per.predict(X_test), y_true=y_test, labels=new_classes))"
   ],
   "metadata": {
    "collapsed": false,
    "pycharm": {
     "name": "#%%\n"
    }
   }
  },
  {
   "cell_type": "code",
   "execution_count": 22,
   "outputs": [
    {
     "name": "stdout",
     "output_type": "stream",
     "text": [
      "MultinomialNB(alpha=0.01)\n",
      "\n",
      "               precision    recall  f1-score   support\n",
      "\n",
      "       B-art       0.06      0.17      0.09        24\n",
      "       B-eve       0.33      0.37      0.35        19\n",
      "       B-geo       0.70      0.63      0.66      1085\n",
      "       B-gpe       0.70      0.83      0.76       556\n",
      "       B-nat       0.35      0.50      0.41        12\n",
      "       B-org       0.41      0.44      0.43       589\n",
      "       B-per       0.44      0.47      0.46       564\n",
      "       B-tim       0.56      0.61      0.59       611\n",
      "       I-art       0.07      0.08      0.08        12\n",
      "       I-eve       0.46      0.33      0.39        18\n",
      "       I-geo       0.40      0.52      0.46       230\n",
      "       I-gpe       0.13      0.14      0.14        14\n",
      "       I-nat       0.00      0.00      0.00         2\n",
      "       I-org       0.50      0.51      0.51       445\n",
      "       I-per       0.53      0.50      0.51       591\n",
      "       I-tim       0.17      0.27      0.21       194\n",
      "\n",
      "   micro avg       0.52      0.56      0.54      4966\n",
      "   macro avg       0.36      0.40      0.38      4966\n",
      "weighted avg       0.54      0.56      0.54      4966\n",
      "\n"
     ]
    }
   ],
   "source": [
    "from sklearn.naive_bayes import MultinomialNB\n",
    "\n",
    "#Naive Bayes classifier for multinomial models\n",
    "nb = MultinomialNB(alpha=0.01)\n",
    "print(nb.partial_fit(X_train, y_train, classes))\n",
    "MultinomialNB(alpha=0.01, class_prior=None, fit_prior=True)\n",
    "print(\"\\n\", classification_report(y_pred=nb.predict(X_test), y_true=y_test, labels = new_classes))"
   ],
   "metadata": {
    "collapsed": false,
    "pycharm": {
     "name": "#%%\n"
    }
   }
  },
  {
   "cell_type": "markdown",
   "source": [
    "Conditional Random Fields (CRFs)"
   ],
   "metadata": {
    "collapsed": false,
    "pycharm": {
     "name": "#%% md\n"
    }
   }
  },
  {
   "cell_type": "code",
   "execution_count": 23,
   "outputs": [],
   "source": [
    "import sklearn_crfsuite\n",
    "from sklearn_crfsuite import scorers\n",
    "from sklearn_crfsuite import metrics\n",
    "\n",
    "#Get sentences\n",
    "\n",
    "class SentenceGetter(object):\n",
    "\n",
    "    def __init__(self, data):\n",
    "        self.n_sent = 1\n",
    "        self.data = data\n",
    "        self.empty = False\n",
    "        agg_func = lambda s: [(w, p, t) for w, p, t in zip(s['Word'].values.tolist(),\n",
    "                                                           s['POS'].values.tolist(),\n",
    "                                                           s['Tag'].values.tolist())]\n",
    "        self.grouped = self.data.groupby('Sentence #').apply(agg_func)\n",
    "        self.sentences = [s for s in self.grouped]\n",
    "\n",
    "    def get_next(self):\n",
    "        try:\n",
    "            s = self.grouped['Sentence: {}'.format(self.n_sent)]\n",
    "            self.n_sent += 1\n",
    "            return s\n",
    "        except:\n",
    "            return None"
   ],
   "metadata": {
    "collapsed": false,
    "pycharm": {
     "name": "#%%\n"
    }
   }
  },
  {
   "cell_type": "code",
   "execution_count": 27,
   "outputs": [
    {
     "name": "stdout",
     "output_type": "stream",
     "text": [
      "[('Thousands', 'NNS', 'O'), ('of', 'IN', 'O'), ('demonstrators', 'NNS', 'O'), ('have', 'VBP', 'O'), ('marched', 'VBN', 'O'), ('through', 'IN', 'O'), ('London', 'NNP', 'B-geo'), ('to', 'TO', 'O'), ('protest', 'VB', 'O'), ('the', 'DT', 'O'), ('war', 'NN', 'O'), ('in', 'IN', 'O'), ('Iraq', 'NNP', 'B-geo'), ('and', 'CC', 'O'), ('demand', 'VB', 'O'), ('the', 'DT', 'O'), ('withdrawal', 'NN', 'O'), ('of', 'IN', 'O'), ('British', 'JJ', 'B-gpe'), ('troops', 'NNS', 'O'), ('from', 'IN', 'O'), ('that', 'DT', 'O'), ('country', 'NN', 'O'), ('.', '.', 'O')]\n"
     ]
    }
   ],
   "source": [
    "getter = SentenceGetter(df)\n",
    "sent = getter.get_next()\n",
    "print(sent)"
   ],
   "metadata": {
    "collapsed": false,
    "pycharm": {
     "name": "#%%\n"
    }
   }
  },
  {
   "cell_type": "code",
   "execution_count": 28,
   "outputs": [],
   "source": [
    "#----------------------------------------------------------------------------------------------------------"
   ],
   "metadata": {
    "collapsed": false,
    "pycharm": {
     "name": "#%%\n"
    }
   }
  },
  {
   "cell_type": "markdown",
   "source": [
    "Prepare Data"
   ],
   "metadata": {
    "collapsed": false,
    "pycharm": {
     "name": "#%% md\n"
    }
   }
  },
  {
   "cell_type": "code",
   "execution_count": 29,
   "outputs": [],
   "source": [
    "def word2features(sent, i):\n",
    "    word = sent[i][0]\n",
    "    postag = sent[i][1]\n",
    "\n",
    "    features = {\n",
    "        'bias': 1.0,\n",
    "        'word.lower()': word.lower(),\n",
    "        'word[-3:]': word[-3:],\n",
    "        'word[-2:]': word[-2:],\n",
    "        'word.isupper()': word.isupper(),\n",
    "        'word.istitle()': word.istitle(),\n",
    "        'word.isdigit()': word.isdigit(),\n",
    "        'postag': postag,\n",
    "        'postag[:2]': postag[:2],\n",
    "    }\n",
    "    if i > 0:\n",
    "        word1 = sent[i-1][0]\n",
    "        postag1 = sent[i-1][1]\n",
    "        features.update({\n",
    "            '-1:word.lower()': word1.lower(),\n",
    "            '-1:word.istitle()': word1.istitle(),\n",
    "            '-1:word.isupper()': word1.isupper(),\n",
    "            '-1:postag': postag1,\n",
    "            '-1:postag[:2]': postag1[:2],\n",
    "        })\n",
    "    else:\n",
    "        features['BOS'] = True\n",
    "\n",
    "    if i < len(sent)-1:\n",
    "        word1 = sent[i+1][0]\n",
    "        postag1 = sent[i+1][1]\n",
    "        features.update({\n",
    "            '+1:word.lower()': word1.lower(),\n",
    "            '+1:word.istitle()': word1.istitle(),\n",
    "            '+1:word.isupper()': word1.isupper(),\n",
    "            '+1:postag': postag1,\n",
    "            '+1:postag[:2]': postag1[:2],\n",
    "        })\n",
    "    else:\n",
    "        features['EOS'] = True\n",
    "\n",
    "    return features\n",
    "\n",
    "\n",
    "def sent2features(sent):\n",
    "    return [word2features(sent, i) for i in range(len(sent))]\n",
    "\n",
    "def sent2labels(sent):\n",
    "    return [label for token, postag, label in sent]"
   ],
   "metadata": {
    "collapsed": false,
    "pycharm": {
     "name": "#%%\n"
    }
   }
  },
  {
   "cell_type": "code",
   "execution_count": 30,
   "outputs": [],
   "source": [
    "agg_func = lambda s: [(w, p, t) for w, p, t in zip(s['Word'].values.tolist(),\n",
    "                                                   s['POS'].values.tolist(),\n",
    "                                                   s['Tag'].values.tolist())]"
   ],
   "metadata": {
    "collapsed": false,
    "pycharm": {
     "name": "#%%\n"
    }
   }
  },
  {
   "cell_type": "code",
   "execution_count": 31,
   "outputs": [],
   "source": [
    "grouped_df = df.groupby('Sentence #').apply(agg_func)"
   ],
   "metadata": {
    "collapsed": false,
    "pycharm": {
     "name": "#%%\n"
    }
   }
  },
  {
   "cell_type": "code",
   "execution_count": 32,
   "outputs": [
    {
     "name": "stdout",
     "output_type": "stream",
     "text": [
      "[list([('Thousands', 'NNS', 'O'), ('of', 'IN', 'O'), ('demonstrators', 'NNS', 'O'), ('have', 'VBP', 'O'), ('marched', 'VBN', 'O'), ('through', 'IN', 'O'), ('London', 'NNP', 'B-geo'), ('to', 'TO', 'O'), ('protest', 'VB', 'O'), ('the', 'DT', 'O'), ('war', 'NN', 'O'), ('in', 'IN', 'O'), ('Iraq', 'NNP', 'B-geo'), ('and', 'CC', 'O'), ('demand', 'VB', 'O'), ('the', 'DT', 'O'), ('withdrawal', 'NN', 'O'), ('of', 'IN', 'O'), ('British', 'JJ', 'B-gpe'), ('troops', 'NNS', 'O'), ('from', 'IN', 'O'), ('that', 'DT', 'O'), ('country', 'NN', 'O'), ('.', '.', 'O')])]\n"
     ]
    }
   ],
   "source": [
    "print(grouped_df[grouped_df.index == 'Sentence: 1'].values)"
   ],
   "metadata": {
    "collapsed": false,
    "pycharm": {
     "name": "#%%\n"
    }
   }
  },
  {
   "cell_type": "code",
   "execution_count": 33,
   "outputs": [
    {
     "data": {
      "text/plain": "(4544,)"
     },
     "execution_count": 33,
     "metadata": {},
     "output_type": "execute_result"
    }
   ],
   "source": [
    "grouped_df.shape"
   ],
   "metadata": {
    "collapsed": false,
    "pycharm": {
     "name": "#%%\n"
    }
   }
  },
  {
   "cell_type": "code",
   "execution_count": 34,
   "outputs": [
    {
     "data": {
      "text/plain": "[('Thousands', 'NNS', 'O'),\n ('of', 'IN', 'O'),\n ('demonstrators', 'NNS', 'O'),\n ('have', 'VBP', 'O'),\n ('marched', 'VBN', 'O'),\n ('through', 'IN', 'O'),\n ('London', 'NNP', 'B-geo'),\n ('to', 'TO', 'O'),\n ('protest', 'VB', 'O'),\n ('the', 'DT', 'O'),\n ('war', 'NN', 'O'),\n ('in', 'IN', 'O'),\n ('Iraq', 'NNP', 'B-geo'),\n ('and', 'CC', 'O'),\n ('demand', 'VB', 'O'),\n ('the', 'DT', 'O'),\n ('withdrawal', 'NN', 'O'),\n ('of', 'IN', 'O'),\n ('British', 'JJ', 'B-gpe'),\n ('troops', 'NNS', 'O'),\n ('from', 'IN', 'O'),\n ('that', 'DT', 'O'),\n ('country', 'NN', 'O'),\n ('.', '.', 'O')]"
     },
     "execution_count": 34,
     "metadata": {},
     "output_type": "execute_result"
    }
   ],
   "source": [
    "#sentence = \"Fourteen days ago, Emperor Palpatine left San Diego, CA for Tatooine to follow Luke Skywalker.\"\n",
    "sentences = [s for s in grouped_df]\n",
    "sentences[0]"
   ],
   "metadata": {
    "collapsed": false,
    "pycharm": {
     "name": "#%%\n"
    }
   }
  },
  {
   "cell_type": "code",
   "execution_count": 35,
   "outputs": [
    {
     "data": {
      "text/plain": "[{'bias': 1.0,\n  'word.lower()': 'through',\n  'word[-3:]': 'ugh',\n  'word[-2:]': 'gh',\n  'word.isupper()': False,\n  'word.istitle()': False,\n  'word.isdigit()': False,\n  'postag': 'IN',\n  'postag[:2]': 'IN',\n  'BOS': True,\n  '+1:word.lower()': 'london',\n  '+1:word.istitle()': True,\n  '+1:word.isupper()': False,\n  '+1:postag': 'NNP',\n  '+1:postag[:2]': 'NN'},\n {'bias': 1.0,\n  'word.lower()': 'london',\n  'word[-3:]': 'don',\n  'word[-2:]': 'on',\n  'word.isupper()': False,\n  'word.istitle()': True,\n  'word.isdigit()': False,\n  'postag': 'NNP',\n  'postag[:2]': 'NN',\n  '-1:word.lower()': 'through',\n  '-1:word.istitle()': False,\n  '-1:word.isupper()': False,\n  '-1:postag': 'IN',\n  '-1:postag[:2]': 'IN',\n  'EOS': True}]"
     },
     "execution_count": 35,
     "metadata": {},
     "output_type": "execute_result"
    }
   ],
   "source": [
    "sent2features(sentences[0][5:7])"
   ],
   "metadata": {
    "collapsed": false,
    "pycharm": {
     "name": "#%%\n"
    }
   }
  },
  {
   "cell_type": "markdown",
   "source": [
    "Prepare Train and Test Datasets"
   ],
   "metadata": {
    "collapsed": false,
    "pycharm": {
     "name": "#%% md\n"
    }
   }
  },
  {
   "cell_type": "code",
   "execution_count": 36,
   "outputs": [
    {
     "name": "stderr",
     "output_type": "stream",
     "text": [
      "C:\\Users\\jeroc\\AppData\\Local\\Temp\\ipykernel_5128\\990244136.py:4: VisibleDeprecationWarning: Creating an ndarray from ragged nested sequences (which is a list-or-tuple of lists-or-tuples-or ndarrays with different lengths or shapes) is deprecated. If you meant to do this, you must specify 'dtype=object' when creating the ndarray.\n",
      "  X = np.array([sent2features(s) for s in sentences])\n",
      "C:\\Users\\jeroc\\AppData\\Local\\Temp\\ipykernel_5128\\990244136.py:5: VisibleDeprecationWarning: Creating an ndarray from ragged nested sequences (which is a list-or-tuple of lists-or-tuples-or ndarrays with different lengths or shapes) is deprecated. If you meant to do this, you must specify 'dtype=object' when creating the ndarray.\n",
      "  y = np.array([sent2labels(s) for s in sentences])\n"
     ]
    },
    {
     "data": {
      "text/plain": "((3408,), (1136,))"
     },
     "execution_count": 36,
     "metadata": {},
     "output_type": "execute_result"
    }
   ],
   "source": [
    "from sklearn.model_selection import train_test_split\n",
    "import numpy as np\n",
    "\n",
    "X = np.array([sent2features(s) for s in sentences])\n",
    "y = np.array([sent2labels(s) for s in sentences])\n",
    "\n",
    "X_train, X_test, y_train, y_test = train_test_split(X, y, test_size=0.25, random_state=42)\n",
    "X_train.shape, X_test.shape"
   ],
   "metadata": {
    "collapsed": false,
    "pycharm": {
     "name": "#%%\n"
    }
   }
  },
  {
   "cell_type": "markdown",
   "source": [
    "Building Models with sklearn-crfsuite"
   ],
   "metadata": {
    "collapsed": false,
    "pycharm": {
     "name": "#%% md\n"
    }
   }
  },
  {
   "cell_type": "code",
   "execution_count": 39,
   "outputs": [
    {
     "name": "stderr",
     "output_type": "stream",
     "text": [
      "loading training data to CRFsuite: 100%|██████████| 3408/3408 [00:01<00:00, 2885.47it/s]\n"
     ]
    },
    {
     "name": "stdout",
     "output_type": "stream",
     "text": [
      "\n",
      "Feature generation\n",
      "type: CRF1d\n",
      "feature.minfreq: 0.000000\n",
      "feature.possible_states: 0\n",
      "feature.possible_transitions: 1\n",
      "0....1....2....3....4....5....6....7....8....9....10\n",
      "Number of features: 39808\n",
      "Seconds required: 0.353\n",
      "\n",
      "L-BFGS optimization\n",
      "c1: 0.100000\n",
      "c2: 0.100000\n",
      "num_memories: 6\n",
      "max_iterations: 100\n",
      "epsilon: 0.000010\n",
      "stop: 10\n",
      "delta: 0.000010\n",
      "linesearch: MoreThuente\n",
      "linesearch.max_iterations: 20\n",
      "\n",
      "Iter 1   time=0.86  loss=119490.08 active=39543 feature_norm=1.00\n",
      "Iter 2   time=0.44  loss=93740.80 active=39212 feature_norm=4.43\n",
      "Iter 3   time=0.15  loss=73240.20 active=37833 feature_norm=3.88\n",
      "Iter 4   time=0.86  loss=39624.73 active=38146 feature_norm=3.23\n",
      "Iter 5   time=0.15  loss=33170.05 active=38641 feature_norm=4.03\n",
      "Iter 6   time=0.16  loss=23875.58 active=34337 feature_norm=6.35\n",
      "Iter 7   time=0.19  loss=21394.80 active=30924 feature_norm=8.33\n",
      "Iter 8   time=0.15  loss=18499.90 active=30548 feature_norm=8.94\n",
      "Iter 9   time=0.19  loss=17351.23 active=29403 feature_norm=9.86\n",
      "Iter 10  time=0.18  loss=16315.09 active=28297 feature_norm=10.57\n",
      "Iter 11  time=0.18  loss=14828.45 active=26789 feature_norm=12.16\n",
      "Iter 12  time=0.19  loss=13746.39 active=25824 feature_norm=14.09\n",
      "Iter 13  time=0.17  loss=13074.82 active=25684 feature_norm=14.65\n",
      "Iter 14  time=0.15  loss=12564.91 active=25291 feature_norm=15.29\n",
      "Iter 15  time=0.14  loss=11263.90 active=22996 feature_norm=19.58\n",
      "Iter 16  time=0.16  loss=10666.13 active=22935 feature_norm=21.11\n",
      "Iter 17  time=0.20  loss=10018.31 active=22982 feature_norm=22.23\n",
      "Iter 18  time=0.20  loss=9700.61  active=22715 feature_norm=23.35\n",
      "Iter 19  time=0.19  loss=9142.33  active=22289 feature_norm=25.45\n",
      "Iter 20  time=0.14  loss=8729.56  active=21670 feature_norm=30.05\n",
      "Iter 21  time=0.14  loss=8268.04  active=22000 feature_norm=30.49\n",
      "Iter 22  time=0.14  loss=8099.41  active=21972 feature_norm=31.01\n",
      "Iter 23  time=0.14  loss=7483.96  active=21498 feature_norm=34.01\n",
      "Iter 24  time=0.29  loss=7159.07  active=21327 feature_norm=36.95\n",
      "Iter 25  time=0.18  loss=6708.12  active=21188 feature_norm=40.48\n",
      "Iter 26  time=0.14  loss=6498.19  active=21255 feature_norm=41.91\n",
      "Iter 27  time=0.13  loss=6131.05  active=21019 feature_norm=45.28\n",
      "Iter 28  time=0.14  loss=5718.42  active=20672 feature_norm=49.32\n",
      "Iter 29  time=0.17  loss=5370.54  active=20264 feature_norm=53.65\n",
      "Iter 30  time=0.15  loss=5077.78  active=19990 feature_norm=57.34\n",
      "Iter 31  time=0.15  loss=4776.68  active=19561 feature_norm=62.80\n",
      "Iter 32  time=0.16  loss=4568.37  active=19331 feature_norm=66.56\n",
      "Iter 33  time=0.14  loss=4380.64  active=19016 feature_norm=70.43\n",
      "Iter 34  time=0.14  loss=4221.23  active=18860 feature_norm=73.99\n",
      "Iter 35  time=0.15  loss=4106.82  active=18607 feature_norm=76.90\n",
      "Iter 36  time=0.15  loss=4011.29  active=18358 feature_norm=79.77\n",
      "Iter 37  time=0.14  loss=3945.93  active=18230 feature_norm=81.81\n",
      "Iter 38  time=0.16  loss=3896.55  active=18042 feature_norm=83.73\n",
      "Iter 39  time=0.18  loss=3857.72  active=17902 feature_norm=84.78\n",
      "Iter 40  time=0.20  loss=3821.72  active=17625 feature_norm=86.30\n",
      "Iter 41  time=0.14  loss=3800.34  active=17254 feature_norm=87.16\n",
      "Iter 42  time=0.14  loss=3778.76  active=16933 feature_norm=87.81\n",
      "Iter 43  time=0.15  loss=3763.29  active=16537 feature_norm=88.34\n",
      "Iter 44  time=0.15  loss=3747.88  active=16279 feature_norm=89.07\n",
      "Iter 45  time=0.15  loss=3731.96  active=16223 feature_norm=89.35\n",
      "Iter 46  time=0.18  loss=3722.01  active=16141 feature_norm=89.50\n",
      "Iter 47  time=0.15  loss=3709.62  active=15885 feature_norm=89.79\n",
      "Iter 48  time=0.16  loss=3699.63  active=15758 feature_norm=89.86\n",
      "Iter 49  time=0.15  loss=3691.51  active=15583 feature_norm=89.99\n",
      "Iter 50  time=0.14  loss=3682.88  active=15392 feature_norm=90.07\n",
      "Iter 51  time=0.15  loss=3675.67  active=15248 feature_norm=90.15\n",
      "Iter 52  time=0.17  loss=3668.85  active=15187 feature_norm=90.17\n",
      "Iter 53  time=0.15  loss=3661.43  active=15027 feature_norm=90.24\n",
      "Iter 54  time=0.13  loss=3661.08  active=14831 feature_norm=90.23\n",
      "Iter 55  time=0.14  loss=3650.78  active=14907 feature_norm=90.36\n",
      "Iter 56  time=0.15  loss=3647.60  active=14847 feature_norm=90.38\n",
      "Iter 57  time=0.14  loss=3643.12  active=14719 feature_norm=90.38\n",
      "Iter 58  time=0.15  loss=3638.97  active=14651 feature_norm=90.42\n",
      "Iter 59  time=0.17  loss=3635.24  active=14588 feature_norm=90.44\n",
      "Iter 60  time=0.15  loss=3632.34  active=14510 feature_norm=90.47\n",
      "Iter 61  time=0.14  loss=3629.48  active=14438 feature_norm=90.48\n",
      "Iter 62  time=0.14  loss=3626.26  active=14380 feature_norm=90.53\n",
      "Iter 63  time=0.18  loss=3623.30  active=14348 feature_norm=90.53\n",
      "Iter 64  time=0.13  loss=3621.09  active=14304 feature_norm=90.57\n",
      "Iter 65  time=0.16  loss=3618.58  active=14253 feature_norm=90.59\n",
      "Iter 66  time=0.21  loss=3616.79  active=14226 feature_norm=90.66\n",
      "Iter 67  time=0.13  loss=3614.48  active=14194 feature_norm=90.68\n",
      "Iter 68  time=0.14  loss=3612.78  active=14168 feature_norm=90.76\n",
      "Iter 69  time=0.15  loss=3610.81  active=14133 feature_norm=90.78\n",
      "Iter 70  time=0.14  loss=3609.23  active=14115 feature_norm=90.85\n",
      "Iter 71  time=0.13  loss=3607.79  active=14100 feature_norm=90.87\n",
      "Iter 72  time=0.20  loss=3606.45  active=14071 feature_norm=90.94\n",
      "Iter 73  time=0.27  loss=3604.98  active=14043 feature_norm=90.97\n",
      "Iter 74  time=0.16  loss=3603.78  active=14020 feature_norm=91.04\n",
      "Iter 75  time=0.15  loss=3602.40  active=14007 feature_norm=91.06\n",
      "Iter 76  time=0.14  loss=3601.43  active=13979 feature_norm=91.13\n",
      "Iter 77  time=0.17  loss=3600.06  active=13972 feature_norm=91.15\n",
      "Iter 78  time=0.19  loss=3599.17  active=13953 feature_norm=91.21\n",
      "Iter 79  time=0.20  loss=3597.94  active=13923 feature_norm=91.23\n",
      "Iter 80  time=0.16  loss=3596.95  active=13906 feature_norm=91.28\n",
      "Iter 81  time=0.16  loss=3595.82  active=13901 feature_norm=91.31\n",
      "Iter 82  time=0.14  loss=3595.03  active=13879 feature_norm=91.36\n",
      "Iter 83  time=0.13  loss=3593.96  active=13860 feature_norm=91.38\n",
      "Iter 84  time=0.13  loss=3593.17  active=13844 feature_norm=91.43\n",
      "Iter 85  time=0.19  loss=3592.18  active=13826 feature_norm=91.45\n",
      "Iter 86  time=0.16  loss=3591.51  active=13816 feature_norm=91.48\n",
      "Iter 87  time=0.14  loss=3590.55  active=13812 feature_norm=91.50\n",
      "Iter 88  time=0.14  loss=3589.96  active=13790 feature_norm=91.54\n",
      "Iter 89  time=0.13  loss=3589.08  active=13776 feature_norm=91.56\n",
      "Iter 90  time=0.15  loss=3588.45  active=13757 feature_norm=91.60\n",
      "Iter 91  time=0.15  loss=3587.56  active=13738 feature_norm=91.61\n",
      "Iter 92  time=0.15  loss=3586.94  active=13719 feature_norm=91.64\n",
      "Iter 93  time=0.16  loss=3586.13  active=13713 feature_norm=91.65\n",
      "Iter 94  time=0.15  loss=3585.44  active=13695 feature_norm=91.69\n",
      "Iter 95  time=0.15  loss=3584.59  active=13670 feature_norm=91.69\n",
      "Iter 96  time=0.13  loss=3583.83  active=13667 feature_norm=91.72\n",
      "Iter 97  time=0.14  loss=3583.13  active=13659 feature_norm=91.72\n",
      "Iter 98  time=0.13  loss=3582.44  active=13650 feature_norm=91.74\n",
      "Iter 99  time=0.14  loss=3581.61  active=13654 feature_norm=91.74\n",
      "Iter 100 time=0.16  loss=3581.00  active=13654 feature_norm=91.76\n",
      "L-BFGS terminated with the maximum number of iterations\n",
      "Total seconds required for training: 17.449\n",
      "\n",
      "Storing the model\n",
      "Number of active features: 13654 (39808)\n",
      "Number of active attributes: 7302 (29097)\n",
      "Number of active labels: 17 (17)\n",
      "Writing labels\n",
      "Writing attributes\n",
      "Writing feature references for transitions\n",
      "Writing feature references for attributes\n",
      "Seconds required: 0.016\n",
      "\n"
     ]
    },
    {
     "ename": "AttributeError",
     "evalue": "'CRF' object has no attribute 'keep_tempfiles'",
     "output_type": "error",
     "traceback": [
      "\u001B[1;31m---------------------------------------------------------------------------\u001B[0m",
      "\u001B[1;31mAttributeError\u001B[0m                            Traceback (most recent call last)",
      "File \u001B[1;32m~\\Python\\Python310\\lib\\site-packages\\IPython\\core\\formatters.py:973\u001B[0m, in \u001B[0;36mMimeBundleFormatter.__call__\u001B[1;34m(self, obj, include, exclude)\u001B[0m\n\u001B[0;32m    970\u001B[0m     method \u001B[38;5;241m=\u001B[39m get_real_method(obj, \u001B[38;5;28mself\u001B[39m\u001B[38;5;241m.\u001B[39mprint_method)\n\u001B[0;32m    972\u001B[0m     \u001B[38;5;28;01mif\u001B[39;00m method \u001B[38;5;129;01mis\u001B[39;00m \u001B[38;5;129;01mnot\u001B[39;00m \u001B[38;5;28;01mNone\u001B[39;00m:\n\u001B[1;32m--> 973\u001B[0m         \u001B[38;5;28;01mreturn\u001B[39;00m \u001B[43mmethod\u001B[49m\u001B[43m(\u001B[49m\u001B[43minclude\u001B[49m\u001B[38;5;241;43m=\u001B[39;49m\u001B[43minclude\u001B[49m\u001B[43m,\u001B[49m\u001B[43m \u001B[49m\u001B[43mexclude\u001B[49m\u001B[38;5;241;43m=\u001B[39;49m\u001B[43mexclude\u001B[49m\u001B[43m)\u001B[49m\n\u001B[0;32m    974\u001B[0m     \u001B[38;5;28;01mreturn\u001B[39;00m \u001B[38;5;28;01mNone\u001B[39;00m\n\u001B[0;32m    975\u001B[0m \u001B[38;5;28;01melse\u001B[39;00m:\n",
      "File \u001B[1;32m~\\Python\\Python310\\lib\\site-packages\\sklearn\\base.py:629\u001B[0m, in \u001B[0;36mBaseEstimator._repr_mimebundle_\u001B[1;34m(self, **kwargs)\u001B[0m\n\u001B[0;32m    627\u001B[0m \u001B[38;5;28;01mdef\u001B[39;00m \u001B[38;5;21m_repr_mimebundle_\u001B[39m(\u001B[38;5;28mself\u001B[39m, \u001B[38;5;241m*\u001B[39m\u001B[38;5;241m*\u001B[39mkwargs):\n\u001B[0;32m    628\u001B[0m     \u001B[38;5;124;03m\"\"\"Mime bundle used by jupyter kernels to display estimator\"\"\"\u001B[39;00m\n\u001B[1;32m--> 629\u001B[0m     output \u001B[38;5;241m=\u001B[39m {\u001B[38;5;124m\"\u001B[39m\u001B[38;5;124mtext/plain\u001B[39m\u001B[38;5;124m\"\u001B[39m: \u001B[38;5;28;43mrepr\u001B[39;49m\u001B[43m(\u001B[49m\u001B[38;5;28;43mself\u001B[39;49m\u001B[43m)\u001B[49m}\n\u001B[0;32m    630\u001B[0m     \u001B[38;5;28;01mif\u001B[39;00m get_config()[\u001B[38;5;124m\"\u001B[39m\u001B[38;5;124mdisplay\u001B[39m\u001B[38;5;124m\"\u001B[39m] \u001B[38;5;241m==\u001B[39m \u001B[38;5;124m\"\u001B[39m\u001B[38;5;124mdiagram\u001B[39m\u001B[38;5;124m\"\u001B[39m:\n\u001B[0;32m    631\u001B[0m         output[\u001B[38;5;124m\"\u001B[39m\u001B[38;5;124mtext/html\u001B[39m\u001B[38;5;124m\"\u001B[39m] \u001B[38;5;241m=\u001B[39m estimator_html_repr(\u001B[38;5;28mself\u001B[39m)\n",
      "File \u001B[1;32m~\\Python\\Python310\\lib\\site-packages\\sklearn\\base.py:279\u001B[0m, in \u001B[0;36mBaseEstimator.__repr__\u001B[1;34m(self, N_CHAR_MAX)\u001B[0m\n\u001B[0;32m    271\u001B[0m \u001B[38;5;66;03m# use ellipsis for sequences with a lot of elements\u001B[39;00m\n\u001B[0;32m    272\u001B[0m pp \u001B[38;5;241m=\u001B[39m _EstimatorPrettyPrinter(\n\u001B[0;32m    273\u001B[0m     compact\u001B[38;5;241m=\u001B[39m\u001B[38;5;28;01mTrue\u001B[39;00m,\n\u001B[0;32m    274\u001B[0m     indent\u001B[38;5;241m=\u001B[39m\u001B[38;5;241m1\u001B[39m,\n\u001B[0;32m    275\u001B[0m     indent_at_name\u001B[38;5;241m=\u001B[39m\u001B[38;5;28;01mTrue\u001B[39;00m,\n\u001B[0;32m    276\u001B[0m     n_max_elements_to_show\u001B[38;5;241m=\u001B[39mN_MAX_ELEMENTS_TO_SHOW,\n\u001B[0;32m    277\u001B[0m )\n\u001B[1;32m--> 279\u001B[0m repr_ \u001B[38;5;241m=\u001B[39m \u001B[43mpp\u001B[49m\u001B[38;5;241;43m.\u001B[39;49m\u001B[43mpformat\u001B[49m\u001B[43m(\u001B[49m\u001B[38;5;28;43mself\u001B[39;49m\u001B[43m)\u001B[49m\n\u001B[0;32m    281\u001B[0m \u001B[38;5;66;03m# Use bruteforce ellipsis when there are a lot of non-blank characters\u001B[39;00m\n\u001B[0;32m    282\u001B[0m n_nonblank \u001B[38;5;241m=\u001B[39m \u001B[38;5;28mlen\u001B[39m(\u001B[38;5;124m\"\u001B[39m\u001B[38;5;124m\"\u001B[39m\u001B[38;5;241m.\u001B[39mjoin(repr_\u001B[38;5;241m.\u001B[39msplit()))\n",
      "File \u001B[1;32m~\\Python\\Python310\\lib\\pprint.py:157\u001B[0m, in \u001B[0;36mPrettyPrinter.pformat\u001B[1;34m(self, object)\u001B[0m\n\u001B[0;32m    155\u001B[0m \u001B[38;5;28;01mdef\u001B[39;00m \u001B[38;5;21mpformat\u001B[39m(\u001B[38;5;28mself\u001B[39m, \u001B[38;5;28mobject\u001B[39m):\n\u001B[0;32m    156\u001B[0m     sio \u001B[38;5;241m=\u001B[39m _StringIO()\n\u001B[1;32m--> 157\u001B[0m     \u001B[38;5;28;43mself\u001B[39;49m\u001B[38;5;241;43m.\u001B[39;49m\u001B[43m_format\u001B[49m\u001B[43m(\u001B[49m\u001B[38;5;28;43mobject\u001B[39;49m\u001B[43m,\u001B[49m\u001B[43m \u001B[49m\u001B[43msio\u001B[49m\u001B[43m,\u001B[49m\u001B[43m \u001B[49m\u001B[38;5;241;43m0\u001B[39;49m\u001B[43m,\u001B[49m\u001B[43m \u001B[49m\u001B[38;5;241;43m0\u001B[39;49m\u001B[43m,\u001B[49m\u001B[43m \u001B[49m\u001B[43m{\u001B[49m\u001B[43m}\u001B[49m\u001B[43m,\u001B[49m\u001B[43m \u001B[49m\u001B[38;5;241;43m0\u001B[39;49m\u001B[43m)\u001B[49m\n\u001B[0;32m    158\u001B[0m     \u001B[38;5;28;01mreturn\u001B[39;00m sio\u001B[38;5;241m.\u001B[39mgetvalue()\n",
      "File \u001B[1;32m~\\Python\\Python310\\lib\\pprint.py:174\u001B[0m, in \u001B[0;36mPrettyPrinter._format\u001B[1;34m(self, object, stream, indent, allowance, context, level)\u001B[0m\n\u001B[0;32m    172\u001B[0m     \u001B[38;5;28mself\u001B[39m\u001B[38;5;241m.\u001B[39m_readable \u001B[38;5;241m=\u001B[39m \u001B[38;5;28;01mFalse\u001B[39;00m\n\u001B[0;32m    173\u001B[0m     \u001B[38;5;28;01mreturn\u001B[39;00m\n\u001B[1;32m--> 174\u001B[0m rep \u001B[38;5;241m=\u001B[39m \u001B[38;5;28;43mself\u001B[39;49m\u001B[38;5;241;43m.\u001B[39;49m\u001B[43m_repr\u001B[49m\u001B[43m(\u001B[49m\u001B[38;5;28;43mobject\u001B[39;49m\u001B[43m,\u001B[49m\u001B[43m \u001B[49m\u001B[43mcontext\u001B[49m\u001B[43m,\u001B[49m\u001B[43m \u001B[49m\u001B[43mlevel\u001B[49m\u001B[43m)\u001B[49m\n\u001B[0;32m    175\u001B[0m max_width \u001B[38;5;241m=\u001B[39m \u001B[38;5;28mself\u001B[39m\u001B[38;5;241m.\u001B[39m_width \u001B[38;5;241m-\u001B[39m indent \u001B[38;5;241m-\u001B[39m allowance\n\u001B[0;32m    176\u001B[0m \u001B[38;5;28;01mif\u001B[39;00m \u001B[38;5;28mlen\u001B[39m(rep) \u001B[38;5;241m>\u001B[39m max_width:\n",
      "File \u001B[1;32m~\\Python\\Python310\\lib\\pprint.py:454\u001B[0m, in \u001B[0;36mPrettyPrinter._repr\u001B[1;34m(self, object, context, level)\u001B[0m\n\u001B[0;32m    453\u001B[0m \u001B[38;5;28;01mdef\u001B[39;00m \u001B[38;5;21m_repr\u001B[39m(\u001B[38;5;28mself\u001B[39m, \u001B[38;5;28mobject\u001B[39m, context, level):\n\u001B[1;32m--> 454\u001B[0m     \u001B[38;5;28mrepr\u001B[39m, readable, recursive \u001B[38;5;241m=\u001B[39m \u001B[38;5;28;43mself\u001B[39;49m\u001B[38;5;241;43m.\u001B[39;49m\u001B[43mformat\u001B[49m\u001B[43m(\u001B[49m\u001B[38;5;28;43mobject\u001B[39;49m\u001B[43m,\u001B[49m\u001B[43m \u001B[49m\u001B[43mcontext\u001B[49m\u001B[38;5;241;43m.\u001B[39;49m\u001B[43mcopy\u001B[49m\u001B[43m(\u001B[49m\u001B[43m)\u001B[49m\u001B[43m,\u001B[49m\n\u001B[0;32m    455\u001B[0m \u001B[43m                                            \u001B[49m\u001B[38;5;28;43mself\u001B[39;49m\u001B[38;5;241;43m.\u001B[39;49m\u001B[43m_depth\u001B[49m\u001B[43m,\u001B[49m\u001B[43m \u001B[49m\u001B[43mlevel\u001B[49m\u001B[43m)\u001B[49m\n\u001B[0;32m    456\u001B[0m     \u001B[38;5;28;01mif\u001B[39;00m \u001B[38;5;129;01mnot\u001B[39;00m readable:\n\u001B[0;32m    457\u001B[0m         \u001B[38;5;28mself\u001B[39m\u001B[38;5;241m.\u001B[39m_readable \u001B[38;5;241m=\u001B[39m \u001B[38;5;28;01mFalse\u001B[39;00m\n",
      "File \u001B[1;32m~\\Python\\Python310\\lib\\site-packages\\sklearn\\utils\\_pprint.py:189\u001B[0m, in \u001B[0;36m_EstimatorPrettyPrinter.format\u001B[1;34m(self, object, context, maxlevels, level)\u001B[0m\n\u001B[0;32m    188\u001B[0m \u001B[38;5;28;01mdef\u001B[39;00m \u001B[38;5;21mformat\u001B[39m(\u001B[38;5;28mself\u001B[39m, \u001B[38;5;28mobject\u001B[39m, context, maxlevels, level):\n\u001B[1;32m--> 189\u001B[0m     \u001B[38;5;28;01mreturn\u001B[39;00m \u001B[43m_safe_repr\u001B[49m\u001B[43m(\u001B[49m\n\u001B[0;32m    190\u001B[0m \u001B[43m        \u001B[49m\u001B[38;5;28;43mobject\u001B[39;49m\u001B[43m,\u001B[49m\u001B[43m \u001B[49m\u001B[43mcontext\u001B[49m\u001B[43m,\u001B[49m\u001B[43m \u001B[49m\u001B[43mmaxlevels\u001B[49m\u001B[43m,\u001B[49m\u001B[43m \u001B[49m\u001B[43mlevel\u001B[49m\u001B[43m,\u001B[49m\u001B[43m \u001B[49m\u001B[43mchanged_only\u001B[49m\u001B[38;5;241;43m=\u001B[39;49m\u001B[38;5;28;43mself\u001B[39;49m\u001B[38;5;241;43m.\u001B[39;49m\u001B[43m_changed_only\u001B[49m\n\u001B[0;32m    191\u001B[0m \u001B[43m    \u001B[49m\u001B[43m)\u001B[49m\n",
      "File \u001B[1;32m~\\Python\\Python310\\lib\\site-packages\\sklearn\\utils\\_pprint.py:440\u001B[0m, in \u001B[0;36m_safe_repr\u001B[1;34m(object, context, maxlevels, level, changed_only)\u001B[0m\n\u001B[0;32m    438\u001B[0m recursive \u001B[38;5;241m=\u001B[39m \u001B[38;5;28;01mFalse\u001B[39;00m\n\u001B[0;32m    439\u001B[0m \u001B[38;5;28;01mif\u001B[39;00m changed_only:\n\u001B[1;32m--> 440\u001B[0m     params \u001B[38;5;241m=\u001B[39m \u001B[43m_changed_params\u001B[49m\u001B[43m(\u001B[49m\u001B[38;5;28;43mobject\u001B[39;49m\u001B[43m)\u001B[49m\n\u001B[0;32m    441\u001B[0m \u001B[38;5;28;01melse\u001B[39;00m:\n\u001B[0;32m    442\u001B[0m     params \u001B[38;5;241m=\u001B[39m \u001B[38;5;28mobject\u001B[39m\u001B[38;5;241m.\u001B[39mget_params(deep\u001B[38;5;241m=\u001B[39m\u001B[38;5;28;01mFalse\u001B[39;00m)\n",
      "File \u001B[1;32m~\\Python\\Python310\\lib\\site-packages\\sklearn\\utils\\_pprint.py:93\u001B[0m, in \u001B[0;36m_changed_params\u001B[1;34m(estimator)\u001B[0m\n\u001B[0;32m     89\u001B[0m \u001B[38;5;28;01mdef\u001B[39;00m \u001B[38;5;21m_changed_params\u001B[39m(estimator):\n\u001B[0;32m     90\u001B[0m     \u001B[38;5;124;03m\"\"\"Return dict (param_name: value) of parameters that were given to\u001B[39;00m\n\u001B[0;32m     91\u001B[0m \u001B[38;5;124;03m    estimator with non-default values.\"\"\"\u001B[39;00m\n\u001B[1;32m---> 93\u001B[0m     params \u001B[38;5;241m=\u001B[39m \u001B[43mestimator\u001B[49m\u001B[38;5;241;43m.\u001B[39;49m\u001B[43mget_params\u001B[49m\u001B[43m(\u001B[49m\u001B[43mdeep\u001B[49m\u001B[38;5;241;43m=\u001B[39;49m\u001B[38;5;28;43;01mFalse\u001B[39;49;00m\u001B[43m)\u001B[49m\n\u001B[0;32m     94\u001B[0m     init_func \u001B[38;5;241m=\u001B[39m \u001B[38;5;28mgetattr\u001B[39m(estimator\u001B[38;5;241m.\u001B[39m\u001B[38;5;21m__init__\u001B[39m, \u001B[38;5;124m\"\u001B[39m\u001B[38;5;124mdeprecated_original\u001B[39m\u001B[38;5;124m\"\u001B[39m, estimator\u001B[38;5;241m.\u001B[39m\u001B[38;5;21m__init__\u001B[39m)\n\u001B[0;32m     95\u001B[0m     init_params \u001B[38;5;241m=\u001B[39m inspect\u001B[38;5;241m.\u001B[39msignature(init_func)\u001B[38;5;241m.\u001B[39mparameters\n",
      "File \u001B[1;32m~\\Python\\Python310\\lib\\site-packages\\sklearn\\base.py:211\u001B[0m, in \u001B[0;36mBaseEstimator.get_params\u001B[1;34m(self, deep)\u001B[0m\n\u001B[0;32m    209\u001B[0m out \u001B[38;5;241m=\u001B[39m \u001B[38;5;28mdict\u001B[39m()\n\u001B[0;32m    210\u001B[0m \u001B[38;5;28;01mfor\u001B[39;00m key \u001B[38;5;129;01min\u001B[39;00m \u001B[38;5;28mself\u001B[39m\u001B[38;5;241m.\u001B[39m_get_param_names():\n\u001B[1;32m--> 211\u001B[0m     value \u001B[38;5;241m=\u001B[39m \u001B[38;5;28;43mgetattr\u001B[39;49m\u001B[43m(\u001B[49m\u001B[38;5;28;43mself\u001B[39;49m\u001B[43m,\u001B[49m\u001B[43m \u001B[49m\u001B[43mkey\u001B[49m\u001B[43m)\u001B[49m\n\u001B[0;32m    212\u001B[0m     \u001B[38;5;28;01mif\u001B[39;00m deep \u001B[38;5;129;01mand\u001B[39;00m \u001B[38;5;28mhasattr\u001B[39m(value, \u001B[38;5;124m\"\u001B[39m\u001B[38;5;124mget_params\u001B[39m\u001B[38;5;124m\"\u001B[39m) \u001B[38;5;129;01mand\u001B[39;00m \u001B[38;5;129;01mnot\u001B[39;00m \u001B[38;5;28misinstance\u001B[39m(value, \u001B[38;5;28mtype\u001B[39m):\n\u001B[0;32m    213\u001B[0m         deep_items \u001B[38;5;241m=\u001B[39m value\u001B[38;5;241m.\u001B[39mget_params()\u001B[38;5;241m.\u001B[39mitems()\n",
      "\u001B[1;31mAttributeError\u001B[0m: 'CRF' object has no attribute 'keep_tempfiles'"
     ]
    },
    {
     "ename": "AttributeError",
     "evalue": "'CRF' object has no attribute 'keep_tempfiles'",
     "output_type": "error",
     "traceback": [
      "\u001B[1;31m---------------------------------------------------------------------------\u001B[0m",
      "\u001B[1;31mAttributeError\u001B[0m                            Traceback (most recent call last)",
      "File \u001B[1;32m~\\Python\\Python310\\lib\\site-packages\\IPython\\core\\formatters.py:707\u001B[0m, in \u001B[0;36mPlainTextFormatter.__call__\u001B[1;34m(self, obj)\u001B[0m\n\u001B[0;32m    700\u001B[0m stream \u001B[38;5;241m=\u001B[39m StringIO()\n\u001B[0;32m    701\u001B[0m printer \u001B[38;5;241m=\u001B[39m pretty\u001B[38;5;241m.\u001B[39mRepresentationPrinter(stream, \u001B[38;5;28mself\u001B[39m\u001B[38;5;241m.\u001B[39mverbose,\n\u001B[0;32m    702\u001B[0m     \u001B[38;5;28mself\u001B[39m\u001B[38;5;241m.\u001B[39mmax_width, \u001B[38;5;28mself\u001B[39m\u001B[38;5;241m.\u001B[39mnewline,\n\u001B[0;32m    703\u001B[0m     max_seq_length\u001B[38;5;241m=\u001B[39m\u001B[38;5;28mself\u001B[39m\u001B[38;5;241m.\u001B[39mmax_seq_length,\n\u001B[0;32m    704\u001B[0m     singleton_pprinters\u001B[38;5;241m=\u001B[39m\u001B[38;5;28mself\u001B[39m\u001B[38;5;241m.\u001B[39msingleton_printers,\n\u001B[0;32m    705\u001B[0m     type_pprinters\u001B[38;5;241m=\u001B[39m\u001B[38;5;28mself\u001B[39m\u001B[38;5;241m.\u001B[39mtype_printers,\n\u001B[0;32m    706\u001B[0m     deferred_pprinters\u001B[38;5;241m=\u001B[39m\u001B[38;5;28mself\u001B[39m\u001B[38;5;241m.\u001B[39mdeferred_printers)\n\u001B[1;32m--> 707\u001B[0m \u001B[43mprinter\u001B[49m\u001B[38;5;241;43m.\u001B[39;49m\u001B[43mpretty\u001B[49m\u001B[43m(\u001B[49m\u001B[43mobj\u001B[49m\u001B[43m)\u001B[49m\n\u001B[0;32m    708\u001B[0m printer\u001B[38;5;241m.\u001B[39mflush()\n\u001B[0;32m    709\u001B[0m \u001B[38;5;28;01mreturn\u001B[39;00m stream\u001B[38;5;241m.\u001B[39mgetvalue()\n",
      "File \u001B[1;32m~\\Python\\Python310\\lib\\site-packages\\IPython\\lib\\pretty.py:410\u001B[0m, in \u001B[0;36mRepresentationPrinter.pretty\u001B[1;34m(self, obj)\u001B[0m\n\u001B[0;32m    407\u001B[0m                         \u001B[38;5;28;01mreturn\u001B[39;00m meth(obj, \u001B[38;5;28mself\u001B[39m, cycle)\n\u001B[0;32m    408\u001B[0m                 \u001B[38;5;28;01mif\u001B[39;00m \u001B[38;5;28mcls\u001B[39m \u001B[38;5;129;01mis\u001B[39;00m \u001B[38;5;129;01mnot\u001B[39;00m \u001B[38;5;28mobject\u001B[39m \\\n\u001B[0;32m    409\u001B[0m                         \u001B[38;5;129;01mand\u001B[39;00m callable(\u001B[38;5;28mcls\u001B[39m\u001B[38;5;241m.\u001B[39m\u001B[38;5;18m__dict__\u001B[39m\u001B[38;5;241m.\u001B[39mget(\u001B[38;5;124m'\u001B[39m\u001B[38;5;124m__repr__\u001B[39m\u001B[38;5;124m'\u001B[39m)):\n\u001B[1;32m--> 410\u001B[0m                     \u001B[38;5;28;01mreturn\u001B[39;00m \u001B[43m_repr_pprint\u001B[49m\u001B[43m(\u001B[49m\u001B[43mobj\u001B[49m\u001B[43m,\u001B[49m\u001B[43m \u001B[49m\u001B[38;5;28;43mself\u001B[39;49m\u001B[43m,\u001B[49m\u001B[43m \u001B[49m\u001B[43mcycle\u001B[49m\u001B[43m)\u001B[49m\n\u001B[0;32m    412\u001B[0m     \u001B[38;5;28;01mreturn\u001B[39;00m _default_pprint(obj, \u001B[38;5;28mself\u001B[39m, cycle)\n\u001B[0;32m    413\u001B[0m \u001B[38;5;28;01mfinally\u001B[39;00m:\n",
      "File \u001B[1;32m~\\Python\\Python310\\lib\\site-packages\\IPython\\lib\\pretty.py:778\u001B[0m, in \u001B[0;36m_repr_pprint\u001B[1;34m(obj, p, cycle)\u001B[0m\n\u001B[0;32m    776\u001B[0m \u001B[38;5;124;03m\"\"\"A pprint that just redirects to the normal repr function.\"\"\"\u001B[39;00m\n\u001B[0;32m    777\u001B[0m \u001B[38;5;66;03m# Find newlines and replace them with p.break_()\u001B[39;00m\n\u001B[1;32m--> 778\u001B[0m output \u001B[38;5;241m=\u001B[39m \u001B[38;5;28;43mrepr\u001B[39;49m\u001B[43m(\u001B[49m\u001B[43mobj\u001B[49m\u001B[43m)\u001B[49m\n\u001B[0;32m    779\u001B[0m lines \u001B[38;5;241m=\u001B[39m output\u001B[38;5;241m.\u001B[39msplitlines()\n\u001B[0;32m    780\u001B[0m \u001B[38;5;28;01mwith\u001B[39;00m p\u001B[38;5;241m.\u001B[39mgroup():\n",
      "File \u001B[1;32m~\\Python\\Python310\\lib\\site-packages\\sklearn\\base.py:279\u001B[0m, in \u001B[0;36mBaseEstimator.__repr__\u001B[1;34m(self, N_CHAR_MAX)\u001B[0m\n\u001B[0;32m    271\u001B[0m \u001B[38;5;66;03m# use ellipsis for sequences with a lot of elements\u001B[39;00m\n\u001B[0;32m    272\u001B[0m pp \u001B[38;5;241m=\u001B[39m _EstimatorPrettyPrinter(\n\u001B[0;32m    273\u001B[0m     compact\u001B[38;5;241m=\u001B[39m\u001B[38;5;28;01mTrue\u001B[39;00m,\n\u001B[0;32m    274\u001B[0m     indent\u001B[38;5;241m=\u001B[39m\u001B[38;5;241m1\u001B[39m,\n\u001B[0;32m    275\u001B[0m     indent_at_name\u001B[38;5;241m=\u001B[39m\u001B[38;5;28;01mTrue\u001B[39;00m,\n\u001B[0;32m    276\u001B[0m     n_max_elements_to_show\u001B[38;5;241m=\u001B[39mN_MAX_ELEMENTS_TO_SHOW,\n\u001B[0;32m    277\u001B[0m )\n\u001B[1;32m--> 279\u001B[0m repr_ \u001B[38;5;241m=\u001B[39m \u001B[43mpp\u001B[49m\u001B[38;5;241;43m.\u001B[39;49m\u001B[43mpformat\u001B[49m\u001B[43m(\u001B[49m\u001B[38;5;28;43mself\u001B[39;49m\u001B[43m)\u001B[49m\n\u001B[0;32m    281\u001B[0m \u001B[38;5;66;03m# Use bruteforce ellipsis when there are a lot of non-blank characters\u001B[39;00m\n\u001B[0;32m    282\u001B[0m n_nonblank \u001B[38;5;241m=\u001B[39m \u001B[38;5;28mlen\u001B[39m(\u001B[38;5;124m\"\u001B[39m\u001B[38;5;124m\"\u001B[39m\u001B[38;5;241m.\u001B[39mjoin(repr_\u001B[38;5;241m.\u001B[39msplit()))\n",
      "File \u001B[1;32m~\\Python\\Python310\\lib\\pprint.py:157\u001B[0m, in \u001B[0;36mPrettyPrinter.pformat\u001B[1;34m(self, object)\u001B[0m\n\u001B[0;32m    155\u001B[0m \u001B[38;5;28;01mdef\u001B[39;00m \u001B[38;5;21mpformat\u001B[39m(\u001B[38;5;28mself\u001B[39m, \u001B[38;5;28mobject\u001B[39m):\n\u001B[0;32m    156\u001B[0m     sio \u001B[38;5;241m=\u001B[39m _StringIO()\n\u001B[1;32m--> 157\u001B[0m     \u001B[38;5;28;43mself\u001B[39;49m\u001B[38;5;241;43m.\u001B[39;49m\u001B[43m_format\u001B[49m\u001B[43m(\u001B[49m\u001B[38;5;28;43mobject\u001B[39;49m\u001B[43m,\u001B[49m\u001B[43m \u001B[49m\u001B[43msio\u001B[49m\u001B[43m,\u001B[49m\u001B[43m \u001B[49m\u001B[38;5;241;43m0\u001B[39;49m\u001B[43m,\u001B[49m\u001B[43m \u001B[49m\u001B[38;5;241;43m0\u001B[39;49m\u001B[43m,\u001B[49m\u001B[43m \u001B[49m\u001B[43m{\u001B[49m\u001B[43m}\u001B[49m\u001B[43m,\u001B[49m\u001B[43m \u001B[49m\u001B[38;5;241;43m0\u001B[39;49m\u001B[43m)\u001B[49m\n\u001B[0;32m    158\u001B[0m     \u001B[38;5;28;01mreturn\u001B[39;00m sio\u001B[38;5;241m.\u001B[39mgetvalue()\n",
      "File \u001B[1;32m~\\Python\\Python310\\lib\\pprint.py:174\u001B[0m, in \u001B[0;36mPrettyPrinter._format\u001B[1;34m(self, object, stream, indent, allowance, context, level)\u001B[0m\n\u001B[0;32m    172\u001B[0m     \u001B[38;5;28mself\u001B[39m\u001B[38;5;241m.\u001B[39m_readable \u001B[38;5;241m=\u001B[39m \u001B[38;5;28;01mFalse\u001B[39;00m\n\u001B[0;32m    173\u001B[0m     \u001B[38;5;28;01mreturn\u001B[39;00m\n\u001B[1;32m--> 174\u001B[0m rep \u001B[38;5;241m=\u001B[39m \u001B[38;5;28;43mself\u001B[39;49m\u001B[38;5;241;43m.\u001B[39;49m\u001B[43m_repr\u001B[49m\u001B[43m(\u001B[49m\u001B[38;5;28;43mobject\u001B[39;49m\u001B[43m,\u001B[49m\u001B[43m \u001B[49m\u001B[43mcontext\u001B[49m\u001B[43m,\u001B[49m\u001B[43m \u001B[49m\u001B[43mlevel\u001B[49m\u001B[43m)\u001B[49m\n\u001B[0;32m    175\u001B[0m max_width \u001B[38;5;241m=\u001B[39m \u001B[38;5;28mself\u001B[39m\u001B[38;5;241m.\u001B[39m_width \u001B[38;5;241m-\u001B[39m indent \u001B[38;5;241m-\u001B[39m allowance\n\u001B[0;32m    176\u001B[0m \u001B[38;5;28;01mif\u001B[39;00m \u001B[38;5;28mlen\u001B[39m(rep) \u001B[38;5;241m>\u001B[39m max_width:\n",
      "File \u001B[1;32m~\\Python\\Python310\\lib\\pprint.py:454\u001B[0m, in \u001B[0;36mPrettyPrinter._repr\u001B[1;34m(self, object, context, level)\u001B[0m\n\u001B[0;32m    453\u001B[0m \u001B[38;5;28;01mdef\u001B[39;00m \u001B[38;5;21m_repr\u001B[39m(\u001B[38;5;28mself\u001B[39m, \u001B[38;5;28mobject\u001B[39m, context, level):\n\u001B[1;32m--> 454\u001B[0m     \u001B[38;5;28mrepr\u001B[39m, readable, recursive \u001B[38;5;241m=\u001B[39m \u001B[38;5;28;43mself\u001B[39;49m\u001B[38;5;241;43m.\u001B[39;49m\u001B[43mformat\u001B[49m\u001B[43m(\u001B[49m\u001B[38;5;28;43mobject\u001B[39;49m\u001B[43m,\u001B[49m\u001B[43m \u001B[49m\u001B[43mcontext\u001B[49m\u001B[38;5;241;43m.\u001B[39;49m\u001B[43mcopy\u001B[49m\u001B[43m(\u001B[49m\u001B[43m)\u001B[49m\u001B[43m,\u001B[49m\n\u001B[0;32m    455\u001B[0m \u001B[43m                                            \u001B[49m\u001B[38;5;28;43mself\u001B[39;49m\u001B[38;5;241;43m.\u001B[39;49m\u001B[43m_depth\u001B[49m\u001B[43m,\u001B[49m\u001B[43m \u001B[49m\u001B[43mlevel\u001B[49m\u001B[43m)\u001B[49m\n\u001B[0;32m    456\u001B[0m     \u001B[38;5;28;01mif\u001B[39;00m \u001B[38;5;129;01mnot\u001B[39;00m readable:\n\u001B[0;32m    457\u001B[0m         \u001B[38;5;28mself\u001B[39m\u001B[38;5;241m.\u001B[39m_readable \u001B[38;5;241m=\u001B[39m \u001B[38;5;28;01mFalse\u001B[39;00m\n",
      "File \u001B[1;32m~\\Python\\Python310\\lib\\site-packages\\sklearn\\utils\\_pprint.py:189\u001B[0m, in \u001B[0;36m_EstimatorPrettyPrinter.format\u001B[1;34m(self, object, context, maxlevels, level)\u001B[0m\n\u001B[0;32m    188\u001B[0m \u001B[38;5;28;01mdef\u001B[39;00m \u001B[38;5;21mformat\u001B[39m(\u001B[38;5;28mself\u001B[39m, \u001B[38;5;28mobject\u001B[39m, context, maxlevels, level):\n\u001B[1;32m--> 189\u001B[0m     \u001B[38;5;28;01mreturn\u001B[39;00m \u001B[43m_safe_repr\u001B[49m\u001B[43m(\u001B[49m\n\u001B[0;32m    190\u001B[0m \u001B[43m        \u001B[49m\u001B[38;5;28;43mobject\u001B[39;49m\u001B[43m,\u001B[49m\u001B[43m \u001B[49m\u001B[43mcontext\u001B[49m\u001B[43m,\u001B[49m\u001B[43m \u001B[49m\u001B[43mmaxlevels\u001B[49m\u001B[43m,\u001B[49m\u001B[43m \u001B[49m\u001B[43mlevel\u001B[49m\u001B[43m,\u001B[49m\u001B[43m \u001B[49m\u001B[43mchanged_only\u001B[49m\u001B[38;5;241;43m=\u001B[39;49m\u001B[38;5;28;43mself\u001B[39;49m\u001B[38;5;241;43m.\u001B[39;49m\u001B[43m_changed_only\u001B[49m\n\u001B[0;32m    191\u001B[0m \u001B[43m    \u001B[49m\u001B[43m)\u001B[49m\n",
      "File \u001B[1;32m~\\Python\\Python310\\lib\\site-packages\\sklearn\\utils\\_pprint.py:440\u001B[0m, in \u001B[0;36m_safe_repr\u001B[1;34m(object, context, maxlevels, level, changed_only)\u001B[0m\n\u001B[0;32m    438\u001B[0m recursive \u001B[38;5;241m=\u001B[39m \u001B[38;5;28;01mFalse\u001B[39;00m\n\u001B[0;32m    439\u001B[0m \u001B[38;5;28;01mif\u001B[39;00m changed_only:\n\u001B[1;32m--> 440\u001B[0m     params \u001B[38;5;241m=\u001B[39m \u001B[43m_changed_params\u001B[49m\u001B[43m(\u001B[49m\u001B[38;5;28;43mobject\u001B[39;49m\u001B[43m)\u001B[49m\n\u001B[0;32m    441\u001B[0m \u001B[38;5;28;01melse\u001B[39;00m:\n\u001B[0;32m    442\u001B[0m     params \u001B[38;5;241m=\u001B[39m \u001B[38;5;28mobject\u001B[39m\u001B[38;5;241m.\u001B[39mget_params(deep\u001B[38;5;241m=\u001B[39m\u001B[38;5;28;01mFalse\u001B[39;00m)\n",
      "File \u001B[1;32m~\\Python\\Python310\\lib\\site-packages\\sklearn\\utils\\_pprint.py:93\u001B[0m, in \u001B[0;36m_changed_params\u001B[1;34m(estimator)\u001B[0m\n\u001B[0;32m     89\u001B[0m \u001B[38;5;28;01mdef\u001B[39;00m \u001B[38;5;21m_changed_params\u001B[39m(estimator):\n\u001B[0;32m     90\u001B[0m     \u001B[38;5;124;03m\"\"\"Return dict (param_name: value) of parameters that were given to\u001B[39;00m\n\u001B[0;32m     91\u001B[0m \u001B[38;5;124;03m    estimator with non-default values.\"\"\"\u001B[39;00m\n\u001B[1;32m---> 93\u001B[0m     params \u001B[38;5;241m=\u001B[39m \u001B[43mestimator\u001B[49m\u001B[38;5;241;43m.\u001B[39;49m\u001B[43mget_params\u001B[49m\u001B[43m(\u001B[49m\u001B[43mdeep\u001B[49m\u001B[38;5;241;43m=\u001B[39;49m\u001B[38;5;28;43;01mFalse\u001B[39;49;00m\u001B[43m)\u001B[49m\n\u001B[0;32m     94\u001B[0m     init_func \u001B[38;5;241m=\u001B[39m \u001B[38;5;28mgetattr\u001B[39m(estimator\u001B[38;5;241m.\u001B[39m\u001B[38;5;21m__init__\u001B[39m, \u001B[38;5;124m\"\u001B[39m\u001B[38;5;124mdeprecated_original\u001B[39m\u001B[38;5;124m\"\u001B[39m, estimator\u001B[38;5;241m.\u001B[39m\u001B[38;5;21m__init__\u001B[39m)\n\u001B[0;32m     95\u001B[0m     init_params \u001B[38;5;241m=\u001B[39m inspect\u001B[38;5;241m.\u001B[39msignature(init_func)\u001B[38;5;241m.\u001B[39mparameters\n",
      "File \u001B[1;32m~\\Python\\Python310\\lib\\site-packages\\sklearn\\base.py:211\u001B[0m, in \u001B[0;36mBaseEstimator.get_params\u001B[1;34m(self, deep)\u001B[0m\n\u001B[0;32m    209\u001B[0m out \u001B[38;5;241m=\u001B[39m \u001B[38;5;28mdict\u001B[39m()\n\u001B[0;32m    210\u001B[0m \u001B[38;5;28;01mfor\u001B[39;00m key \u001B[38;5;129;01min\u001B[39;00m \u001B[38;5;28mself\u001B[39m\u001B[38;5;241m.\u001B[39m_get_param_names():\n\u001B[1;32m--> 211\u001B[0m     value \u001B[38;5;241m=\u001B[39m \u001B[38;5;28;43mgetattr\u001B[39;49m\u001B[43m(\u001B[49m\u001B[38;5;28;43mself\u001B[39;49m\u001B[43m,\u001B[49m\u001B[43m \u001B[49m\u001B[43mkey\u001B[49m\u001B[43m)\u001B[49m\n\u001B[0;32m    212\u001B[0m     \u001B[38;5;28;01mif\u001B[39;00m deep \u001B[38;5;129;01mand\u001B[39;00m \u001B[38;5;28mhasattr\u001B[39m(value, \u001B[38;5;124m\"\u001B[39m\u001B[38;5;124mget_params\u001B[39m\u001B[38;5;124m\"\u001B[39m) \u001B[38;5;129;01mand\u001B[39;00m \u001B[38;5;129;01mnot\u001B[39;00m \u001B[38;5;28misinstance\u001B[39m(value, \u001B[38;5;28mtype\u001B[39m):\n\u001B[0;32m    213\u001B[0m         deep_items \u001B[38;5;241m=\u001B[39m value\u001B[38;5;241m.\u001B[39mget_params()\u001B[38;5;241m.\u001B[39mitems()\n",
      "\u001B[1;31mAttributeError\u001B[0m: 'CRF' object has no attribute 'keep_tempfiles'"
     ]
    },
    {
     "ename": "AttributeError",
     "evalue": "'CRF' object has no attribute 'keep_tempfiles'",
     "output_type": "error",
     "traceback": [
      "\u001B[1;31m---------------------------------------------------------------------------\u001B[0m",
      "\u001B[1;31mAttributeError\u001B[0m                            Traceback (most recent call last)",
      "File \u001B[1;32m~\\Python\\Python310\\lib\\site-packages\\IPython\\core\\formatters.py:343\u001B[0m, in \u001B[0;36mBaseFormatter.__call__\u001B[1;34m(self, obj)\u001B[0m\n\u001B[0;32m    341\u001B[0m     method \u001B[38;5;241m=\u001B[39m get_real_method(obj, \u001B[38;5;28mself\u001B[39m\u001B[38;5;241m.\u001B[39mprint_method)\n\u001B[0;32m    342\u001B[0m     \u001B[38;5;28;01mif\u001B[39;00m method \u001B[38;5;129;01mis\u001B[39;00m \u001B[38;5;129;01mnot\u001B[39;00m \u001B[38;5;28;01mNone\u001B[39;00m:\n\u001B[1;32m--> 343\u001B[0m         \u001B[38;5;28;01mreturn\u001B[39;00m \u001B[43mmethod\u001B[49m\u001B[43m(\u001B[49m\u001B[43m)\u001B[49m\n\u001B[0;32m    344\u001B[0m     \u001B[38;5;28;01mreturn\u001B[39;00m \u001B[38;5;28;01mNone\u001B[39;00m\n\u001B[0;32m    345\u001B[0m \u001B[38;5;28;01melse\u001B[39;00m:\n",
      "File \u001B[1;32m~\\Python\\Python310\\lib\\site-packages\\sklearn\\base.py:625\u001B[0m, in \u001B[0;36mBaseEstimator._repr_html_inner\u001B[1;34m(self)\u001B[0m\n\u001B[0;32m    620\u001B[0m \u001B[38;5;28;01mdef\u001B[39;00m \u001B[38;5;21m_repr_html_inner\u001B[39m(\u001B[38;5;28mself\u001B[39m):\n\u001B[0;32m    621\u001B[0m     \u001B[38;5;124;03m\"\"\"This function is returned by the @property `_repr_html_` to make\u001B[39;00m\n\u001B[0;32m    622\u001B[0m \u001B[38;5;124;03m    `hasattr(estimator, \"_repr_html_\") return `True` or `False` depending\u001B[39;00m\n\u001B[0;32m    623\u001B[0m \u001B[38;5;124;03m    on `get_config()[\"display\"]`.\u001B[39;00m\n\u001B[0;32m    624\u001B[0m \u001B[38;5;124;03m    \"\"\"\u001B[39;00m\n\u001B[1;32m--> 625\u001B[0m     \u001B[38;5;28;01mreturn\u001B[39;00m \u001B[43mestimator_html_repr\u001B[49m\u001B[43m(\u001B[49m\u001B[38;5;28;43mself\u001B[39;49m\u001B[43m)\u001B[49m\n",
      "File \u001B[1;32m~\\Python\\Python310\\lib\\site-packages\\sklearn\\utils\\_estimator_html_repr.py:392\u001B[0m, in \u001B[0;36mestimator_html_repr\u001B[1;34m(estimator)\u001B[0m\n\u001B[0;32m    390\u001B[0m style_template \u001B[38;5;241m=\u001B[39m Template(_STYLE)\n\u001B[0;32m    391\u001B[0m style_with_id \u001B[38;5;241m=\u001B[39m style_template\u001B[38;5;241m.\u001B[39msubstitute(\u001B[38;5;28mid\u001B[39m\u001B[38;5;241m=\u001B[39mcontainer_id)\n\u001B[1;32m--> 392\u001B[0m estimator_str \u001B[38;5;241m=\u001B[39m \u001B[38;5;28;43mstr\u001B[39;49m\u001B[43m(\u001B[49m\u001B[43mestimator\u001B[49m\u001B[43m)\u001B[49m\n\u001B[0;32m    394\u001B[0m \u001B[38;5;66;03m# The fallback message is shown by default and loading the CSS sets\u001B[39;00m\n\u001B[0;32m    395\u001B[0m \u001B[38;5;66;03m# div.sk-text-repr-fallback to display: none to hide the fallback message.\u001B[39;00m\n\u001B[0;32m    396\u001B[0m \u001B[38;5;66;03m#\u001B[39;00m\n\u001B[1;32m   (...)\u001B[0m\n\u001B[0;32m    401\u001B[0m \u001B[38;5;66;03m# The reverse logic applies to HTML repr div.sk-container.\u001B[39;00m\n\u001B[0;32m    402\u001B[0m \u001B[38;5;66;03m# div.sk-container is hidden by default and the loading the CSS displays it.\u001B[39;00m\n\u001B[0;32m    403\u001B[0m fallback_msg \u001B[38;5;241m=\u001B[39m (\n\u001B[0;32m    404\u001B[0m     \u001B[38;5;124m\"\u001B[39m\u001B[38;5;124mIn a Jupyter environment, please rerun this cell to show the HTML\u001B[39m\u001B[38;5;124m\"\u001B[39m\n\u001B[0;32m    405\u001B[0m     \u001B[38;5;124m\"\u001B[39m\u001B[38;5;124m representation or trust the notebook. <br />On GitHub, the\u001B[39m\u001B[38;5;124m\"\u001B[39m\n\u001B[0;32m    406\u001B[0m     \u001B[38;5;124m\"\u001B[39m\u001B[38;5;124m HTML representation is unable to render, please try loading this page\u001B[39m\u001B[38;5;124m\"\u001B[39m\n\u001B[0;32m    407\u001B[0m     \u001B[38;5;124m\"\u001B[39m\u001B[38;5;124m with nbviewer.org.\u001B[39m\u001B[38;5;124m\"\u001B[39m\n\u001B[0;32m    408\u001B[0m )\n",
      "File \u001B[1;32m~\\Python\\Python310\\lib\\site-packages\\sklearn\\base.py:279\u001B[0m, in \u001B[0;36mBaseEstimator.__repr__\u001B[1;34m(self, N_CHAR_MAX)\u001B[0m\n\u001B[0;32m    271\u001B[0m \u001B[38;5;66;03m# use ellipsis for sequences with a lot of elements\u001B[39;00m\n\u001B[0;32m    272\u001B[0m pp \u001B[38;5;241m=\u001B[39m _EstimatorPrettyPrinter(\n\u001B[0;32m    273\u001B[0m     compact\u001B[38;5;241m=\u001B[39m\u001B[38;5;28;01mTrue\u001B[39;00m,\n\u001B[0;32m    274\u001B[0m     indent\u001B[38;5;241m=\u001B[39m\u001B[38;5;241m1\u001B[39m,\n\u001B[0;32m    275\u001B[0m     indent_at_name\u001B[38;5;241m=\u001B[39m\u001B[38;5;28;01mTrue\u001B[39;00m,\n\u001B[0;32m    276\u001B[0m     n_max_elements_to_show\u001B[38;5;241m=\u001B[39mN_MAX_ELEMENTS_TO_SHOW,\n\u001B[0;32m    277\u001B[0m )\n\u001B[1;32m--> 279\u001B[0m repr_ \u001B[38;5;241m=\u001B[39m \u001B[43mpp\u001B[49m\u001B[38;5;241;43m.\u001B[39;49m\u001B[43mpformat\u001B[49m\u001B[43m(\u001B[49m\u001B[38;5;28;43mself\u001B[39;49m\u001B[43m)\u001B[49m\n\u001B[0;32m    281\u001B[0m \u001B[38;5;66;03m# Use bruteforce ellipsis when there are a lot of non-blank characters\u001B[39;00m\n\u001B[0;32m    282\u001B[0m n_nonblank \u001B[38;5;241m=\u001B[39m \u001B[38;5;28mlen\u001B[39m(\u001B[38;5;124m\"\u001B[39m\u001B[38;5;124m\"\u001B[39m\u001B[38;5;241m.\u001B[39mjoin(repr_\u001B[38;5;241m.\u001B[39msplit()))\n",
      "File \u001B[1;32m~\\Python\\Python310\\lib\\pprint.py:157\u001B[0m, in \u001B[0;36mPrettyPrinter.pformat\u001B[1;34m(self, object)\u001B[0m\n\u001B[0;32m    155\u001B[0m \u001B[38;5;28;01mdef\u001B[39;00m \u001B[38;5;21mpformat\u001B[39m(\u001B[38;5;28mself\u001B[39m, \u001B[38;5;28mobject\u001B[39m):\n\u001B[0;32m    156\u001B[0m     sio \u001B[38;5;241m=\u001B[39m _StringIO()\n\u001B[1;32m--> 157\u001B[0m     \u001B[38;5;28;43mself\u001B[39;49m\u001B[38;5;241;43m.\u001B[39;49m\u001B[43m_format\u001B[49m\u001B[43m(\u001B[49m\u001B[38;5;28;43mobject\u001B[39;49m\u001B[43m,\u001B[49m\u001B[43m \u001B[49m\u001B[43msio\u001B[49m\u001B[43m,\u001B[49m\u001B[43m \u001B[49m\u001B[38;5;241;43m0\u001B[39;49m\u001B[43m,\u001B[49m\u001B[43m \u001B[49m\u001B[38;5;241;43m0\u001B[39;49m\u001B[43m,\u001B[49m\u001B[43m \u001B[49m\u001B[43m{\u001B[49m\u001B[43m}\u001B[49m\u001B[43m,\u001B[49m\u001B[43m \u001B[49m\u001B[38;5;241;43m0\u001B[39;49m\u001B[43m)\u001B[49m\n\u001B[0;32m    158\u001B[0m     \u001B[38;5;28;01mreturn\u001B[39;00m sio\u001B[38;5;241m.\u001B[39mgetvalue()\n",
      "File \u001B[1;32m~\\Python\\Python310\\lib\\pprint.py:174\u001B[0m, in \u001B[0;36mPrettyPrinter._format\u001B[1;34m(self, object, stream, indent, allowance, context, level)\u001B[0m\n\u001B[0;32m    172\u001B[0m     \u001B[38;5;28mself\u001B[39m\u001B[38;5;241m.\u001B[39m_readable \u001B[38;5;241m=\u001B[39m \u001B[38;5;28;01mFalse\u001B[39;00m\n\u001B[0;32m    173\u001B[0m     \u001B[38;5;28;01mreturn\u001B[39;00m\n\u001B[1;32m--> 174\u001B[0m rep \u001B[38;5;241m=\u001B[39m \u001B[38;5;28;43mself\u001B[39;49m\u001B[38;5;241;43m.\u001B[39;49m\u001B[43m_repr\u001B[49m\u001B[43m(\u001B[49m\u001B[38;5;28;43mobject\u001B[39;49m\u001B[43m,\u001B[49m\u001B[43m \u001B[49m\u001B[43mcontext\u001B[49m\u001B[43m,\u001B[49m\u001B[43m \u001B[49m\u001B[43mlevel\u001B[49m\u001B[43m)\u001B[49m\n\u001B[0;32m    175\u001B[0m max_width \u001B[38;5;241m=\u001B[39m \u001B[38;5;28mself\u001B[39m\u001B[38;5;241m.\u001B[39m_width \u001B[38;5;241m-\u001B[39m indent \u001B[38;5;241m-\u001B[39m allowance\n\u001B[0;32m    176\u001B[0m \u001B[38;5;28;01mif\u001B[39;00m \u001B[38;5;28mlen\u001B[39m(rep) \u001B[38;5;241m>\u001B[39m max_width:\n",
      "File \u001B[1;32m~\\Python\\Python310\\lib\\pprint.py:454\u001B[0m, in \u001B[0;36mPrettyPrinter._repr\u001B[1;34m(self, object, context, level)\u001B[0m\n\u001B[0;32m    453\u001B[0m \u001B[38;5;28;01mdef\u001B[39;00m \u001B[38;5;21m_repr\u001B[39m(\u001B[38;5;28mself\u001B[39m, \u001B[38;5;28mobject\u001B[39m, context, level):\n\u001B[1;32m--> 454\u001B[0m     \u001B[38;5;28mrepr\u001B[39m, readable, recursive \u001B[38;5;241m=\u001B[39m \u001B[38;5;28;43mself\u001B[39;49m\u001B[38;5;241;43m.\u001B[39;49m\u001B[43mformat\u001B[49m\u001B[43m(\u001B[49m\u001B[38;5;28;43mobject\u001B[39;49m\u001B[43m,\u001B[49m\u001B[43m \u001B[49m\u001B[43mcontext\u001B[49m\u001B[38;5;241;43m.\u001B[39;49m\u001B[43mcopy\u001B[49m\u001B[43m(\u001B[49m\u001B[43m)\u001B[49m\u001B[43m,\u001B[49m\n\u001B[0;32m    455\u001B[0m \u001B[43m                                            \u001B[49m\u001B[38;5;28;43mself\u001B[39;49m\u001B[38;5;241;43m.\u001B[39;49m\u001B[43m_depth\u001B[49m\u001B[43m,\u001B[49m\u001B[43m \u001B[49m\u001B[43mlevel\u001B[49m\u001B[43m)\u001B[49m\n\u001B[0;32m    456\u001B[0m     \u001B[38;5;28;01mif\u001B[39;00m \u001B[38;5;129;01mnot\u001B[39;00m readable:\n\u001B[0;32m    457\u001B[0m         \u001B[38;5;28mself\u001B[39m\u001B[38;5;241m.\u001B[39m_readable \u001B[38;5;241m=\u001B[39m \u001B[38;5;28;01mFalse\u001B[39;00m\n",
      "File \u001B[1;32m~\\Python\\Python310\\lib\\site-packages\\sklearn\\utils\\_pprint.py:189\u001B[0m, in \u001B[0;36m_EstimatorPrettyPrinter.format\u001B[1;34m(self, object, context, maxlevels, level)\u001B[0m\n\u001B[0;32m    188\u001B[0m \u001B[38;5;28;01mdef\u001B[39;00m \u001B[38;5;21mformat\u001B[39m(\u001B[38;5;28mself\u001B[39m, \u001B[38;5;28mobject\u001B[39m, context, maxlevels, level):\n\u001B[1;32m--> 189\u001B[0m     \u001B[38;5;28;01mreturn\u001B[39;00m \u001B[43m_safe_repr\u001B[49m\u001B[43m(\u001B[49m\n\u001B[0;32m    190\u001B[0m \u001B[43m        \u001B[49m\u001B[38;5;28;43mobject\u001B[39;49m\u001B[43m,\u001B[49m\u001B[43m \u001B[49m\u001B[43mcontext\u001B[49m\u001B[43m,\u001B[49m\u001B[43m \u001B[49m\u001B[43mmaxlevels\u001B[49m\u001B[43m,\u001B[49m\u001B[43m \u001B[49m\u001B[43mlevel\u001B[49m\u001B[43m,\u001B[49m\u001B[43m \u001B[49m\u001B[43mchanged_only\u001B[49m\u001B[38;5;241;43m=\u001B[39;49m\u001B[38;5;28;43mself\u001B[39;49m\u001B[38;5;241;43m.\u001B[39;49m\u001B[43m_changed_only\u001B[49m\n\u001B[0;32m    191\u001B[0m \u001B[43m    \u001B[49m\u001B[43m)\u001B[49m\n",
      "File \u001B[1;32m~\\Python\\Python310\\lib\\site-packages\\sklearn\\utils\\_pprint.py:440\u001B[0m, in \u001B[0;36m_safe_repr\u001B[1;34m(object, context, maxlevels, level, changed_only)\u001B[0m\n\u001B[0;32m    438\u001B[0m recursive \u001B[38;5;241m=\u001B[39m \u001B[38;5;28;01mFalse\u001B[39;00m\n\u001B[0;32m    439\u001B[0m \u001B[38;5;28;01mif\u001B[39;00m changed_only:\n\u001B[1;32m--> 440\u001B[0m     params \u001B[38;5;241m=\u001B[39m \u001B[43m_changed_params\u001B[49m\u001B[43m(\u001B[49m\u001B[38;5;28;43mobject\u001B[39;49m\u001B[43m)\u001B[49m\n\u001B[0;32m    441\u001B[0m \u001B[38;5;28;01melse\u001B[39;00m:\n\u001B[0;32m    442\u001B[0m     params \u001B[38;5;241m=\u001B[39m \u001B[38;5;28mobject\u001B[39m\u001B[38;5;241m.\u001B[39mget_params(deep\u001B[38;5;241m=\u001B[39m\u001B[38;5;28;01mFalse\u001B[39;00m)\n",
      "File \u001B[1;32m~\\Python\\Python310\\lib\\site-packages\\sklearn\\utils\\_pprint.py:93\u001B[0m, in \u001B[0;36m_changed_params\u001B[1;34m(estimator)\u001B[0m\n\u001B[0;32m     89\u001B[0m \u001B[38;5;28;01mdef\u001B[39;00m \u001B[38;5;21m_changed_params\u001B[39m(estimator):\n\u001B[0;32m     90\u001B[0m     \u001B[38;5;124;03m\"\"\"Return dict (param_name: value) of parameters that were given to\u001B[39;00m\n\u001B[0;32m     91\u001B[0m \u001B[38;5;124;03m    estimator with non-default values.\"\"\"\u001B[39;00m\n\u001B[1;32m---> 93\u001B[0m     params \u001B[38;5;241m=\u001B[39m \u001B[43mestimator\u001B[49m\u001B[38;5;241;43m.\u001B[39;49m\u001B[43mget_params\u001B[49m\u001B[43m(\u001B[49m\u001B[43mdeep\u001B[49m\u001B[38;5;241;43m=\u001B[39;49m\u001B[38;5;28;43;01mFalse\u001B[39;49;00m\u001B[43m)\u001B[49m\n\u001B[0;32m     94\u001B[0m     init_func \u001B[38;5;241m=\u001B[39m \u001B[38;5;28mgetattr\u001B[39m(estimator\u001B[38;5;241m.\u001B[39m\u001B[38;5;21m__init__\u001B[39m, \u001B[38;5;124m\"\u001B[39m\u001B[38;5;124mdeprecated_original\u001B[39m\u001B[38;5;124m\"\u001B[39m, estimator\u001B[38;5;241m.\u001B[39m\u001B[38;5;21m__init__\u001B[39m)\n\u001B[0;32m     95\u001B[0m     init_params \u001B[38;5;241m=\u001B[39m inspect\u001B[38;5;241m.\u001B[39msignature(init_func)\u001B[38;5;241m.\u001B[39mparameters\n",
      "File \u001B[1;32m~\\Python\\Python310\\lib\\site-packages\\sklearn\\base.py:211\u001B[0m, in \u001B[0;36mBaseEstimator.get_params\u001B[1;34m(self, deep)\u001B[0m\n\u001B[0;32m    209\u001B[0m out \u001B[38;5;241m=\u001B[39m \u001B[38;5;28mdict\u001B[39m()\n\u001B[0;32m    210\u001B[0m \u001B[38;5;28;01mfor\u001B[39;00m key \u001B[38;5;129;01min\u001B[39;00m \u001B[38;5;28mself\u001B[39m\u001B[38;5;241m.\u001B[39m_get_param_names():\n\u001B[1;32m--> 211\u001B[0m     value \u001B[38;5;241m=\u001B[39m \u001B[38;5;28;43mgetattr\u001B[39;49m\u001B[43m(\u001B[49m\u001B[38;5;28;43mself\u001B[39;49m\u001B[43m,\u001B[49m\u001B[43m \u001B[49m\u001B[43mkey\u001B[49m\u001B[43m)\u001B[49m\n\u001B[0;32m    212\u001B[0m     \u001B[38;5;28;01mif\u001B[39;00m deep \u001B[38;5;129;01mand\u001B[39;00m \u001B[38;5;28mhasattr\u001B[39m(value, \u001B[38;5;124m\"\u001B[39m\u001B[38;5;124mget_params\u001B[39m\u001B[38;5;124m\"\u001B[39m) \u001B[38;5;129;01mand\u001B[39;00m \u001B[38;5;129;01mnot\u001B[39;00m \u001B[38;5;28misinstance\u001B[39m(value, \u001B[38;5;28mtype\u001B[39m):\n\u001B[0;32m    213\u001B[0m         deep_items \u001B[38;5;241m=\u001B[39m value\u001B[38;5;241m.\u001B[39mget_params()\u001B[38;5;241m.\u001B[39mitems()\n",
      "\u001B[1;31mAttributeError\u001B[0m: 'CRF' object has no attribute 'keep_tempfiles'"
     ]
    }
   ],
   "source": [
    "import sklearn_crfsuite\n",
    "\n",
    "crf = sklearn_crfsuite.CRF(algorithm='lbfgs',\n",
    "                           c1=0.1,\n",
    "                           c2=0.1,\n",
    "                           max_iterations=100,\n",
    "                           all_possible_transitions=True,\n",
    "                           verbose=True)\n",
    "crf.fit(X_train, y_train)"
   ],
   "metadata": {
    "collapsed": false,
    "pycharm": {
     "name": "#%%\n"
    }
   }
  },
  {
   "cell_type": "code",
   "execution_count": 40,
   "outputs": [
    {
     "data": {
      "text/plain": "0.7653242320874701"
     },
     "execution_count": 40,
     "metadata": {},
     "output_type": "execute_result"
    }
   ],
   "source": [
    "y_pred = crf.predict(X_test)\n",
    "metrics.flat_f1_score(y_test, y_pred, average='weighted', labels=new_classes)"
   ],
   "metadata": {
    "collapsed": false,
    "pycharm": {
     "name": "#%%\n"
    }
   }
  },
  {
   "cell_type": "markdown",
   "source": [
    "2. Run the same sentence through spaCy’s NER engine."
   ],
   "metadata": {
    "collapsed": false,
    "pycharm": {
     "name": "#%% md\n"
    }
   }
  },
  {
   "cell_type": "code",
   "execution_count": 57,
   "outputs": [
    {
     "name": "stdout",
     "output_type": "stream",
     "text": [
      "Fourteen days ago DATE\n",
      "Palpatine PERSON\n",
      "San Diego GPE\n",
      "CA PERSON\n",
      "Tatooine PERSON\n",
      "Luke Skywalker PERSON\n"
     ]
    }
   ],
   "source": [
    "import spacy\n",
    "from spacy import displacy\n",
    "nlp = spacy.load(\"en_core_web_sm\")\n",
    "\n",
    "sentence = \"Fourteen days ago, Emperor Palpatine left San Diego, CA for Tatooine to follow Luke Skywalker.\"\n",
    "\n",
    "doc = nlp(sentence)\n",
    "for ent in doc.ents:\n",
    "    print(ent.text, ent.label_)"
   ],
   "metadata": {
    "collapsed": false,
    "pycharm": {
     "name": "#%%\n"
    }
   }
  },
  {
   "cell_type": "code",
   "execution_count": 52,
   "outputs": [
    {
     "data": {
      "text/plain": "'Countries, cities, states'"
     },
     "execution_count": 52,
     "metadata": {},
     "output_type": "execute_result"
    }
   ],
   "source": [
    "#to get explanation,\n",
    "spacy.explain(\"GPE\")"
   ],
   "metadata": {
    "collapsed": false,
    "pycharm": {
     "name": "#%%\n"
    }
   }
  },
  {
   "cell_type": "code",
   "execution_count": 56,
   "outputs": [
    {
     "data": {
      "text/plain": "<IPython.core.display.HTML object>",
      "text/html": "<span class=\"tex2jax_ignore\"><div class=\"entities\" style=\"line-height: 2.5; direction: ltr\">\n<mark class=\"entity\" style=\"background: #bfe1d9; padding: 0.45em 0.6em; margin: 0 0.25em; line-height: 1; border-radius: 0.35em;\">\n    Fourteen days ago\n    <span style=\"font-size: 0.8em; font-weight: bold; line-height: 1; border-radius: 0.35em; vertical-align: middle; margin-left: 0.5rem\">DATE</span>\n</mark>\n, Emperor \n<mark class=\"entity\" style=\"background: #aa9cfc; padding: 0.45em 0.6em; margin: 0 0.25em; line-height: 1; border-radius: 0.35em;\">\n    Palpatine\n    <span style=\"font-size: 0.8em; font-weight: bold; line-height: 1; border-radius: 0.35em; vertical-align: middle; margin-left: 0.5rem\">PERSON</span>\n</mark>\n left \n<mark class=\"entity\" style=\"background: #feca74; padding: 0.45em 0.6em; margin: 0 0.25em; line-height: 1; border-radius: 0.35em;\">\n    San Diego\n    <span style=\"font-size: 0.8em; font-weight: bold; line-height: 1; border-radius: 0.35em; vertical-align: middle; margin-left: 0.5rem\">GPE</span>\n</mark>\n, \n<mark class=\"entity\" style=\"background: #aa9cfc; padding: 0.45em 0.6em; margin: 0 0.25em; line-height: 1; border-radius: 0.35em;\">\n    CA\n    <span style=\"font-size: 0.8em; font-weight: bold; line-height: 1; border-radius: 0.35em; vertical-align: middle; margin-left: 0.5rem\">PERSON</span>\n</mark>\n for \n<mark class=\"entity\" style=\"background: #aa9cfc; padding: 0.45em 0.6em; margin: 0 0.25em; line-height: 1; border-radius: 0.35em;\">\n    Tatooine\n    <span style=\"font-size: 0.8em; font-weight: bold; line-height: 1; border-radius: 0.35em; vertical-align: middle; margin-left: 0.5rem\">PERSON</span>\n</mark>\n to follow \n<mark class=\"entity\" style=\"background: #aa9cfc; padding: 0.45em 0.6em; margin: 0 0.25em; line-height: 1; border-radius: 0.35em;\">\n    Luke Skywalker\n    <span style=\"font-size: 0.8em; font-weight: bold; line-height: 1; border-radius: 0.35em; vertical-align: middle; margin-left: 0.5rem\">PERSON</span>\n</mark>\n.</div></span>"
     },
     "metadata": {},
     "output_type": "display_data"
    }
   ],
   "source": [
    "#Now, we try an interesting visual, which shows the NEs directly in the text.\n",
    "\n",
    "displacy.render(doc,style=\"ent\",jupyter=True)"
   ],
   "metadata": {
    "collapsed": false,
    "pycharm": {
     "name": "#%%\n"
    }
   }
  },
  {
   "cell_type": "code",
   "execution_count": 55,
   "outputs": [
    {
     "data": {
      "text/plain": "[('Fourteen', 'NNP'),\n ('days', 'NNS'),\n ('ago', 'RB'),\n (',', ','),\n ('Emperor', 'NNP')]"
     },
     "execution_count": 55,
     "metadata": {},
     "output_type": "execute_result"
    }
   ],
   "source": [
    "import nltk\n",
    "\n",
    "text_tokens = nltk.word_tokenize(sentence)\n",
    "text_pos = nltk.pos_tag(text_tokens)\n",
    "text_pos[:5]"
   ],
   "metadata": {
    "collapsed": false,
    "pycharm": {
     "name": "#%%\n"
    }
   }
  },
  {
   "cell_type": "markdown",
   "source": [
    "3. Compare and contrast the results – you can do this in your Jupyter Notebook or as a comment in your .py file."
   ],
   "metadata": {
    "collapsed": false,
    "pycharm": {
     "name": "#%% md\n"
    }
   }
  },
  {
   "cell_type": "markdown",
   "source": [
    "NER can be implemented easily using spaCy because it has built-in methods for NER.  The spaCy model performs well for all types of text data.\n",
    "NER tagger using Scikit-learn requires more work since there is not a built-in method like with spaCcy. It is obvious that it is not going to be easy to classify named entities using regular classifiers."
   ],
   "metadata": {
    "collapsed": false,
    "pycharm": {
     "name": "#%% md\n"
    }
   }
  }
 ],
 "metadata": {
  "kernelspec": {
   "display_name": "Python 3",
   "language": "python",
   "name": "python3"
  },
  "language_info": {
   "codemirror_mode": {
    "name": "ipython",
    "version": 2
   },
   "file_extension": ".py",
   "mimetype": "text/x-python",
   "name": "python",
   "nbconvert_exporter": "python",
   "pygments_lexer": "ipython2",
   "version": "2.7.6"
  }
 },
 "nbformat": 4,
 "nbformat_minor": 0
}