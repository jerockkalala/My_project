{
 "cells": [
  {
   "cell_type": "markdown",
   "source": [
    "#### Title: Exercice 2.2\n",
    "##### Author: Jerock Kalala\n",
    "##### Date: December 11th 2022\n",
    "##### Modified By: --\n",
    "##### Description: Getting Started with APIs"
   ],
   "metadata": {
    "collapsed": false,
    "pycharm": {
     "name": "#%% md\n"
    }
   }
  },
  {
   "cell_type": "code",
   "execution_count": 52,
   "outputs": [],
   "source": [
    "import requests\n",
    "import json\n",
    "\n",
    "response = requests.get(\"http://www.boredapi.com/api/activity/\")"
   ],
   "metadata": {
    "collapsed": false,
    "pycharm": {
     "name": "#%%\n"
    }
   }
  },
  {
   "cell_type": "code",
   "execution_count": 53,
   "outputs": [
    {
     "name": "stdout",
     "output_type": "stream",
     "text": [
      "200\n"
     ]
    }
   ],
   "source": [
    "print(response.status_code)"
   ],
   "metadata": {
    "collapsed": false,
    "pycharm": {
     "name": "#%%\n"
    }
   }
  },
  {
   "cell_type": "code",
   "execution_count": 54,
   "outputs": [
    {
     "name": "stdout",
     "output_type": "stream",
     "text": [
      "{'activity': 'Learn the NATO phonetic alphabet', 'type': 'education', 'participants': 1, 'price': 0, 'link': 'https://en.wikipedia.org/wiki/NATO_phonetic_alphabet', 'key': '6706598', 'accessibility': 0}\n"
     ]
    }
   ],
   "source": [
    "print(response.json())\n"
   ],
   "metadata": {
    "collapsed": false,
    "pycharm": {
     "name": "#%%\n"
    }
   }
  },
  {
   "cell_type": "code",
   "execution_count": 55,
   "outputs": [
    {
     "name": "stdout",
     "output_type": "stream",
     "text": [
      "{\n",
      "     \"accessibility\": 0,\n",
      "     \"activity\": \"Learn the NATO phonetic alphabet\",\n",
      "     \"key\": \"6706598\",\n",
      "     \"link\": \"https://en.wikipedia.org/wiki/NATO_phonetic_alphabet\",\n",
      "     \"participants\": 1,\n",
      "     \"price\": 0,\n",
      "     \"type\": \"education\"\n",
      "}\n"
     ]
    }
   ],
   "source": [
    "def jsonprint(obj):\n",
    "    # create a formatted string of the Python JSON object\n",
    "    text = json.dumps(obj, sort_keys=True, indent=5)\n",
    "    print(text)\n",
    "\n",
    "jsonprint(response.json())"
   ],
   "metadata": {
    "collapsed": false,
    "pycharm": {
     "name": "#%%\n"
    }
   }
  },
  {
   "cell_type": "code",
   "execution_count": null,
   "outputs": [],
   "source": [],
   "metadata": {
    "collapsed": false,
    "pycharm": {
     "name": "#%%\n"
    }
   }
  }
 ],
 "metadata": {
  "kernelspec": {
   "display_name": "Python 3",
   "language": "python",
   "name": "python3"
  },
  "language_info": {
   "codemirror_mode": {
    "name": "ipython",
    "version": 2
   },
   "file_extension": ".py",
   "mimetype": "text/x-python",
   "name": "python",
   "nbconvert_exporter": "python",
   "pygments_lexer": "ipython2",
   "version": "2.7.6"
  }
 },
 "nbformat": 4,
 "nbformat_minor": 0
}