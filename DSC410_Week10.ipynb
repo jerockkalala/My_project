{
 "cells": [
  {
   "cell_type": "markdown",
   "source": [
    "#### Title: Milestone 3\n",
    "#### Author: Jerock Kalala\n",
    "#### Date: May 22th 2023\n",
    "#### Modified By: --\n",
    "#### Neural Networks\n"
   ],
   "metadata": {
    "collapsed": false,
    "pycharm": {
     "name": "#%% md\n"
    }
   }
  },
  {
   "cell_type": "code",
   "execution_count": 29,
   "outputs": [],
   "source": [
    "# import libraries\n",
    "import pandas as pd\n",
    "import numpy as np\n",
    "import seaborn as sns\n",
    "from sklearn.model_selection import train_test_split, GridSearchCV\n",
    "from sklearn.preprocessing import StandardScaler\n",
    "import tensorflow as tf\n",
    "from sklearn.metrics import mean_squared_error, mean_absolute_error\n",
    "from sklearn.metrics import r2_score"
   ],
   "metadata": {
    "collapsed": false,
    "pycharm": {
     "name": "#%%\n"
    }
   }
  },
  {
   "cell_type": "code",
   "execution_count": 4,
   "outputs": [
    {
     "name": "stdout",
     "output_type": "stream",
     "text": [
      "(50, 5)\n"
     ]
    },
    {
     "data": {
      "text/plain": "     RDSpend  Administration  MarketingSpend       State     Profit\n0  165349.20       136897.80       471784.10    New York  192261.83\n1  162597.70       151377.59       443898.53  California  191792.06\n2  153441.51       101145.55       407934.54     Florida  191050.39\n3  144372.41       118671.85       383199.62    New York  182901.99\n4  142107.34        91391.77       366168.42     Florida  166187.94",
      "text/html": "<div>\n<style scoped>\n    .dataframe tbody tr th:only-of-type {\n        vertical-align: middle;\n    }\n\n    .dataframe tbody tr th {\n        vertical-align: top;\n    }\n\n    .dataframe thead th {\n        text-align: right;\n    }\n</style>\n<table border=\"1\" class=\"dataframe\">\n  <thead>\n    <tr style=\"text-align: right;\">\n      <th></th>\n      <th>RDSpend</th>\n      <th>Administration</th>\n      <th>MarketingSpend</th>\n      <th>State</th>\n      <th>Profit</th>\n    </tr>\n  </thead>\n  <tbody>\n    <tr>\n      <th>0</th>\n      <td>165349.20</td>\n      <td>136897.80</td>\n      <td>471784.10</td>\n      <td>New York</td>\n      <td>192261.83</td>\n    </tr>\n    <tr>\n      <th>1</th>\n      <td>162597.70</td>\n      <td>151377.59</td>\n      <td>443898.53</td>\n      <td>California</td>\n      <td>191792.06</td>\n    </tr>\n    <tr>\n      <th>2</th>\n      <td>153441.51</td>\n      <td>101145.55</td>\n      <td>407934.54</td>\n      <td>Florida</td>\n      <td>191050.39</td>\n    </tr>\n    <tr>\n      <th>3</th>\n      <td>144372.41</td>\n      <td>118671.85</td>\n      <td>383199.62</td>\n      <td>New York</td>\n      <td>182901.99</td>\n    </tr>\n    <tr>\n      <th>4</th>\n      <td>142107.34</td>\n      <td>91391.77</td>\n      <td>366168.42</td>\n      <td>Florida</td>\n      <td>166187.94</td>\n    </tr>\n  </tbody>\n</table>\n</div>"
     },
     "execution_count": 4,
     "metadata": {},
     "output_type": "execute_result"
    }
   ],
   "source": [
    "data = pd.read_csv(\"E:\\\\Bellevue\\\\Spring_2023\\\\DSC410_Predictive Analytics\\\\Week_6\\\\startups_profit2.csv\", thousands=' ')\n",
    "print(data.shape)\n",
    "data.head()"
   ],
   "metadata": {
    "collapsed": false,
    "pycharm": {
     "name": "#%%\n"
    }
   }
  },
  {
   "cell_type": "markdown",
   "source": [
    "# EDA and feature engineering"
   ],
   "metadata": {
    "collapsed": false,
    "pycharm": {
     "name": "#%% md\n"
    }
   }
  },
  {
   "cell_type": "code",
   "execution_count": 5,
   "outputs": [
    {
     "name": "stdout",
     "output_type": "stream",
     "text": [
      "Index(['RDSpend', 'Administration', 'MarketingSpend', 'State', 'Profit'], dtype='object') \n",
      "\n",
      "<class 'pandas.core.frame.DataFrame'>\n",
      "RangeIndex: 50 entries, 0 to 49\n",
      "Data columns (total 5 columns):\n",
      " #   Column          Non-Null Count  Dtype  \n",
      "---  ------          --------------  -----  \n",
      " 0   RDSpend         50 non-null     float64\n",
      " 1   Administration  50 non-null     float64\n",
      " 2   MarketingSpend  50 non-null     float64\n",
      " 3   State           50 non-null     object \n",
      " 4   Profit          50 non-null     float64\n",
      "dtypes: float64(4), object(1)\n",
      "memory usage: 2.1+ KB\n"
     ]
    }
   ],
   "source": [
    "print(data.columns, \"\\n\")\n",
    "data.info()"
   ],
   "metadata": {
    "collapsed": false,
    "pycharm": {
     "name": "#%%\n"
    }
   }
  },
  {
   "cell_type": "code",
   "execution_count": 6,
   "outputs": [
    {
     "name": "stdout",
     "output_type": "stream",
     "text": [
      "RDSpend           0\n",
      "Administration    0\n",
      "MarketingSpend    0\n",
      "State             0\n",
      "Profit            0\n",
      "dtype: int64\n"
     ]
    }
   ],
   "source": [
    "# check for missing values\n",
    "print(data.isnull().sum())"
   ],
   "metadata": {
    "collapsed": false,
    "pycharm": {
     "name": "#%%\n"
    }
   }
  },
  {
   "cell_type": "code",
   "execution_count": 7,
   "outputs": [],
   "source": [
    "# drop missing values\n",
    "data = data.dropna()"
   ],
   "metadata": {
    "collapsed": false,
    "pycharm": {
     "name": "#%%\n"
    }
   }
  },
  {
   "cell_type": "code",
   "execution_count": 8,
   "outputs": [
    {
     "data": {
      "text/plain": "             RDSpend  Administration  MarketingSpend         Profit\ncount      50.000000       50.000000       50.000000      50.000000\nmean    73721.615600   121344.639600   211025.097800  112012.639200\nstd     45902.256482    28017.802755   122290.310726   40306.180338\nmin         0.000000    51283.140000        0.000000   14681.400000\n25%     39936.370000   103730.875000   129300.132500   90138.902500\n50%     73051.080000   122699.795000   212716.240000  107978.190000\n75%    101602.800000   144842.180000   299469.085000  139765.977500\nmax    165349.200000   182645.560000   471784.100000  192261.830000",
      "text/html": "<div>\n<style scoped>\n    .dataframe tbody tr th:only-of-type {\n        vertical-align: middle;\n    }\n\n    .dataframe tbody tr th {\n        vertical-align: top;\n    }\n\n    .dataframe thead th {\n        text-align: right;\n    }\n</style>\n<table border=\"1\" class=\"dataframe\">\n  <thead>\n    <tr style=\"text-align: right;\">\n      <th></th>\n      <th>RDSpend</th>\n      <th>Administration</th>\n      <th>MarketingSpend</th>\n      <th>Profit</th>\n    </tr>\n  </thead>\n  <tbody>\n    <tr>\n      <th>count</th>\n      <td>50.000000</td>\n      <td>50.000000</td>\n      <td>50.000000</td>\n      <td>50.000000</td>\n    </tr>\n    <tr>\n      <th>mean</th>\n      <td>73721.615600</td>\n      <td>121344.639600</td>\n      <td>211025.097800</td>\n      <td>112012.639200</td>\n    </tr>\n    <tr>\n      <th>std</th>\n      <td>45902.256482</td>\n      <td>28017.802755</td>\n      <td>122290.310726</td>\n      <td>40306.180338</td>\n    </tr>\n    <tr>\n      <th>min</th>\n      <td>0.000000</td>\n      <td>51283.140000</td>\n      <td>0.000000</td>\n      <td>14681.400000</td>\n    </tr>\n    <tr>\n      <th>25%</th>\n      <td>39936.370000</td>\n      <td>103730.875000</td>\n      <td>129300.132500</td>\n      <td>90138.902500</td>\n    </tr>\n    <tr>\n      <th>50%</th>\n      <td>73051.080000</td>\n      <td>122699.795000</td>\n      <td>212716.240000</td>\n      <td>107978.190000</td>\n    </tr>\n    <tr>\n      <th>75%</th>\n      <td>101602.800000</td>\n      <td>144842.180000</td>\n      <td>299469.085000</td>\n      <td>139765.977500</td>\n    </tr>\n    <tr>\n      <th>max</th>\n      <td>165349.200000</td>\n      <td>182645.560000</td>\n      <td>471784.100000</td>\n      <td>192261.830000</td>\n    </tr>\n  </tbody>\n</table>\n</div>"
     },
     "execution_count": 8,
     "metadata": {},
     "output_type": "execute_result"
    }
   ],
   "source": [
    "# explore dataset\n",
    "data.describe()"
   ],
   "metadata": {
    "collapsed": false,
    "pycharm": {
     "name": "#%%\n"
    }
   }
  },
  {
   "cell_type": "code",
   "execution_count": 9,
   "outputs": [
    {
     "data": {
      "text/plain": "<AxesSubplot: xlabel='RDSpend', ylabel='Profit'>"
     },
     "execution_count": 9,
     "metadata": {},
     "output_type": "execute_result"
    },
    {
     "data": {
      "text/plain": "<Figure size 640x480 with 4 Axes>",
      "image/png": "[encoded data removed]"
     },
     "metadata": {},
     "output_type": "display_data"
    },
    {
     "data": {
      "text/plain": "<Figure size 640x480 with 1 Axes>",
      "image/png": "[encoded data removed]"
     },
     "metadata": {},
     "output_type": "display_data"
    }
   ],
   "source": [
    "# visualize data\n",
    "data.hist()\n",
    "data.plot.scatter(x='RDSpend', y='Profit')"
   ],
   "metadata": {
    "collapsed": false,
    "pycharm": {
     "name": "#%%\n"
    }
   }
  },
  {
   "cell_type": "code",
   "execution_count": 10,
   "outputs": [
    {
     "name": "stderr",
     "output_type": "stream",
     "text": [
      "C:\\Users\\jeroc\\AppData\\Local\\Temp\\ipykernel_12248\\1185648202.py:1: FutureWarning: The default value of numeric_only in DataFrame.corr is deprecated. In a future version, it will default to False. Select only valid columns or specify the value of numeric_only to silence this warning.\n",
      "  data.corr()\n"
     ]
    },
    {
     "data": {
      "text/plain": "                 RDSpend  Administration  MarketingSpend    Profit\nRDSpend         1.000000        0.241955        0.724248  0.972900\nAdministration  0.241955        1.000000       -0.032154  0.200717\nMarketingSpend  0.724248       -0.032154        1.000000  0.747766\nProfit          0.972900        0.200717        0.747766  1.000000",
      "text/html": "<div>\n<style scoped>\n    .dataframe tbody tr th:only-of-type {\n        vertical-align: middle;\n    }\n\n    .dataframe tbody tr th {\n        vertical-align: top;\n    }\n\n    .dataframe thead th {\n        text-align: right;\n    }\n</style>\n<table border=\"1\" class=\"dataframe\">\n  <thead>\n    <tr style=\"text-align: right;\">\n      <th></th>\n      <th>RDSpend</th>\n      <th>Administration</th>\n      <th>MarketingSpend</th>\n      <th>Profit</th>\n    </tr>\n  </thead>\n  <tbody>\n    <tr>\n      <th>RDSpend</th>\n      <td>1.000000</td>\n      <td>0.241955</td>\n      <td>0.724248</td>\n      <td>0.972900</td>\n    </tr>\n    <tr>\n      <th>Administration</th>\n      <td>0.241955</td>\n      <td>1.000000</td>\n      <td>-0.032154</td>\n      <td>0.200717</td>\n    </tr>\n    <tr>\n      <th>MarketingSpend</th>\n      <td>0.724248</td>\n      <td>-0.032154</td>\n      <td>1.000000</td>\n      <td>0.747766</td>\n    </tr>\n    <tr>\n      <th>Profit</th>\n      <td>0.972900</td>\n      <td>0.200717</td>\n      <td>0.747766</td>\n      <td>1.000000</td>\n    </tr>\n  </tbody>\n</table>\n</div>"
     },
     "execution_count": 10,
     "metadata": {},
     "output_type": "execute_result"
    }
   ],
   "source": [
    "data.corr()"
   ],
   "metadata": {
    "collapsed": false,
    "pycharm": {
     "name": "#%%\n"
    }
   }
  },
  {
   "cell_type": "code",
   "execution_count": 11,
   "outputs": [
    {
     "name": "stderr",
     "output_type": "stream",
     "text": [
      "C:\\Users\\jeroc\\AppData\\Local\\Temp\\ipykernel_12248\\1614732859.py:4: FutureWarning: The default value of numeric_only in DataFrame.corr is deprecated. In a future version, it will default to False. Select only valid columns or specify the value of numeric_only to silence this warning.\n",
      "  sns.heatmap(data.corr(), annot = True, vmin = -1, vmax = 1)\n"
     ]
    },
    {
     "data": {
      "text/plain": "<Figure size 1200x700 with 2 Axes>",
      "image/png": "[encoded data removed]"
     },
     "metadata": {},
     "output_type": "display_data"
    }
   ],
   "source": [
    "from matplotlib import pyplot as plt\n",
    "\n",
    "plt.figure(figsize=(12, 7))\n",
    "sns.heatmap(data.corr(), annot = True, vmin = -1, vmax = 1)\n",
    "plt.show()"
   ],
   "metadata": {
    "collapsed": false,
    "pycharm": {
     "name": "#%%\n"
    }
   }
  },
  {
   "cell_type": "code",
   "execution_count": 12,
   "outputs": [],
   "source": [
    "# encode categorical variables\n",
    "data = pd.get_dummies(data, columns=['State'])"
   ],
   "metadata": {
    "collapsed": false,
    "pycharm": {
     "name": "#%%\n"
    }
   }
  },
  {
   "cell_type": "code",
   "execution_count": 13,
   "outputs": [
    {
     "data": {
      "text/plain": "Index(['RDSpend', 'Administration', 'MarketingSpend', 'Profit',\n       'State_California', 'State_Florida', 'State_New York'],\n      dtype='object')"
     },
     "execution_count": 13,
     "metadata": {},
     "output_type": "execute_result"
    }
   ],
   "source": [
    "data.columns"
   ],
   "metadata": {
    "collapsed": false,
    "pycharm": {
     "name": "#%%\n"
    }
   }
  },
  {
   "cell_type": "code",
   "execution_count": 14,
   "outputs": [
    {
     "name": "stdout",
     "output_type": "stream",
     "text": [
      "<class 'pandas.core.frame.DataFrame'>\n",
      "RangeIndex: 50 entries, 0 to 49\n",
      "Data columns (total 7 columns):\n",
      " #   Column            Non-Null Count  Dtype  \n",
      "---  ------            --------------  -----  \n",
      " 0   RDSpend           50 non-null     float64\n",
      " 1   Administration    50 non-null     float64\n",
      " 2   MarketingSpend    50 non-null     float64\n",
      " 3   Profit            50 non-null     float64\n",
      " 4   State_California  50 non-null     uint8  \n",
      " 5   State_Florida     50 non-null     uint8  \n",
      " 6   State_New York    50 non-null     uint8  \n",
      "dtypes: float64(4), uint8(3)\n",
      "memory usage: 1.8 KB\n"
     ]
    }
   ],
   "source": [
    "data.info()"
   ],
   "metadata": {
    "collapsed": false,
    "pycharm": {
     "name": "#%%\n"
    }
   }
  },
  {
   "cell_type": "code",
   "execution_count": 15,
   "outputs": [],
   "source": [
    "# scale numerical variables\n",
    "scaler = StandardScaler()\n",
    "data[['RDSpend', 'Administration', 'MarketingSpend']] = scaler.fit_transform(data[['RDSpend', 'Administration', 'MarketingSpend']])"
   ],
   "metadata": {
    "collapsed": false,
    "pycharm": {
     "name": "#%%\n"
    }
   }
  },
  {
   "cell_type": "code",
   "execution_count": 16,
   "outputs": [],
   "source": [
    "# create new features\n",
    "data['Profit/RDSpend'] = data['Profit'] / data['RDSpend']\n",
    "data['Marketing/R&DSpend'] = data['MarketingSpend'] / data['RDSpend']"
   ],
   "metadata": {
    "collapsed": false,
    "pycharm": {
     "name": "#%%\n"
    }
   }
  },
  {
   "cell_type": "code",
   "execution_count": 17,
   "outputs": [
    {
     "name": "stdout",
     "output_type": "stream",
     "text": [
      "Index(['RDSpend', 'Administration', 'MarketingSpend', 'Profit',\n",
      "       'State_California', 'State_Florida', 'State_New York', 'Profit/RDSpend',\n",
      "       'Marketing/R&DSpend'],\n",
      "      dtype='object') \n",
      "\n"
     ]
    },
    {
     "data": {
      "text/plain": "    RDSpend  Administration  MarketingSpend     Profit  State_California  \\\n0  2.016411        0.560753        2.153943  192261.83                 0   \n1  1.955860        1.082807        1.923600  191792.06                 1   \n2  1.754364       -0.728257        1.626528  191050.39                 0   \n3  1.554784       -0.096365        1.422210  182901.99                 0   \n4  1.504937       -1.079919        1.281528  166187.94                 0   \n\n   State_Florida  State_New York  Profit/RDSpend  Marketing/R&DSpend  \n0              0               1    95348.509296            1.068206  \n1              0               0    98060.202166            0.983506  \n2              1               0   108900.102108            0.927133  \n3              0               1   117638.222675            0.914732  \n4              1               0   110428.488041            0.851549  ",
      "text/html": "<div>\n<style scoped>\n    .dataframe tbody tr th:only-of-type {\n        vertical-align: middle;\n    }\n\n    .dataframe tbody tr th {\n        vertical-align: top;\n    }\n\n    .dataframe thead th {\n        text-align: right;\n    }\n</style>\n<table border=\"1\" class=\"dataframe\">\n  <thead>\n    <tr style=\"text-align: right;\">\n      <th></th>\n      <th>RDSpend</th>\n      <th>Administration</th>\n      <th>MarketingSpend</th>\n      <th>Profit</th>\n      <th>State_California</th>\n      <th>State_Florida</th>\n      <th>State_New York</th>\n      <th>Profit/RDSpend</th>\n      <th>Marketing/R&amp;DSpend</th>\n    </tr>\n  </thead>\n  <tbody>\n    <tr>\n      <th>0</th>\n      <td>2.016411</td>\n      <td>0.560753</td>\n      <td>2.153943</td>\n      <td>192261.83</td>\n      <td>0</td>\n      <td>0</td>\n      <td>1</td>\n      <td>95348.509296</td>\n      <td>1.068206</td>\n    </tr>\n    <tr>\n      <th>1</th>\n      <td>1.955860</td>\n      <td>1.082807</td>\n      <td>1.923600</td>\n      <td>191792.06</td>\n      <td>1</td>\n      <td>0</td>\n      <td>0</td>\n      <td>98060.202166</td>\n      <td>0.983506</td>\n    </tr>\n    <tr>\n      <th>2</th>\n      <td>1.754364</td>\n      <td>-0.728257</td>\n      <td>1.626528</td>\n      <td>191050.39</td>\n      <td>0</td>\n      <td>1</td>\n      <td>0</td>\n      <td>108900.102108</td>\n      <td>0.927133</td>\n    </tr>\n    <tr>\n      <th>3</th>\n      <td>1.554784</td>\n      <td>-0.096365</td>\n      <td>1.422210</td>\n      <td>182901.99</td>\n      <td>0</td>\n      <td>0</td>\n      <td>1</td>\n      <td>117638.222675</td>\n      <td>0.914732</td>\n    </tr>\n    <tr>\n      <th>4</th>\n      <td>1.504937</td>\n      <td>-1.079919</td>\n      <td>1.281528</td>\n      <td>166187.94</td>\n      <td>0</td>\n      <td>1</td>\n      <td>0</td>\n      <td>110428.488041</td>\n      <td>0.851549</td>\n    </tr>\n  </tbody>\n</table>\n</div>"
     },
     "execution_count": 17,
     "metadata": {},
     "output_type": "execute_result"
    }
   ],
   "source": [
    "print(data.columns, \"\\n\")\n",
    "data.head()"
   ],
   "metadata": {
    "collapsed": false,
    "pycharm": {
     "name": "#%%\n"
    }
   }
  },
  {
   "cell_type": "code",
   "execution_count": 18,
   "outputs": [
    {
     "data": {
      "text/plain": "RDSpend               float64\nAdministration        float64\nMarketingSpend        float64\nProfit                float64\nState_California        uint8\nState_Florida           uint8\nState_New York          uint8\nProfit/RDSpend        float64\nMarketing/R&DSpend    float64\ndtype: object"
     },
     "execution_count": 18,
     "metadata": {},
     "output_type": "execute_result"
    }
   ],
   "source": [
    "data.dtypes"
   ],
   "metadata": {
    "collapsed": false,
    "pycharm": {
     "name": "#%%\n"
    }
   }
  },
  {
   "cell_type": "code",
   "execution_count": 22,
   "outputs": [],
   "source": [
    "# Separating the categorical variable (State) and numerical features\n",
    "categorical_features = ['State_California', 'State_Florida', 'State_New York']  # Update with the actual categorical feature column name(s)\n",
    "numerical_features = data.drop(['Profit'] + categorical_features, axis=1)\n",
    "num = ['R&D Spend', 'Administration', 'Marketing Spend', 'Marketing/R&D Spend', 'Profit/RDSpend']\n"
   ],
   "metadata": {
    "collapsed": false,
    "pycharm": {
     "name": "#%%\n"
    }
   }
  },
  {
   "cell_type": "code",
   "execution_count": 23,
   "outputs": [],
   "source": [
    "# split data into training and testing sets\n",
    "X = data.drop('Profit', axis=1)\n",
    "y = data['Profit']\n",
    "X_train, X_test, y_train, y_test = train_test_split(X, y, test_size=0.2, random_state=42)"
   ],
   "metadata": {
    "collapsed": false,
    "pycharm": {
     "name": "#%%\n"
    }
   }
  },
  {
   "cell_type": "code",
   "execution_count": 24,
   "outputs": [
    {
     "name": "stdout",
     "output_type": "stream",
     "text": [
      "x_train shape:  (40, 8)\n",
      "Y_train shape:  (40,)\n",
      "x_test shape:  (10, 8)\n",
      "Y_test shape:  (10,)\n"
     ]
    }
   ],
   "source": [
    "print(\"x_train shape: \", X_train.shape)\n",
    "print(\"Y_train shape: \", y_train.shape)\n",
    "print(\"x_test shape: \", X_test.shape)\n",
    "print(\"Y_test shape: \", y_test.shape)"
   ],
   "metadata": {
    "collapsed": false,
    "pycharm": {
     "name": "#%%\n"
    }
   }
  },
  {
   "cell_type": "code",
   "execution_count": 25,
   "outputs": [],
   "source": [
    "model = tf.keras.Sequential([\n",
    "    tf.keras.layers.Dense(128, activation='relu', input_shape=(X_train.shape[1],)),\n",
    "    tf.keras.layers.Dense(64, activation='relu'),\n",
    "    tf.keras.layers.Dense(32, activation='relu'),\n",
    "    tf.keras.layers.Dense(16, activation='relu'),\n",
    "    tf.keras.layers.Dense(1)])"
   ],
   "metadata": {
    "collapsed": false,
    "pycharm": {
     "name": "#%%\n"
    }
   }
  },
  {
   "cell_type": "markdown",
   "source": [
    "#### Training the MLP"
   ],
   "metadata": {
    "collapsed": false,
    "pycharm": {
     "name": "#%% md\n"
    }
   }
  },
  {
   "cell_type": "code",
   "execution_count": 26,
   "outputs": [
    {
     "name": "stdout",
     "output_type": "stream",
     "text": [
      "Epoch 1/100\n",
      "2/2 [==============================] - 5s 10ms/step - loss: 47480827904.0000\n",
      "Epoch 2/100\n",
      "2/2 [==============================] - 0s 5ms/step - loss: 19422121984.0000\n",
      "Epoch 3/100\n",
      "2/2 [==============================] - 0s 5ms/step - loss: 13426842624.0000\n",
      "Epoch 4/100\n",
      "2/2 [==============================] - 0s 5ms/step - loss: 14330622976.0000\n",
      "Epoch 5/100\n",
      "2/2 [==============================] - 0s 5ms/step - loss: 14350092288.0000\n",
      "Epoch 6/100\n",
      "2/2 [==============================] - 0s 6ms/step - loss: 13836317696.0000\n",
      "Epoch 7/100\n",
      "2/2 [==============================] - 0s 7ms/step - loss: 13466368000.0000\n",
      "Epoch 8/100\n",
      "2/2 [==============================] - 0s 7ms/step - loss: 13543857152.0000\n",
      "Epoch 9/100\n",
      "2/2 [==============================] - 0s 7ms/step - loss: 14080930816.0000\n",
      "Epoch 10/100\n",
      "2/2 [==============================] - 0s 5ms/step - loss: 13906537472.0000\n",
      "Epoch 11/100\n",
      "2/2 [==============================] - 0s 7ms/step - loss: 13833131008.0000\n",
      "Epoch 12/100\n",
      "2/2 [==============================] - 0s 5ms/step - loss: 13660004352.0000\n",
      "Epoch 13/100\n",
      "2/2 [==============================] - 0s 5ms/step - loss: 13531316224.0000\n",
      "Epoch 14/100\n",
      "2/2 [==============================] - 0s 7ms/step - loss: 13419667456.0000\n",
      "Epoch 15/100\n",
      "2/2 [==============================] - 0s 6ms/step - loss: 13368164352.0000\n",
      "Epoch 16/100\n",
      "2/2 [==============================] - 0s 5ms/step - loss: 13362747392.0000\n",
      "Epoch 17/100\n",
      "2/2 [==============================] - 0s 5ms/step - loss: 13357434880.0000\n",
      "Epoch 18/100\n",
      "2/2 [==============================] - 0s 7ms/step - loss: 13373686784.0000\n",
      "Epoch 19/100\n",
      "2/2 [==============================] - 0s 7ms/step - loss: 13363513344.0000\n",
      "Epoch 20/100\n",
      "2/2 [==============================] - 0s 8ms/step - loss: 13385518080.0000\n",
      "Epoch 21/100\n",
      "2/2 [==============================] - 0s 7ms/step - loss: 13394567168.0000\n",
      "Epoch 22/100\n",
      "2/2 [==============================] - 0s 8ms/step - loss: 13389463552.0000\n",
      "Epoch 23/100\n",
      "2/2 [==============================] - 0s 6ms/step - loss: 13411037184.0000\n",
      "Epoch 24/100\n",
      "2/2 [==============================] - 0s 6ms/step - loss: 13362610176.0000\n",
      "Epoch 25/100\n",
      "2/2 [==============================] - 0s 5ms/step - loss: 13376709632.0000\n",
      "Epoch 26/100\n",
      "2/2 [==============================] - 0s 6ms/step - loss: 13419378688.0000\n",
      "Epoch 27/100\n",
      "2/2 [==============================] - 0s 6ms/step - loss: 13547017216.0000\n",
      "Epoch 28/100\n",
      "2/2 [==============================] - 0s 5ms/step - loss: 13388150784.0000\n",
      "Epoch 29/100\n",
      "2/2 [==============================] - 0s 6ms/step - loss: 13506567168.0000\n",
      "Epoch 30/100\n",
      "2/2 [==============================] - 0s 5ms/step - loss: 13734816768.0000\n",
      "Epoch 31/100\n",
      "2/2 [==============================] - 0s 5ms/step - loss: 13691144192.0000\n",
      "Epoch 32/100\n",
      "2/2 [==============================] - 0s 8ms/step - loss: 13453194240.0000\n",
      "Epoch 33/100\n",
      "2/2 [==============================] - 0s 6ms/step - loss: 13332790272.0000\n",
      "Epoch 34/100\n",
      "2/2 [==============================] - 0s 5ms/step - loss: 13378638848.0000\n",
      "Epoch 35/100\n",
      "2/2 [==============================] - 0s 5ms/step - loss: 13531440128.0000\n",
      "Epoch 36/100\n",
      "2/2 [==============================] - 0s 7ms/step - loss: 13681623040.0000\n",
      "Epoch 37/100\n",
      "2/2 [==============================] - 0s 5ms/step - loss: 13696775168.0000\n",
      "Epoch 38/100\n",
      "2/2 [==============================] - 0s 4ms/step - loss: 13618424832.0000\n",
      "Epoch 39/100\n",
      "2/2 [==============================] - 0s 5ms/step - loss: 13437900800.0000\n",
      "Epoch 40/100\n",
      "2/2 [==============================] - 0s 5ms/step - loss: 13371257856.0000\n",
      "Epoch 41/100\n",
      "2/2 [==============================] - 0s 4ms/step - loss: 13694085120.0000\n",
      "Epoch 42/100\n",
      "2/2 [==============================] - 0s 5ms/step - loss: 14046552064.0000\n",
      "Epoch 43/100\n",
      "2/2 [==============================] - 0s 5ms/step - loss: 13973637120.0000\n",
      "Epoch 44/100\n",
      "2/2 [==============================] - 0s 5ms/step - loss: 13576177664.0000\n",
      "Epoch 45/100\n",
      "2/2 [==============================] - 0s 4ms/step - loss: 13348506624.0000\n",
      "Epoch 46/100\n",
      "2/2 [==============================] - 0s 5ms/step - loss: 13470854144.0000\n",
      "Epoch 47/100\n",
      "2/2 [==============================] - 0s 5ms/step - loss: 13735548928.0000\n",
      "Epoch 48/100\n",
      "2/2 [==============================] - 0s 5ms/step - loss: 14024635392.0000\n",
      "Epoch 49/100\n",
      "2/2 [==============================] - 0s 5ms/step - loss: 13483092992.0000\n",
      "Epoch 50/100\n",
      "2/2 [==============================] - 0s 6ms/step - loss: 13723394048.0000\n",
      "Epoch 51/100\n",
      "2/2 [==============================] - 0s 6ms/step - loss: 14783741952.0000\n",
      "Epoch 52/100\n",
      "2/2 [==============================] - 0s 6ms/step - loss: 13899309056.0000\n",
      "Epoch 53/100\n",
      "2/2 [==============================] - 0s 5ms/step - loss: 13393494016.0000\n",
      "Epoch 54/100\n",
      "2/2 [==============================] - 0s 5ms/step - loss: 13788795904.0000\n",
      "Epoch 55/100\n",
      "2/2 [==============================] - 0s 6ms/step - loss: 14855861248.0000\n",
      "Epoch 56/100\n",
      "2/2 [==============================] - 0s 6ms/step - loss: 15418949632.0000\n",
      "Epoch 57/100\n",
      "2/2 [==============================] - 0s 5ms/step - loss: 15071371264.0000\n",
      "Epoch 58/100\n",
      "2/2 [==============================] - 0s 6ms/step - loss: 14273200128.0000\n",
      "Epoch 59/100\n",
      "2/2 [==============================] - 0s 7ms/step - loss: 13622675456.0000\n",
      "Epoch 60/100\n",
      "2/2 [==============================] - 0s 6ms/step - loss: 13390091264.0000\n",
      "Epoch 61/100\n",
      "2/2 [==============================] - 0s 5ms/step - loss: 13490689024.0000\n",
      "Epoch 62/100\n",
      "2/2 [==============================] - 0s 7ms/step - loss: 13565824000.0000\n",
      "Epoch 63/100\n",
      "2/2 [==============================] - 0s 6ms/step - loss: 13489143808.0000\n",
      "Epoch 64/100\n",
      "2/2 [==============================] - 0s 5ms/step - loss: 13352399872.0000\n",
      "Epoch 65/100\n",
      "2/2 [==============================] - 0s 6ms/step - loss: 13349024768.0000\n",
      "Epoch 66/100\n",
      "2/2 [==============================] - 0s 8ms/step - loss: 13440618496.0000\n",
      "Epoch 67/100\n",
      "2/2 [==============================] - 0s 7ms/step - loss: 13558182912.0000\n",
      "Epoch 68/100\n",
      "2/2 [==============================] - 0s 5ms/step - loss: 13715903488.0000\n",
      "Epoch 69/100\n",
      "2/2 [==============================] - 0s 6ms/step - loss: 13274548224.0000\n",
      "Epoch 70/100\n",
      "2/2 [==============================] - 0s 5ms/step - loss: 13528347648.0000\n",
      "Epoch 71/100\n",
      "2/2 [==============================] - 0s 5ms/step - loss: 14251575296.0000\n",
      "Epoch 72/100\n",
      "2/2 [==============================] - 0s 4ms/step - loss: 14050842624.0000\n",
      "Epoch 73/100\n",
      "2/2 [==============================] - 0s 5ms/step - loss: 13553708032.0000\n",
      "Epoch 74/100\n",
      "2/2 [==============================] - 0s 6ms/step - loss: 13452067840.0000\n",
      "Epoch 75/100\n",
      "2/2 [==============================] - 0s 4ms/step - loss: 13610469376.0000\n",
      "Epoch 76/100\n",
      "2/2 [==============================] - 0s 5ms/step - loss: 13809104896.0000\n",
      "Epoch 77/100\n",
      "2/2 [==============================] - 0s 5ms/step - loss: 13899597824.0000\n",
      "Epoch 78/100\n",
      "2/2 [==============================] - 0s 4ms/step - loss: 13794043904.0000\n",
      "Epoch 79/100\n",
      "2/2 [==============================] - 0s 5ms/step - loss: 13532145664.0000\n",
      "Epoch 80/100\n",
      "2/2 [==============================] - 0s 6ms/step - loss: 13428763648.0000\n",
      "Epoch 81/100\n",
      "2/2 [==============================] - 0s 4ms/step - loss: 13515466752.0000\n",
      "Epoch 82/100\n",
      "2/2 [==============================] - 0s 5ms/step - loss: 13829911552.0000\n",
      "Epoch 83/100\n",
      "2/2 [==============================] - 0s 4ms/step - loss: 13947843584.0000\n",
      "Epoch 84/100\n",
      "2/2 [==============================] - 0s 4ms/step - loss: 13658137600.0000\n",
      "Epoch 85/100\n",
      "2/2 [==============================] - 0s 6ms/step - loss: 13353801728.0000\n",
      "Epoch 86/100\n",
      "2/2 [==============================] - 0s 5ms/step - loss: 13502288896.0000\n",
      "Epoch 87/100\n",
      "2/2 [==============================] - 0s 6ms/step - loss: 13831171072.0000\n",
      "Epoch 88/100\n",
      "2/2 [==============================] - 0s 7ms/step - loss: 14035946496.0000\n",
      "Epoch 89/100\n",
      "2/2 [==============================] - 0s 5ms/step - loss: 14042421248.0000\n",
      "Epoch 90/100\n",
      "2/2 [==============================] - 0s 6ms/step - loss: 13550880768.0000\n",
      "Epoch 91/100\n",
      "2/2 [==============================] - 0s 5ms/step - loss: 13458710528.0000\n",
      "Epoch 92/100\n",
      "2/2 [==============================] - 0s 5ms/step - loss: 14070289408.0000\n",
      "Epoch 93/100\n",
      "2/2 [==============================] - 0s 6ms/step - loss: 14519331840.0000\n",
      "Epoch 94/100\n",
      "2/2 [==============================] - 0s 5ms/step - loss: 14428465152.0000\n",
      "Epoch 95/100\n",
      "2/2 [==============================] - 0s 5ms/step - loss: 13850286080.0000\n",
      "Epoch 96/100\n",
      "2/2 [==============================] - 0s 6ms/step - loss: 13311623168.0000\n",
      "Epoch 97/100\n",
      "2/2 [==============================] - 0s 6ms/step - loss: 13633456128.0000\n",
      "Epoch 98/100\n",
      "2/2 [==============================] - 0s 5ms/step - loss: 14255785984.0000\n",
      "Epoch 99/100\n",
      "2/2 [==============================] - 0s 5ms/step - loss: 15006454784.0000\n",
      "Epoch 100/100\n",
      "2/2 [==============================] - 0s 4ms/step - loss: 13384947712.0000\n"
     ]
    },
    {
     "data": {
      "text/plain": "<keras.callbacks.History at 0x269f315edd0>"
     },
     "execution_count": 26,
     "metadata": {},
     "output_type": "execute_result"
    }
   ],
   "source": [
    "model.compile(optimizer='adam', loss='mean_squared_error')\n",
    "model.fit(X_train, y_train, epochs=100, batch_size=32, verbose=1)"
   ],
   "metadata": {
    "collapsed": false,
    "pycharm": {
     "name": "#%%\n"
    }
   }
  },
  {
   "cell_type": "markdown",
   "source": [
    "#### Mean Square Error"
   ],
   "metadata": {
    "collapsed": false,
    "pycharm": {
     "name": "#%% md\n"
    }
   }
  },
  {
   "cell_type": "code",
   "execution_count": 27,
   "outputs": [
    {
     "name": "stdout",
     "output_type": "stream",
     "text": [
      "1/1 [==============================] - 0s 196ms/step - loss: 8015293440.0000\n",
      "Root Mean Squared Error (RMSE): 89528.17120884353\n"
     ]
    }
   ],
   "source": [
    "# Determination of Root Mean Square Error\n",
    "loss = model.evaluate(X_test, y_test)\n",
    "print(f'Root Mean Squared Error (RMSE): {np.sqrt(loss)}')"
   ],
   "metadata": {
    "collapsed": false,
    "pycharm": {
     "name": "#%%\n"
    }
   }
  },
  {
   "cell_type": "code",
   "execution_count": 32,
   "outputs": [
    {
     "name": "stdout",
     "output_type": "stream",
     "text": [
      "1/1 [==============================] - 0s 34ms/step\n"
     ]
    },
    {
     "data": {
      "text/plain": "array([[ 2848.5027],\n       [ 6376.6045],\n       [23585.068 ],\n       [ 2472.4731],\n       [ 2320.8193]], dtype=float32)"
     },
     "execution_count": 32,
     "metadata": {},
     "output_type": "execute_result"
    }
   ],
   "source": [
    "# Predicting on the test set\n",
    "y_pred = model.predict(X_test)\n",
    "y_pred[:5]"
   ],
   "metadata": {
    "collapsed": false,
    "pycharm": {
     "name": "#%%\n"
    }
   }
  },
  {
   "cell_type": "markdown",
   "source": [
    "#### R-squared score"
   ],
   "metadata": {
    "collapsed": false,
    "pycharm": {
     "name": "#%% md\n"
    }
   }
  },
  {
   "cell_type": "code",
   "execution_count": 30,
   "outputs": [
    {
     "name": "stdout",
     "output_type": "stream",
     "text": [
      "R-squared score: -8.897964649681683\n"
     ]
    }
   ],
   "source": [
    "# Calculating the R-squared score\n",
    "\n",
    "r2 = r2_score(y_test, y_pred)\n",
    "print(f\"R-squared score: {r2}\")"
   ],
   "metadata": {
    "collapsed": false,
    "pycharm": {
     "name": "#%%\n"
    }
   }
  },
  {
   "cell_type": "markdown",
   "source": [
    "#### Model Summary\n"
   ],
   "metadata": {
    "collapsed": false,
    "pycharm": {
     "name": "#%% md\n"
    }
   }
  },
  {
   "cell_type": "code",
   "execution_count": 31,
   "outputs": [
    {
     "name": "stdout",
     "output_type": "stream",
     "text": [
      "Model: \"sequential\"\n",
      "_________________________________________________________________\n",
      " Layer (type)                Output Shape              Param #   \n",
      "=================================================================\n",
      " dense (Dense)               (None, 128)               1152      \n",
      "                                                                 \n",
      " dense_1 (Dense)             (None, 64)                8256      \n",
      "                                                                 \n",
      " dense_2 (Dense)             (None, 32)                2080      \n",
      "                                                                 \n",
      " dense_3 (Dense)             (None, 16)                528       \n",
      "                                                                 \n",
      " dense_4 (Dense)             (None, 1)                 17        \n",
      "                                                                 \n",
      "=================================================================\n",
      "Total params: 12,033\n",
      "Trainable params: 12,033\n",
      "Non-trainable params: 0\n",
      "_________________________________________________________________\n"
     ]
    }
   ],
   "source": [
    "# Model Summary\n",
    "model.summary()"
   ],
   "metadata": {
    "collapsed": false,
    "pycharm": {
     "name": "#%%\n"
    }
   }
  },
  {
   "cell_type": "markdown",
   "source": [
    "#### Visualization"
   ],
   "metadata": {
    "collapsed": false,
    "pycharm": {
     "name": "#%% md\n"
    }
   }
  },
  {
   "cell_type": "code",
   "execution_count": 34,
   "outputs": [
    {
     "data": {
      "image/png": "[encoded data removed]",
      "text/plain": "<IPython.core.display.Image object>"
     },
     "execution_count": 34,
     "metadata": {},
     "output_type": "execute_result"
    }
   ],
   "source": [
    "# Required library for visualisation of the neural networks\n",
    "from tensorflow.keras.utils import plot_model\n",
    "\n",
    "# visualization to a file\n",
    "plot_model(model, to_file='neural_network.png', show_shapes=True, show_layer_names=True)"
   ],
   "metadata": {
    "collapsed": false,
    "pycharm": {
     "name": "#%%\n"
    }
   }
  },
  {
   "cell_type": "code",
   "execution_count": null,
   "outputs": [],
   "source": [],
   "metadata": {
    "collapsed": false,
    "pycharm": {
     "name": "#%%\n"
    }
   }
  }
 ],
 "metadata": {
  "kernelspec": {
   "display_name": "Python 3",
   "language": "python",
   "name": "python3"
  },
  "language_info": {
   "codemirror_mode": {
    "name": "ipython",
    "version": 2
   },
   "file_extension": ".py",
   "mimetype": "text/x-python",
   "name": "python",
   "nbconvert_exporter": "python",
   "pygments_lexer": "ipython2",
   "version": "2.7.6"
  }
 },
 "nbformat": 4,
 "nbformat_minor": 0
}