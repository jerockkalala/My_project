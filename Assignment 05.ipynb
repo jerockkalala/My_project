{
 "cells": [
  {
   "cell_type": "markdown",
   "metadata": {
    "pycharm": {
     "name": "#%% md\n"
    }
   },
   "source": [
    "# Acquiring and Storing Data"
   ]
  },
  {
   "cell_type": "markdown",
   "metadata": {
    "tags": [],
    "pycharm": {
     "name": "#%% md\n"
    }
   },
   "source": [
    "## Assignment 5\n",
    "\n",
    "For this assignment and future assignments, assume that you are the owner of a small but growing retail business, *Datums R Us*. Your store sells technology, tools, and clothing for the discerning data scientist. You currently have stores in the following five locations. \n",
    "\n",
    "- Bellevue, Nebraska\n",
    "- Columbus, Ohio\n",
    "- Denver, Colorado\n",
    "- San Francisco, California\n",
    "- Baltimore, Maryland\n",
    "\n",
    "You have been tasked with creating a data lake for the company using a [directory structure based on Cookiecutter Data Science recommendations](https://drivendata.github.io/cookiecutter-data-science/#directory-structure). This basic directory structure works well for small, self-contained data science projects and organizing large-scale data warehouses.\n",
    "\n",
    "```\n",
    "├── data\n",
    "│   ├── external       <- Data from third-party sources.\n",
    "│   ├── interim        <- Intermediate data that has been transformed.\n",
    "│   ├── processed      <- The final, canonical data sets for modeling and reports.\n",
    "│   └── raw            <- The original, immutable data dump.\n",
    "```\n",
    "\n",
    "You have identified the following items for initial inclusion in the data lake. \n",
    "\n",
    "**External Data Sets**\n",
    "\n",
    "- Census (Updated Yearly)\n",
    "- Weather Forecasts (Updated Daily)\n",
    "\n",
    "**Raw Data Dumps**\n",
    "\n",
    "- Sales (Updated Hourly)\n",
    "- Inventory (Updated Daily)\n",
    "- Expenses (Updated Daily)\n",
    "\n",
    "**Processed Data Sets and Reports**\n",
    "\n",
    "*Weekly*\n",
    "\n",
    "- Modeling Data Set\n",
    "\n",
    "*Monthly*\n",
    "\n",
    "- Inventory Update Request\n",
    "\n",
    "*Quarterly*\n",
    "\n",
    "- Quarterly Financial Report"
   ]
  },
  {
   "cell_type": "markdown",
   "metadata": {
    "pycharm": {
     "name": "#%% md\n"
    }
   },
   "source": [
    "### Assignment 5.1\n",
    "\n",
    "In the first part of the assignment, you will describe the directory structure for the data lake. For the most part, this directory structure will not depend on the technical details of how you store the data. You could be storing the data in a local filesystem, a distributed filesystem such as HDFS, or object storage, such as Amazon S3. \n",
    "\n",
    "You will only be creating the directory structures and not populating actual content. Real-world data lakes store data in a variety of formats including,  Apache Parquet, Google Protocol Buffers, Apache Avro, JSONL, and CSV. \n",
    "\n",
    "You will use Python's built-in [calendar library](https://docs.python.org/3/library/calendar.html), and [datetime library](https://docs.python.org/3/library/datetime.html) to work with the dates and times required for this assignment. You will use the [PurePosixPath](https://docs.python.org/3/library/pathlib.html#pathlib.PurePosixPath) class from Python's built-in [pathlib library](https://docs.python.org/3/library/pathlib.html) to represent locations on the data lake. \n",
    "\n",
    "You will generate the output directories for an entire year's worth of data starting on January 1st of this year. Unless otherwise specified, all times will be in Coordinated Universal Time (UTC). "
   ]
  },
  {
   "cell_type": "code",
   "execution_count": 1,
   "metadata": {
    "pycharm": {
     "name": "#%%\n"
    }
   },
   "outputs": [],
   "source": [
    "# Imports the required Python libraries and \n",
    "# sets global variables for the assignment\n",
    "import calendar\n",
    "import datetime\n",
    "from pathlib import PurePosixPath\n",
    "\n",
    "today = datetime.date.today()\n",
    "current_year = today.year\n",
    "days_in_year = 365\n",
    "\n",
    "if calendar.isleap(current_year):\n",
    "    days_in_year +=1\n",
    "\n",
    "hours_in_year = days_in_year * 24"
   ]
  },
  {
   "cell_type": "markdown",
   "source": [],
   "metadata": {
    "collapsed": false,
    "pycharm": {
     "name": "#%% md\n"
    }
   }
  },
  {
   "cell_type": "code",
   "execution_count": 2,
   "metadata": {
    "pycharm": {
     "name": "#%%\n"
    }
   },
   "outputs": [
    {
     "name": "stdout",
     "output_type": "stream",
     "text": [
      "Root Data Directory: /data\n",
      "External Data Directory: /data/external\n",
      "Interim Data Directory: /data/interim\n",
      "Processed Data Directory: /data/processed\n",
      "Raw Data Directory: /data/raw\n"
     ]
    }
   ],
   "source": [
    "# Creates paths for the external, interim, processed, and raw directories\n",
    "# Use these paths when creating new paths\n",
    "\n",
    "root_data_dir = PurePosixPath('/data')\n",
    "external_data_dir = root_data_dir.joinpath('external')\n",
    "interim_data_dir = root_data_dir.joinpath('interim')\n",
    "processed_data_dir = root_data_dir.joinpath('processed')\n",
    "raw_data_dir = root_data_dir.joinpath('raw')\n",
    "\n",
    "print('Root Data Directory: {}'.format(root_data_dir))\n",
    "print('External Data Directory: {}'.format(external_data_dir))\n",
    "print('Interim Data Directory: {}'.format(interim_data_dir))\n",
    "print('Processed Data Directory: {}'.format(processed_data_dir))\n",
    "print('Raw Data Directory: {}'.format(raw_data_dir))"
   ]
  },
  {
   "cell_type": "markdown",
   "metadata": {
    "pycharm": {
     "name": "#%% md\n"
    }
   },
   "source": [
    "#### Assignment 5.1.a\n",
    "\n",
    "For the purposes of this assignment, we will be using three Census data sets as examples of external data updated yearly. These data sets are:\n",
    "\n",
    "- [American Community Survey (ACS) Summary File](https://www.census.gov/programs-surveys/acs/data/summary-file.html)\n",
    "- [American Community Survey (ACS) Public Use Microdata Sample (PUMS)]( https://www.census.gov/programs-surveys/acs/microdata.html)\n",
    "- [Tiger/Line Shapefiles](https://www.census.gov/geographies/mapping-files/time-series/geo/tiger-line-file.html)\n",
    "\n",
    "If you are curious, you can find the actual data sets at the following locations: \n",
    "\n",
    "- [ACS Summary File](https://www2.census.gov/programs-surveys/acs/summary_file/)\n",
    "- [PUMS](https://www2.census.gov/programs-surveys/acs/data/pums/)\n",
    "- [Tiger](https://www2.census.gov/geo/tiger/)\n",
    "\n",
    "For this assignment, we use the following naming convention for external data sets\n",
    "\n",
    "```\n",
    "/data/external/<source>/<data-set>/<year>/\n",
    "```\n",
    "where *source* is the organization providing the data, *data-set* is the specific data set, and *year* is the year. \n",
    "\n",
    "```\n",
    "data\n",
    "├── external\n",
    "│   ├── census\n",
    "│   │   ├── acs-summaryfile\n",
    "│   │   │   ├── 2015\n",
    "│   │   │   ├── 2016\n",
    "│   │   │   ...\n",
    "│   │   │   ...\n",
    "│   │   │   └── 2019\n",
    "│   │   ├── pums\n",
    "│   │   │   ├── 2015\n",
    "│   │   │   ├── 2016\n",
    "│   │   │   ...\n",
    "│   │   │   ...\n",
    "│   │   │   └── 2020\n",
    "│   │   └── tiger\n",
    "│   │       ├── 2015\n",
    "│   │       ├── 2016\n",
    "│   │   │   ...\n",
    "│   │   │   ...\n",
    "│   │       └── 2020\n",
    "│   └── nwc-wpc\n",
    "├── interim\n",
    "├── processed\n",
    "└── raw\n",
    "```\n",
    "\n",
    "Create and add the paths for these data sets. Verify that you have added the paths correctly. "
   ]
  },
  {
   "cell_type": "code",
   "execution_count": 3,
   "metadata": {
    "pycharm": {
     "name": "#%%\n"
    }
   },
   "outputs": [
    {
     "data": {
      "text/plain": "[PurePosixPath('/data/external/census/acs_summary_file/2015'),\n PurePosixPath('/data/external/census/acs_summary_file/2016'),\n PurePosixPath('/data/external/census/acs_summary_file/2017'),\n PurePosixPath('/data/external/census/acs_summary_file/2018'),\n PurePosixPath('/data/external/census/acs_summary_file/2019'),\n PurePosixPath('/data/external/census/acs_summary_file/2020'),\n PurePosixPath('/data/external/census/acs_summary_file/2021'),\n PurePosixPath('/data/external/census/acs_summary_file/2022'),\n PurePosixPath('/data/external/census/acs_summary_file/2023')]"
     },
     "execution_count": 3,
     "metadata": {},
     "output_type": "execute_result"
    }
   ],
   "source": [
    "acs_summary_file_dirs = set()\n",
    "\n",
    "# TODO: Create and add the paths for this data set\n",
    "acs_summary_file_dir = external_data_dir.joinpath('census', 'acs_summary_file')\n",
    "\n",
    "start_year = current_year-8\n",
    "for year in range(start_year, current_year+1):\n",
    "    acs_summary_file_dirs.add(acs_summary_file_dir.joinpath(str(year)))\n",
    "# Should output sorted directories from 2015 to present \n",
    "sorted(list(acs_summary_file_dirs))"
   ]
  },
  {
   "cell_type": "markdown",
   "metadata": {
    "pycharm": {
     "name": "#%% md\n"
    }
   },
   "source": [
    "#### Assignment 5.1.b"
   ]
  },
  {
   "cell_type": "code",
   "execution_count": 4,
   "metadata": {
    "pycharm": {
     "name": "#%%\n"
    }
   },
   "outputs": [
    {
     "data": {
      "text/plain": "[PurePosixPath('/data/external/census/pums_dir/2015'),\n PurePosixPath('/data/external/census/pums_dir/2016'),\n PurePosixPath('/data/external/census/pums_dir/2017'),\n PurePosixPath('/data/external/census/pums_dir/2018'),\n PurePosixPath('/data/external/census/pums_dir/2019'),\n PurePosixPath('/data/external/census/pums_dir/2020'),\n PurePosixPath('/data/external/census/pums_dir/2021'),\n PurePosixPath('/data/external/census/pums_dir/2022'),\n PurePosixPath('/data/external/census/pums_dir/2023')]"
     },
     "execution_count": 4,
     "metadata": {},
     "output_type": "execute_result"
    }
   ],
   "source": [
    "pums_dirs = set()\n",
    "\n",
    "# TODO: Create and add the paths for this data set\n",
    "pums_dir = external_data_dir.joinpath('census', 'pums_dir')\n",
    "\n",
    "#start_year = current_year-8\n",
    "for year in range(start_year, current_year+1):\n",
    "    pums_dirs.add(pums_dir.joinpath(str(year)))\n",
    "\n",
    "# Should output sorted directories from 2015 to present \n",
    "sorted(list(pums_dirs)) "
   ]
  },
  {
   "cell_type": "markdown",
   "metadata": {
    "pycharm": {
     "name": "#%% md\n"
    }
   },
   "source": [
    "#### Assignment 5.1.c"
   ]
  },
  {
   "cell_type": "code",
   "execution_count": 5,
   "metadata": {
    "pycharm": {
     "name": "#%%\n"
    }
   },
   "outputs": [
    {
     "data": {
      "text/plain": "[PurePosixPath('/data/external/Census/tiger_dir/2015'),\n PurePosixPath('/data/external/Census/tiger_dir/2016'),\n PurePosixPath('/data/external/Census/tiger_dir/2017'),\n PurePosixPath('/data/external/Census/tiger_dir/2018'),\n PurePosixPath('/data/external/Census/tiger_dir/2019'),\n PurePosixPath('/data/external/Census/tiger_dir/2020'),\n PurePosixPath('/data/external/Census/tiger_dir/2021'),\n PurePosixPath('/data/external/Census/tiger_dir/2022'),\n PurePosixPath('/data/external/Census/tiger_dir/2023')]"
     },
     "execution_count": 5,
     "metadata": {},
     "output_type": "execute_result"
    }
   ],
   "source": [
    "tiger_dirs = set()\n",
    "\n",
    "# TODO: Create and add the paths for this data set\n",
    "tiger_dir = external_data_dir.joinpath(\"Census\", \"tiger_dir\")\n",
    "for year in range (start_year, current_year+1):\n",
    "    tiger_dirs.add(tiger_dir.joinpath(str(year)))\n",
    "\n",
    "# Should output sorted directories from 2015 to present \n",
    "sorted(list(tiger_dirs)) # Should output sorted directories from 2015 to present "
   ]
  },
  {
   "cell_type": "markdown",
   "metadata": {
    "pycharm": {
     "name": "#%% md\n"
    }
   },
   "source": [
    "#### Assignment 5.1.d\n",
    "\n",
    "Finally, you will create directories for a daily data set based on the [National Weather Service's (NWS) Weather Prediction Center's (WPC) daily forecasts](https://www.wpc.ncep.noaa.gov/kml/kmlproducts.php). \n",
    "\n",
    "For this part, we use the following naming convention\n",
    "\n",
    "```\n",
    "/data/external/nwc-wpc/forecasts/<year>/<month>/<day>/\n",
    "```\n",
    "where *year* is the year, *month* is the two-digit month, and *day* is the two-digit day. We use this convention when working with date-based data as the directories are naturally in date order. \n",
    "\n",
    "```\n",
    "data\n",
    "├── external\n",
    "│   ├── census\n",
    "│   └── nwc-wpc\n",
    "│       └── forecasts\n",
    "│           └── 2020\n",
    "│               ├── 01\n",
    "│               │   ├── 01\n",
    "│               │   ├── 02\n",
    "│               │   ├── 03\n",
    "│               │   ...\n",
    "│               │   ...\n",
    "│               │   ├── 30\n",
    "│               │   └── 31\n",
    "│               ├── 02\n",
    "│               │   ├── 01\n",
    "│               │   ├── 02\n",
    "│               │   ...\n",
    "│               │   ...\n",
    "│               │   ├── 28\n",
    "│               │   └── 29\n",
    "│               ├── 03\n",
    "│               ...\n",
    "│               ...\n",
    "│               ├── 11\n",
    "│               └── 12\n",
    "│                   ├── 01\n",
    "│                   ├── 02\n",
    "│                   ...\n",
    "│                   ...\n",
    "│                   ├── 29\n",
    "│                   ├── 30\n",
    "│                   └── 31\n",
    "├── interim\n",
    "├── processed\n",
    "└── raw\n",
    "```\n",
    "\n",
    "Create and add the paths for these data sets. Verify that you have added the paths correctly. "
   ]
  },
  {
   "cell_type": "code",
   "execution_count": 6,
   "metadata": {
    "pycharm": {
     "name": "#%%\n"
    }
   },
   "outputs": [
    {
     "data": {
      "text/plain": "365"
     },
     "execution_count": 6,
     "metadata": {},
     "output_type": "execute_result"
    }
   ],
   "source": [
    "forecast_dirs = set()\n",
    "\n",
    "# TODO: Create and add the paths for this data set\n",
    "forecast_dir = external_data_dir.joinpath('nwc-wpc', 'forecast')\n",
    "\n",
    "start_day = datetime.date(2022, 1, 1)\n",
    "end_day = datetime.date(2023, 1, 1)\n",
    "\n",
    "current_day = start_day\n",
    "while current_day < end_day:\n",
    "    forecast_dirs.add(forecast_dir.joinpath(f\"{current_day.year:04d}\", f\"{current_day.month:02d}\", f\"{current_day.day:02d}\"))\n",
    "    current_day += datetime.timedelta(days=1)\n",
    "\n",
    "forecast_dirs = sorted(list(forecast_dirs))\n",
    "\n",
    "# Should have 365 directories (366 if leap year)\n",
    "len(forecast_dirs)"
   ]
  },
  {
   "cell_type": "code",
   "execution_count": 7,
   "outputs": [
    {
     "data": {
      "text/plain": "[PurePosixPath('/data/external/nwc-wpc/forecast/2022/01/01'),\n PurePosixPath('/data/external/nwc-wpc/forecast/2022/01/02'),\n PurePosixPath('/data/external/nwc-wpc/forecast/2022/01/03'),\n PurePosixPath('/data/external/nwc-wpc/forecast/2022/01/04'),\n PurePosixPath('/data/external/nwc-wpc/forecast/2022/01/05'),\n PurePosixPath('/data/external/nwc-wpc/forecast/2022/01/06'),\n PurePosixPath('/data/external/nwc-wpc/forecast/2022/01/07'),\n PurePosixPath('/data/external/nwc-wpc/forecast/2022/01/08'),\n PurePosixPath('/data/external/nwc-wpc/forecast/2022/01/09'),\n PurePosixPath('/data/external/nwc-wpc/forecast/2022/01/10'),\n PurePosixPath('/data/external/nwc-wpc/forecast/2022/01/11'),\n PurePosixPath('/data/external/nwc-wpc/forecast/2022/01/12'),\n PurePosixPath('/data/external/nwc-wpc/forecast/2022/01/13'),\n PurePosixPath('/data/external/nwc-wpc/forecast/2022/01/14'),\n PurePosixPath('/data/external/nwc-wpc/forecast/2022/01/15'),\n PurePosixPath('/data/external/nwc-wpc/forecast/2022/01/16'),\n PurePosixPath('/data/external/nwc-wpc/forecast/2022/01/17'),\n PurePosixPath('/data/external/nwc-wpc/forecast/2022/01/18'),\n PurePosixPath('/data/external/nwc-wpc/forecast/2022/01/19'),\n PurePosixPath('/data/external/nwc-wpc/forecast/2022/01/20'),\n PurePosixPath('/data/external/nwc-wpc/forecast/2022/01/21'),\n PurePosixPath('/data/external/nwc-wpc/forecast/2022/01/22'),\n PurePosixPath('/data/external/nwc-wpc/forecast/2022/01/23'),\n PurePosixPath('/data/external/nwc-wpc/forecast/2022/01/24'),\n PurePosixPath('/data/external/nwc-wpc/forecast/2022/01/25'),\n PurePosixPath('/data/external/nwc-wpc/forecast/2022/01/26'),\n PurePosixPath('/data/external/nwc-wpc/forecast/2022/01/27'),\n PurePosixPath('/data/external/nwc-wpc/forecast/2022/01/28'),\n PurePosixPath('/data/external/nwc-wpc/forecast/2022/01/29'),\n PurePosixPath('/data/external/nwc-wpc/forecast/2022/01/30'),\n PurePosixPath('/data/external/nwc-wpc/forecast/2022/01/31'),\n PurePosixPath('/data/external/nwc-wpc/forecast/2022/02/01'),\n PurePosixPath('/data/external/nwc-wpc/forecast/2022/02/02'),\n PurePosixPath('/data/external/nwc-wpc/forecast/2022/02/03'),\n PurePosixPath('/data/external/nwc-wpc/forecast/2022/02/04'),\n PurePosixPath('/data/external/nwc-wpc/forecast/2022/02/05'),\n PurePosixPath('/data/external/nwc-wpc/forecast/2022/02/06'),\n PurePosixPath('/data/external/nwc-wpc/forecast/2022/02/07'),\n PurePosixPath('/data/external/nwc-wpc/forecast/2022/02/08'),\n PurePosixPath('/data/external/nwc-wpc/forecast/2022/02/09'),\n PurePosixPath('/data/external/nwc-wpc/forecast/2022/02/10'),\n PurePosixPath('/data/external/nwc-wpc/forecast/2022/02/11'),\n PurePosixPath('/data/external/nwc-wpc/forecast/2022/02/12'),\n PurePosixPath('/data/external/nwc-wpc/forecast/2022/02/13'),\n PurePosixPath('/data/external/nwc-wpc/forecast/2022/02/14'),\n PurePosixPath('/data/external/nwc-wpc/forecast/2022/02/15'),\n PurePosixPath('/data/external/nwc-wpc/forecast/2022/02/16'),\n PurePosixPath('/data/external/nwc-wpc/forecast/2022/02/17'),\n PurePosixPath('/data/external/nwc-wpc/forecast/2022/02/18'),\n PurePosixPath('/data/external/nwc-wpc/forecast/2022/02/19'),\n PurePosixPath('/data/external/nwc-wpc/forecast/2022/02/20'),\n PurePosixPath('/data/external/nwc-wpc/forecast/2022/02/21'),\n PurePosixPath('/data/external/nwc-wpc/forecast/2022/02/22'),\n PurePosixPath('/data/external/nwc-wpc/forecast/2022/02/23'),\n PurePosixPath('/data/external/nwc-wpc/forecast/2022/02/24'),\n PurePosixPath('/data/external/nwc-wpc/forecast/2022/02/25'),\n PurePosixPath('/data/external/nwc-wpc/forecast/2022/02/26'),\n PurePosixPath('/data/external/nwc-wpc/forecast/2022/02/27'),\n PurePosixPath('/data/external/nwc-wpc/forecast/2022/02/28'),\n PurePosixPath('/data/external/nwc-wpc/forecast/2022/03/01'),\n PurePosixPath('/data/external/nwc-wpc/forecast/2022/03/02'),\n PurePosixPath('/data/external/nwc-wpc/forecast/2022/03/03'),\n PurePosixPath('/data/external/nwc-wpc/forecast/2022/03/04'),\n PurePosixPath('/data/external/nwc-wpc/forecast/2022/03/05'),\n PurePosixPath('/data/external/nwc-wpc/forecast/2022/03/06'),\n PurePosixPath('/data/external/nwc-wpc/forecast/2022/03/07'),\n PurePosixPath('/data/external/nwc-wpc/forecast/2022/03/08'),\n PurePosixPath('/data/external/nwc-wpc/forecast/2022/03/09'),\n PurePosixPath('/data/external/nwc-wpc/forecast/2022/03/10'),\n PurePosixPath('/data/external/nwc-wpc/forecast/2022/03/11'),\n PurePosixPath('/data/external/nwc-wpc/forecast/2022/03/12'),\n PurePosixPath('/data/external/nwc-wpc/forecast/2022/03/13'),\n PurePosixPath('/data/external/nwc-wpc/forecast/2022/03/14'),\n PurePosixPath('/data/external/nwc-wpc/forecast/2022/03/15'),\n PurePosixPath('/data/external/nwc-wpc/forecast/2022/03/16'),\n PurePosixPath('/data/external/nwc-wpc/forecast/2022/03/17'),\n PurePosixPath('/data/external/nwc-wpc/forecast/2022/03/18'),\n PurePosixPath('/data/external/nwc-wpc/forecast/2022/03/19'),\n PurePosixPath('/data/external/nwc-wpc/forecast/2022/03/20'),\n PurePosixPath('/data/external/nwc-wpc/forecast/2022/03/21'),\n PurePosixPath('/data/external/nwc-wpc/forecast/2022/03/22'),\n PurePosixPath('/data/external/nwc-wpc/forecast/2022/03/23'),\n PurePosixPath('/data/external/nwc-wpc/forecast/2022/03/24'),\n PurePosixPath('/data/external/nwc-wpc/forecast/2022/03/25'),\n PurePosixPath('/data/external/nwc-wpc/forecast/2022/03/26'),\n PurePosixPath('/data/external/nwc-wpc/forecast/2022/03/27'),\n PurePosixPath('/data/external/nwc-wpc/forecast/2022/03/28'),\n PurePosixPath('/data/external/nwc-wpc/forecast/2022/03/29'),\n PurePosixPath('/data/external/nwc-wpc/forecast/2022/03/30'),\n PurePosixPath('/data/external/nwc-wpc/forecast/2022/03/31'),\n PurePosixPath('/data/external/nwc-wpc/forecast/2022/04/01'),\n PurePosixPath('/data/external/nwc-wpc/forecast/2022/04/02'),\n PurePosixPath('/data/external/nwc-wpc/forecast/2022/04/03'),\n PurePosixPath('/data/external/nwc-wpc/forecast/2022/04/04'),\n PurePosixPath('/data/external/nwc-wpc/forecast/2022/04/05'),\n PurePosixPath('/data/external/nwc-wpc/forecast/2022/04/06'),\n PurePosixPath('/data/external/nwc-wpc/forecast/2022/04/07'),\n PurePosixPath('/data/external/nwc-wpc/forecast/2022/04/08'),\n PurePosixPath('/data/external/nwc-wpc/forecast/2022/04/09'),\n PurePosixPath('/data/external/nwc-wpc/forecast/2022/04/10'),\n PurePosixPath('/data/external/nwc-wpc/forecast/2022/04/11'),\n PurePosixPath('/data/external/nwc-wpc/forecast/2022/04/12'),\n PurePosixPath('/data/external/nwc-wpc/forecast/2022/04/13'),\n PurePosixPath('/data/external/nwc-wpc/forecast/2022/04/14'),\n PurePosixPath('/data/external/nwc-wpc/forecast/2022/04/15'),\n PurePosixPath('/data/external/nwc-wpc/forecast/2022/04/16'),\n PurePosixPath('/data/external/nwc-wpc/forecast/2022/04/17'),\n PurePosixPath('/data/external/nwc-wpc/forecast/2022/04/18'),\n PurePosixPath('/data/external/nwc-wpc/forecast/2022/04/19'),\n PurePosixPath('/data/external/nwc-wpc/forecast/2022/04/20'),\n PurePosixPath('/data/external/nwc-wpc/forecast/2022/04/21'),\n PurePosixPath('/data/external/nwc-wpc/forecast/2022/04/22'),\n PurePosixPath('/data/external/nwc-wpc/forecast/2022/04/23'),\n PurePosixPath('/data/external/nwc-wpc/forecast/2022/04/24'),\n PurePosixPath('/data/external/nwc-wpc/forecast/2022/04/25'),\n PurePosixPath('/data/external/nwc-wpc/forecast/2022/04/26'),\n PurePosixPath('/data/external/nwc-wpc/forecast/2022/04/27'),\n PurePosixPath('/data/external/nwc-wpc/forecast/2022/04/28'),\n PurePosixPath('/data/external/nwc-wpc/forecast/2022/04/29'),\n PurePosixPath('/data/external/nwc-wpc/forecast/2022/04/30'),\n PurePosixPath('/data/external/nwc-wpc/forecast/2022/05/01'),\n PurePosixPath('/data/external/nwc-wpc/forecast/2022/05/02'),\n PurePosixPath('/data/external/nwc-wpc/forecast/2022/05/03'),\n PurePosixPath('/data/external/nwc-wpc/forecast/2022/05/04'),\n PurePosixPath('/data/external/nwc-wpc/forecast/2022/05/05'),\n PurePosixPath('/data/external/nwc-wpc/forecast/2022/05/06'),\n PurePosixPath('/data/external/nwc-wpc/forecast/2022/05/07'),\n PurePosixPath('/data/external/nwc-wpc/forecast/2022/05/08'),\n PurePosixPath('/data/external/nwc-wpc/forecast/2022/05/09'),\n PurePosixPath('/data/external/nwc-wpc/forecast/2022/05/10'),\n PurePosixPath('/data/external/nwc-wpc/forecast/2022/05/11'),\n PurePosixPath('/data/external/nwc-wpc/forecast/2022/05/12'),\n PurePosixPath('/data/external/nwc-wpc/forecast/2022/05/13'),\n PurePosixPath('/data/external/nwc-wpc/forecast/2022/05/14'),\n PurePosixPath('/data/external/nwc-wpc/forecast/2022/05/15'),\n PurePosixPath('/data/external/nwc-wpc/forecast/2022/05/16'),\n PurePosixPath('/data/external/nwc-wpc/forecast/2022/05/17'),\n PurePosixPath('/data/external/nwc-wpc/forecast/2022/05/18'),\n PurePosixPath('/data/external/nwc-wpc/forecast/2022/05/19'),\n PurePosixPath('/data/external/nwc-wpc/forecast/2022/05/20'),\n PurePosixPath('/data/external/nwc-wpc/forecast/2022/05/21'),\n PurePosixPath('/data/external/nwc-wpc/forecast/2022/05/22'),\n PurePosixPath('/data/external/nwc-wpc/forecast/2022/05/23'),\n PurePosixPath('/data/external/nwc-wpc/forecast/2022/05/24'),\n PurePosixPath('/data/external/nwc-wpc/forecast/2022/05/25'),\n PurePosixPath('/data/external/nwc-wpc/forecast/2022/05/26'),\n PurePosixPath('/data/external/nwc-wpc/forecast/2022/05/27'),\n PurePosixPath('/data/external/nwc-wpc/forecast/2022/05/28'),\n PurePosixPath('/data/external/nwc-wpc/forecast/2022/05/29'),\n PurePosixPath('/data/external/nwc-wpc/forecast/2022/05/30'),\n PurePosixPath('/data/external/nwc-wpc/forecast/2022/05/31'),\n PurePosixPath('/data/external/nwc-wpc/forecast/2022/06/01'),\n PurePosixPath('/data/external/nwc-wpc/forecast/2022/06/02'),\n PurePosixPath('/data/external/nwc-wpc/forecast/2022/06/03'),\n PurePosixPath('/data/external/nwc-wpc/forecast/2022/06/04'),\n PurePosixPath('/data/external/nwc-wpc/forecast/2022/06/05'),\n PurePosixPath('/data/external/nwc-wpc/forecast/2022/06/06'),\n PurePosixPath('/data/external/nwc-wpc/forecast/2022/06/07'),\n PurePosixPath('/data/external/nwc-wpc/forecast/2022/06/08'),\n PurePosixPath('/data/external/nwc-wpc/forecast/2022/06/09'),\n PurePosixPath('/data/external/nwc-wpc/forecast/2022/06/10'),\n PurePosixPath('/data/external/nwc-wpc/forecast/2022/06/11'),\n PurePosixPath('/data/external/nwc-wpc/forecast/2022/06/12'),\n PurePosixPath('/data/external/nwc-wpc/forecast/2022/06/13'),\n PurePosixPath('/data/external/nwc-wpc/forecast/2022/06/14'),\n PurePosixPath('/data/external/nwc-wpc/forecast/2022/06/15'),\n PurePosixPath('/data/external/nwc-wpc/forecast/2022/06/16'),\n PurePosixPath('/data/external/nwc-wpc/forecast/2022/06/17'),\n PurePosixPath('/data/external/nwc-wpc/forecast/2022/06/18'),\n PurePosixPath('/data/external/nwc-wpc/forecast/2022/06/19'),\n PurePosixPath('/data/external/nwc-wpc/forecast/2022/06/20'),\n PurePosixPath('/data/external/nwc-wpc/forecast/2022/06/21'),\n PurePosixPath('/data/external/nwc-wpc/forecast/2022/06/22'),\n PurePosixPath('/data/external/nwc-wpc/forecast/2022/06/23'),\n PurePosixPath('/data/external/nwc-wpc/forecast/2022/06/24'),\n PurePosixPath('/data/external/nwc-wpc/forecast/2022/06/25'),\n PurePosixPath('/data/external/nwc-wpc/forecast/2022/06/26'),\n PurePosixPath('/data/external/nwc-wpc/forecast/2022/06/27'),\n PurePosixPath('/data/external/nwc-wpc/forecast/2022/06/28'),\n PurePosixPath('/data/external/nwc-wpc/forecast/2022/06/29'),\n PurePosixPath('/data/external/nwc-wpc/forecast/2022/06/30'),\n PurePosixPath('/data/external/nwc-wpc/forecast/2022/07/01'),\n PurePosixPath('/data/external/nwc-wpc/forecast/2022/07/02'),\n PurePosixPath('/data/external/nwc-wpc/forecast/2022/07/03'),\n PurePosixPath('/data/external/nwc-wpc/forecast/2022/07/04'),\n PurePosixPath('/data/external/nwc-wpc/forecast/2022/07/05'),\n PurePosixPath('/data/external/nwc-wpc/forecast/2022/07/06'),\n PurePosixPath('/data/external/nwc-wpc/forecast/2022/07/07'),\n PurePosixPath('/data/external/nwc-wpc/forecast/2022/07/08'),\n PurePosixPath('/data/external/nwc-wpc/forecast/2022/07/09'),\n PurePosixPath('/data/external/nwc-wpc/forecast/2022/07/10'),\n PurePosixPath('/data/external/nwc-wpc/forecast/2022/07/11'),\n PurePosixPath('/data/external/nwc-wpc/forecast/2022/07/12'),\n PurePosixPath('/data/external/nwc-wpc/forecast/2022/07/13'),\n PurePosixPath('/data/external/nwc-wpc/forecast/2022/07/14'),\n PurePosixPath('/data/external/nwc-wpc/forecast/2022/07/15'),\n PurePosixPath('/data/external/nwc-wpc/forecast/2022/07/16'),\n PurePosixPath('/data/external/nwc-wpc/forecast/2022/07/17'),\n PurePosixPath('/data/external/nwc-wpc/forecast/2022/07/18'),\n PurePosixPath('/data/external/nwc-wpc/forecast/2022/07/19'),\n PurePosixPath('/data/external/nwc-wpc/forecast/2022/07/20'),\n PurePosixPath('/data/external/nwc-wpc/forecast/2022/07/21'),\n PurePosixPath('/data/external/nwc-wpc/forecast/2022/07/22'),\n PurePosixPath('/data/external/nwc-wpc/forecast/2022/07/23'),\n PurePosixPath('/data/external/nwc-wpc/forecast/2022/07/24'),\n PurePosixPath('/data/external/nwc-wpc/forecast/2022/07/25'),\n PurePosixPath('/data/external/nwc-wpc/forecast/2022/07/26'),\n PurePosixPath('/data/external/nwc-wpc/forecast/2022/07/27'),\n PurePosixPath('/data/external/nwc-wpc/forecast/2022/07/28'),\n PurePosixPath('/data/external/nwc-wpc/forecast/2022/07/29'),\n PurePosixPath('/data/external/nwc-wpc/forecast/2022/07/30'),\n PurePosixPath('/data/external/nwc-wpc/forecast/2022/07/31'),\n PurePosixPath('/data/external/nwc-wpc/forecast/2022/08/01'),\n PurePosixPath('/data/external/nwc-wpc/forecast/2022/08/02'),\n PurePosixPath('/data/external/nwc-wpc/forecast/2022/08/03'),\n PurePosixPath('/data/external/nwc-wpc/forecast/2022/08/04'),\n PurePosixPath('/data/external/nwc-wpc/forecast/2022/08/05'),\n PurePosixPath('/data/external/nwc-wpc/forecast/2022/08/06'),\n PurePosixPath('/data/external/nwc-wpc/forecast/2022/08/07'),\n PurePosixPath('/data/external/nwc-wpc/forecast/2022/08/08'),\n PurePosixPath('/data/external/nwc-wpc/forecast/2022/08/09'),\n PurePosixPath('/data/external/nwc-wpc/forecast/2022/08/10'),\n PurePosixPath('/data/external/nwc-wpc/forecast/2022/08/11'),\n PurePosixPath('/data/external/nwc-wpc/forecast/2022/08/12'),\n PurePosixPath('/data/external/nwc-wpc/forecast/2022/08/13'),\n PurePosixPath('/data/external/nwc-wpc/forecast/2022/08/14'),\n PurePosixPath('/data/external/nwc-wpc/forecast/2022/08/15'),\n PurePosixPath('/data/external/nwc-wpc/forecast/2022/08/16'),\n PurePosixPath('/data/external/nwc-wpc/forecast/2022/08/17'),\n PurePosixPath('/data/external/nwc-wpc/forecast/2022/08/18'),\n PurePosixPath('/data/external/nwc-wpc/forecast/2022/08/19'),\n PurePosixPath('/data/external/nwc-wpc/forecast/2022/08/20'),\n PurePosixPath('/data/external/nwc-wpc/forecast/2022/08/21'),\n PurePosixPath('/data/external/nwc-wpc/forecast/2022/08/22'),\n PurePosixPath('/data/external/nwc-wpc/forecast/2022/08/23'),\n PurePosixPath('/data/external/nwc-wpc/forecast/2022/08/24'),\n PurePosixPath('/data/external/nwc-wpc/forecast/2022/08/25'),\n PurePosixPath('/data/external/nwc-wpc/forecast/2022/08/26'),\n PurePosixPath('/data/external/nwc-wpc/forecast/2022/08/27'),\n PurePosixPath('/data/external/nwc-wpc/forecast/2022/08/28'),\n PurePosixPath('/data/external/nwc-wpc/forecast/2022/08/29'),\n PurePosixPath('/data/external/nwc-wpc/forecast/2022/08/30'),\n PurePosixPath('/data/external/nwc-wpc/forecast/2022/08/31'),\n PurePosixPath('/data/external/nwc-wpc/forecast/2022/09/01'),\n PurePosixPath('/data/external/nwc-wpc/forecast/2022/09/02'),\n PurePosixPath('/data/external/nwc-wpc/forecast/2022/09/03'),\n PurePosixPath('/data/external/nwc-wpc/forecast/2022/09/04'),\n PurePosixPath('/data/external/nwc-wpc/forecast/2022/09/05'),\n PurePosixPath('/data/external/nwc-wpc/forecast/2022/09/06'),\n PurePosixPath('/data/external/nwc-wpc/forecast/2022/09/07'),\n PurePosixPath('/data/external/nwc-wpc/forecast/2022/09/08'),\n PurePosixPath('/data/external/nwc-wpc/forecast/2022/09/09'),\n PurePosixPath('/data/external/nwc-wpc/forecast/2022/09/10'),\n PurePosixPath('/data/external/nwc-wpc/forecast/2022/09/11'),\n PurePosixPath('/data/external/nwc-wpc/forecast/2022/09/12'),\n PurePosixPath('/data/external/nwc-wpc/forecast/2022/09/13'),\n PurePosixPath('/data/external/nwc-wpc/forecast/2022/09/14'),\n PurePosixPath('/data/external/nwc-wpc/forecast/2022/09/15'),\n PurePosixPath('/data/external/nwc-wpc/forecast/2022/09/16'),\n PurePosixPath('/data/external/nwc-wpc/forecast/2022/09/17'),\n PurePosixPath('/data/external/nwc-wpc/forecast/2022/09/18'),\n PurePosixPath('/data/external/nwc-wpc/forecast/2022/09/19'),\n PurePosixPath('/data/external/nwc-wpc/forecast/2022/09/20'),\n PurePosixPath('/data/external/nwc-wpc/forecast/2022/09/21'),\n PurePosixPath('/data/external/nwc-wpc/forecast/2022/09/22'),\n PurePosixPath('/data/external/nwc-wpc/forecast/2022/09/23'),\n PurePosixPath('/data/external/nwc-wpc/forecast/2022/09/24'),\n PurePosixPath('/data/external/nwc-wpc/forecast/2022/09/25'),\n PurePosixPath('/data/external/nwc-wpc/forecast/2022/09/26'),\n PurePosixPath('/data/external/nwc-wpc/forecast/2022/09/27'),\n PurePosixPath('/data/external/nwc-wpc/forecast/2022/09/28'),\n PurePosixPath('/data/external/nwc-wpc/forecast/2022/09/29'),\n PurePosixPath('/data/external/nwc-wpc/forecast/2022/09/30'),\n PurePosixPath('/data/external/nwc-wpc/forecast/2022/10/01'),\n PurePosixPath('/data/external/nwc-wpc/forecast/2022/10/02'),\n PurePosixPath('/data/external/nwc-wpc/forecast/2022/10/03'),\n PurePosixPath('/data/external/nwc-wpc/forecast/2022/10/04'),\n PurePosixPath('/data/external/nwc-wpc/forecast/2022/10/05'),\n PurePosixPath('/data/external/nwc-wpc/forecast/2022/10/06'),\n PurePosixPath('/data/external/nwc-wpc/forecast/2022/10/07'),\n PurePosixPath('/data/external/nwc-wpc/forecast/2022/10/08'),\n PurePosixPath('/data/external/nwc-wpc/forecast/2022/10/09'),\n PurePosixPath('/data/external/nwc-wpc/forecast/2022/10/10'),\n PurePosixPath('/data/external/nwc-wpc/forecast/2022/10/11'),\n PurePosixPath('/data/external/nwc-wpc/forecast/2022/10/12'),\n PurePosixPath('/data/external/nwc-wpc/forecast/2022/10/13'),\n PurePosixPath('/data/external/nwc-wpc/forecast/2022/10/14'),\n PurePosixPath('/data/external/nwc-wpc/forecast/2022/10/15'),\n PurePosixPath('/data/external/nwc-wpc/forecast/2022/10/16'),\n PurePosixPath('/data/external/nwc-wpc/forecast/2022/10/17'),\n PurePosixPath('/data/external/nwc-wpc/forecast/2022/10/18'),\n PurePosixPath('/data/external/nwc-wpc/forecast/2022/10/19'),\n PurePosixPath('/data/external/nwc-wpc/forecast/2022/10/20'),\n PurePosixPath('/data/external/nwc-wpc/forecast/2022/10/21'),\n PurePosixPath('/data/external/nwc-wpc/forecast/2022/10/22'),\n PurePosixPath('/data/external/nwc-wpc/forecast/2022/10/23'),\n PurePosixPath('/data/external/nwc-wpc/forecast/2022/10/24'),\n PurePosixPath('/data/external/nwc-wpc/forecast/2022/10/25'),\n PurePosixPath('/data/external/nwc-wpc/forecast/2022/10/26'),\n PurePosixPath('/data/external/nwc-wpc/forecast/2022/10/27'),\n PurePosixPath('/data/external/nwc-wpc/forecast/2022/10/28'),\n PurePosixPath('/data/external/nwc-wpc/forecast/2022/10/29'),\n PurePosixPath('/data/external/nwc-wpc/forecast/2022/10/30'),\n PurePosixPath('/data/external/nwc-wpc/forecast/2022/10/31'),\n PurePosixPath('/data/external/nwc-wpc/forecast/2022/11/01'),\n PurePosixPath('/data/external/nwc-wpc/forecast/2022/11/02'),\n PurePosixPath('/data/external/nwc-wpc/forecast/2022/11/03'),\n PurePosixPath('/data/external/nwc-wpc/forecast/2022/11/04'),\n PurePosixPath('/data/external/nwc-wpc/forecast/2022/11/05'),\n PurePosixPath('/data/external/nwc-wpc/forecast/2022/11/06'),\n PurePosixPath('/data/external/nwc-wpc/forecast/2022/11/07'),\n PurePosixPath('/data/external/nwc-wpc/forecast/2022/11/08'),\n PurePosixPath('/data/external/nwc-wpc/forecast/2022/11/09'),\n PurePosixPath('/data/external/nwc-wpc/forecast/2022/11/10'),\n PurePosixPath('/data/external/nwc-wpc/forecast/2022/11/11'),\n PurePosixPath('/data/external/nwc-wpc/forecast/2022/11/12'),\n PurePosixPath('/data/external/nwc-wpc/forecast/2022/11/13'),\n PurePosixPath('/data/external/nwc-wpc/forecast/2022/11/14'),\n PurePosixPath('/data/external/nwc-wpc/forecast/2022/11/15'),\n PurePosixPath('/data/external/nwc-wpc/forecast/2022/11/16'),\n PurePosixPath('/data/external/nwc-wpc/forecast/2022/11/17'),\n PurePosixPath('/data/external/nwc-wpc/forecast/2022/11/18'),\n PurePosixPath('/data/external/nwc-wpc/forecast/2022/11/19'),\n PurePosixPath('/data/external/nwc-wpc/forecast/2022/11/20'),\n PurePosixPath('/data/external/nwc-wpc/forecast/2022/11/21'),\n PurePosixPath('/data/external/nwc-wpc/forecast/2022/11/22'),\n PurePosixPath('/data/external/nwc-wpc/forecast/2022/11/23'),\n PurePosixPath('/data/external/nwc-wpc/forecast/2022/11/24'),\n PurePosixPath('/data/external/nwc-wpc/forecast/2022/11/25'),\n PurePosixPath('/data/external/nwc-wpc/forecast/2022/11/26'),\n PurePosixPath('/data/external/nwc-wpc/forecast/2022/11/27'),\n PurePosixPath('/data/external/nwc-wpc/forecast/2022/11/28'),\n PurePosixPath('/data/external/nwc-wpc/forecast/2022/11/29'),\n PurePosixPath('/data/external/nwc-wpc/forecast/2022/11/30'),\n PurePosixPath('/data/external/nwc-wpc/forecast/2022/12/01'),\n PurePosixPath('/data/external/nwc-wpc/forecast/2022/12/02'),\n PurePosixPath('/data/external/nwc-wpc/forecast/2022/12/03'),\n PurePosixPath('/data/external/nwc-wpc/forecast/2022/12/04'),\n PurePosixPath('/data/external/nwc-wpc/forecast/2022/12/05'),\n PurePosixPath('/data/external/nwc-wpc/forecast/2022/12/06'),\n PurePosixPath('/data/external/nwc-wpc/forecast/2022/12/07'),\n PurePosixPath('/data/external/nwc-wpc/forecast/2022/12/08'),\n PurePosixPath('/data/external/nwc-wpc/forecast/2022/12/09'),\n PurePosixPath('/data/external/nwc-wpc/forecast/2022/12/10'),\n PurePosixPath('/data/external/nwc-wpc/forecast/2022/12/11'),\n PurePosixPath('/data/external/nwc-wpc/forecast/2022/12/12'),\n PurePosixPath('/data/external/nwc-wpc/forecast/2022/12/13'),\n PurePosixPath('/data/external/nwc-wpc/forecast/2022/12/14'),\n PurePosixPath('/data/external/nwc-wpc/forecast/2022/12/15'),\n PurePosixPath('/data/external/nwc-wpc/forecast/2022/12/16'),\n PurePosixPath('/data/external/nwc-wpc/forecast/2022/12/17'),\n PurePosixPath('/data/external/nwc-wpc/forecast/2022/12/18'),\n PurePosixPath('/data/external/nwc-wpc/forecast/2022/12/19'),\n PurePosixPath('/data/external/nwc-wpc/forecast/2022/12/20'),\n PurePosixPath('/data/external/nwc-wpc/forecast/2022/12/21'),\n PurePosixPath('/data/external/nwc-wpc/forecast/2022/12/22'),\n PurePosixPath('/data/external/nwc-wpc/forecast/2022/12/23'),\n PurePosixPath('/data/external/nwc-wpc/forecast/2022/12/24'),\n PurePosixPath('/data/external/nwc-wpc/forecast/2022/12/25'),\n PurePosixPath('/data/external/nwc-wpc/forecast/2022/12/26'),\n PurePosixPath('/data/external/nwc-wpc/forecast/2022/12/27'),\n PurePosixPath('/data/external/nwc-wpc/forecast/2022/12/28'),\n PurePosixPath('/data/external/nwc-wpc/forecast/2022/12/29'),\n PurePosixPath('/data/external/nwc-wpc/forecast/2022/12/30'),\n PurePosixPath('/data/external/nwc-wpc/forecast/2022/12/31')]"
     },
     "execution_count": 7,
     "metadata": {},
     "output_type": "execute_result"
    }
   ],
   "source": [
    "sorted(list(forecast_dirs))"
   ],
   "metadata": {
    "collapsed": false,
    "pycharm": {
     "name": "#%%\n"
    }
   }
  },
  {
   "cell_type": "markdown",
   "metadata": {
    "pycharm": {
     "name": "#%% md\n"
    }
   },
   "source": [
    "### Assignment 5.2\n",
    "\n",
    "In the second part of the assignment, you will create the structure for the raw source data. We will use the following directory naming convention. \n",
    "\n",
    "```\n",
    "/data/raw/inventory/<location>/<year>/<month>/<day>/\n",
    "/data/raw/expenses/<location>/<year>/<month>/<day>/\n",
    "/data/raw/sales/<location>/<year>/<month>/<day>/<hour>/\n",
    "```\n",
    "For *location*, we will use the three-letter IATA code for the airport nearest to the location.  We will use the same year, month, and day convention from the previous example. For *hour*, we will use the two-digit hour value based on a 24-hour clock set to UTC. "
   ]
  },
  {
   "cell_type": "markdown",
   "metadata": {
    "pycharm": {
     "name": "#%% md\n"
    }
   },
   "source": [
    "#### Assignment 5.2.a\n",
    "\n",
    "The following is an example of the directory structure for daily data dumps. \n",
    "\n",
    "```\n",
    "data\n",
    "├── external\n",
    "├── interim\n",
    "├── processed\n",
    "└── raw\n",
    "    ├── expenses\n",
    "    ├── inventory\n",
    "    │   ├── bwi\n",
    "    │   ├── cmh\n",
    "    │   ├── den\n",
    "    │   ├── oma\n",
    "    │   │   └── 2020\n",
    "    │   │       ├── 01\n",
    "    │   │       │   ├── 01\n",
    "    │   │       │   ├── 02\n",
    "    │   │       │   ...    \n",
    "    │   │       │   └── 31\n",
    "    │   │       ├── 02\n",
    "    │   │       │   ├── 01\n",
    "    │   │       │   ...\n",
    "    │   │       │   └── 29\n",
    "    │   │       ├── 03\n",
    "    │   │       ... \n",
    "    │   │       ├── 11\n",
    "    │   │       └── 12\n",
    "    │   │           ├── 01\n",
    "    │   │           ├── 02\n",
    "    │   │           ...  \n",
    "    │   │           └── 31\n",
    "    │   └── sfo\n",
    "    └── sales\n",
    "```\n",
    "\n",
    "Create and add the paths for these data sets. Verify that you have added the paths correctly."
   ]
  },
  {
   "cell_type": "code",
   "execution_count": 8,
   "metadata": {
    "pycharm": {
     "name": "#%%\n"
    }
   },
   "outputs": [
    {
     "data": {
      "text/plain": "366"
     },
     "execution_count": 8,
     "metadata": {},
     "output_type": "execute_result"
    }
   ],
   "source": [
    "inventory_dirs = set()\n",
    "\n",
    "# TODO: Create and add the paths for this data set\n",
    "inventory_dir = external_data_dir.joinpath(\"raw\", \"inventory\")\n",
    "\n",
    "start_day = datetime.date(2020, 1, 1)\n",
    "end_day = datetime.date(2021, 1, 1)\n",
    "current_day = start_day\n",
    "while current_day < end_day:\n",
    "    inventory_dirs.add(inventory_dir.joinpath(f\"{current_day.year:04d}\", f\"{current_day.month:02d}\", f\"{current_day.day:02d}\"))\n",
    "    current_day = current_day + datetime.timedelta(days=1)\n",
    "inventory_dirs = sorted(list(inventory_dirs))\n",
    "#inventory_dirs[:5]\n",
    "# Should have 1825 directories (1830 if leap year)\n",
    "len(inventory_dirs)"
   ]
  },
  {
   "cell_type": "code",
   "execution_count": 9,
   "outputs": [
    {
     "name": "stdout",
     "output_type": "stream",
     "text": [
      "/data/external/raw/inventory/bwi\n",
      "/data/external/raw/inventory/cmh\n",
      "/data/external/raw/inventory/den\n",
      "/data/external/raw/inventory/oma\n",
      "/data/external/raw/inventory/sfo\n"
     ]
    }
   ],
   "source": [
    "dirc= [\"bwi\", \"cmh\", \"den\", \"oma\", \"sfo\"]\n",
    "for i in range(len(dirc)):\n",
    "    inventory_dirs = external_data_dir.joinpath(\"raw\", \"inventory\", dirc[i])\n",
    "    print(inventory_dirs),"
   ],
   "metadata": {
    "collapsed": false,
    "pycharm": {
     "name": "#%%\n"
    }
   }
  },
  {
   "cell_type": "code",
   "execution_count": null,
   "outputs": [],
   "source": [
    "inventory_dirs = set()\n",
    "\n",
    "dirc= [\"bwi\", \"cmh\", \"den\", \"oma\", \"sfo\"]\n",
    "start_day = datetime.date(2020, 1, 1)\n",
    "end_day = datetime.date(2021, 1, 1)\n",
    "current_day = start_day\n",
    "\n",
    "for i in range(len(dirc)):\n",
    "    inventory_dirs.add(external_data_dir.joinpath(\"raw\", \"inventory\", dirc[i]))\n",
    "    while current_day < end_day:\n",
    "        inventory_dirs.add(external_data_dir.joinpath(f\"{current_day.year:04d}\", f\"{current_day.month:02d}\", f\"{current_day.day:02d}\"))\n",
    "    current_day = current_day + datetime.timedelta(days=1)\n",
    "inventory_dirs = sorted(list(inventory_dirs))\n",
    "len(inventory_dirs)\n"
   ],
   "metadata": {
    "collapsed": false,
    "pycharm": {
     "name": "#%%\n",
     "is_executing": true
    }
   }
  },
  {
   "cell_type": "code",
   "execution_count": null,
   "metadata": {
    "pycharm": {
     "name": "#%%\n"
    }
   },
   "outputs": [],
   "source": [
    "expenses_dirs = set()\n",
    "\n",
    "# TODO: Create and add the paths for this data set\n",
    "\n",
    "# Should have 1825 directories (1830 if leap year)\n",
    "len(expenses_dirs) "
   ]
  },
  {
   "cell_type": "markdown",
   "metadata": {
    "pycharm": {
     "name": "#%% md\n"
    }
   },
   "source": [
    "#### Assignment 5.2.b\n",
    "\n",
    "Finally, create the paths for the hourly sales data. The following is an example of the directory structure for the sales data. \n",
    "\n",
    "```\n",
    "├── external\n",
    "├── interim\n",
    "├── processed\n",
    "└── raw\n",
    "    ├── expenses\n",
    "    ├── inventory\n",
    "    └── sales\n",
    "        ├── bwi\n",
    "        ├── cmh\n",
    "        ├── den\n",
    "        ├── oma\n",
    "        │   └── 2020\n",
    "        │       ├── 01\n",
    "        │       │   └── 01\n",
    "        │       │       ├── 00\n",
    "        │       │       ├── 01   \n",
    "        │       │       ├── 02\n",
    "        │       │       ...     \n",
    "        │       │       ├── 22\n",
    "        │       │       └── 23\n",
    "        │       ├── 02\n",
    "        │       ...\n",
    "        │       └── 12\n",
    "        └── sfo\n",
    "```"
   ]
  },
  {
   "cell_type": "code",
   "execution_count": null,
   "metadata": {
    "pycharm": {
     "name": "#%%\n"
    }
   },
   "outputs": [],
   "source": [
    "sales_dirs = set()\n",
    "\n",
    "# TODO: Create and add the paths for this data set\n",
    "\n",
    "# Should have 43,800 directories (43,920 if leap year)\n",
    "len(sales_dirs) "
   ]
  },
  {
   "cell_type": "markdown",
   "metadata": {
    "pycharm": {
     "name": "#%% md\n"
    }
   },
   "source": [
    "### Assignment 5.3"
   ]
  },
  {
   "cell_type": "markdown",
   "metadata": {
    "pycharm": {
     "name": "#%% md\n"
    }
   },
   "source": [
    "#### Assignment 5.3.a\n",
    "\n",
    "We have two choices for structuring our weekly data set. We can use the following naming convention where the date is based on the first day of the week. \n",
    "\n",
    "```\n",
    "/data/processed/modeling/<year>/<month>/<day>/\n",
    "```\n",
    "\n",
    "Otherwise, we could use a naming convention where *week* is the number of weeks it has been since the beginning of the year. \n",
    " \n",
    "```\n",
    "/data/processed/modeling/<year>/<week>/\n",
    "```\n",
    "\n",
    "We will use the first option for our naming convention. Python's *calendar* library has a function that determines the first day of the week. "
   ]
  },
  {
   "cell_type": "code",
   "execution_count": null,
   "metadata": {
    "pycharm": {
     "name": "#%%\n"
    }
   },
   "outputs": [],
   "source": [
    "modeling_data_dirs = set()\n",
    "\n",
    "# TODO: Create and add the paths for this data set\n",
    "\n",
    "# Should have 52 directories\n",
    "len(modeling_data_dirs) "
   ]
  },
  {
   "cell_type": "markdown",
   "metadata": {
    "pycharm": {
     "name": "#%% md\n"
    }
   },
   "source": [
    "#### Assignment 5.3.b\n",
    "\n",
    "Next, create the monthly inventory requests using the following convention. \n",
    "\n",
    "```\n",
    "/data/processed/inventory/requests/<year>/<month>/\n",
    "```"
   ]
  },
  {
   "cell_type": "code",
   "execution_count": null,
   "metadata": {
    "pycharm": {
     "name": "#%%\n"
    }
   },
   "outputs": [],
   "source": [
    "inventory_request_dirs = set()\n",
    "\n",
    "# TODO: Create and add the paths for this data set\n",
    "\n",
    " # Should output 12 directories\n",
    "sorted(list(inventory_request_dirs))"
   ]
  },
  {
   "cell_type": "markdown",
   "metadata": {
    "pycharm": {
     "name": "#%% md\n"
    }
   },
   "source": [
    "#### Assignment 5.3.c\n",
    "\n",
    "Finally, create the quarterly financial reports using the following convention. \n",
    "\n",
    "```\n",
    "`/data/processed/financials/quarterly/<year>/<quarter>/`\n",
    "```\n",
    "While it does not matter for this assignment, the following are the typical dates associated with financial quarters. "
   ]
  },
  {
   "cell_type": "code",
   "execution_count": null,
   "metadata": {
    "pycharm": {
     "name": "#%%\n"
    }
   },
   "outputs": [],
   "source": [
    "financials_dirs = set()\n",
    "\n",
    "# TODO: Create and add the paths for this data set\n",
    "\n",
    "# Should output four quarterly directories\n",
    "sorted(list(financials_dirs)) "
   ]
  }
 ],
 "metadata": {
  "kernelspec": {
   "display_name": "Python 3 (ipykernel)",
   "language": "python",
   "name": "python3"
  },
  "language_info": {
   "codemirror_mode": {
    "name": "ipython",
    "version": 3
   },
   "file_extension": ".py",
   "mimetype": "text/x-python",
   "name": "python",
   "nbconvert_exporter": "python",
   "pygments_lexer": "ipython3",
   "version": "3.9.7"
  }
 },
 "nbformat": 4,
 "nbformat_minor": 4
}